{
 "cells": [
  {
   "cell_type": "code",
   "execution_count": 20,
   "id": "37582803-ef4a-4a71-b3cc-6bde5aea931c",
   "metadata": {},
   "outputs": [
    {
     "name": "stdout",
     "output_type": "stream",
     "text": [
      "Export folder: /Users/macbookair/Documents/resource_availability_tool/figures/survey\n"
     ]
    },
    {
     "name": "stderr",
     "output_type": "stream",
     "text": [
      "/var/folders/7j/l7x_10w97357mn1mpd0yhlqc0000gn/T/ipykernel_25144/2644509435.py:28: DeprecationWarning:\n",
      "\n",
      "\n",
      "Use of plotly.io.kaleido.scope.default_width is deprecated and support will be removed after September 2025.\n",
      "Please use plotly.io.defaults.default_width instead.\n",
      "\n",
      "\n",
      "/var/folders/7j/l7x_10w97357mn1mpd0yhlqc0000gn/T/ipykernel_25144/2644509435.py:29: DeprecationWarning:\n",
      "\n",
      "\n",
      "Use of plotly.io.kaleido.scope.default_height is deprecated and support will be removed after September 2025.\n",
      "Please use plotly.io.defaults.default_height instead.\n",
      "\n",
      "\n"
     ]
    }
   ],
   "source": [
    "# ---- image export setup ----\n",
    "import sys, subprocess, importlib\n",
    "\n",
    "def pip_i(spec: str):\n",
    "    subprocess.check_call([sys.executable, \"-m\", \"pip\", \"install\", \"-q\", spec])\n",
    "\n",
    "try:\n",
    "    import plotly, pkg_resources\n",
    "    from packaging.version import Version\n",
    "    if Version(plotly.__version__) < Version(\"6.1.1\"):\n",
    "        pip_i(\"plotly>=6.1.1\")\n",
    "except Exception:\n",
    "    pip_i(\"plotly>=6.1.1\")\n",
    "\n",
    "# Pin Kaleido to the compatible build\n",
    "try:\n",
    "    import kaleido\n",
    "    from packaging.version import Version\n",
    "    if Version(kaleido.__version__) != Version(\"0.2.1\"):\n",
    "        pip_i(\"kaleido==0.2.1\")\n",
    "except Exception:\n",
    "    pip_i(\"kaleido==0.2.1\")\n",
    "\n",
    "import plotly.io as pio\n",
    "\n",
    "# Only set scope if kaleido is actually loaded\n",
    "if getattr(pio, \"kaleido\", None) and getattr(getattr(pio, \"kaleido\", None), \"scope\", None):\n",
    "    pio.kaleido.scope.default_width  = 1600\n",
    "    pio.kaleido.scope.default_height = 900\n",
    "else:\n",
    "    print(\"Kaleido scope not available yet\")\n",
    "\n",
    "# where to store survey images\n",
    "from pathlib import Path\n",
    "SURVEY = (Path().resolve().parent / \"figures\" / \"survey\")\n",
    "SURVEY.mkdir(parents=True, exist_ok=True)\n",
    "print(\"Export folder:\", SURVEY)\n"
   ]
  },
  {
   "cell_type": "code",
   "execution_count": 21,
   "id": "65d2cede-9883-4fe3-bf86-f7b9e29ae2bd",
   "metadata": {},
   "outputs": [
    {
     "name": "stdout",
     "output_type": "stream",
     "text": [
      "sepsis events: (15214, 5)\n"
     ]
    }
   ],
   "source": [
    "# Setup \n",
    "\n",
    "from pathlib import Path\n",
    "import sys, pandas as pd, numpy as np, plotly.express as px\n",
    "\n",
    "SRC = Path().resolve().parent / \"src\"\n",
    "if str(SRC) not in sys.path:\n",
    "    sys.path.insert(0, str(SRC))\n",
    "\n",
    "from availability import get_active_periods, compute_daily_spans, extract_breaks, weekly_availability_matrix\n",
    "from multitask   import overlap_summary\n",
    "\n",
    "CACHE = (Path().resolve().parent / \"data\" / \"_cache\").resolve()\n",
    "\n",
    "CACHE_FILES = {\n",
    "    \"bpi2017\": \"bpi2017_clean.parquet\",\n",
    "    \"sepsis\":  \"sepsis_clean.parquet\",\n",
    "    \"bpi2019\": \"bpi2019_clean.parquet\",\n",
    "}\n",
    "\n",
    "VALID = {\"start\",\"complete\",\"schedule\",\"resume\",\"suspend\",\"abort\",\"withdraw\"}\n",
    "\n",
    "def load_cached_events(name: str) -> pd.DataFrame:\n",
    "    fp = CACHE / name\n",
    "    df = pd.read_parquet(fp)\n",
    "    df[\"lifecycle\"] = df[\"lifecycle\"].astype(str).str.lower().fillna(\"unknown\")\n",
    "    df = df[df[\"lifecycle\"].isin(VALID)].copy()\n",
    "    return df\n",
    "\n",
    "DS = \"sepsis\"   # ← switch dataset\n",
    "events = load_cached_events(CACHE_FILES[DS])\n",
    "print(DS, \"events:\", events.shape)\n"
   ]
  },
  {
   "cell_type": "code",
   "execution_count": 22,
   "id": "415ce647-72b0-4d9b-aa2e-bc93fa3bc648",
   "metadata": {},
   "outputs": [],
   "source": [
    "# Helpers, Overlap via task periods\n",
    "\n",
    "def compute_task_periods(events: pd.DataFrame) -> pd.DataFrame:\n",
    "    \"\"\"Pair start/complete for each case, resource, activity\"\"\"\n",
    "    df = events.copy()\n",
    "    start = df[df[\"lifecycle\"].str.startswith(\"start\")][[\"case_id\",\"resource\",\"activity\",\"timestamp\"]].rename(columns={\"timestamp\":\"start\"})\n",
    "    end   = df[df[\"lifecycle\"].str.startswith(\"complete\")][[\"case_id\",\"resource\",\"activity\",\"timestamp\"]].rename(columns={\"timestamp\":\"end\"})\n",
    "    m = pd.merge(start, end, on=[\"case_id\",\"resource\",\"activity\"], how=\"inner\")\n",
    "    m[\"start\"] = pd.to_datetime(m[\"start\"]); m[\"end\"] = pd.to_datetime(m[\"end\"])\n",
    "    m = m[m[\"end\"] >= m[\"start\"]].reset_index(drop=True)\n",
    "    return m\n",
    "\n",
    "def build_periods(events: pd.DataFrame, tolerance=\"5min\") -> pd.DataFrame:\n",
    "    \"\"\"Active sessions by resource \"\"\"\n",
    "    p = get_active_periods(events, tolerance=tolerance).copy()\n",
    "    p[\"start\"] = pd.to_datetime(p[\"start\"]); p[\"end\"] = pd.to_datetime(p[\"end\"])\n",
    "    p[\"duration_min\"] = (p[\"end\"] - p[\"start\"]).dt.total_seconds()/60\n",
    "    return p\n",
    "\n",
    "def org_kpis(events: pd.DataFrame, tolerance=\"5min\") -> dict:\n",
    "    \"\"\"Org-level KPIs for a given tolerance.\"\"\"\n",
    "    p = build_periods(events, tolerance=tolerance)\n",
    "    d = compute_daily_spans(p)\n",
    "    b = extract_breaks(p)\n",
    "\n",
    "    # overlap using task periods, sweep-line robust\n",
    "    tasks = compute_task_periods(events)\n",
    "    if tasks.empty:\n",
    "        overlap_share = 0.0\n",
    "    else:\n",
    "        ol = overlap_summary(tasks)\n",
    "        # weighted share = sum(overlap_min)/sum(busy_min)\n",
    "        num = ol[\"overlap_min\"].sum()\n",
    "        den = ol[\"busy_min\"].sum()\n",
    "        overlap_share = float(num/den) if den > 0 else 0.0\n",
    "\n",
    "    return dict(\n",
    "        n_periods=len(p),\n",
    "        days_active=d[\"day\"].nunique(),\n",
    "        avg_span_min=float(d[\"span_min\"].mean()),\n",
    "        avg_pct_busy=float(d[\"pct_busy\"].mean()),\n",
    "        overlap_share=overlap_share\n",
    "    ), p, d, b\n"
   ]
  },
  {
   "cell_type": "code",
   "execution_count": 23,
   "id": "9a9f197d-5fe4-4654-8efe-19fb2d19530e",
   "metadata": {},
   "outputs": [
    {
     "name": "stderr",
     "output_type": "stream",
     "text": [
      "/var/folders/7j/l7x_10w97357mn1mpd0yhlqc0000gn/T/ipykernel_25144/114358983.py:51: DeprecationWarning:\n",
      "\n",
      "\n",
      "Support for Kaleido versions less than 1.0.0 is deprecated and will be removed after September 2025.\n",
      "Please upgrade Kaleido to version 1.0.0 or greater (`pip install 'kaleido>=1.0.0'` or `pip install 'plotly[kaleido]'`).\n",
      "\n",
      "\n",
      "/var/folders/7j/l7x_10w97357mn1mpd0yhlqc0000gn/T/ipykernel_25144/114358983.py:51: DeprecationWarning:\n",
      "\n",
      "\n",
      "Support for Kaleido versions less than 1.0.0 is deprecated and will be removed after September 2025.\n",
      "Please upgrade Kaleido to version 1.0.0 or greater (`pip install 'kaleido>=1.0.0'` or `pip install 'plotly[kaleido]'`).\n",
      "\n",
      "\n"
     ]
    },
    {
     "name": "stdout",
     "output_type": "stream",
     "text": [
      "Saved: ['Q3_User_1_2017-01-10_tol_0min.png', 'Q3_User_1_2017-01-10_tol_5min.png', 'Q3_User_1_2017-01-10_tol_15min.png']\n"
     ]
    },
    {
     "name": "stderr",
     "output_type": "stream",
     "text": [
      "/var/folders/7j/l7x_10w97357mn1mpd0yhlqc0000gn/T/ipykernel_25144/114358983.py:51: DeprecationWarning:\n",
      "\n",
      "\n",
      "Support for Kaleido versions less than 1.0.0 is deprecated and will be removed after September 2025.\n",
      "Please upgrade Kaleido to version 1.0.0 or greater (`pip install 'kaleido>=1.0.0'` or `pip install 'plotly[kaleido]'`).\n",
      "\n",
      "\n"
     ]
    }
   ],
   "source": [
    "# --- Q3: export side-by-side candidates for tolerance identification ---\n",
    "\n",
    "import pandas as pd\n",
    "import plotly.express as px\n",
    "from pathlib import Path\n",
    "\n",
    "# make sure SURVEY folder exists (you already have this earlier; safe to re-run)\n",
    "from pathlib import Path\n",
    "SURVEY = (Path().resolve().parent / \"figures\" / \"survey\")\n",
    "SURVEY.mkdir(parents=True, exist_ok=True)\n",
    "\n",
    "# ensure we have a loaded & filtered event log as `df`\n",
    "try:\n",
    "    df  # noqa: F821\n",
    "except NameError:\n",
    "    from io_utils import load_event_log_csv\n",
    "    DATA = Path().resolve().parent / \"data\" / \"BPI_2017_tail10k.csv\"\n",
    "    df = load_event_log_csv(DATA)\n",
    "    valid = [\"start\",\"complete\",\"schedule\",\"resume\",\"suspend\",\"abort\",\"withdraw\"]\n",
    "    df[\"lifecycle\"] = df[\"lifecycle\"].str.lower().fillna(\"unknown\")\n",
    "    df = df[df[\"lifecycle\"].isin(valid)].copy()\n",
    "\n",
    "# pick a resource with lots of activity (helps the tolerance differences show up)\n",
    "RESOURCE = df[\"resource\"].value_counts().idxmax()  # or set e.g. \"User_100\"\n",
    "\n",
    "from availability import get_active_periods\n",
    "\n",
    "TOLS = [\"0min\", \"5min\", \"15min\"]  # render 3 clear choices\n",
    "\n",
    "for tol in TOLS:\n",
    "    # build periods under this tolerance\n",
    "    p = get_active_periods(df, tolerance=tol)\n",
    "    p[\"start\"] = pd.to_datetime(p[\"start\"]); p[\"end\"] = pd.to_datetime(p[\"end\"])\n",
    "    p[\"resource\"] = p[\"resource\"].astype(str)\n",
    "\n",
    "    # focus on the chosen resource & its busiest day\n",
    "    sub = p[p[\"resource\"] == RESOURCE].copy()\n",
    "    if sub.empty:\n",
    "        print(f\"No periods for {RESOURCE} at tol={tol}\"); \n",
    "        continue\n",
    "\n",
    "    day = sub[\"start\"].dt.date.value_counts().idxmax()\n",
    "    one = sub[sub[\"start\"].dt.date == day].copy()\n",
    "\n",
    "    # colour is not needed for Q3; keep a clean timeline\n",
    "    one[\"is_overlap\"] = False\n",
    "\n",
    "    title = f\"{RESOURCE} — {day}  (tolerance={tol})\"\n",
    "    fig = px.timeline(one, x_start=\"start\", x_end=\"end\", y=\"resource\", title=title)\n",
    "    fig.update_yaxes(autorange=\"reversed\", visible=False, showticklabels=False)\n",
    "    fig.write_image(SURVEY / f\"Q3_{RESOURCE}_{day}_tol_{tol}.png\", scale=2)\n",
    "\n",
    "print(\"Saved:\", [f\"Q3_{RESOURCE}_{day}_tol_{t}.png\" for t in TOLS])\n"
   ]
  },
  {
   "cell_type": "code",
   "execution_count": 24,
   "id": "fd836416-347d-45f0-a65d-7f6c32652039",
   "metadata": {},
   "outputs": [
    {
     "data": {
      "text/html": [
       "<div>\n",
       "<style scoped>\n",
       "    .dataframe tbody tr th:only-of-type {\n",
       "        vertical-align: middle;\n",
       "    }\n",
       "\n",
       "    .dataframe tbody tr th {\n",
       "        vertical-align: top;\n",
       "    }\n",
       "\n",
       "    .dataframe thead th {\n",
       "        text-align: right;\n",
       "    }\n",
       "</style>\n",
       "<table border=\"1\" class=\"dataframe\">\n",
       "  <thead>\n",
       "    <tr style=\"text-align: right;\">\n",
       "      <th></th>\n",
       "      <th>tolerance</th>\n",
       "      <th>n_periods</th>\n",
       "      <th>days_active</th>\n",
       "      <th>avg_span_min</th>\n",
       "      <th>avg_pct_busy</th>\n",
       "      <th>overlap_share</th>\n",
       "    </tr>\n",
       "  </thead>\n",
       "  <tbody>\n",
       "    <tr>\n",
       "      <th>0</th>\n",
       "      <td>0min</td>\n",
       "      <td>8494</td>\n",
       "      <td>504</td>\n",
       "      <td>292.217244</td>\n",
       "      <td>0.523968</td>\n",
       "      <td>0.0</td>\n",
       "    </tr>\n",
       "    <tr>\n",
       "      <th>1</th>\n",
       "      <td>2min</td>\n",
       "      <td>8311</td>\n",
       "      <td>504</td>\n",
       "      <td>292.217244</td>\n",
       "      <td>0.524365</td>\n",
       "      <td>0.0</td>\n",
       "    </tr>\n",
       "    <tr>\n",
       "      <th>2</th>\n",
       "      <td>5min</td>\n",
       "      <td>8084</td>\n",
       "      <td>504</td>\n",
       "      <td>292.029426</td>\n",
       "      <td>0.526658</td>\n",
       "      <td>0.0</td>\n",
       "    </tr>\n",
       "    <tr>\n",
       "      <th>3</th>\n",
       "      <td>10min</td>\n",
       "      <td>7756</td>\n",
       "      <td>504</td>\n",
       "      <td>291.847808</td>\n",
       "      <td>0.530910</td>\n",
       "      <td>0.0</td>\n",
       "    </tr>\n",
       "    <tr>\n",
       "      <th>4</th>\n",
       "      <td>15min</td>\n",
       "      <td>7513</td>\n",
       "      <td>504</td>\n",
       "      <td>291.847808</td>\n",
       "      <td>0.535728</td>\n",
       "      <td>0.0</td>\n",
       "    </tr>\n",
       "  </tbody>\n",
       "</table>\n",
       "</div>"
      ],
      "text/plain": [
       "  tolerance  n_periods  days_active  avg_span_min  avg_pct_busy  overlap_share\n",
       "0      0min       8494          504    292.217244      0.523968            0.0\n",
       "1      2min       8311          504    292.217244      0.524365            0.0\n",
       "2      5min       8084          504    292.029426      0.526658            0.0\n",
       "3     10min       7756          504    291.847808      0.530910            0.0\n",
       "4     15min       7513          504    291.847808      0.535728            0.0"
      ]
     },
     "metadata": {},
     "output_type": "display_data"
    },
    {
     "data": {
      "application/vnd.plotly.v1+json": {
       "config": {
        "plotlyServerURL": "https://plot.ly"
       },
       "data": [
        {
         "hovertemplate": "metric=n_periods<br>tolerance=%{x}<br>value=%{y}<extra></extra>",
         "legendgroup": "n_periods",
         "line": {
          "color": "#636efa",
          "dash": "solid"
         },
         "marker": {
          "symbol": "circle"
         },
         "mode": "lines+markers",
         "name": "n_periods",
         "orientation": "v",
         "showlegend": true,
         "type": "scatter",
         "x": [
          "0min",
          "2min",
          "5min",
          "10min",
          "15min"
         ],
         "xaxis": "x",
         "y": {
          "_inputArray": {
           "0": 8494,
           "1": 8311,
           "2": 8084,
           "3": 7756,
           "4": 7513,
           "bdata": "AAAAAACXwEAAAAAAgDvAQAAAAAAAlL9AAAAAAABMvkAAAAAAAFm9QA==",
           "dtype": "f8",
           "shape": "5"
          },
          "bdata": "AAAAAACXwEAAAAAAgDvAQAAAAAAAlL9AAAAAAABMvkAAAAAAAFm9QA==",
          "dtype": "f8"
         },
         "yaxis": "y"
        },
        {
         "hovertemplate": "metric=days_active<br>tolerance=%{x}<br>value=%{y}<extra></extra>",
         "legendgroup": "days_active",
         "line": {
          "color": "#EF553B",
          "dash": "solid"
         },
         "marker": {
          "symbol": "circle"
         },
         "mode": "lines+markers",
         "name": "days_active",
         "orientation": "v",
         "showlegend": true,
         "type": "scatter",
         "x": [
          "0min",
          "2min",
          "5min",
          "10min",
          "15min"
         ],
         "xaxis": "x",
         "y": {
          "_inputArray": {
           "0": 504,
           "1": 504,
           "2": 504,
           "3": 504,
           "4": 504,
           "bdata": "AAAAAACAf0AAAAAAAIB/QAAAAAAAgH9AAAAAAACAf0AAAAAAAIB/QA==",
           "dtype": "f8",
           "shape": "5"
          },
          "bdata": "AAAAAACAf0AAAAAAAIB/QAAAAAAAgH9AAAAAAACAf0AAAAAAAIB/QA==",
          "dtype": "f8"
         },
         "yaxis": "y"
        },
        {
         "hovertemplate": "metric=avg_span_min<br>tolerance=%{x}<br>value=%{y}<extra></extra>",
         "legendgroup": "avg_span_min",
         "line": {
          "color": "#00cc96",
          "dash": "solid"
         },
         "marker": {
          "symbol": "circle"
         },
         "mode": "lines+markers",
         "name": "avg_span_min",
         "orientation": "v",
         "showlegend": true,
         "type": "scatter",
         "x": [
          "0min",
          "2min",
          "5min",
          "10min",
          "15min"
         ],
         "xaxis": "x",
         "y": {
          "_inputArray": {
           "0": 292.2172439598033,
           "1": 292.2172439598033,
           "2": 292.02942591404747,
           "3": 291.8478084242035,
           "4": 291.8478084242035,
           "bdata": "vWnN1HlDckC9ac3UeUNyQNKnTod4QHJAo/OQn5A9ckCj85CfkD1yQA==",
           "dtype": "f8",
           "shape": "5"
          },
          "bdata": "vWnN1HlDckC9ac3UeUNyQNKnTod4QHJAo/OQn5A9ckCj85CfkD1yQA==",
          "dtype": "f8"
         },
         "yaxis": "y"
        },
        {
         "hovertemplate": "metric=avg_pct_busy<br>tolerance=%{x}<br>value=%{y}<extra></extra>",
         "legendgroup": "avg_pct_busy",
         "line": {
          "color": "#ab63fa",
          "dash": "solid"
         },
         "marker": {
          "symbol": "circle"
         },
         "mode": "lines+markers",
         "name": "avg_pct_busy",
         "orientation": "v",
         "showlegend": true,
         "type": "scatter",
         "x": [
          "0min",
          "2min",
          "5min",
          "10min",
          "15min"
         ],
         "xaxis": "x",
         "y": {
          "_inputArray": {
           "0": 0.5239681920873978,
           "1": 0.5243652011471104,
           "2": 0.5266578478333247,
           "3": 0.5309100900429881,
           "4": 0.5357280175657263,
           "bdata": "mhsl8VjE4D8ry8KHmcfgPykHFI9h2uA/yzs7KDf94D/X3F8VryThPw==",
           "dtype": "f8",
           "shape": "5"
          },
          "bdata": "mhsl8VjE4D8ry8KHmcfgPykHFI9h2uA/yzs7KDf94D/X3F8VryThPw==",
          "dtype": "f8"
         },
         "yaxis": "y"
        },
        {
         "hovertemplate": "metric=overlap_share<br>tolerance=%{x}<br>value=%{y}<extra></extra>",
         "legendgroup": "overlap_share",
         "line": {
          "color": "#FFA15A",
          "dash": "solid"
         },
         "marker": {
          "symbol": "circle"
         },
         "mode": "lines+markers",
         "name": "overlap_share",
         "orientation": "v",
         "showlegend": true,
         "type": "scatter",
         "x": [
          "0min",
          "2min",
          "5min",
          "10min",
          "15min"
         ],
         "xaxis": "x",
         "y": {
          "_inputArray": {
           "0": 0,
           "1": 0,
           "2": 0,
           "3": 0,
           "4": 0,
           "bdata": "AAAAAAAAAAAAAAAAAAAAAAAAAAAAAAAAAAAAAAAAAAAAAAAAAAAAAA==",
           "dtype": "f8",
           "shape": "5"
          },
          "bdata": "AAAAAAAAAAAAAAAAAAAAAAAAAAAAAAAAAAAAAAAAAAAAAAAAAAAAAA==",
          "dtype": "f8"
         },
         "yaxis": "y"
        }
       ],
       "layout": {
        "autosize": true,
        "legend": {
         "title": {
          "text": "metric"
         },
         "tracegroupgap": 0
        },
        "template": {
         "data": {
          "bar": [
           {
            "error_x": {
             "color": "#2a3f5f"
            },
            "error_y": {
             "color": "#2a3f5f"
            },
            "marker": {
             "line": {
              "color": "#E5ECF6",
              "width": 0.5
             },
             "pattern": {
              "fillmode": "overlay",
              "size": 10,
              "solidity": 0.2
             }
            },
            "type": "bar"
           }
          ],
          "barpolar": [
           {
            "marker": {
             "line": {
              "color": "#E5ECF6",
              "width": 0.5
             },
             "pattern": {
              "fillmode": "overlay",
              "size": 10,
              "solidity": 0.2
             }
            },
            "type": "barpolar"
           }
          ],
          "carpet": [
           {
            "aaxis": {
             "endlinecolor": "#2a3f5f",
             "gridcolor": "white",
             "linecolor": "white",
             "minorgridcolor": "white",
             "startlinecolor": "#2a3f5f"
            },
            "baxis": {
             "endlinecolor": "#2a3f5f",
             "gridcolor": "white",
             "linecolor": "white",
             "minorgridcolor": "white",
             "startlinecolor": "#2a3f5f"
            },
            "type": "carpet"
           }
          ],
          "choropleth": [
           {
            "colorbar": {
             "outlinewidth": 0,
             "ticks": ""
            },
            "type": "choropleth"
           }
          ],
          "contour": [
           {
            "colorbar": {
             "outlinewidth": 0,
             "ticks": ""
            },
            "colorscale": [
             [
              0,
              "#0d0887"
             ],
             [
              0.1111111111111111,
              "#46039f"
             ],
             [
              0.2222222222222222,
              "#7201a8"
             ],
             [
              0.3333333333333333,
              "#9c179e"
             ],
             [
              0.4444444444444444,
              "#bd3786"
             ],
             [
              0.5555555555555556,
              "#d8576b"
             ],
             [
              0.6666666666666666,
              "#ed7953"
             ],
             [
              0.7777777777777778,
              "#fb9f3a"
             ],
             [
              0.8888888888888888,
              "#fdca26"
             ],
             [
              1,
              "#f0f921"
             ]
            ],
            "type": "contour"
           }
          ],
          "contourcarpet": [
           {
            "colorbar": {
             "outlinewidth": 0,
             "ticks": ""
            },
            "type": "contourcarpet"
           }
          ],
          "heatmap": [
           {
            "colorbar": {
             "outlinewidth": 0,
             "ticks": ""
            },
            "colorscale": [
             [
              0,
              "#0d0887"
             ],
             [
              0.1111111111111111,
              "#46039f"
             ],
             [
              0.2222222222222222,
              "#7201a8"
             ],
             [
              0.3333333333333333,
              "#9c179e"
             ],
             [
              0.4444444444444444,
              "#bd3786"
             ],
             [
              0.5555555555555556,
              "#d8576b"
             ],
             [
              0.6666666666666666,
              "#ed7953"
             ],
             [
              0.7777777777777778,
              "#fb9f3a"
             ],
             [
              0.8888888888888888,
              "#fdca26"
             ],
             [
              1,
              "#f0f921"
             ]
            ],
            "type": "heatmap"
           }
          ],
          "histogram": [
           {
            "marker": {
             "pattern": {
              "fillmode": "overlay",
              "size": 10,
              "solidity": 0.2
             }
            },
            "type": "histogram"
           }
          ],
          "histogram2d": [
           {
            "colorbar": {
             "outlinewidth": 0,
             "ticks": ""
            },
            "colorscale": [
             [
              0,
              "#0d0887"
             ],
             [
              0.1111111111111111,
              "#46039f"
             ],
             [
              0.2222222222222222,
              "#7201a8"
             ],
             [
              0.3333333333333333,
              "#9c179e"
             ],
             [
              0.4444444444444444,
              "#bd3786"
             ],
             [
              0.5555555555555556,
              "#d8576b"
             ],
             [
              0.6666666666666666,
              "#ed7953"
             ],
             [
              0.7777777777777778,
              "#fb9f3a"
             ],
             [
              0.8888888888888888,
              "#fdca26"
             ],
             [
              1,
              "#f0f921"
             ]
            ],
            "type": "histogram2d"
           }
          ],
          "histogram2dcontour": [
           {
            "colorbar": {
             "outlinewidth": 0,
             "ticks": ""
            },
            "colorscale": [
             [
              0,
              "#0d0887"
             ],
             [
              0.1111111111111111,
              "#46039f"
             ],
             [
              0.2222222222222222,
              "#7201a8"
             ],
             [
              0.3333333333333333,
              "#9c179e"
             ],
             [
              0.4444444444444444,
              "#bd3786"
             ],
             [
              0.5555555555555556,
              "#d8576b"
             ],
             [
              0.6666666666666666,
              "#ed7953"
             ],
             [
              0.7777777777777778,
              "#fb9f3a"
             ],
             [
              0.8888888888888888,
              "#fdca26"
             ],
             [
              1,
              "#f0f921"
             ]
            ],
            "type": "histogram2dcontour"
           }
          ],
          "mesh3d": [
           {
            "colorbar": {
             "outlinewidth": 0,
             "ticks": ""
            },
            "type": "mesh3d"
           }
          ],
          "parcoords": [
           {
            "line": {
             "colorbar": {
              "outlinewidth": 0,
              "ticks": ""
             }
            },
            "type": "parcoords"
           }
          ],
          "pie": [
           {
            "automargin": true,
            "type": "pie"
           }
          ],
          "scatter": [
           {
            "fillpattern": {
             "fillmode": "overlay",
             "size": 10,
             "solidity": 0.2
            },
            "type": "scatter"
           }
          ],
          "scatter3d": [
           {
            "line": {
             "colorbar": {
              "outlinewidth": 0,
              "ticks": ""
             }
            },
            "marker": {
             "colorbar": {
              "outlinewidth": 0,
              "ticks": ""
             }
            },
            "type": "scatter3d"
           }
          ],
          "scattercarpet": [
           {
            "marker": {
             "colorbar": {
              "outlinewidth": 0,
              "ticks": ""
             }
            },
            "type": "scattercarpet"
           }
          ],
          "scattergeo": [
           {
            "marker": {
             "colorbar": {
              "outlinewidth": 0,
              "ticks": ""
             }
            },
            "type": "scattergeo"
           }
          ],
          "scattergl": [
           {
            "marker": {
             "colorbar": {
              "outlinewidth": 0,
              "ticks": ""
             }
            },
            "type": "scattergl"
           }
          ],
          "scattermap": [
           {
            "marker": {
             "colorbar": {
              "outlinewidth": 0,
              "ticks": ""
             }
            },
            "type": "scattermap"
           }
          ],
          "scattermapbox": [
           {
            "marker": {
             "colorbar": {
              "outlinewidth": 0,
              "ticks": ""
             }
            },
            "type": "scattermapbox"
           }
          ],
          "scatterpolar": [
           {
            "marker": {
             "colorbar": {
              "outlinewidth": 0,
              "ticks": ""
             }
            },
            "type": "scatterpolar"
           }
          ],
          "scatterpolargl": [
           {
            "marker": {
             "colorbar": {
              "outlinewidth": 0,
              "ticks": ""
             }
            },
            "type": "scatterpolargl"
           }
          ],
          "scatterternary": [
           {
            "marker": {
             "colorbar": {
              "outlinewidth": 0,
              "ticks": ""
             }
            },
            "type": "scatterternary"
           }
          ],
          "surface": [
           {
            "colorbar": {
             "outlinewidth": 0,
             "ticks": ""
            },
            "colorscale": [
             [
              0,
              "#0d0887"
             ],
             [
              0.1111111111111111,
              "#46039f"
             ],
             [
              0.2222222222222222,
              "#7201a8"
             ],
             [
              0.3333333333333333,
              "#9c179e"
             ],
             [
              0.4444444444444444,
              "#bd3786"
             ],
             [
              0.5555555555555556,
              "#d8576b"
             ],
             [
              0.6666666666666666,
              "#ed7953"
             ],
             [
              0.7777777777777778,
              "#fb9f3a"
             ],
             [
              0.8888888888888888,
              "#fdca26"
             ],
             [
              1,
              "#f0f921"
             ]
            ],
            "type": "surface"
           }
          ],
          "table": [
           {
            "cells": {
             "fill": {
              "color": "#EBF0F8"
             },
             "line": {
              "color": "white"
             }
            },
            "header": {
             "fill": {
              "color": "#C8D4E3"
             },
             "line": {
              "color": "white"
             }
            },
            "type": "table"
           }
          ]
         },
         "layout": {
          "annotationdefaults": {
           "arrowcolor": "#2a3f5f",
           "arrowhead": 0,
           "arrowwidth": 1
          },
          "autotypenumbers": "strict",
          "coloraxis": {
           "colorbar": {
            "outlinewidth": 0,
            "ticks": ""
           }
          },
          "colorscale": {
           "diverging": [
            [
             0,
             "#8e0152"
            ],
            [
             0.1,
             "#c51b7d"
            ],
            [
             0.2,
             "#de77ae"
            ],
            [
             0.3,
             "#f1b6da"
            ],
            [
             0.4,
             "#fde0ef"
            ],
            [
             0.5,
             "#f7f7f7"
            ],
            [
             0.6,
             "#e6f5d0"
            ],
            [
             0.7,
             "#b8e186"
            ],
            [
             0.8,
             "#7fbc41"
            ],
            [
             0.9,
             "#4d9221"
            ],
            [
             1,
             "#276419"
            ]
           ],
           "sequential": [
            [
             0,
             "#0d0887"
            ],
            [
             0.1111111111111111,
             "#46039f"
            ],
            [
             0.2222222222222222,
             "#7201a8"
            ],
            [
             0.3333333333333333,
             "#9c179e"
            ],
            [
             0.4444444444444444,
             "#bd3786"
            ],
            [
             0.5555555555555556,
             "#d8576b"
            ],
            [
             0.6666666666666666,
             "#ed7953"
            ],
            [
             0.7777777777777778,
             "#fb9f3a"
            ],
            [
             0.8888888888888888,
             "#fdca26"
            ],
            [
             1,
             "#f0f921"
            ]
           ],
           "sequentialminus": [
            [
             0,
             "#0d0887"
            ],
            [
             0.1111111111111111,
             "#46039f"
            ],
            [
             0.2222222222222222,
             "#7201a8"
            ],
            [
             0.3333333333333333,
             "#9c179e"
            ],
            [
             0.4444444444444444,
             "#bd3786"
            ],
            [
             0.5555555555555556,
             "#d8576b"
            ],
            [
             0.6666666666666666,
             "#ed7953"
            ],
            [
             0.7777777777777778,
             "#fb9f3a"
            ],
            [
             0.8888888888888888,
             "#fdca26"
            ],
            [
             1,
             "#f0f921"
            ]
           ]
          },
          "colorway": [
           "#636efa",
           "#EF553B",
           "#00cc96",
           "#ab63fa",
           "#FFA15A",
           "#19d3f3",
           "#FF6692",
           "#B6E880",
           "#FF97FF",
           "#FECB52"
          ],
          "font": {
           "color": "#2a3f5f"
          },
          "geo": {
           "bgcolor": "white",
           "lakecolor": "white",
           "landcolor": "#E5ECF6",
           "showlakes": true,
           "showland": true,
           "subunitcolor": "white"
          },
          "hoverlabel": {
           "align": "left"
          },
          "hovermode": "closest",
          "mapbox": {
           "style": "light"
          },
          "paper_bgcolor": "white",
          "plot_bgcolor": "#E5ECF6",
          "polar": {
           "angularaxis": {
            "gridcolor": "white",
            "linecolor": "white",
            "ticks": ""
           },
           "bgcolor": "#E5ECF6",
           "radialaxis": {
            "gridcolor": "white",
            "linecolor": "white",
            "ticks": ""
           }
          },
          "scene": {
           "xaxis": {
            "backgroundcolor": "#E5ECF6",
            "gridcolor": "white",
            "gridwidth": 2,
            "linecolor": "white",
            "showbackground": true,
            "ticks": "",
            "zerolinecolor": "white"
           },
           "yaxis": {
            "backgroundcolor": "#E5ECF6",
            "gridcolor": "white",
            "gridwidth": 2,
            "linecolor": "white",
            "showbackground": true,
            "ticks": "",
            "zerolinecolor": "white"
           },
           "zaxis": {
            "backgroundcolor": "#E5ECF6",
            "gridcolor": "white",
            "gridwidth": 2,
            "linecolor": "white",
            "showbackground": true,
            "ticks": "",
            "zerolinecolor": "white"
           }
          },
          "shapedefaults": {
           "line": {
            "color": "#2a3f5f"
           }
          },
          "ternary": {
           "aaxis": {
            "gridcolor": "white",
            "linecolor": "white",
            "ticks": ""
           },
           "baxis": {
            "gridcolor": "white",
            "linecolor": "white",
            "ticks": ""
           },
           "bgcolor": "#E5ECF6",
           "caxis": {
            "gridcolor": "white",
            "linecolor": "white",
            "ticks": ""
           }
          },
          "title": {
           "x": 0.05
          },
          "xaxis": {
           "automargin": true,
           "gridcolor": "white",
           "linecolor": "white",
           "ticks": "",
           "title": {
            "standoff": 15
           },
           "zerolinecolor": "white",
           "zerolinewidth": 2
          },
          "yaxis": {
           "automargin": true,
           "gridcolor": "white",
           "linecolor": "white",
           "ticks": "",
           "title": {
            "standoff": 15
           },
           "zerolinecolor": "white",
           "zerolinewidth": 2
          }
         }
        },
        "title": {
         "text": "Tolerance sweep — organization-level KPIs (sepsis)"
        },
        "xaxis": {
         "anchor": "y",
         "autorange": true,
         "domain": [
          0,
          1
         ],
         "range": [
          -0.26277372262773724,
          4.262773722627737
         ],
         "title": {
          "text": "tolerance"
         },
         "type": "category"
        },
        "yaxis": {
         "anchor": "x",
         "autorange": true,
         "domain": [
          0,
          1
         ],
         "range": [
          -700.9611650485436,
          9194.961165048544
         ],
         "title": {
          "text": "value"
         },
         "type": "linear"
        }
       }
      }
     },
     "metadata": {},
     "output_type": "display_data"
    }
   ],
   "source": [
    "#  Tolerance sweep (RQ2 validation)\n",
    "\n",
    "tols = [\"0min\",\"2min\",\"5min\",\"10min\",\"15min\"]\n",
    "rows = []\n",
    "for t in tols:\n",
    "    org, p, d, b = org_kpis(events, tolerance=t)\n",
    "    rows.append(dict(tolerance=t, **org))\n",
    "\n",
    "tol_summary = pd.DataFrame(rows)\n",
    "display(tol_summary)\n",
    "\n",
    "fig = px.line(\n",
    "    tol_summary.melt(\"tolerance\", var_name=\"metric\", value_name=\"value\"),\n",
    "    x=\"tolerance\", y=\"value\", color=\"metric\", markers=True,\n",
    "    title=f\"Tolerance sweep — organization-level KPIs ({DS})\"\n",
    ")\n",
    "fig.update_yaxes(matches=None); fig.show()\n"
   ]
  },
  {
   "cell_type": "code",
   "execution_count": 25,
   "id": "66fdfb06-658a-4b9d-ac07-3e2c5a6d70d5",
   "metadata": {},
   "outputs": [
    {
     "name": "stdout",
     "output_type": "stream",
     "text": [
      "Candidates found: 113\n"
     ]
    },
    {
     "name": "stderr",
     "output_type": "stream",
     "text": [
      "/var/folders/7j/l7x_10w97357mn1mpd0yhlqc0000gn/T/ipykernel_25144/1935641192.py:82: FutureWarning:\n",
      "\n",
      "Downcasting object dtype arrays on .fillna, .ffill, .bfill is deprecated and will change in a future version. Call result.infer_objects(copy=False) instead. To opt-in to the future behavior, set `pd.set_option('future.no_silent_downcasting', True)`\n",
      "\n"
     ]
    },
    {
     "data": {
      "text/html": [
       "<div>\n",
       "<style scoped>\n",
       "    .dataframe tbody tr th:only-of-type {\n",
       "        vertical-align: middle;\n",
       "    }\n",
       "\n",
       "    .dataframe tbody tr th {\n",
       "        vertical-align: top;\n",
       "    }\n",
       "\n",
       "    .dataframe thead th {\n",
       "        text-align: right;\n",
       "    }\n",
       "</style>\n",
       "<table border=\"1\" class=\"dataframe\">\n",
       "  <thead>\n",
       "    <tr style=\"text-align: right;\">\n",
       "      <th></th>\n",
       "      <th>resource</th>\n",
       "      <th>day</th>\n",
       "      <th>n_0min</th>\n",
       "      <th>n_5min</th>\n",
       "      <th>n_15min</th>\n",
       "      <th>delta_periods</th>\n",
       "      <th>small_gap_share</th>\n",
       "      <th>midday_flag</th>\n",
       "      <th>score</th>\n",
       "    </tr>\n",
       "  </thead>\n",
       "  <tbody>\n",
       "    <tr>\n",
       "      <th>0</th>\n",
       "      <td>A</td>\n",
       "      <td>2014-08-27</td>\n",
       "      <td>27</td>\n",
       "      <td>24</td>\n",
       "      <td>17</td>\n",
       "      <td>10</td>\n",
       "      <td>0.384615</td>\n",
       "      <td>True</td>\n",
       "      <td>0.815385</td>\n",
       "    </tr>\n",
       "    <tr>\n",
       "      <th>1</th>\n",
       "      <td>A</td>\n",
       "      <td>2014-05-25</td>\n",
       "      <td>18</td>\n",
       "      <td>16</td>\n",
       "      <td>9</td>\n",
       "      <td>9</td>\n",
       "      <td>0.529412</td>\n",
       "      <td>True</td>\n",
       "      <td>0.798824</td>\n",
       "    </tr>\n",
       "    <tr>\n",
       "      <th>2</th>\n",
       "      <td>A</td>\n",
       "      <td>2014-05-03</td>\n",
       "      <td>19</td>\n",
       "      <td>16</td>\n",
       "      <td>9</td>\n",
       "      <td>10</td>\n",
       "      <td>0.555556</td>\n",
       "      <td>False</td>\n",
       "      <td>0.766667</td>\n",
       "    </tr>\n",
       "    <tr>\n",
       "      <th>3</th>\n",
       "      <td>A</td>\n",
       "      <td>2014-08-01</td>\n",
       "      <td>17</td>\n",
       "      <td>13</td>\n",
       "      <td>10</td>\n",
       "      <td>7</td>\n",
       "      <td>0.437500</td>\n",
       "      <td>True</td>\n",
       "      <td>0.651250</td>\n",
       "    </tr>\n",
       "    <tr>\n",
       "      <th>4</th>\n",
       "      <td>A</td>\n",
       "      <td>2014-08-20</td>\n",
       "      <td>9</td>\n",
       "      <td>7</td>\n",
       "      <td>3</td>\n",
       "      <td>6</td>\n",
       "      <td>0.625000</td>\n",
       "      <td>True</td>\n",
       "      <td>0.647500</td>\n",
       "    </tr>\n",
       "    <tr>\n",
       "      <th>5</th>\n",
       "      <td>A</td>\n",
       "      <td>2014-10-11</td>\n",
       "      <td>15</td>\n",
       "      <td>10</td>\n",
       "      <td>7</td>\n",
       "      <td>8</td>\n",
       "      <td>0.500000</td>\n",
       "      <td>False</td>\n",
       "      <td>0.630000</td>\n",
       "    </tr>\n",
       "    <tr>\n",
       "      <th>6</th>\n",
       "      <td>A</td>\n",
       "      <td>2014-04-17</td>\n",
       "      <td>15</td>\n",
       "      <td>11</td>\n",
       "      <td>8</td>\n",
       "      <td>7</td>\n",
       "      <td>0.357143</td>\n",
       "      <td>True</td>\n",
       "      <td>0.627143</td>\n",
       "    </tr>\n",
       "    <tr>\n",
       "      <th>7</th>\n",
       "      <td>A</td>\n",
       "      <td>2014-10-07</td>\n",
       "      <td>18</td>\n",
       "      <td>15</td>\n",
       "      <td>11</td>\n",
       "      <td>7</td>\n",
       "      <td>0.352941</td>\n",
       "      <td>True</td>\n",
       "      <td>0.625882</td>\n",
       "    </tr>\n",
       "    <tr>\n",
       "      <th>8</th>\n",
       "      <td>A</td>\n",
       "      <td>2014-03-06</td>\n",
       "      <td>14</td>\n",
       "      <td>9</td>\n",
       "      <td>7</td>\n",
       "      <td>7</td>\n",
       "      <td>0.538462</td>\n",
       "      <td>False</td>\n",
       "      <td>0.581538</td>\n",
       "    </tr>\n",
       "    <tr>\n",
       "      <th>9</th>\n",
       "      <td>A</td>\n",
       "      <td>2014-06-29</td>\n",
       "      <td>14</td>\n",
       "      <td>12</td>\n",
       "      <td>8</td>\n",
       "      <td>6</td>\n",
       "      <td>0.384615</td>\n",
       "      <td>True</td>\n",
       "      <td>0.575385</td>\n",
       "    </tr>\n",
       "    <tr>\n",
       "      <th>10</th>\n",
       "      <td>A</td>\n",
       "      <td>2014-01-04</td>\n",
       "      <td>10</td>\n",
       "      <td>8</td>\n",
       "      <td>5</td>\n",
       "      <td>5</td>\n",
       "      <td>0.555556</td>\n",
       "      <td>True</td>\n",
       "      <td>0.566667</td>\n",
       "    </tr>\n",
       "    <tr>\n",
       "      <th>11</th>\n",
       "      <td>A</td>\n",
       "      <td>2014-02-27</td>\n",
       "      <td>10</td>\n",
       "      <td>7</td>\n",
       "      <td>5</td>\n",
       "      <td>5</td>\n",
       "      <td>0.555556</td>\n",
       "      <td>True</td>\n",
       "      <td>0.566667</td>\n",
       "    </tr>\n",
       "  </tbody>\n",
       "</table>\n",
       "</div>"
      ],
      "text/plain": [
       "   resource         day  n_0min  n_5min  n_15min  delta_periods  \\\n",
       "0         A  2014-08-27      27      24       17             10   \n",
       "1         A  2014-05-25      18      16        9              9   \n",
       "2         A  2014-05-03      19      16        9             10   \n",
       "3         A  2014-08-01      17      13       10              7   \n",
       "4         A  2014-08-20       9       7        3              6   \n",
       "5         A  2014-10-11      15      10        7              8   \n",
       "6         A  2014-04-17      15      11        8              7   \n",
       "7         A  2014-10-07      18      15       11              7   \n",
       "8         A  2014-03-06      14       9        7              7   \n",
       "9         A  2014-06-29      14      12        8              6   \n",
       "10        A  2014-01-04      10       8        5              5   \n",
       "11        A  2014-02-27      10       7        5              5   \n",
       "\n",
       "    small_gap_share  midday_flag     score  \n",
       "0          0.384615         True  0.815385  \n",
       "1          0.529412         True  0.798824  \n",
       "2          0.555556        False  0.766667  \n",
       "3          0.437500         True  0.651250  \n",
       "4          0.625000         True  0.647500  \n",
       "5          0.500000        False  0.630000  \n",
       "6          0.357143         True  0.627143  \n",
       "7          0.352941         True  0.625882  \n",
       "8          0.538462        False  0.581538  \n",
       "9          0.384615         True  0.575385  \n",
       "10         0.555556         True  0.566667  \n",
       "11         0.555556         True  0.566667  "
      ]
     },
     "metadata": {},
     "output_type": "display_data"
    }
   ],
   "source": [
    "# === Q3 candidates: mine tolerance-sensitive (resource, day) pairs ===\n",
    "# For each (resource, day), we measure how the # of work periods changes\n",
    "# when small idle gaps are merged (tolerance). We also compute:\n",
    "#  - small_gap_share: share of 1–15 min gaps within the day (0–1)\n",
    "#  - midday_flag: whether a 30–120 min gap starts within 11:00–14:00\n",
    "# High-scoring days are ideal stimuli for Q3.\n",
    "\n",
    "import pandas as pd, numpy as np\n",
    "\n",
    "# Helper: normalize org_kpis() result (works whether it returns 3 or 4 items)\n",
    "def _unpack_org_kpis(result):\n",
    "    \"\"\"\n",
    "    Returns: (org_dict, periods_df, daily_df, breaks_df)\n",
    "    \"\"\"\n",
    "    if isinstance(result, tuple):\n",
    "        if len(result) == 4:\n",
    "            org, p, d, b = result\n",
    "            return org, p, d, b\n",
    "        if len(result) == 3:\n",
    "            p, d, b = result\n",
    "            return {}, p, d, b\n",
    "    raise ValueError(\"Unexpected return shape from org_kpis().\")\n",
    "\n",
    "# Tolerances to compare in Q3 (add \"30min\" if needed for your data)\n",
    "TOLS_Q3 = [\"0min\", \"5min\", \"15min\"]\n",
    "\n",
    "# Precompute period tables per tolerance and add a 'day' column\n",
    "periods_by_tol = {}\n",
    "for t in TOLS_Q3:\n",
    "    _, p, _, _ = _unpack_org_kpis(org_kpis(events, tolerance=t))\n",
    "    periods_by_tol[t] = p.assign(day=pd.to_datetime(p[\"start\"]).dt.date)\n",
    "\n",
    "# Count periods per (resource, day) for each tolerance\n",
    "counts = []\n",
    "for t, p in periods_by_tol.items():\n",
    "    cnt = p.groupby([\"resource\", \"day\"], observed=True).size().rename(f\"n_{t}\").reset_index()\n",
    "    counts.append(cnt)\n",
    "\n",
    "# Merge counts\n",
    "sens = counts[0]\n",
    "for c in counts[1:]:\n",
    "    sens = sens.merge(c, on=[\"resource\", \"day\"], how=\"outer\")\n",
    "\n",
    "for col in [f\"n_{t}\" for t in TOLS_Q3]:\n",
    "    sens[col] = sens[col].fillna(0).astype(int)\n",
    "\n",
    "# Primary sensitivity signal: drop from 0min to the largest tolerance\n",
    "last = f\"n_{TOLS_Q3[-1]}\"\n",
    "sens[\"delta_periods\"] = sens[\"n_0min\"] - sens[last]\n",
    "\n",
    "# Compute small_gap_share and midday_flag from 0min breaks (no groupby.apply)\n",
    "_, _, _, b0 = _unpack_org_kpis(org_kpis(events, tolerance=\"0min\"))\n",
    "b0 = b0.copy()\n",
    "b0[\"day\"] = pd.to_datetime(b0[\"gap_start\"]).dt.date\n",
    "b0[\"start_hr\"] = (\n",
    "    pd.to_datetime(b0[\"gap_start\"]).dt.hour\n",
    "    + pd.to_datetime(b0[\"gap_start\"]).dt.minute / 60.0\n",
    ")\n",
    "\n",
    "small_share = (\n",
    "    b0.assign(is_small=b0[\"gap_min\"].between(1, 15))\n",
    "      .groupby([\"resource\", \"day\"], observed=True)[\"is_small\"]\n",
    "      .mean()\n",
    "      .rename(\"small_gap_share\")\n",
    "      .reset_index()\n",
    ")\n",
    "\n",
    "midday_flag = (\n",
    "    b0.assign(is_mid=b0[\"gap_min\"].between(30, 120) & b0[\"start_hr\"].between(11, 14))\n",
    "      .groupby([\"resource\", \"day\"], observed=True)[\"is_mid\"]\n",
    "      .any()\n",
    "      .rename(\"midday_flag\")\n",
    "      .reset_index()\n",
    ")\n",
    "\n",
    "sens = (sens\n",
    "        .merge(small_share, on=[\"resource\",\"day\"], how=\"left\")\n",
    "        .merge(midday_flag, on=[\"resource\",\"day\"], how=\"left\"))\n",
    "\n",
    "# Be explicit about dtypes\n",
    "sens[\"small_gap_share\"] = sens[\"small_gap_share\"].fillna(0.0).astype(\"float64\")\n",
    "sens[\"midday_flag\"] = sens[\"midday_flag\"].fillna(False).astype(bool)\n",
    "\n",
    "# Composite score (tune weights if needed)\n",
    "max_delta = max(1, sens[\"delta_periods\"].max())\n",
    "sens[\"score\"] = (\n",
    "    0.6 * (sens[\"delta_periods\"] / max_delta)\n",
    "    + 0.3 * sens[\"small_gap_share\"]\n",
    "    + 0.1 * sens[\"midday_flag\"].astype(int)\n",
    ")\n",
    "\n",
    "# Recommended candidate filter (adjust thresholds to control volume)\n",
    "candidates = sens[\n",
    "    (sens[\"delta_periods\"] >= 3) & (sens[\"small_gap_share\"] >= 0.20)\n",
    "].sort_values(\"score\", ascending=False).reset_index(drop=True)\n",
    "\n",
    "print(f\"Candidates found: {len(candidates)}\")\n",
    "display(candidates.head(12))\n"
   ]
  },
  {
   "cell_type": "code",
   "execution_count": 26,
   "id": "4f2297bd-c07c-448f-8e42-3a76224550fe",
   "metadata": {},
   "outputs": [
    {
     "name": "stderr",
     "output_type": "stream",
     "text": [
      "/var/folders/7j/l7x_10w97357mn1mpd0yhlqc0000gn/T/ipykernel_25144/1623056318.py:75: DeprecationWarning:\n",
      "\n",
      "\n",
      "Support for Kaleido versions less than 1.0.0 is deprecated and will be removed after September 2025.\n",
      "Please upgrade Kaleido to version 1.0.0 or greater (`pip install 'kaleido>=1.0.0'` or `pip install 'plotly[kaleido]'`).\n",
      "\n",
      "\n"
     ]
    },
    {
     "name": "stdout",
     "output_type": "stream",
     "text": [
      "Saved: /Users/macbookair/Documents/resource_availability_tool/figures/survey/Q3_A_2014-08-27.png\n"
     ]
    },
    {
     "name": "stderr",
     "output_type": "stream",
     "text": [
      "/var/folders/7j/l7x_10w97357mn1mpd0yhlqc0000gn/T/ipykernel_25144/1623056318.py:75: DeprecationWarning:\n",
      "\n",
      "\n",
      "Support for Kaleido versions less than 1.0.0 is deprecated and will be removed after September 2025.\n",
      "Please upgrade Kaleido to version 1.0.0 or greater (`pip install 'kaleido>=1.0.0'` or `pip install 'plotly[kaleido]'`).\n",
      "\n",
      "\n"
     ]
    },
    {
     "name": "stdout",
     "output_type": "stream",
     "text": [
      "Saved: /Users/macbookair/Documents/resource_availability_tool/figures/survey/Q3_A_2014-05-25.png\n",
      "Saved: /Users/macbookair/Documents/resource_availability_tool/figures/survey/Q3_A_2014-05-03.png\n"
     ]
    },
    {
     "name": "stderr",
     "output_type": "stream",
     "text": [
      "/var/folders/7j/l7x_10w97357mn1mpd0yhlqc0000gn/T/ipykernel_25144/1623056318.py:75: DeprecationWarning:\n",
      "\n",
      "\n",
      "Support for Kaleido versions less than 1.0.0 is deprecated and will be removed after September 2025.\n",
      "Please upgrade Kaleido to version 1.0.0 or greater (`pip install 'kaleido>=1.0.0'` or `pip install 'plotly[kaleido]'`).\n",
      "\n",
      "\n"
     ]
    }
   ],
   "source": [
    "# === Q3 panels: side-by-side timelines for different tolerances ===\n",
    "# Draws A/B/C panels for the SAME (resource, day) with different tolerances\n",
    "# (e.g., 0 / 5 / 15 min). A shaded band highlights the 11:00–14:00 window.\n",
    "# Exports PNGs to figures/survey (requires kaleido).\n",
    "\n",
    "import plotly.express as px\n",
    "from plotly.subplots import make_subplots\n",
    "from pathlib import Path\n",
    "import pandas as pd\n",
    "import random\n",
    "\n",
    "# Output folder (same convention as your 04 notebook)\n",
    "SURVEY = (Path().resolve().parent / \"figures\" / \"survey\")\n",
    "SURVEY.mkdir(parents=True, exist_ok=True)\n",
    "\n",
    "def render_q3_panels(resource, day, tols=TOLS_Q3, lunch_window=(11.0, 14.0),\n",
    "                     save=True, prefix=\"Q3\", shuffle_panels=False,\n",
    "                     width=1200, height=330):\n",
    "    \"\"\"\n",
    "    Render side-by-side panels for different gap-merging tolerances.\n",
    "\n",
    "    Parameters\n",
    "    ----------\n",
    "    resource : str|int      Resource id to plot.\n",
    "    day : str|date          Calendar day to plot.\n",
    "    tols : list[str]        Tolerances to show (e.g., [\"0min\",\"5min\",\"15min\"]).\n",
    "    lunch_window : (float,float)  Shaded band (start_hour, end_hour).\n",
    "    save : bool             If True, export PNG via kaleido.\n",
    "    prefix : str            Filename prefix for export.\n",
    "    shuffle_panels : bool   If True, randomize panel order (for survey A/B/C).\n",
    "    width, height : int     Figure size.\n",
    "    \"\"\"\n",
    "    day = pd.to_datetime(day).date()\n",
    "    tol_list = list(tols)\n",
    "    if shuffle_panels:\n",
    "        random.shuffle(tol_list)\n",
    "\n",
    "    fig = make_subplots(\n",
    "        rows=1, cols=len(tol_list), shared_yaxes=True, horizontal_spacing=0.03,\n",
    "        subplot_titles=[f\"tol={t}\" for t in tol_list]\n",
    "    )\n",
    "\n",
    "    for i, t in enumerate(tol_list, start=1):\n",
    "        p = periods_by_tol[t]\n",
    "        sub = p[(p[\"resource\"] == resource) & (p[\"day\"] == day)].copy()\n",
    "\n",
    "        if sub.empty:\n",
    "            # Placeholder with a reasonable time range\n",
    "            fig.add_annotation(text=\"No activity\", row=1, col=i, showarrow=False)\n",
    "            x0 = pd.Timestamp(day) + pd.Timedelta(hours=7)\n",
    "            x1 = pd.Timestamp(day) + pd.Timedelta(hours=19)\n",
    "            fig.update_xaxes(range=[x0, x1], row=1, col=i, type=\"date\")\n",
    "        else:\n",
    "            sub[\"resource\"] = str(resource)  # single-row timeline\n",
    "            tl = px.timeline(sub, x_start=\"start\", x_end=\"end\", y=\"resource\")\n",
    "            for tr in tl.data:\n",
    "                fig.add_trace(tr, row=1, col=i)\n",
    "            # Keep comparable x-range across panels\n",
    "            x0 = pd.Timestamp(day) + pd.Timedelta(hours=6)\n",
    "            x1 = pd.Timestamp(day) + pd.Timedelta(hours=20)\n",
    "            fig.update_xaxes(range=[x0, x1], row=1, col=i, type=\"date\")\n",
    "\n",
    "        # Highlight 11:00–14:00 (helps human raters detect lunch/merging)\n",
    "        if lunch_window is not None:\n",
    "            zx0 = pd.Timestamp(day) + pd.Timedelta(hours=float(lunch_window[0]))\n",
    "            zx1 = pd.Timestamp(day) + pd.Timedelta(hours=float(lunch_window[1]))\n",
    "            fig.add_vrect(x0=zx0, x1=zx1, row=1, col=i,\n",
    "                          fillcolor=\"LightGrey\", opacity=0.25, line_width=0)\n",
    "\n",
    "    fig.update_yaxes(autorange=\"reversed\", title_text=\"resource\")\n",
    "    fig.update_layout(title=f\"{resource} — {day}\", height=height, width=width)\n",
    "\n",
    "    if save:\n",
    "        out = SURVEY / f\"{prefix}_{resource}_{day}.png\"\n",
    "        fig.write_image(str(out), scale=2)  # requires kaleido\n",
    "        print(\"Saved:\", out)\n",
    "\n",
    "    return fig\n",
    "\n",
    "# Quick preview: generate panels for the top 3 candidates\n",
    "for _, r in candidates.head(3).iterrows():\n",
    "    render_q3_panels(r[\"resource\"], r[\"day\"])\n",
    "\n",
    "# Batch export (e.g., top-N for the survey) — uncomment as needed:\n",
    "# for _, r in candidates.head(20).iterrows():\n",
    "#     render_q3_panels(r[\"resource\"], r[\"day\"], shuffle_panels=True, save=True)\n"
   ]
  },
  {
   "cell_type": "code",
   "execution_count": 27,
   "id": "7cc077d6-8eec-4537-b714-68ea7902030f",
   "metadata": {},
   "outputs": [
    {
     "data": {
      "text/html": [
       "<div>\n",
       "<style scoped>\n",
       "    .dataframe tbody tr th:only-of-type {\n",
       "        vertical-align: middle;\n",
       "    }\n",
       "\n",
       "    .dataframe tbody tr th {\n",
       "        vertical-align: top;\n",
       "    }\n",
       "\n",
       "    .dataframe thead th {\n",
       "        text-align: right;\n",
       "    }\n",
       "</style>\n",
       "<table border=\"1\" class=\"dataframe\">\n",
       "  <thead>\n",
       "    <tr style=\"text-align: right;\">\n",
       "      <th></th>\n",
       "      <th>window</th>\n",
       "      <th>min_gap</th>\n",
       "      <th>lunch_rate</th>\n",
       "    </tr>\n",
       "  </thead>\n",
       "  <tbody>\n",
       "    <tr>\n",
       "      <th>0</th>\n",
       "      <td>11.0–13.0</td>\n",
       "      <td>20</td>\n",
       "      <td>0.818182</td>\n",
       "    </tr>\n",
       "    <tr>\n",
       "      <th>1</th>\n",
       "      <td>11.0–13.0</td>\n",
       "      <td>30</td>\n",
       "      <td>0.818182</td>\n",
       "    </tr>\n",
       "    <tr>\n",
       "      <th>2</th>\n",
       "      <td>11.0–13.0</td>\n",
       "      <td>45</td>\n",
       "      <td>0.818182</td>\n",
       "    </tr>\n",
       "    <tr>\n",
       "      <th>3</th>\n",
       "      <td>11.0–13.0</td>\n",
       "      <td>60</td>\n",
       "      <td>0.818182</td>\n",
       "    </tr>\n",
       "    <tr>\n",
       "      <th>4</th>\n",
       "      <td>11.0–13.0</td>\n",
       "      <td>90</td>\n",
       "      <td>0.818182</td>\n",
       "    </tr>\n",
       "    <tr>\n",
       "      <th>5</th>\n",
       "      <td>11.5–13.5</td>\n",
       "      <td>20</td>\n",
       "      <td>0.681818</td>\n",
       "    </tr>\n",
       "    <tr>\n",
       "      <th>6</th>\n",
       "      <td>11.5–13.5</td>\n",
       "      <td>30</td>\n",
       "      <td>0.681818</td>\n",
       "    </tr>\n",
       "    <tr>\n",
       "      <th>7</th>\n",
       "      <td>11.5–13.5</td>\n",
       "      <td>45</td>\n",
       "      <td>0.681818</td>\n",
       "    </tr>\n",
       "    <tr>\n",
       "      <th>8</th>\n",
       "      <td>11.5–13.5</td>\n",
       "      <td>60</td>\n",
       "      <td>0.636364</td>\n",
       "    </tr>\n",
       "    <tr>\n",
       "      <th>9</th>\n",
       "      <td>11.5–13.5</td>\n",
       "      <td>90</td>\n",
       "      <td>0.636364</td>\n",
       "    </tr>\n",
       "    <tr>\n",
       "      <th>10</th>\n",
       "      <td>12.0–14.0</td>\n",
       "      <td>20</td>\n",
       "      <td>0.590909</td>\n",
       "    </tr>\n",
       "    <tr>\n",
       "      <th>11</th>\n",
       "      <td>12.0–14.0</td>\n",
       "      <td>30</td>\n",
       "      <td>0.590909</td>\n",
       "    </tr>\n",
       "    <tr>\n",
       "      <th>12</th>\n",
       "      <td>12.0–14.0</td>\n",
       "      <td>45</td>\n",
       "      <td>0.590909</td>\n",
       "    </tr>\n",
       "    <tr>\n",
       "      <th>13</th>\n",
       "      <td>12.0–14.0</td>\n",
       "      <td>60</td>\n",
       "      <td>0.545455</td>\n",
       "    </tr>\n",
       "    <tr>\n",
       "      <th>14</th>\n",
       "      <td>12.0–14.0</td>\n",
       "      <td>90</td>\n",
       "      <td>0.545455</td>\n",
       "    </tr>\n",
       "  </tbody>\n",
       "</table>\n",
       "</div>"
      ],
      "text/plain": [
       "       window  min_gap  lunch_rate\n",
       "0   11.0–13.0       20    0.818182\n",
       "1   11.0–13.0       30    0.818182\n",
       "2   11.0–13.0       45    0.818182\n",
       "3   11.0–13.0       60    0.818182\n",
       "4   11.0–13.0       90    0.818182\n",
       "5   11.5–13.5       20    0.681818\n",
       "6   11.5–13.5       30    0.681818\n",
       "7   11.5–13.5       45    0.681818\n",
       "8   11.5–13.5       60    0.636364\n",
       "9   11.5–13.5       90    0.636364\n",
       "10  12.0–14.0       20    0.590909\n",
       "11  12.0–14.0       30    0.590909\n",
       "12  12.0–14.0       45    0.590909\n",
       "13  12.0–14.0       60    0.545455\n",
       "14  12.0–14.0       90    0.545455"
      ]
     },
     "metadata": {},
     "output_type": "display_data"
    },
    {
     "data": {
      "application/vnd.plotly.v1+json": {
       "config": {
        "plotlyServerURL": "https://plot.ly"
       },
       "data": [
        {
         "hovertemplate": "window=11.0–13.0<br>min_gap=%{x}<br>lunch_rate=%{y}<extra></extra>",
         "legendgroup": "11.0–13.0",
         "line": {
          "color": "#636efa",
          "dash": "solid"
         },
         "marker": {
          "symbol": "circle"
         },
         "mode": "lines+markers",
         "name": "11.0–13.0",
         "orientation": "v",
         "showlegend": true,
         "type": "scatter",
         "x": {
          "_inputArray": {
           "0": 20,
           "1": 30,
           "2": 45,
           "3": 60,
           "4": 90,
           "bdata": "FB4tPFo=",
           "dtype": "i1",
           "shape": "5"
          },
          "bdata": "FB4tPFo=",
          "dtype": "i1"
         },
         "xaxis": "x",
         "y": {
          "_inputArray": {
           "0": 0.8181818181818182,
           "1": 0.8181818181818182,
           "2": 0.8181818181818182,
           "3": 0.8181818181818182,
           "4": 0.8181818181818182,
           "bdata": "L7rooosu6j8vuuiiiy7qPy+66KKLLuo/L7rooosu6j8vuuiiiy7qPw==",
           "dtype": "f8",
           "shape": "5"
          },
          "bdata": "L7rooosu6j8vuuiiiy7qPy+66KKLLuo/L7rooosu6j8vuuiiiy7qPw==",
          "dtype": "f8"
         },
         "yaxis": "y"
        },
        {
         "hovertemplate": "window=11.5–13.5<br>min_gap=%{x}<br>lunch_rate=%{y}<extra></extra>",
         "legendgroup": "11.5–13.5",
         "line": {
          "color": "#EF553B",
          "dash": "solid"
         },
         "marker": {
          "symbol": "circle"
         },
         "mode": "lines+markers",
         "name": "11.5–13.5",
         "orientation": "v",
         "showlegend": true,
         "type": "scatter",
         "x": {
          "_inputArray": {
           "0": 20,
           "1": 30,
           "2": 45,
           "3": 60,
           "4": 90,
           "bdata": "FB4tPFo=",
           "dtype": "i1",
           "shape": "5"
          },
          "bdata": "FB4tPFo=",
          "dtype": "i1"
         },
         "xaxis": "x",
         "y": {
          "_inputArray": {
           "0": 0.6818181818181818,
           "1": 0.6818181818181818,
           "2": 0.6818181818181818,
           "3": 0.6363636363636364,
           "4": 0.6363636363636364,
           "bdata": "0UUXXXTR5T/RRRdddNHlP9FFF1100eU/XXTRRRdd5D9ddNFFF13kPw==",
           "dtype": "f8",
           "shape": "5"
          },
          "bdata": "0UUXXXTR5T/RRRdddNHlP9FFF1100eU/XXTRRRdd5D9ddNFFF13kPw==",
          "dtype": "f8"
         },
         "yaxis": "y"
        },
        {
         "hovertemplate": "window=12.0–14.0<br>min_gap=%{x}<br>lunch_rate=%{y}<extra></extra>",
         "legendgroup": "12.0–14.0",
         "line": {
          "color": "#00cc96",
          "dash": "solid"
         },
         "marker": {
          "symbol": "circle"
         },
         "mode": "lines+markers",
         "name": "12.0–14.0",
         "orientation": "v",
         "showlegend": true,
         "type": "scatter",
         "x": {
          "_inputArray": {
           "0": 20,
           "1": 30,
           "2": 45,
           "3": 60,
           "4": 90,
           "bdata": "FB4tPFo=",
           "dtype": "i1",
           "shape": "5"
          },
          "bdata": "FB4tPFo=",
          "dtype": "i1"
         },
         "xaxis": "x",
         "y": {
          "_inputArray": {
           "0": 0.5909090909090909,
           "1": 0.5909090909090909,
           "2": 0.5909090909090909,
           "3": 0.5454545454545454,
           "4": 0.5454545454545454,
           "bdata": "6aKLLrro4j/poosuuujiP+miiy666OI/dNFFF1104T900UUXXXThPw==",
           "dtype": "f8",
           "shape": "5"
          },
          "bdata": "6aKLLrro4j/poosuuujiP+miiy666OI/dNFFF1104T900UUXXXThPw==",
          "dtype": "f8"
         },
         "yaxis": "y"
        }
       ],
       "layout": {
        "autosize": true,
        "legend": {
         "title": {
          "text": "window"
         },
         "tracegroupgap": 0
        },
        "template": {
         "data": {
          "bar": [
           {
            "error_x": {
             "color": "#2a3f5f"
            },
            "error_y": {
             "color": "#2a3f5f"
            },
            "marker": {
             "line": {
              "color": "#E5ECF6",
              "width": 0.5
             },
             "pattern": {
              "fillmode": "overlay",
              "size": 10,
              "solidity": 0.2
             }
            },
            "type": "bar"
           }
          ],
          "barpolar": [
           {
            "marker": {
             "line": {
              "color": "#E5ECF6",
              "width": 0.5
             },
             "pattern": {
              "fillmode": "overlay",
              "size": 10,
              "solidity": 0.2
             }
            },
            "type": "barpolar"
           }
          ],
          "carpet": [
           {
            "aaxis": {
             "endlinecolor": "#2a3f5f",
             "gridcolor": "white",
             "linecolor": "white",
             "minorgridcolor": "white",
             "startlinecolor": "#2a3f5f"
            },
            "baxis": {
             "endlinecolor": "#2a3f5f",
             "gridcolor": "white",
             "linecolor": "white",
             "minorgridcolor": "white",
             "startlinecolor": "#2a3f5f"
            },
            "type": "carpet"
           }
          ],
          "choropleth": [
           {
            "colorbar": {
             "outlinewidth": 0,
             "ticks": ""
            },
            "type": "choropleth"
           }
          ],
          "contour": [
           {
            "colorbar": {
             "outlinewidth": 0,
             "ticks": ""
            },
            "colorscale": [
             [
              0,
              "#0d0887"
             ],
             [
              0.1111111111111111,
              "#46039f"
             ],
             [
              0.2222222222222222,
              "#7201a8"
             ],
             [
              0.3333333333333333,
              "#9c179e"
             ],
             [
              0.4444444444444444,
              "#bd3786"
             ],
             [
              0.5555555555555556,
              "#d8576b"
             ],
             [
              0.6666666666666666,
              "#ed7953"
             ],
             [
              0.7777777777777778,
              "#fb9f3a"
             ],
             [
              0.8888888888888888,
              "#fdca26"
             ],
             [
              1,
              "#f0f921"
             ]
            ],
            "type": "contour"
           }
          ],
          "contourcarpet": [
           {
            "colorbar": {
             "outlinewidth": 0,
             "ticks": ""
            },
            "type": "contourcarpet"
           }
          ],
          "heatmap": [
           {
            "colorbar": {
             "outlinewidth": 0,
             "ticks": ""
            },
            "colorscale": [
             [
              0,
              "#0d0887"
             ],
             [
              0.1111111111111111,
              "#46039f"
             ],
             [
              0.2222222222222222,
              "#7201a8"
             ],
             [
              0.3333333333333333,
              "#9c179e"
             ],
             [
              0.4444444444444444,
              "#bd3786"
             ],
             [
              0.5555555555555556,
              "#d8576b"
             ],
             [
              0.6666666666666666,
              "#ed7953"
             ],
             [
              0.7777777777777778,
              "#fb9f3a"
             ],
             [
              0.8888888888888888,
              "#fdca26"
             ],
             [
              1,
              "#f0f921"
             ]
            ],
            "type": "heatmap"
           }
          ],
          "histogram": [
           {
            "marker": {
             "pattern": {
              "fillmode": "overlay",
              "size": 10,
              "solidity": 0.2
             }
            },
            "type": "histogram"
           }
          ],
          "histogram2d": [
           {
            "colorbar": {
             "outlinewidth": 0,
             "ticks": ""
            },
            "colorscale": [
             [
              0,
              "#0d0887"
             ],
             [
              0.1111111111111111,
              "#46039f"
             ],
             [
              0.2222222222222222,
              "#7201a8"
             ],
             [
              0.3333333333333333,
              "#9c179e"
             ],
             [
              0.4444444444444444,
              "#bd3786"
             ],
             [
              0.5555555555555556,
              "#d8576b"
             ],
             [
              0.6666666666666666,
              "#ed7953"
             ],
             [
              0.7777777777777778,
              "#fb9f3a"
             ],
             [
              0.8888888888888888,
              "#fdca26"
             ],
             [
              1,
              "#f0f921"
             ]
            ],
            "type": "histogram2d"
           }
          ],
          "histogram2dcontour": [
           {
            "colorbar": {
             "outlinewidth": 0,
             "ticks": ""
            },
            "colorscale": [
             [
              0,
              "#0d0887"
             ],
             [
              0.1111111111111111,
              "#46039f"
             ],
             [
              0.2222222222222222,
              "#7201a8"
             ],
             [
              0.3333333333333333,
              "#9c179e"
             ],
             [
              0.4444444444444444,
              "#bd3786"
             ],
             [
              0.5555555555555556,
              "#d8576b"
             ],
             [
              0.6666666666666666,
              "#ed7953"
             ],
             [
              0.7777777777777778,
              "#fb9f3a"
             ],
             [
              0.8888888888888888,
              "#fdca26"
             ],
             [
              1,
              "#f0f921"
             ]
            ],
            "type": "histogram2dcontour"
           }
          ],
          "mesh3d": [
           {
            "colorbar": {
             "outlinewidth": 0,
             "ticks": ""
            },
            "type": "mesh3d"
           }
          ],
          "parcoords": [
           {
            "line": {
             "colorbar": {
              "outlinewidth": 0,
              "ticks": ""
             }
            },
            "type": "parcoords"
           }
          ],
          "pie": [
           {
            "automargin": true,
            "type": "pie"
           }
          ],
          "scatter": [
           {
            "fillpattern": {
             "fillmode": "overlay",
             "size": 10,
             "solidity": 0.2
            },
            "type": "scatter"
           }
          ],
          "scatter3d": [
           {
            "line": {
             "colorbar": {
              "outlinewidth": 0,
              "ticks": ""
             }
            },
            "marker": {
             "colorbar": {
              "outlinewidth": 0,
              "ticks": ""
             }
            },
            "type": "scatter3d"
           }
          ],
          "scattercarpet": [
           {
            "marker": {
             "colorbar": {
              "outlinewidth": 0,
              "ticks": ""
             }
            },
            "type": "scattercarpet"
           }
          ],
          "scattergeo": [
           {
            "marker": {
             "colorbar": {
              "outlinewidth": 0,
              "ticks": ""
             }
            },
            "type": "scattergeo"
           }
          ],
          "scattergl": [
           {
            "marker": {
             "colorbar": {
              "outlinewidth": 0,
              "ticks": ""
             }
            },
            "type": "scattergl"
           }
          ],
          "scattermap": [
           {
            "marker": {
             "colorbar": {
              "outlinewidth": 0,
              "ticks": ""
             }
            },
            "type": "scattermap"
           }
          ],
          "scattermapbox": [
           {
            "marker": {
             "colorbar": {
              "outlinewidth": 0,
              "ticks": ""
             }
            },
            "type": "scattermapbox"
           }
          ],
          "scatterpolar": [
           {
            "marker": {
             "colorbar": {
              "outlinewidth": 0,
              "ticks": ""
             }
            },
            "type": "scatterpolar"
           }
          ],
          "scatterpolargl": [
           {
            "marker": {
             "colorbar": {
              "outlinewidth": 0,
              "ticks": ""
             }
            },
            "type": "scatterpolargl"
           }
          ],
          "scatterternary": [
           {
            "marker": {
             "colorbar": {
              "outlinewidth": 0,
              "ticks": ""
             }
            },
            "type": "scatterternary"
           }
          ],
          "surface": [
           {
            "colorbar": {
             "outlinewidth": 0,
             "ticks": ""
            },
            "colorscale": [
             [
              0,
              "#0d0887"
             ],
             [
              0.1111111111111111,
              "#46039f"
             ],
             [
              0.2222222222222222,
              "#7201a8"
             ],
             [
              0.3333333333333333,
              "#9c179e"
             ],
             [
              0.4444444444444444,
              "#bd3786"
             ],
             [
              0.5555555555555556,
              "#d8576b"
             ],
             [
              0.6666666666666666,
              "#ed7953"
             ],
             [
              0.7777777777777778,
              "#fb9f3a"
             ],
             [
              0.8888888888888888,
              "#fdca26"
             ],
             [
              1,
              "#f0f921"
             ]
            ],
            "type": "surface"
           }
          ],
          "table": [
           {
            "cells": {
             "fill": {
              "color": "#EBF0F8"
             },
             "line": {
              "color": "white"
             }
            },
            "header": {
             "fill": {
              "color": "#C8D4E3"
             },
             "line": {
              "color": "white"
             }
            },
            "type": "table"
           }
          ]
         },
         "layout": {
          "annotationdefaults": {
           "arrowcolor": "#2a3f5f",
           "arrowhead": 0,
           "arrowwidth": 1
          },
          "autotypenumbers": "strict",
          "coloraxis": {
           "colorbar": {
            "outlinewidth": 0,
            "ticks": ""
           }
          },
          "colorscale": {
           "diverging": [
            [
             0,
             "#8e0152"
            ],
            [
             0.1,
             "#c51b7d"
            ],
            [
             0.2,
             "#de77ae"
            ],
            [
             0.3,
             "#f1b6da"
            ],
            [
             0.4,
             "#fde0ef"
            ],
            [
             0.5,
             "#f7f7f7"
            ],
            [
             0.6,
             "#e6f5d0"
            ],
            [
             0.7,
             "#b8e186"
            ],
            [
             0.8,
             "#7fbc41"
            ],
            [
             0.9,
             "#4d9221"
            ],
            [
             1,
             "#276419"
            ]
           ],
           "sequential": [
            [
             0,
             "#0d0887"
            ],
            [
             0.1111111111111111,
             "#46039f"
            ],
            [
             0.2222222222222222,
             "#7201a8"
            ],
            [
             0.3333333333333333,
             "#9c179e"
            ],
            [
             0.4444444444444444,
             "#bd3786"
            ],
            [
             0.5555555555555556,
             "#d8576b"
            ],
            [
             0.6666666666666666,
             "#ed7953"
            ],
            [
             0.7777777777777778,
             "#fb9f3a"
            ],
            [
             0.8888888888888888,
             "#fdca26"
            ],
            [
             1,
             "#f0f921"
            ]
           ],
           "sequentialminus": [
            [
             0,
             "#0d0887"
            ],
            [
             0.1111111111111111,
             "#46039f"
            ],
            [
             0.2222222222222222,
             "#7201a8"
            ],
            [
             0.3333333333333333,
             "#9c179e"
            ],
            [
             0.4444444444444444,
             "#bd3786"
            ],
            [
             0.5555555555555556,
             "#d8576b"
            ],
            [
             0.6666666666666666,
             "#ed7953"
            ],
            [
             0.7777777777777778,
             "#fb9f3a"
            ],
            [
             0.8888888888888888,
             "#fdca26"
            ],
            [
             1,
             "#f0f921"
            ]
           ]
          },
          "colorway": [
           "#636efa",
           "#EF553B",
           "#00cc96",
           "#ab63fa",
           "#FFA15A",
           "#19d3f3",
           "#FF6692",
           "#B6E880",
           "#FF97FF",
           "#FECB52"
          ],
          "font": {
           "color": "#2a3f5f"
          },
          "geo": {
           "bgcolor": "white",
           "lakecolor": "white",
           "landcolor": "#E5ECF6",
           "showlakes": true,
           "showland": true,
           "subunitcolor": "white"
          },
          "hoverlabel": {
           "align": "left"
          },
          "hovermode": "closest",
          "mapbox": {
           "style": "light"
          },
          "paper_bgcolor": "white",
          "plot_bgcolor": "#E5ECF6",
          "polar": {
           "angularaxis": {
            "gridcolor": "white",
            "linecolor": "white",
            "ticks": ""
           },
           "bgcolor": "#E5ECF6",
           "radialaxis": {
            "gridcolor": "white",
            "linecolor": "white",
            "ticks": ""
           }
          },
          "scene": {
           "xaxis": {
            "backgroundcolor": "#E5ECF6",
            "gridcolor": "white",
            "gridwidth": 2,
            "linecolor": "white",
            "showbackground": true,
            "ticks": "",
            "zerolinecolor": "white"
           },
           "yaxis": {
            "backgroundcolor": "#E5ECF6",
            "gridcolor": "white",
            "gridwidth": 2,
            "linecolor": "white",
            "showbackground": true,
            "ticks": "",
            "zerolinecolor": "white"
           },
           "zaxis": {
            "backgroundcolor": "#E5ECF6",
            "gridcolor": "white",
            "gridwidth": 2,
            "linecolor": "white",
            "showbackground": true,
            "ticks": "",
            "zerolinecolor": "white"
           }
          },
          "shapedefaults": {
           "line": {
            "color": "#2a3f5f"
           }
          },
          "ternary": {
           "aaxis": {
            "gridcolor": "white",
            "linecolor": "white",
            "ticks": ""
           },
           "baxis": {
            "gridcolor": "white",
            "linecolor": "white",
            "ticks": ""
           },
           "bgcolor": "#E5ECF6",
           "caxis": {
            "gridcolor": "white",
            "linecolor": "white",
            "ticks": ""
           }
          },
          "title": {
           "x": 0.05
          },
          "xaxis": {
           "automargin": true,
           "gridcolor": "white",
           "linecolor": "white",
           "ticks": "",
           "title": {
            "standoff": 15
           },
           "zerolinecolor": "white",
           "zerolinewidth": 2
          },
          "yaxis": {
           "automargin": true,
           "gridcolor": "white",
           "linecolor": "white",
           "ticks": "",
           "title": {
            "standoff": 15
           },
           "zerolinecolor": "white",
           "zerolinewidth": 2
          }
         }
        },
        "title": {
         "text": "Lunch presence sensitivity (sepsis)"
        },
        "xaxis": {
         "anchor": "y",
         "autorange": true,
         "domain": [
          0,
          1
         ],
         "range": [
          15.438292964244521,
          94.56170703575548
         ],
         "title": {
          "text": "min_gap"
         },
         "type": "linear"
        },
        "yaxis": {
         "anchor": "x",
         "autorange": true,
         "domain": [
          0,
          1
         ],
         "range": [
          0.5229479258605472,
          0.8406884377758165
         ],
         "tickformat": ".0%",
         "title": {
          "text": "lunch_rate"
         },
         "type": "linear"
        }
       }
      }
     },
     "metadata": {},
     "output_type": "display_data"
    }
   ],
   "source": [
    "#  Lunch window sensitivity (window × min_gap grid)\n",
    "\n",
    "# Fix tolerance to the mid value \n",
    "_, p5, d5, b5 = org_kpis(events, tolerance=\"5min\")\n",
    "def calc_lunch_rate(breaks: pd.DataFrame, window=(11.5,13.5), min_gap=30) -> float:\n",
    "    if breaks.empty:\n",
    "        return 0.0\n",
    "    bb = breaks.copy()\n",
    "    bb[\"start_hr\"] = pd.to_datetime(bb[\"gap_start\"]).dt.hour + pd.to_datetime(bb[\"gap_start\"]).dt.minute/60\n",
    "    ok = (bb[\"start_hr\"].between(window[0], window[1])) & (bb[\"gap_min\"] >= min_gap)\n",
    "    by_res = bb.assign(ok=ok).groupby(\"resource\")[\"ok\"].max()\n",
    "    return float(by_res.mean())\n",
    "\n",
    "windows = [(11.0,13.0), (11.5,13.5), (12.0,14.0)]\n",
    "min_gaps = [20, 30, 45, 60, 90]\n",
    "\n",
    "grid = []\n",
    "for w in windows:\n",
    "    for g in min_gaps:\n",
    "        grid.append({\n",
    "            \"window\": f\"{w[0]}–{w[1]}\",\n",
    "            \"min_gap\": g,\n",
    "            \"lunch_rate\": calc_lunch_rate(b5, window=w, min_gap=g)\n",
    "        })\n",
    "\n",
    "lunch_sens = pd.DataFrame(grid)\n",
    "display(lunch_sens)\n",
    "\n",
    "fig = px.line(lunch_sens, x=\"min_gap\", y=\"lunch_rate\", color=\"window\",\n",
    "              markers=True, title=f\"Lunch presence sensitivity ({DS})\")\n",
    "fig.update_yaxes(tickformat=\".0%\"); fig.show()\n"
   ]
  },
  {
   "cell_type": "code",
   "execution_count": 28,
   "id": "9e190abd-89e9-46db-92bd-5bfe13215908",
   "metadata": {},
   "outputs": [
    {
     "name": "stdout",
     "output_type": "stream",
     "text": [
      "Sanity → bad_order: 0, >24h periods: 0, non_positive_daily_spans: 0\n"
     ]
    },
    {
     "data": {
      "application/vnd.plotly.v1+json": {
       "config": {
        "plotlyServerURL": "https://plot.ly"
       },
       "data": [
        {
         "hovertemplate": "hour=%{x}<br>availability_share=%{y}<extra></extra>",
         "legendgroup": "",
         "line": {
          "color": "#636efa",
          "dash": "solid"
         },
         "marker": {
          "symbol": "circle"
         },
         "mode": "lines",
         "name": "",
         "orientation": "v",
         "showlegend": false,
         "type": "scatter",
         "x": {
          "_inputArray": {
           "0": 0,
           "1": 1,
           "10": 10,
           "11": 11,
           "12": 12,
           "13": 13,
           "14": 14,
           "15": 15,
           "16": 16,
           "17": 17,
           "18": 18,
           "19": 19,
           "2": 2,
           "20": 20,
           "21": 21,
           "22": 22,
           "23": 23,
           "3": 3,
           "4": 4,
           "5": 5,
           "6": 6,
           "7": 7,
           "8": 8,
           "9": 9,
           "bdata": "AAECAwQFBgcICQoLDA0ODxAREhMUFRYX",
           "dtype": "i1",
           "shape": "24"
          },
          "bdata": "AAECAwQFBgcICQoLDA0ODxAREhMUFRYX",
          "dtype": "i1"
         },
         "xaxis": "x",
         "y": {
          "_inputArray": {
           "0": 0.056361794163288466,
           "1": 0.050672011778739555,
           "10": 0.13641979782271876,
           "11": 0.1327319002892353,
           "12": 0.10700048995188352,
           "13": 0.10068643318058233,
           "14": 0.14374119939980592,
           "15": 0.10964443058847569,
           "16": 0.1041200116288949,
           "17": 0.0751542259390869,
           "18": 0.07250537197260849,
           "19": 0.06817307365661508,
           "2": 0.037211313084758564,
           "20": 0.08177858897317795,
           "21": 0.11116604022587667,
           "22": 0.0747972486134852,
           "23": 0.06919950455209253,
           "3": 0.03712539413600037,
           "4": 0.028431854620965383,
           "5": 0.031059333831443225,
           "6": 0.033986909964425015,
           "7": 0.08661824234559612,
           "8": 0.09123755769388826,
           "9": 0.0766907099743883,
           "bdata": "0bRZ/XPbrD+bDdOSrvGpP7ECe3lcDaM/QplUgxkCoz/08wt3PR2dP+OXKpwEzp8/Yx+UdbtmoT+ggBz2nCy2P1VQdjZYW7c/nzw/mwCisz8VdxY1NHbBP89ocOFb/cA/MtP/VGJkuz9vV6kJlsa5PxFHQZMcZsI/VeiQS6gRvD9tJM7sm6e6P92HkK5OPbM/bRtoSbaPsj+RrdJhynOxP5MfJw1x77Q/fCoyq2B1vD/lLaCY6SWzPy5d8wgPt7E/",
           "dtype": "f8",
           "shape": "24"
          },
          "bdata": "0bRZ/XPbrD+bDdOSrvGpP7ECe3lcDaM/QplUgxkCoz/08wt3PR2dP+OXKpwEzp8/Yx+UdbtmoT+ggBz2nCy2P1VQdjZYW7c/nzw/mwCisz8VdxY1NHbBP89ocOFb/cA/MtP/VGJkuz9vV6kJlsa5PxFHQZMcZsI/VeiQS6gRvD9tJM7sm6e6P92HkK5OPbM/bRtoSbaPsj+RrdJhynOxP5MfJw1x77Q/fCoyq2B1vD/lLaCY6SWzPy5d8wgPt7E/",
          "dtype": "f8"
         },
         "yaxis": "y"
        }
       ],
       "layout": {
        "autosize": true,
        "legend": {
         "tracegroupgap": 0
        },
        "template": {
         "data": {
          "bar": [
           {
            "error_x": {
             "color": "#2a3f5f"
            },
            "error_y": {
             "color": "#2a3f5f"
            },
            "marker": {
             "line": {
              "color": "#E5ECF6",
              "width": 0.5
             },
             "pattern": {
              "fillmode": "overlay",
              "size": 10,
              "solidity": 0.2
             }
            },
            "type": "bar"
           }
          ],
          "barpolar": [
           {
            "marker": {
             "line": {
              "color": "#E5ECF6",
              "width": 0.5
             },
             "pattern": {
              "fillmode": "overlay",
              "size": 10,
              "solidity": 0.2
             }
            },
            "type": "barpolar"
           }
          ],
          "carpet": [
           {
            "aaxis": {
             "endlinecolor": "#2a3f5f",
             "gridcolor": "white",
             "linecolor": "white",
             "minorgridcolor": "white",
             "startlinecolor": "#2a3f5f"
            },
            "baxis": {
             "endlinecolor": "#2a3f5f",
             "gridcolor": "white",
             "linecolor": "white",
             "minorgridcolor": "white",
             "startlinecolor": "#2a3f5f"
            },
            "type": "carpet"
           }
          ],
          "choropleth": [
           {
            "colorbar": {
             "outlinewidth": 0,
             "ticks": ""
            },
            "type": "choropleth"
           }
          ],
          "contour": [
           {
            "colorbar": {
             "outlinewidth": 0,
             "ticks": ""
            },
            "colorscale": [
             [
              0,
              "#0d0887"
             ],
             [
              0.1111111111111111,
              "#46039f"
             ],
             [
              0.2222222222222222,
              "#7201a8"
             ],
             [
              0.3333333333333333,
              "#9c179e"
             ],
             [
              0.4444444444444444,
              "#bd3786"
             ],
             [
              0.5555555555555556,
              "#d8576b"
             ],
             [
              0.6666666666666666,
              "#ed7953"
             ],
             [
              0.7777777777777778,
              "#fb9f3a"
             ],
             [
              0.8888888888888888,
              "#fdca26"
             ],
             [
              1,
              "#f0f921"
             ]
            ],
            "type": "contour"
           }
          ],
          "contourcarpet": [
           {
            "colorbar": {
             "outlinewidth": 0,
             "ticks": ""
            },
            "type": "contourcarpet"
           }
          ],
          "heatmap": [
           {
            "colorbar": {
             "outlinewidth": 0,
             "ticks": ""
            },
            "colorscale": [
             [
              0,
              "#0d0887"
             ],
             [
              0.1111111111111111,
              "#46039f"
             ],
             [
              0.2222222222222222,
              "#7201a8"
             ],
             [
              0.3333333333333333,
              "#9c179e"
             ],
             [
              0.4444444444444444,
              "#bd3786"
             ],
             [
              0.5555555555555556,
              "#d8576b"
             ],
             [
              0.6666666666666666,
              "#ed7953"
             ],
             [
              0.7777777777777778,
              "#fb9f3a"
             ],
             [
              0.8888888888888888,
              "#fdca26"
             ],
             [
              1,
              "#f0f921"
             ]
            ],
            "type": "heatmap"
           }
          ],
          "histogram": [
           {
            "marker": {
             "pattern": {
              "fillmode": "overlay",
              "size": 10,
              "solidity": 0.2
             }
            },
            "type": "histogram"
           }
          ],
          "histogram2d": [
           {
            "colorbar": {
             "outlinewidth": 0,
             "ticks": ""
            },
            "colorscale": [
             [
              0,
              "#0d0887"
             ],
             [
              0.1111111111111111,
              "#46039f"
             ],
             [
              0.2222222222222222,
              "#7201a8"
             ],
             [
              0.3333333333333333,
              "#9c179e"
             ],
             [
              0.4444444444444444,
              "#bd3786"
             ],
             [
              0.5555555555555556,
              "#d8576b"
             ],
             [
              0.6666666666666666,
              "#ed7953"
             ],
             [
              0.7777777777777778,
              "#fb9f3a"
             ],
             [
              0.8888888888888888,
              "#fdca26"
             ],
             [
              1,
              "#f0f921"
             ]
            ],
            "type": "histogram2d"
           }
          ],
          "histogram2dcontour": [
           {
            "colorbar": {
             "outlinewidth": 0,
             "ticks": ""
            },
            "colorscale": [
             [
              0,
              "#0d0887"
             ],
             [
              0.1111111111111111,
              "#46039f"
             ],
             [
              0.2222222222222222,
              "#7201a8"
             ],
             [
              0.3333333333333333,
              "#9c179e"
             ],
             [
              0.4444444444444444,
              "#bd3786"
             ],
             [
              0.5555555555555556,
              "#d8576b"
             ],
             [
              0.6666666666666666,
              "#ed7953"
             ],
             [
              0.7777777777777778,
              "#fb9f3a"
             ],
             [
              0.8888888888888888,
              "#fdca26"
             ],
             [
              1,
              "#f0f921"
             ]
            ],
            "type": "histogram2dcontour"
           }
          ],
          "mesh3d": [
           {
            "colorbar": {
             "outlinewidth": 0,
             "ticks": ""
            },
            "type": "mesh3d"
           }
          ],
          "parcoords": [
           {
            "line": {
             "colorbar": {
              "outlinewidth": 0,
              "ticks": ""
             }
            },
            "type": "parcoords"
           }
          ],
          "pie": [
           {
            "automargin": true,
            "type": "pie"
           }
          ],
          "scatter": [
           {
            "fillpattern": {
             "fillmode": "overlay",
             "size": 10,
             "solidity": 0.2
            },
            "type": "scatter"
           }
          ],
          "scatter3d": [
           {
            "line": {
             "colorbar": {
              "outlinewidth": 0,
              "ticks": ""
             }
            },
            "marker": {
             "colorbar": {
              "outlinewidth": 0,
              "ticks": ""
             }
            },
            "type": "scatter3d"
           }
          ],
          "scattercarpet": [
           {
            "marker": {
             "colorbar": {
              "outlinewidth": 0,
              "ticks": ""
             }
            },
            "type": "scattercarpet"
           }
          ],
          "scattergeo": [
           {
            "marker": {
             "colorbar": {
              "outlinewidth": 0,
              "ticks": ""
             }
            },
            "type": "scattergeo"
           }
          ],
          "scattergl": [
           {
            "marker": {
             "colorbar": {
              "outlinewidth": 0,
              "ticks": ""
             }
            },
            "type": "scattergl"
           }
          ],
          "scattermap": [
           {
            "marker": {
             "colorbar": {
              "outlinewidth": 0,
              "ticks": ""
             }
            },
            "type": "scattermap"
           }
          ],
          "scattermapbox": [
           {
            "marker": {
             "colorbar": {
              "outlinewidth": 0,
              "ticks": ""
             }
            },
            "type": "scattermapbox"
           }
          ],
          "scatterpolar": [
           {
            "marker": {
             "colorbar": {
              "outlinewidth": 0,
              "ticks": ""
             }
            },
            "type": "scatterpolar"
           }
          ],
          "scatterpolargl": [
           {
            "marker": {
             "colorbar": {
              "outlinewidth": 0,
              "ticks": ""
             }
            },
            "type": "scatterpolargl"
           }
          ],
          "scatterternary": [
           {
            "marker": {
             "colorbar": {
              "outlinewidth": 0,
              "ticks": ""
             }
            },
            "type": "scatterternary"
           }
          ],
          "surface": [
           {
            "colorbar": {
             "outlinewidth": 0,
             "ticks": ""
            },
            "colorscale": [
             [
              0,
              "#0d0887"
             ],
             [
              0.1111111111111111,
              "#46039f"
             ],
             [
              0.2222222222222222,
              "#7201a8"
             ],
             [
              0.3333333333333333,
              "#9c179e"
             ],
             [
              0.4444444444444444,
              "#bd3786"
             ],
             [
              0.5555555555555556,
              "#d8576b"
             ],
             [
              0.6666666666666666,
              "#ed7953"
             ],
             [
              0.7777777777777778,
              "#fb9f3a"
             ],
             [
              0.8888888888888888,
              "#fdca26"
             ],
             [
              1,
              "#f0f921"
             ]
            ],
            "type": "surface"
           }
          ],
          "table": [
           {
            "cells": {
             "fill": {
              "color": "#EBF0F8"
             },
             "line": {
              "color": "white"
             }
            },
            "header": {
             "fill": {
              "color": "#C8D4E3"
             },
             "line": {
              "color": "white"
             }
            },
            "type": "table"
           }
          ]
         },
         "layout": {
          "annotationdefaults": {
           "arrowcolor": "#2a3f5f",
           "arrowhead": 0,
           "arrowwidth": 1
          },
          "autotypenumbers": "strict",
          "coloraxis": {
           "colorbar": {
            "outlinewidth": 0,
            "ticks": ""
           }
          },
          "colorscale": {
           "diverging": [
            [
             0,
             "#8e0152"
            ],
            [
             0.1,
             "#c51b7d"
            ],
            [
             0.2,
             "#de77ae"
            ],
            [
             0.3,
             "#f1b6da"
            ],
            [
             0.4,
             "#fde0ef"
            ],
            [
             0.5,
             "#f7f7f7"
            ],
            [
             0.6,
             "#e6f5d0"
            ],
            [
             0.7,
             "#b8e186"
            ],
            [
             0.8,
             "#7fbc41"
            ],
            [
             0.9,
             "#4d9221"
            ],
            [
             1,
             "#276419"
            ]
           ],
           "sequential": [
            [
             0,
             "#0d0887"
            ],
            [
             0.1111111111111111,
             "#46039f"
            ],
            [
             0.2222222222222222,
             "#7201a8"
            ],
            [
             0.3333333333333333,
             "#9c179e"
            ],
            [
             0.4444444444444444,
             "#bd3786"
            ],
            [
             0.5555555555555556,
             "#d8576b"
            ],
            [
             0.6666666666666666,
             "#ed7953"
            ],
            [
             0.7777777777777778,
             "#fb9f3a"
            ],
            [
             0.8888888888888888,
             "#fdca26"
            ],
            [
             1,
             "#f0f921"
            ]
           ],
           "sequentialminus": [
            [
             0,
             "#0d0887"
            ],
            [
             0.1111111111111111,
             "#46039f"
            ],
            [
             0.2222222222222222,
             "#7201a8"
            ],
            [
             0.3333333333333333,
             "#9c179e"
            ],
            [
             0.4444444444444444,
             "#bd3786"
            ],
            [
             0.5555555555555556,
             "#d8576b"
            ],
            [
             0.6666666666666666,
             "#ed7953"
            ],
            [
             0.7777777777777778,
             "#fb9f3a"
            ],
            [
             0.8888888888888888,
             "#fdca26"
            ],
            [
             1,
             "#f0f921"
            ]
           ]
          },
          "colorway": [
           "#636efa",
           "#EF553B",
           "#00cc96",
           "#ab63fa",
           "#FFA15A",
           "#19d3f3",
           "#FF6692",
           "#B6E880",
           "#FF97FF",
           "#FECB52"
          ],
          "font": {
           "color": "#2a3f5f"
          },
          "geo": {
           "bgcolor": "white",
           "lakecolor": "white",
           "landcolor": "#E5ECF6",
           "showlakes": true,
           "showland": true,
           "subunitcolor": "white"
          },
          "hoverlabel": {
           "align": "left"
          },
          "hovermode": "closest",
          "mapbox": {
           "style": "light"
          },
          "paper_bgcolor": "white",
          "plot_bgcolor": "#E5ECF6",
          "polar": {
           "angularaxis": {
            "gridcolor": "white",
            "linecolor": "white",
            "ticks": ""
           },
           "bgcolor": "#E5ECF6",
           "radialaxis": {
            "gridcolor": "white",
            "linecolor": "white",
            "ticks": ""
           }
          },
          "scene": {
           "xaxis": {
            "backgroundcolor": "#E5ECF6",
            "gridcolor": "white",
            "gridwidth": 2,
            "linecolor": "white",
            "showbackground": true,
            "ticks": "",
            "zerolinecolor": "white"
           },
           "yaxis": {
            "backgroundcolor": "#E5ECF6",
            "gridcolor": "white",
            "gridwidth": 2,
            "linecolor": "white",
            "showbackground": true,
            "ticks": "",
            "zerolinecolor": "white"
           },
           "zaxis": {
            "backgroundcolor": "#E5ECF6",
            "gridcolor": "white",
            "gridwidth": 2,
            "linecolor": "white",
            "showbackground": true,
            "ticks": "",
            "zerolinecolor": "white"
           }
          },
          "shapedefaults": {
           "line": {
            "color": "#2a3f5f"
           }
          },
          "ternary": {
           "aaxis": {
            "gridcolor": "white",
            "linecolor": "white",
            "ticks": ""
           },
           "baxis": {
            "gridcolor": "white",
            "linecolor": "white",
            "ticks": ""
           },
           "bgcolor": "#E5ECF6",
           "caxis": {
            "gridcolor": "white",
            "linecolor": "white",
            "ticks": ""
           }
          },
          "title": {
           "x": 0.05
          },
          "xaxis": {
           "automargin": true,
           "gridcolor": "white",
           "linecolor": "white",
           "ticks": "",
           "title": {
            "standoff": 15
           },
           "zerolinecolor": "white",
           "zerolinewidth": 2
          },
          "yaxis": {
           "automargin": true,
           "gridcolor": "white",
           "linecolor": "white",
           "ticks": "",
           "title": {
            "standoff": 15
           },
           "zerolinecolor": "white",
           "zerolinewidth": 2
          }
         }
        },
        "title": {
         "text": "Organization-wide hourly availability (tol=5min, sepsis)"
        },
        "xaxis": {
         "anchor": "y",
         "autorange": true,
         "domain": [
          0,
          1
         ],
         "range": [
          0,
          23
         ],
         "title": {
          "text": "hour"
         },
         "type": "linear"
        },
        "yaxis": {
         "anchor": "x",
         "autorange": true,
         "domain": [
          0,
          1
         ],
         "range": [
          0.022025779911029796,
          0.15014727410974152
         ],
         "tickformat": ".0%",
         "title": {
          "text": "availability_share"
         },
         "type": "linear"
        }
       }
      }
     },
     "metadata": {},
     "output_type": "display_data"
    }
   ],
   "source": [
    "# Quick sanity + reference hourly coverage (tol=5min)\n",
    "\n",
    "bad_order = int((p5[\"end\"] <= p5[\"start\"]).sum())\n",
    "too_long  = int((p5[\"duration_min\"] > 24*60).sum())\n",
    "d5_nonpos = int((d5[\"span_min\"] <= 0).sum())\n",
    "print(f\"Sanity → bad_order: {bad_order}, >24h periods: {too_long}, non_positive_daily_spans: {d5_nonpos}\")\n",
    "\n",
    "wk = weekly_availability_matrix(p5)\n",
    "org_hour = wk.groupby(\"hour\", as_index=False)[\"availability_share\"].mean()\n",
    "fig = px.line(org_hour, x=\"hour\", y=\"availability_share\",\n",
    "              title=f\"Organization-wide hourly availability (tol=5min, {DS})\")\n",
    "fig.update_yaxes(tickformat=\".0%\"); fig.show()\n"
   ]
  },
  {
   "cell_type": "code",
   "execution_count": null,
   "id": "716121da-d584-4479-8cff-92ee3860c86e",
   "metadata": {},
   "outputs": [],
   "source": []
  }
 ],
 "metadata": {
  "kernelspec": {
   "display_name": "Python [conda env:base] *",
   "language": "python",
   "name": "conda-base-py"
  },
  "language_info": {
   "codemirror_mode": {
    "name": "ipython",
    "version": 3
   },
   "file_extension": ".py",
   "mimetype": "text/x-python",
   "name": "python",
   "nbconvert_exporter": "python",
   "pygments_lexer": "ipython3",
   "version": "3.12.7"
  }
 },
 "nbformat": 4,
 "nbformat_minor": 5
}
