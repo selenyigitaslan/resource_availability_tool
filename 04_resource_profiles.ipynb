{
 "cells": [
  {
   "cell_type": "code",
   "execution_count": 23,
   "id": "dad9c92e-94d1-42d0-bc0f-ca6a71364b4c",
   "metadata": {},
   "outputs": [
    {
     "name": "stdout",
     "output_type": "stream",
     "text": [
      "Export folder: /Users/macbookair/Documents/resource_availability_tool/figures/survey\n"
     ]
    },
    {
     "name": "stderr",
     "output_type": "stream",
     "text": [
      "/var/folders/7j/l7x_10w97357mn1mpd0yhlqc0000gn/T/ipykernel_8226/2644509435.py:28: DeprecationWarning:\n",
      "\n",
      "\n",
      "Use of plotly.io.kaleido.scope.default_width is deprecated and support will be removed after September 2025.\n",
      "Please use plotly.io.defaults.default_width instead.\n",
      "\n",
      "\n",
      "/var/folders/7j/l7x_10w97357mn1mpd0yhlqc0000gn/T/ipykernel_8226/2644509435.py:29: DeprecationWarning:\n",
      "\n",
      "\n",
      "Use of plotly.io.kaleido.scope.default_height is deprecated and support will be removed after September 2025.\n",
      "Please use plotly.io.defaults.default_height instead.\n",
      "\n",
      "\n"
     ]
    }
   ],
   "source": [
    "# ---- image export setup ----\n",
    "import sys, subprocess, importlib\n",
    "\n",
    "def pip_i(spec: str):\n",
    "    subprocess.check_call([sys.executable, \"-m\", \"pip\", \"install\", \"-q\", spec])\n",
    "\n",
    "try:\n",
    "    import plotly, pkg_resources\n",
    "    from packaging.version import Version\n",
    "    if Version(plotly.__version__) < Version(\"6.1.1\"):\n",
    "        pip_i(\"plotly>=6.1.1\")\n",
    "except Exception:\n",
    "    pip_i(\"plotly>=6.1.1\")\n",
    "\n",
    "# Pin Kaleido to the compatible build\n",
    "try:\n",
    "    import kaleido\n",
    "    from packaging.version import Version\n",
    "    if Version(kaleido.__version__) != Version(\"0.2.1\"):\n",
    "        pip_i(\"kaleido==0.2.1\")\n",
    "except Exception:\n",
    "    pip_i(\"kaleido==0.2.1\")\n",
    "\n",
    "import plotly.io as pio\n",
    "\n",
    "# Only set scope if kaleido is actually loaded\n",
    "if getattr(pio, \"kaleido\", None) and getattr(getattr(pio, \"kaleido\", None), \"scope\", None):\n",
    "    pio.kaleido.scope.default_width  = 1600\n",
    "    pio.kaleido.scope.default_height = 900\n",
    "else:\n",
    "    print(\"Kaleido scope not available yet\")\n",
    "\n",
    "# where to store survey images\n",
    "from pathlib import Path\n",
    "SURVEY = (Path().resolve().parent / \"figures\" / \"survey\")\n",
    "SURVEY.mkdir(parents=True, exist_ok=True)\n",
    "print(\"Export folder:\", SURVEY)\n"
   ]
  },
  {
   "cell_type": "code",
   "execution_count": 24,
   "id": "c56e57e6-470d-4e19-84c9-1721388223f9",
   "metadata": {},
   "outputs": [
    {
     "name": "stdout",
     "output_type": "stream",
     "text": [
      "sepsis | periods: (8494, 6) | daily: (3118, 7) | breaks: (5376, 6) | weekly: (478, 3) | tasks: (0, 0) | overlap_kpi: (0, 0)\n"
     ]
    }
   ],
   "source": [
    "#Setup & paths \n",
    "\n",
    "from pathlib import Path\n",
    "import sys, pandas as pd, plotly.express as px\n",
    "\n",
    "SRC = Path().resolve().parent / \"src\"\n",
    "if str(SRC) not in sys.path:\n",
    "    sys.path.insert(0, str(SRC))\n",
    "\n",
    "from availability import compute_daily_spans, extract_breaks, weekly_availability_matrix\n",
    "from multitask   import overlap_summary  \n",
    "\n",
    "DERIV = (Path().resolve().parent / \"data\" / \"derived\").resolve()\n",
    "\n",
    "DATASETS = {\n",
    "    \"bpi2017\":  {\"stem\": \"bpi2017__tol_5min\"},\n",
    "    \"sepsis\":   {\"stem\": \"sepsis__tol_5min\"},\n",
    "    \"bpi2019\":  {\"stem\": \"bpi2019__tol_5min\"},\n",
    "}\n",
    "\n",
    "def _read_frames(stem: str) -> dict:\n",
    "    def _p(suffix): return DERIV / f\"{stem}_{suffix}.parquet\"\n",
    "    out = {}\n",
    "    for k in [\"periods\",\"daily_spans\",\"breaks\",\"weekly_availability\",\"task_periods\",\"overlap_kpi\"]:\n",
    "        fp = _p(k)\n",
    "        out[k] = pd.read_parquet(fp) if fp.exists() else pd.DataFrame()\n",
    "    return out\n",
    "\n",
    "DS   = \"sepsis\"                 #  switch dataset here\n",
    "STEM = DATASETS[DS][\"stem\"]\n",
    "F    = _read_frames(STEM)\n",
    "\n",
    "periods = F[\"periods\"].copy()\n",
    "daily   = F[\"daily_spans\"].copy()\n",
    "breaks  = F[\"breaks\"].copy()\n",
    "weekly  = F[\"weekly_availability\"].copy()\n",
    "tasks   = F[\"task_periods\"].copy()\n",
    "olap    = F[\"overlap_kpi\"].copy()\n",
    "\n",
    "print(DS, \"|\",\n",
    "      \"periods:\", periods.shape, \"|\",\n",
    "      \"daily:\", daily.shape, \"|\",\n",
    "      \"breaks:\", breaks.shape, \"|\",\n",
    "      \"weekly:\", weekly.shape, \"|\",\n",
    "      \"tasks:\", tasks.shape, \"|\",\n",
    "      \"overlap_kpi:\", olap.shape)\n"
   ]
  },
  {
   "cell_type": "code",
   "execution_count": 25,
   "id": "3391d4e9-e609-4f51-96f0-8ad2b8144bee",
   "metadata": {},
   "outputs": [
    {
     "name": "stdout",
     "output_type": "stream",
     "text": [
      "Resources: 26\n"
     ]
    },
    {
     "data": {
      "text/html": [
       "<div>\n",
       "<style scoped>\n",
       "    .dataframe tbody tr th:only-of-type {\n",
       "        vertical-align: middle;\n",
       "    }\n",
       "\n",
       "    .dataframe tbody tr th {\n",
       "        vertical-align: top;\n",
       "    }\n",
       "\n",
       "    .dataframe thead th {\n",
       "        text-align: right;\n",
       "    }\n",
       "</style>\n",
       "<table border=\"1\" class=\"dataframe\">\n",
       "  <thead>\n",
       "    <tr style=\"text-align: right;\">\n",
       "      <th></th>\n",
       "      <th>resource</th>\n",
       "      <th>days_active</th>\n",
       "      <th>avg_pct_busy</th>\n",
       "      <th>mean_arr_hour</th>\n",
       "      <th>mean_dep_hour</th>\n",
       "      <th>lunch_rate</th>\n",
       "      <th>overlap_share</th>\n",
       "    </tr>\n",
       "  </thead>\n",
       "  <tbody>\n",
       "    <tr>\n",
       "      <th>0</th>\n",
       "      <td>B</td>\n",
       "      <td>478</td>\n",
       "      <td>8.4%</td>\n",
       "      <td>5.76</td>\n",
       "      <td>17.26</td>\n",
       "      <td>28.6%</td>\n",
       "      <td>0.0%</td>\n",
       "    </tr>\n",
       "    <tr>\n",
       "      <th>1</th>\n",
       "      <td>C</td>\n",
       "      <td>419</td>\n",
       "      <td>35.1%</td>\n",
       "      <td>10.74</td>\n",
       "      <td>17.02</td>\n",
       "      <td>27.2%</td>\n",
       "      <td>0.0%</td>\n",
       "    </tr>\n",
       "    <tr>\n",
       "      <th>2</th>\n",
       "      <td>A</td>\n",
       "      <td>416</td>\n",
       "      <td>16.0%</td>\n",
       "      <td>9.13</td>\n",
       "      <td>17.87</td>\n",
       "      <td>27.5%</td>\n",
       "      <td>0.0%</td>\n",
       "    </tr>\n",
       "    <tr>\n",
       "      <th>3</th>\n",
       "      <td>E</td>\n",
       "      <td>383</td>\n",
       "      <td>49.0%</td>\n",
       "      <td>11.10</td>\n",
       "      <td>13.89</td>\n",
       "      <td>33.6%</td>\n",
       "      <td>0.0%</td>\n",
       "    </tr>\n",
       "    <tr>\n",
       "      <th>4</th>\n",
       "      <td>?</td>\n",
       "      <td>216</td>\n",
       "      <td>73.8%</td>\n",
       "      <td>12.22</td>\n",
       "      <td>14.57</td>\n",
       "      <td>11.7%</td>\n",
       "      <td>0.0%</td>\n",
       "    </tr>\n",
       "    <tr>\n",
       "      <th>5</th>\n",
       "      <td>F</td>\n",
       "      <td>174</td>\n",
       "      <td>80.1%</td>\n",
       "      <td>11.89</td>\n",
       "      <td>13.27</td>\n",
       "      <td>10.5%</td>\n",
       "      <td>0.0%</td>\n",
       "    </tr>\n",
       "    <tr>\n",
       "      <th>6</th>\n",
       "      <td>O</td>\n",
       "      <td>155</td>\n",
       "      <td>82.4%</td>\n",
       "      <td>13.46</td>\n",
       "      <td>14.51</td>\n",
       "      <td>10.0%</td>\n",
       "      <td>0.0%</td>\n",
       "    </tr>\n",
       "    <tr>\n",
       "      <th>7</th>\n",
       "      <td>G</td>\n",
       "      <td>126</td>\n",
       "      <td>85.0%</td>\n",
       "      <td>14.39</td>\n",
       "      <td>16.30</td>\n",
       "      <td>0.0%</td>\n",
       "      <td>0.0%</td>\n",
       "    </tr>\n",
       "    <tr>\n",
       "      <th>8</th>\n",
       "      <td>I</td>\n",
       "      <td>106</td>\n",
       "      <td>85.5%</td>\n",
       "      <td>13.05</td>\n",
       "      <td>13.85</td>\n",
       "      <td>6.2%</td>\n",
       "      <td>0.0%</td>\n",
       "    </tr>\n",
       "    <tr>\n",
       "      <th>9</th>\n",
       "      <td>M</td>\n",
       "      <td>75</td>\n",
       "      <td>89.0%</td>\n",
       "      <td>13.40</td>\n",
       "      <td>14.05</td>\n",
       "      <td>66.7%</td>\n",
       "      <td>0.0%</td>\n",
       "    </tr>\n",
       "    <tr>\n",
       "      <th>10</th>\n",
       "      <td>L</td>\n",
       "      <td>63</td>\n",
       "      <td>34.4%</td>\n",
       "      <td>12.14</td>\n",
       "      <td>13.71</td>\n",
       "      <td>17.9%</td>\n",
       "      <td>0.0%</td>\n",
       "    </tr>\n",
       "    <tr>\n",
       "      <th>11</th>\n",
       "      <td>Q</td>\n",
       "      <td>60</td>\n",
       "      <td>95.5%</td>\n",
       "      <td>12.90</td>\n",
       "      <td>13.13</td>\n",
       "      <td>0.0%</td>\n",
       "      <td>0.0%</td>\n",
       "    </tr>\n",
       "  </tbody>\n",
       "</table>\n",
       "</div>"
      ],
      "text/plain": [
       "   resource  days_active avg_pct_busy  mean_arr_hour  mean_dep_hour  \\\n",
       "0         B          478         8.4%           5.76          17.26   \n",
       "1         C          419        35.1%          10.74          17.02   \n",
       "2         A          416        16.0%           9.13          17.87   \n",
       "3         E          383        49.0%          11.10          13.89   \n",
       "4         ?          216        73.8%          12.22          14.57   \n",
       "5         F          174        80.1%          11.89          13.27   \n",
       "6         O          155        82.4%          13.46          14.51   \n",
       "7         G          126        85.0%          14.39          16.30   \n",
       "8         I          106        85.5%          13.05          13.85   \n",
       "9         M           75        89.0%          13.40          14.05   \n",
       "10        L           63        34.4%          12.14          13.71   \n",
       "11        Q           60        95.5%          12.90          13.13   \n",
       "\n",
       "   lunch_rate overlap_share  \n",
       "0       28.6%          0.0%  \n",
       "1       27.2%          0.0%  \n",
       "2       27.5%          0.0%  \n",
       "3       33.6%          0.0%  \n",
       "4       11.7%          0.0%  \n",
       "5       10.5%          0.0%  \n",
       "6       10.0%          0.0%  \n",
       "7        0.0%          0.0%  \n",
       "8        6.2%          0.0%  \n",
       "9       66.7%          0.0%  \n",
       "10      17.9%          0.0%  \n",
       "11       0.0%          0.0%  "
      ]
     },
     "metadata": {},
     "output_type": "display_data"
    },
    {
     "data": {
      "application/vnd.plotly.v1+json": {
       "config": {
        "plotlyServerURL": "https://plot.ly"
       },
       "data": [
        {
         "hovertemplate": "resource=%{x}<br>days_active=%{y}<extra></extra>",
         "legendgroup": "",
         "marker": {
          "color": "#636efa",
          "pattern": {
           "shape": ""
          }
         },
         "name": "",
         "orientation": "v",
         "showlegend": false,
         "textposition": "auto",
         "type": "bar",
         "x": [
          "B",
          "C",
          "A",
          "E",
          "?",
          "F",
          "O",
          "G",
          "I",
          "M"
         ],
         "xaxis": "x",
         "y": {
          "_inputArray": {
           "0": 478,
           "1": 419,
           "2": 416,
           "3": 383,
           "4": 216,
           "5": 174,
           "6": 155,
           "7": 126,
           "8": 106,
           "9": 75,
           "bdata": "3gGjAaABfwHYAK4AmwB+AGoASwA=",
           "dtype": "i2",
           "shape": "10"
          },
          "bdata": "3gGjAaABfwHYAK4AmwB+AGoASwA=",
          "dtype": "i2"
         },
         "yaxis": "y"
        }
       ],
       "layout": {
        "autosize": true,
        "barmode": "relative",
        "legend": {
         "tracegroupgap": 0
        },
        "template": {
         "data": {
          "bar": [
           {
            "error_x": {
             "color": "#2a3f5f"
            },
            "error_y": {
             "color": "#2a3f5f"
            },
            "marker": {
             "line": {
              "color": "#E5ECF6",
              "width": 0.5
             },
             "pattern": {
              "fillmode": "overlay",
              "size": 10,
              "solidity": 0.2
             }
            },
            "type": "bar"
           }
          ],
          "barpolar": [
           {
            "marker": {
             "line": {
              "color": "#E5ECF6",
              "width": 0.5
             },
             "pattern": {
              "fillmode": "overlay",
              "size": 10,
              "solidity": 0.2
             }
            },
            "type": "barpolar"
           }
          ],
          "carpet": [
           {
            "aaxis": {
             "endlinecolor": "#2a3f5f",
             "gridcolor": "white",
             "linecolor": "white",
             "minorgridcolor": "white",
             "startlinecolor": "#2a3f5f"
            },
            "baxis": {
             "endlinecolor": "#2a3f5f",
             "gridcolor": "white",
             "linecolor": "white",
             "minorgridcolor": "white",
             "startlinecolor": "#2a3f5f"
            },
            "type": "carpet"
           }
          ],
          "choropleth": [
           {
            "colorbar": {
             "outlinewidth": 0,
             "ticks": ""
            },
            "type": "choropleth"
           }
          ],
          "contour": [
           {
            "colorbar": {
             "outlinewidth": 0,
             "ticks": ""
            },
            "colorscale": [
             [
              0,
              "#0d0887"
             ],
             [
              0.1111111111111111,
              "#46039f"
             ],
             [
              0.2222222222222222,
              "#7201a8"
             ],
             [
              0.3333333333333333,
              "#9c179e"
             ],
             [
              0.4444444444444444,
              "#bd3786"
             ],
             [
              0.5555555555555556,
              "#d8576b"
             ],
             [
              0.6666666666666666,
              "#ed7953"
             ],
             [
              0.7777777777777778,
              "#fb9f3a"
             ],
             [
              0.8888888888888888,
              "#fdca26"
             ],
             [
              1,
              "#f0f921"
             ]
            ],
            "type": "contour"
           }
          ],
          "contourcarpet": [
           {
            "colorbar": {
             "outlinewidth": 0,
             "ticks": ""
            },
            "type": "contourcarpet"
           }
          ],
          "heatmap": [
           {
            "colorbar": {
             "outlinewidth": 0,
             "ticks": ""
            },
            "colorscale": [
             [
              0,
              "#0d0887"
             ],
             [
              0.1111111111111111,
              "#46039f"
             ],
             [
              0.2222222222222222,
              "#7201a8"
             ],
             [
              0.3333333333333333,
              "#9c179e"
             ],
             [
              0.4444444444444444,
              "#bd3786"
             ],
             [
              0.5555555555555556,
              "#d8576b"
             ],
             [
              0.6666666666666666,
              "#ed7953"
             ],
             [
              0.7777777777777778,
              "#fb9f3a"
             ],
             [
              0.8888888888888888,
              "#fdca26"
             ],
             [
              1,
              "#f0f921"
             ]
            ],
            "type": "heatmap"
           }
          ],
          "histogram": [
           {
            "marker": {
             "pattern": {
              "fillmode": "overlay",
              "size": 10,
              "solidity": 0.2
             }
            },
            "type": "histogram"
           }
          ],
          "histogram2d": [
           {
            "colorbar": {
             "outlinewidth": 0,
             "ticks": ""
            },
            "colorscale": [
             [
              0,
              "#0d0887"
             ],
             [
              0.1111111111111111,
              "#46039f"
             ],
             [
              0.2222222222222222,
              "#7201a8"
             ],
             [
              0.3333333333333333,
              "#9c179e"
             ],
             [
              0.4444444444444444,
              "#bd3786"
             ],
             [
              0.5555555555555556,
              "#d8576b"
             ],
             [
              0.6666666666666666,
              "#ed7953"
             ],
             [
              0.7777777777777778,
              "#fb9f3a"
             ],
             [
              0.8888888888888888,
              "#fdca26"
             ],
             [
              1,
              "#f0f921"
             ]
            ],
            "type": "histogram2d"
           }
          ],
          "histogram2dcontour": [
           {
            "colorbar": {
             "outlinewidth": 0,
             "ticks": ""
            },
            "colorscale": [
             [
              0,
              "#0d0887"
             ],
             [
              0.1111111111111111,
              "#46039f"
             ],
             [
              0.2222222222222222,
              "#7201a8"
             ],
             [
              0.3333333333333333,
              "#9c179e"
             ],
             [
              0.4444444444444444,
              "#bd3786"
             ],
             [
              0.5555555555555556,
              "#d8576b"
             ],
             [
              0.6666666666666666,
              "#ed7953"
             ],
             [
              0.7777777777777778,
              "#fb9f3a"
             ],
             [
              0.8888888888888888,
              "#fdca26"
             ],
             [
              1,
              "#f0f921"
             ]
            ],
            "type": "histogram2dcontour"
           }
          ],
          "mesh3d": [
           {
            "colorbar": {
             "outlinewidth": 0,
             "ticks": ""
            },
            "type": "mesh3d"
           }
          ],
          "parcoords": [
           {
            "line": {
             "colorbar": {
              "outlinewidth": 0,
              "ticks": ""
             }
            },
            "type": "parcoords"
           }
          ],
          "pie": [
           {
            "automargin": true,
            "type": "pie"
           }
          ],
          "scatter": [
           {
            "fillpattern": {
             "fillmode": "overlay",
             "size": 10,
             "solidity": 0.2
            },
            "type": "scatter"
           }
          ],
          "scatter3d": [
           {
            "line": {
             "colorbar": {
              "outlinewidth": 0,
              "ticks": ""
             }
            },
            "marker": {
             "colorbar": {
              "outlinewidth": 0,
              "ticks": ""
             }
            },
            "type": "scatter3d"
           }
          ],
          "scattercarpet": [
           {
            "marker": {
             "colorbar": {
              "outlinewidth": 0,
              "ticks": ""
             }
            },
            "type": "scattercarpet"
           }
          ],
          "scattergeo": [
           {
            "marker": {
             "colorbar": {
              "outlinewidth": 0,
              "ticks": ""
             }
            },
            "type": "scattergeo"
           }
          ],
          "scattergl": [
           {
            "marker": {
             "colorbar": {
              "outlinewidth": 0,
              "ticks": ""
             }
            },
            "type": "scattergl"
           }
          ],
          "scattermap": [
           {
            "marker": {
             "colorbar": {
              "outlinewidth": 0,
              "ticks": ""
             }
            },
            "type": "scattermap"
           }
          ],
          "scattermapbox": [
           {
            "marker": {
             "colorbar": {
              "outlinewidth": 0,
              "ticks": ""
             }
            },
            "type": "scattermapbox"
           }
          ],
          "scatterpolar": [
           {
            "marker": {
             "colorbar": {
              "outlinewidth": 0,
              "ticks": ""
             }
            },
            "type": "scatterpolar"
           }
          ],
          "scatterpolargl": [
           {
            "marker": {
             "colorbar": {
              "outlinewidth": 0,
              "ticks": ""
             }
            },
            "type": "scatterpolargl"
           }
          ],
          "scatterternary": [
           {
            "marker": {
             "colorbar": {
              "outlinewidth": 0,
              "ticks": ""
             }
            },
            "type": "scatterternary"
           }
          ],
          "surface": [
           {
            "colorbar": {
             "outlinewidth": 0,
             "ticks": ""
            },
            "colorscale": [
             [
              0,
              "#0d0887"
             ],
             [
              0.1111111111111111,
              "#46039f"
             ],
             [
              0.2222222222222222,
              "#7201a8"
             ],
             [
              0.3333333333333333,
              "#9c179e"
             ],
             [
              0.4444444444444444,
              "#bd3786"
             ],
             [
              0.5555555555555556,
              "#d8576b"
             ],
             [
              0.6666666666666666,
              "#ed7953"
             ],
             [
              0.7777777777777778,
              "#fb9f3a"
             ],
             [
              0.8888888888888888,
              "#fdca26"
             ],
             [
              1,
              "#f0f921"
             ]
            ],
            "type": "surface"
           }
          ],
          "table": [
           {
            "cells": {
             "fill": {
              "color": "#EBF0F8"
             },
             "line": {
              "color": "white"
             }
            },
            "header": {
             "fill": {
              "color": "#C8D4E3"
             },
             "line": {
              "color": "white"
             }
            },
            "type": "table"
           }
          ]
         },
         "layout": {
          "annotationdefaults": {
           "arrowcolor": "#2a3f5f",
           "arrowhead": 0,
           "arrowwidth": 1
          },
          "autotypenumbers": "strict",
          "coloraxis": {
           "colorbar": {
            "outlinewidth": 0,
            "ticks": ""
           }
          },
          "colorscale": {
           "diverging": [
            [
             0,
             "#8e0152"
            ],
            [
             0.1,
             "#c51b7d"
            ],
            [
             0.2,
             "#de77ae"
            ],
            [
             0.3,
             "#f1b6da"
            ],
            [
             0.4,
             "#fde0ef"
            ],
            [
             0.5,
             "#f7f7f7"
            ],
            [
             0.6,
             "#e6f5d0"
            ],
            [
             0.7,
             "#b8e186"
            ],
            [
             0.8,
             "#7fbc41"
            ],
            [
             0.9,
             "#4d9221"
            ],
            [
             1,
             "#276419"
            ]
           ],
           "sequential": [
            [
             0,
             "#0d0887"
            ],
            [
             0.1111111111111111,
             "#46039f"
            ],
            [
             0.2222222222222222,
             "#7201a8"
            ],
            [
             0.3333333333333333,
             "#9c179e"
            ],
            [
             0.4444444444444444,
             "#bd3786"
            ],
            [
             0.5555555555555556,
             "#d8576b"
            ],
            [
             0.6666666666666666,
             "#ed7953"
            ],
            [
             0.7777777777777778,
             "#fb9f3a"
            ],
            [
             0.8888888888888888,
             "#fdca26"
            ],
            [
             1,
             "#f0f921"
            ]
           ],
           "sequentialminus": [
            [
             0,
             "#0d0887"
            ],
            [
             0.1111111111111111,
             "#46039f"
            ],
            [
             0.2222222222222222,
             "#7201a8"
            ],
            [
             0.3333333333333333,
             "#9c179e"
            ],
            [
             0.4444444444444444,
             "#bd3786"
            ],
            [
             0.5555555555555556,
             "#d8576b"
            ],
            [
             0.6666666666666666,
             "#ed7953"
            ],
            [
             0.7777777777777778,
             "#fb9f3a"
            ],
            [
             0.8888888888888888,
             "#fdca26"
            ],
            [
             1,
             "#f0f921"
            ]
           ]
          },
          "colorway": [
           "#636efa",
           "#EF553B",
           "#00cc96",
           "#ab63fa",
           "#FFA15A",
           "#19d3f3",
           "#FF6692",
           "#B6E880",
           "#FF97FF",
           "#FECB52"
          ],
          "font": {
           "color": "#2a3f5f"
          },
          "geo": {
           "bgcolor": "white",
           "lakecolor": "white",
           "landcolor": "#E5ECF6",
           "showlakes": true,
           "showland": true,
           "subunitcolor": "white"
          },
          "hoverlabel": {
           "align": "left"
          },
          "hovermode": "closest",
          "mapbox": {
           "style": "light"
          },
          "paper_bgcolor": "white",
          "plot_bgcolor": "#E5ECF6",
          "polar": {
           "angularaxis": {
            "gridcolor": "white",
            "linecolor": "white",
            "ticks": ""
           },
           "bgcolor": "#E5ECF6",
           "radialaxis": {
            "gridcolor": "white",
            "linecolor": "white",
            "ticks": ""
           }
          },
          "scene": {
           "xaxis": {
            "backgroundcolor": "#E5ECF6",
            "gridcolor": "white",
            "gridwidth": 2,
            "linecolor": "white",
            "showbackground": true,
            "ticks": "",
            "zerolinecolor": "white"
           },
           "yaxis": {
            "backgroundcolor": "#E5ECF6",
            "gridcolor": "white",
            "gridwidth": 2,
            "linecolor": "white",
            "showbackground": true,
            "ticks": "",
            "zerolinecolor": "white"
           },
           "zaxis": {
            "backgroundcolor": "#E5ECF6",
            "gridcolor": "white",
            "gridwidth": 2,
            "linecolor": "white",
            "showbackground": true,
            "ticks": "",
            "zerolinecolor": "white"
           }
          },
          "shapedefaults": {
           "line": {
            "color": "#2a3f5f"
           }
          },
          "ternary": {
           "aaxis": {
            "gridcolor": "white",
            "linecolor": "white",
            "ticks": ""
           },
           "baxis": {
            "gridcolor": "white",
            "linecolor": "white",
            "ticks": ""
           },
           "bgcolor": "#E5ECF6",
           "caxis": {
            "gridcolor": "white",
            "linecolor": "white",
            "ticks": ""
           }
          },
          "title": {
           "x": 0.05
          },
          "xaxis": {
           "automargin": true,
           "gridcolor": "white",
           "linecolor": "white",
           "ticks": "",
           "title": {
            "standoff": 15
           },
           "zerolinecolor": "white",
           "zerolinewidth": 2
          },
          "yaxis": {
           "automargin": true,
           "gridcolor": "white",
           "linecolor": "white",
           "ticks": "",
           "title": {
            "standoff": 15
           },
           "zerolinecolor": "white",
           "zerolinewidth": 2
          }
         }
        },
        "title": {
         "text": "Top 10 resources by active days — sepsis"
        },
        "xaxis": {
         "anchor": "y",
         "autorange": true,
         "domain": [
          0,
          1
         ],
         "range": [
          -0.5,
          9.5
         ],
         "title": {
          "text": "resource"
         },
         "type": "category"
        },
        "yaxis": {
         "anchor": "x",
         "autorange": true,
         "domain": [
          0,
          1
         ],
         "range": [
          0,
          503.1578947368421
         ],
         "title": {
          "text": "days_active"
         },
         "type": "linear"
        }
       }
      },
      "image/png": "[encoded data removed]"
     },
     "metadata": {},
     "output_type": "display_data"
    }
   ],
   "source": [
    "# Build per-resource summary table\n",
    "\n",
    "import numpy as np\n",
    "\n",
    "def _lunch_rate_for(res_id: str, window=(11.5,13.5), min_gap=30) -> float:\n",
    "    if breaks.empty:\n",
    "        return 0.0\n",
    "    b = breaks[breaks[\"resource\"] == res_id].copy()\n",
    "    if b.empty:\n",
    "        return 0.0\n",
    "    b[\"start_hour_real\"] = pd.to_datetime(b[\"gap_start\"]).dt.hour + pd.to_datetime(b[\"gap_start\"]).dt.minute/60\n",
    "    ok = (b[\"start_hour_real\"].between(window[0], window[1])) & (b[\"gap_min\"] >= min_gap)\n",
    "    days_total = b[\"day\"].nunique()\n",
    "    days_lunch = b.loc[ok, \"day\"].nunique()\n",
    "    return (days_lunch / days_total) if days_total else 0.0\n",
    "\n",
    "# overlap share per resource \n",
    "if not olap.empty:\n",
    "    olap_idx = olap.set_index(\"resource\")[[\"busy_min\",\"overlap_min\",\"overlap_share\"]]\n",
    "else:\n",
    "    if tasks.empty:\n",
    "        olap_idx = pd.DataFrame(columns=[\"busy_min\",\"overlap_min\",\"overlap_share\"])\n",
    "    else:\n",
    "        o = overlap_summary(tasks)\n",
    "        olap_idx = o.set_index(\"resource\")[[\"busy_min\",\"overlap_min\",\"overlap_share\"]]\n",
    "\n",
    "rows = []\n",
    "for res in sorted(daily[\"resource\"].unique()):\n",
    "    d = daily[daily[\"resource\"] == res]\n",
    "    rows.append(dict(\n",
    "        resource=res,\n",
    "        days_active=int(d[\"day\"].nunique()),\n",
    "        avg_pct_busy=float(d[\"pct_busy\"].mean()),\n",
    "        mean_arr_hour=float(pd.to_datetime(d[\"first_start\"]).dt.hour.mean()),\n",
    "        mean_dep_hour=float(pd.to_datetime(d[\"last_end\"]).dt.hour.mean()),\n",
    "        lunch_rate=_lunch_rate_for(res),\n",
    "        overlap_share=float(olap_idx.loc[res, \"overlap_share\"]) if res in olap_idx.index else 0.0\n",
    "    ))\n",
    "\n",
    "summary = (pd.DataFrame(rows)\n",
    "           .sort_values([\"days_active\",\"avg_pct_busy\"], ascending=[False, False])\n",
    "           .reset_index(drop=True))\n",
    "\n",
    "pretty = summary.copy()\n",
    "for c in [\"avg_pct_busy\",\"lunch_rate\",\"overlap_share\"]:\n",
    "    pretty[c] = (pretty[c]*100).round(1).astype(str) + \"%\"\n",
    "pretty[\"mean_arr_hour\"] = pretty[\"mean_arr_hour\"].round(2)\n",
    "pretty[\"mean_dep_hour\"] = pretty[\"mean_dep_hour\"].round(2)\n",
    "\n",
    "print(f\"Resources: {len(summary)}\")\n",
    "display(pretty.head(12))\n",
    "\n",
    "px.bar(summary.nlargest(10, \"days_active\"),\n",
    "       x=\"resource\", y=\"days_active\",\n",
    "       title=f\"Top 10 resources by active days — {DS}\").show()\n",
    "summary.to_csv(\"artifacts/bpi2017_resource_summary.csv\", index=False)\n"
   ]
  },
  {
   "cell_type": "code",
   "execution_count": 26,
   "id": "9b552907-c11d-4bf5-b1a9-c0877aa72223",
   "metadata": {},
   "outputs": [
    {
     "name": "stdout",
     "output_type": "stream",
     "text": [
      "Profiling resource → B\n"
     ]
    },
    {
     "data": {
      "application/vnd.plotly.v1+json": {
       "config": {
        "plotlyServerURL": "https://plot.ly"
       },
       "data": [
        {
         "hovertemplate": "hour=%{x}<br>availability_share=%{y}<extra></extra>",
         "legendgroup": "",
         "line": {
          "color": "#636efa",
          "dash": "solid"
         },
         "marker": {
          "symbol": "circle"
         },
         "mode": "lines",
         "name": "",
         "orientation": "v",
         "showlegend": false,
         "type": "scatter",
         "x": {
          "_inputArray": {
           "0": 0,
           "1": 1,
           "10": 10,
           "11": 11,
           "12": 12,
           "13": 13,
           "14": 14,
           "15": 15,
           "16": 16,
           "17": 17,
           "18": 18,
           "19": 19,
           "2": 2,
           "20": 20,
           "21": 21,
           "22": 22,
           "23": 23,
           "3": 3,
           "4": 4,
           "5": 5,
           "6": 6,
           "7": 7,
           "8": 8,
           "9": 9,
           "bdata": "AAECAwQFBgcICQoLDA0ODxAREhMUFRYX",
           "dtype": "i1",
           "shape": "24"
          },
          "bdata": "AAECAwQFBgcICQoLDA0ODxAREhMUFRYX",
          "dtype": "i1"
         },
         "xaxis": "x",
         "y": {
          "_inputArray": {
           "0": 0.09623430962343096,
           "1": 0.06903765690376569,
           "10": 0.2196652719665272,
           "11": 0.2824267782426778,
           "12": 0.19246861924686193,
           "13": 0.200836820083682,
           "14": 0.22594142259414227,
           "15": 0.200836820083682,
           "16": 0.17573221757322174,
           "17": 0.17573221757322174,
           "18": 0.1694560669456067,
           "19": 0.1401673640167364,
           "2": 0.0397489539748954,
           "20": 0.18410041841004185,
           "21": 0.1401673640167364,
           "22": 0.15481171548117154,
           "23": 0.10460251046025104,
           "3": 0.0502092050209205,
           "4": 0.0397489539748954,
           "5": 0.060669456066945605,
           "6": 0.12343096234309624,
           "7": 0.6694560669456067,
           "8": 0.9058577405857741,
           "9": 0.3514644351464435,
           "bdata": "SvWVzM+iuD+1GZiuc6yxPz2pvpL5WaQ/TcgLWwW1qT89qb6S+VmkP13nWCMREK8/39CT6iuZvz9AfDQhL2zlP4eeVF/J/Ow/Q0+qr2R+1j8U45Tb/R3MP9ZIBMRHE9I/SvWVzM+iyD9NyAtbBbXJP1dBbQam68w/TcgLWwW1yT9DT6qvZH7GP0NPqq9kfsY/AfHRhLywxT92jjUSAfHBP0ciID6akMc/do41EgHxwT+7v4PL3tDDP1Cbgek6x7o/",
           "dtype": "f8",
           "shape": "24"
          },
          "bdata": "SvWVzM+iuD+1GZiuc6yxPz2pvpL5WaQ/TcgLWwW1qT89qb6S+VmkP13nWCMREK8/39CT6iuZvz9AfDQhL2zlP4eeVF/J/Ow/Q0+qr2R+1j8U45Tb/R3MP9ZIBMRHE9I/SvWVzM+iyD9NyAtbBbXJP1dBbQam68w/TcgLWwW1yT9DT6qvZH7GP0NPqq9kfsY/AfHRhLywxT92jjUSAfHBP0ciID6akMc/do41EgHxwT+7v4PL3tDDP1Cbgek6x7o/",
          "dtype": "f8"
         },
         "yaxis": "y"
        }
       ],
       "layout": {
        "autosize": true,
        "legend": {
         "tracegroupgap": 0
        },
        "template": {
         "data": {
          "bar": [
           {
            "error_x": {
             "color": "#2a3f5f"
            },
            "error_y": {
             "color": "#2a3f5f"
            },
            "marker": {
             "line": {
              "color": "#E5ECF6",
              "width": 0.5
             },
             "pattern": {
              "fillmode": "overlay",
              "size": 10,
              "solidity": 0.2
             }
            },
            "type": "bar"
           }
          ],
          "barpolar": [
           {
            "marker": {
             "line": {
              "color": "#E5ECF6",
              "width": 0.5
             },
             "pattern": {
              "fillmode": "overlay",
              "size": 10,
              "solidity": 0.2
             }
            },
            "type": "barpolar"
           }
          ],
          "carpet": [
           {
            "aaxis": {
             "endlinecolor": "#2a3f5f",
             "gridcolor": "white",
             "linecolor": "white",
             "minorgridcolor": "white",
             "startlinecolor": "#2a3f5f"
            },
            "baxis": {
             "endlinecolor": "#2a3f5f",
             "gridcolor": "white",
             "linecolor": "white",
             "minorgridcolor": "white",
             "startlinecolor": "#2a3f5f"
            },
            "type": "carpet"
           }
          ],
          "choropleth": [
           {
            "colorbar": {
             "outlinewidth": 0,
             "ticks": ""
            },
            "type": "choropleth"
           }
          ],
          "contour": [
           {
            "colorbar": {
             "outlinewidth": 0,
             "ticks": ""
            },
            "colorscale": [
             [
              0,
              "#0d0887"
             ],
             [
              0.1111111111111111,
              "#46039f"
             ],
             [
              0.2222222222222222,
              "#7201a8"
             ],
             [
              0.3333333333333333,
              "#9c179e"
             ],
             [
              0.4444444444444444,
              "#bd3786"
             ],
             [
              0.5555555555555556,
              "#d8576b"
             ],
             [
              0.6666666666666666,
              "#ed7953"
             ],
             [
              0.7777777777777778,
              "#fb9f3a"
             ],
             [
              0.8888888888888888,
              "#fdca26"
             ],
             [
              1,
              "#f0f921"
             ]
            ],
            "type": "contour"
           }
          ],
          "contourcarpet": [
           {
            "colorbar": {
             "outlinewidth": 0,
             "ticks": ""
            },
            "type": "contourcarpet"
           }
          ],
          "heatmap": [
           {
            "colorbar": {
             "outlinewidth": 0,
             "ticks": ""
            },
            "colorscale": [
             [
              0,
              "#0d0887"
             ],
             [
              0.1111111111111111,
              "#46039f"
             ],
             [
              0.2222222222222222,
              "#7201a8"
             ],
             [
              0.3333333333333333,
              "#9c179e"
             ],
             [
              0.4444444444444444,
              "#bd3786"
             ],
             [
              0.5555555555555556,
              "#d8576b"
             ],
             [
              0.6666666666666666,
              "#ed7953"
             ],
             [
              0.7777777777777778,
              "#fb9f3a"
             ],
             [
              0.8888888888888888,
              "#fdca26"
             ],
             [
              1,
              "#f0f921"
             ]
            ],
            "type": "heatmap"
           }
          ],
          "histogram": [
           {
            "marker": {
             "pattern": {
              "fillmode": "overlay",
              "size": 10,
              "solidity": 0.2
             }
            },
            "type": "histogram"
           }
          ],
          "histogram2d": [
           {
            "colorbar": {
             "outlinewidth": 0,
             "ticks": ""
            },
            "colorscale": [
             [
              0,
              "#0d0887"
             ],
             [
              0.1111111111111111,
              "#46039f"
             ],
             [
              0.2222222222222222,
              "#7201a8"
             ],
             [
              0.3333333333333333,
              "#9c179e"
             ],
             [
              0.4444444444444444,
              "#bd3786"
             ],
             [
              0.5555555555555556,
              "#d8576b"
             ],
             [
              0.6666666666666666,
              "#ed7953"
             ],
             [
              0.7777777777777778,
              "#fb9f3a"
             ],
             [
              0.8888888888888888,
              "#fdca26"
             ],
             [
              1,
              "#f0f921"
             ]
            ],
            "type": "histogram2d"
           }
          ],
          "histogram2dcontour": [
           {
            "colorbar": {
             "outlinewidth": 0,
             "ticks": ""
            },
            "colorscale": [
             [
              0,
              "#0d0887"
             ],
             [
              0.1111111111111111,
              "#46039f"
             ],
             [
              0.2222222222222222,
              "#7201a8"
             ],
             [
              0.3333333333333333,
              "#9c179e"
             ],
             [
              0.4444444444444444,
              "#bd3786"
             ],
             [
              0.5555555555555556,
              "#d8576b"
             ],
             [
              0.6666666666666666,
              "#ed7953"
             ],
             [
              0.7777777777777778,
              "#fb9f3a"
             ],
             [
              0.8888888888888888,
              "#fdca26"
             ],
             [
              1,
              "#f0f921"
             ]
            ],
            "type": "histogram2dcontour"
           }
          ],
          "mesh3d": [
           {
            "colorbar": {
             "outlinewidth": 0,
             "ticks": ""
            },
            "type": "mesh3d"
           }
          ],
          "parcoords": [
           {
            "line": {
             "colorbar": {
              "outlinewidth": 0,
              "ticks": ""
             }
            },
            "type": "parcoords"
           }
          ],
          "pie": [
           {
            "automargin": true,
            "type": "pie"
           }
          ],
          "scatter": [
           {
            "fillpattern": {
             "fillmode": "overlay",
             "size": 10,
             "solidity": 0.2
            },
            "type": "scatter"
           }
          ],
          "scatter3d": [
           {
            "line": {
             "colorbar": {
              "outlinewidth": 0,
              "ticks": ""
             }
            },
            "marker": {
             "colorbar": {
              "outlinewidth": 0,
              "ticks": ""
             }
            },
            "type": "scatter3d"
           }
          ],
          "scattercarpet": [
           {
            "marker": {
             "colorbar": {
              "outlinewidth": 0,
              "ticks": ""
             }
            },
            "type": "scattercarpet"
           }
          ],
          "scattergeo": [
           {
            "marker": {
             "colorbar": {
              "outlinewidth": 0,
              "ticks": ""
             }
            },
            "type": "scattergeo"
           }
          ],
          "scattergl": [
           {
            "marker": {
             "colorbar": {
              "outlinewidth": 0,
              "ticks": ""
             }
            },
            "type": "scattergl"
           }
          ],
          "scattermap": [
           {
            "marker": {
             "colorbar": {
              "outlinewidth": 0,
              "ticks": ""
             }
            },
            "type": "scattermap"
           }
          ],
          "scattermapbox": [
           {
            "marker": {
             "colorbar": {
              "outlinewidth": 0,
              "ticks": ""
             }
            },
            "type": "scattermapbox"
           }
          ],
          "scatterpolar": [
           {
            "marker": {
             "colorbar": {
              "outlinewidth": 0,
              "ticks": ""
             }
            },
            "type": "scatterpolar"
           }
          ],
          "scatterpolargl": [
           {
            "marker": {
             "colorbar": {
              "outlinewidth": 0,
              "ticks": ""
             }
            },
            "type": "scatterpolargl"
           }
          ],
          "scatterternary": [
           {
            "marker": {
             "colorbar": {
              "outlinewidth": 0,
              "ticks": ""
             }
            },
            "type": "scatterternary"
           }
          ],
          "surface": [
           {
            "colorbar": {
             "outlinewidth": 0,
             "ticks": ""
            },
            "colorscale": [
             [
              0,
              "#0d0887"
             ],
             [
              0.1111111111111111,
              "#46039f"
             ],
             [
              0.2222222222222222,
              "#7201a8"
             ],
             [
              0.3333333333333333,
              "#9c179e"
             ],
             [
              0.4444444444444444,
              "#bd3786"
             ],
             [
              0.5555555555555556,
              "#d8576b"
             ],
             [
              0.6666666666666666,
              "#ed7953"
             ],
             [
              0.7777777777777778,
              "#fb9f3a"
             ],
             [
              0.8888888888888888,
              "#fdca26"
             ],
             [
              1,
              "#f0f921"
             ]
            ],
            "type": "surface"
           }
          ],
          "table": [
           {
            "cells": {
             "fill": {
              "color": "#EBF0F8"
             },
             "line": {
              "color": "white"
             }
            },
            "header": {
             "fill": {
              "color": "#C8D4E3"
             },
             "line": {
              "color": "white"
             }
            },
            "type": "table"
           }
          ]
         },
         "layout": {
          "annotationdefaults": {
           "arrowcolor": "#2a3f5f",
           "arrowhead": 0,
           "arrowwidth": 1
          },
          "autotypenumbers": "strict",
          "coloraxis": {
           "colorbar": {
            "outlinewidth": 0,
            "ticks": ""
           }
          },
          "colorscale": {
           "diverging": [
            [
             0,
             "#8e0152"
            ],
            [
             0.1,
             "#c51b7d"
            ],
            [
             0.2,
             "#de77ae"
            ],
            [
             0.3,
             "#f1b6da"
            ],
            [
             0.4,
             "#fde0ef"
            ],
            [
             0.5,
             "#f7f7f7"
            ],
            [
             0.6,
             "#e6f5d0"
            ],
            [
             0.7,
             "#b8e186"
            ],
            [
             0.8,
             "#7fbc41"
            ],
            [
             0.9,
             "#4d9221"
            ],
            [
             1,
             "#276419"
            ]
           ],
           "sequential": [
            [
             0,
             "#0d0887"
            ],
            [
             0.1111111111111111,
             "#46039f"
            ],
            [
             0.2222222222222222,
             "#7201a8"
            ],
            [
             0.3333333333333333,
             "#9c179e"
            ],
            [
             0.4444444444444444,
             "#bd3786"
            ],
            [
             0.5555555555555556,
             "#d8576b"
            ],
            [
             0.6666666666666666,
             "#ed7953"
            ],
            [
             0.7777777777777778,
             "#fb9f3a"
            ],
            [
             0.8888888888888888,
             "#fdca26"
            ],
            [
             1,
             "#f0f921"
            ]
           ],
           "sequentialminus": [
            [
             0,
             "#0d0887"
            ],
            [
             0.1111111111111111,
             "#46039f"
            ],
            [
             0.2222222222222222,
             "#7201a8"
            ],
            [
             0.3333333333333333,
             "#9c179e"
            ],
            [
             0.4444444444444444,
             "#bd3786"
            ],
            [
             0.5555555555555556,
             "#d8576b"
            ],
            [
             0.6666666666666666,
             "#ed7953"
            ],
            [
             0.7777777777777778,
             "#fb9f3a"
            ],
            [
             0.8888888888888888,
             "#fdca26"
            ],
            [
             1,
             "#f0f921"
            ]
           ]
          },
          "colorway": [
           "#636efa",
           "#EF553B",
           "#00cc96",
           "#ab63fa",
           "#FFA15A",
           "#19d3f3",
           "#FF6692",
           "#B6E880",
           "#FF97FF",
           "#FECB52"
          ],
          "font": {
           "color": "#2a3f5f"
          },
          "geo": {
           "bgcolor": "white",
           "lakecolor": "white",
           "landcolor": "#E5ECF6",
           "showlakes": true,
           "showland": true,
           "subunitcolor": "white"
          },
          "hoverlabel": {
           "align": "left"
          },
          "hovermode": "closest",
          "mapbox": {
           "style": "light"
          },
          "paper_bgcolor": "white",
          "plot_bgcolor": "#E5ECF6",
          "polar": {
           "angularaxis": {
            "gridcolor": "white",
            "linecolor": "white",
            "ticks": ""
           },
           "bgcolor": "#E5ECF6",
           "radialaxis": {
            "gridcolor": "white",
            "linecolor": "white",
            "ticks": ""
           }
          },
          "scene": {
           "xaxis": {
            "backgroundcolor": "#E5ECF6",
            "gridcolor": "white",
            "gridwidth": 2,
            "linecolor": "white",
            "showbackground": true,
            "ticks": "",
            "zerolinecolor": "white"
           },
           "yaxis": {
            "backgroundcolor": "#E5ECF6",
            "gridcolor": "white",
            "gridwidth": 2,
            "linecolor": "white",
            "showbackground": true,
            "ticks": "",
            "zerolinecolor": "white"
           },
           "zaxis": {
            "backgroundcolor": "#E5ECF6",
            "gridcolor": "white",
            "gridwidth": 2,
            "linecolor": "white",
            "showbackground": true,
            "ticks": "",
            "zerolinecolor": "white"
           }
          },
          "shapedefaults": {
           "line": {
            "color": "#2a3f5f"
           }
          },
          "ternary": {
           "aaxis": {
            "gridcolor": "white",
            "linecolor": "white",
            "ticks": ""
           },
           "baxis": {
            "gridcolor": "white",
            "linecolor": "white",
            "ticks": ""
           },
           "bgcolor": "#E5ECF6",
           "caxis": {
            "gridcolor": "white",
            "linecolor": "white",
            "ticks": ""
           }
          },
          "title": {
           "x": 0.05
          },
          "xaxis": {
           "automargin": true,
           "gridcolor": "white",
           "linecolor": "white",
           "ticks": "",
           "title": {
            "standoff": 15
           },
           "zerolinecolor": "white",
           "zerolinewidth": 2
          },
          "yaxis": {
           "automargin": true,
           "gridcolor": "white",
           "linecolor": "white",
           "ticks": "",
           "title": {
            "standoff": 15
           },
           "zerolinecolor": "white",
           "zerolinewidth": 2
          }
         }
        },
        "title": {
         "text": "Weekly availability share — B"
        },
        "xaxis": {
         "anchor": "y",
         "autorange": true,
         "domain": [
          0,
          1
         ],
         "range": [
          0,
          23
         ],
         "title": {
          "text": "hour"
         },
         "type": "linear"
        },
        "yaxis": {
         "anchor": "x",
         "autorange": true,
         "domain": [
          0,
          1
         ],
         "range": [
          -0.008368200836820078,
          0.9539748953974896
         ],
         "tickformat": ".0%",
         "title": {
          "text": "availability_share"
         },
         "type": "linear"
        }
       }
      },
      "image/png": "[encoded data removed]"
     },
     "metadata": {},
     "output_type": "display_data"
    },
    {
     "data": {
      "application/vnd.plotly.v1+json": {
       "config": {
        "plotlyServerURL": "https://plot.ly"
       },
       "data": [
        {
         "bingroup": "x",
         "hovertemplate": "arr_hour=%{x}<br>count=%{y}<extra></extra>",
         "legendgroup": "",
         "marker": {
          "color": "#636efa",
          "pattern": {
           "shape": ""
          }
         },
         "name": "",
         "nbinsx": 24,
         "orientation": "v",
         "showlegend": false,
         "type": "histogram",
         "x": {
          "_inputArray": {
           "0": 8,
           "1": 8,
           "10": 7,
           "100": 7,
           "101": 8,
           "102": 0,
           "103": 7,
           "104": 7,
           "105": 4,
           "106": 1,
           "107": 0,
           "108": 7,
           "109": 0,
           "11": 7,
           "110": 4,
           "111": 7,
           "112": 4,
           "113": 2,
           "114": 7,
           "115": 3,
           "116": 1,
           "117": 1,
           "118": 3,
           "119": 7,
           "12": 7,
           "120": 7,
           "121": 7,
           "122": 3,
           "123": 5,
           "124": 6,
           "125": 7,
           "126": 4,
           "127": 1,
           "128": 7,
           "129": 7,
           "13": 8,
           "130": 3,
           "131": 0,
           "132": 7,
           "133": 7,
           "134": 7,
           "135": 0,
           "136": 3,
           "137": 7,
           "138": 7,
           "139": 7,
           "14": 8,
           "140": 8,
           "141": 7,
           "142": 0,
           "143": 0,
           "144": 1,
           "145": 7,
           "146": 8,
           "147": 1,
           "148": 2,
           "149": 7,
           "15": 1,
           "150": 2,
           "151": 5,
           "152": 0,
           "153": 8,
           "154": 7,
           "155": 8,
           "156": 8,
           "157": 8,
           "158": 8,
           "159": 0,
           "16": 8,
           "160": 8,
           "161": 8,
           "162": 8,
           "163": 7,
           "164": 0,
           "165": 8,
           "166": 3,
           "167": 2,
           "168": 7,
           "169": 8,
           "17": 8,
           "170": 5,
           "171": 8,
           "172": 2,
           "173": 6,
           "174": 7,
           "175": 6,
           "176": 7,
           "177": 7,
           "178": 2,
           "179": 5,
           "18": 8,
           "180": 5,
           "181": 2,
           "182": 7,
           "183": 7,
           "184": 7,
           "185": 7,
           "186": 7,
           "187": 7,
           "188": 7,
           "189": 0,
           "19": 0,
           "190": 7,
           "191": 7,
           "192": 0,
           "193": 7,
           "194": 8,
           "195": 8,
           "196": 8,
           "197": 7,
           "198": 4,
           "199": 7,
           "2": 9,
           "20": 8,
           "200": 3,
           "201": 5,
           "202": 7,
           "203": 7,
           "204": 0,
           "205": 7,
           "206": 7,
           "207": 7,
           "208": 0,
           "209": 6,
           "21": 8,
           "210": 7,
           "211": 1,
           "212": 7,
           "213": 7,
           "214": 7,
           "215": 6,
           "216": 7,
           "217": 6,
           "218": 7,
           "219": 1,
           "22": 11,
           "220": 7,
           "221": 7,
           "222": 2,
           "223": 6,
           "224": 7,
           "225": 0,
           "226": 7,
           "227": 7,
           "228": 7,
           "229": 7,
           "23": 8,
           "230": 7,
           "231": 7,
           "232": 1,
           "233": 7,
           "234": 0,
           "235": 0,
           "236": 7,
           "237": 7,
           "238": 7,
           "239": 7,
           "24": 0,
           "240": 7,
           "241": 7,
           "242": 7,
           "243": 7,
           "244": 7,
           "245": 8,
           "246": 1,
           "247": 8,
           "248": 8,
           "249": 8,
           "25": 4,
           "250": 5,
           "251": 8,
           "252": 8,
           "253": 1,
           "254": 7,
           "255": 8,
           "256": 8,
           "257": 4,
           "258": 8,
           "259": 1,
           "26": 8,
           "260": 7,
           "261": 3,
           "262": 8,
           "263": 1,
           "264": 7,
           "265": 7,
           "266": 0,
           "267": 7,
           "268": 8,
           "269": 8,
           "27": 8,
           "270": 8,
           "271": 8,
           "272": 6,
           "273": 0,
           "274": 4,
           "275": 7,
           "276": 2,
           "277": 7,
           "278": 7,
           "279": 8,
           "28": 1,
           "280": 7,
           "281": 7,
           "282": 7,
           "283": 7,
           "284": 1,
           "285": 1,
           "286": 7,
           "287": 8,
           "288": 2,
           "289": 0,
           "29": 8,
           "290": 0,
           "291": 7,
           "292": 7,
           "293": 7,
           "294": 7,
           "295": 7,
           "296": 1,
           "297": 7,
           "298": 7,
           "299": 6,
           "3": 8,
           "30": 8,
           "300": 7,
           "301": 3,
           "302": 7,
           "303": 7,
           "304": 0,
           "305": 7,
           "306": 7,
           "307": 0,
           "308": 0,
           "309": 4,
           "31": 5,
           "310": 5,
           "311": 7,
           "312": 7,
           "313": 7,
           "314": 7,
           "315": 1,
           "316": 7,
           "317": 0,
           "318": 7,
           "319": 7,
           "32": 8,
           "320": 7,
           "321": 7,
           "322": 7,
           "323": 7,
           "324": 1,
           "325": 7,
           "326": 7,
           "327": 6,
           "328": 4,
           "329": 7,
           "33": 7,
           "330": 7,
           "331": 7,
           "332": 7,
           "333": 7,
           "334": 7,
           "335": 7,
           "336": 8,
           "337": 0,
           "338": 8,
           "339": 8,
           "34": 7,
           "340": 8,
           "341": 8,
           "342": 8,
           "343": 8,
           "344": 8,
           "345": 8,
           "346": 6,
           "347": 8,
           "348": 0,
           "349": 8,
           "35": 8,
           "350": 0,
           "351": 0,
           "352": 7,
           "353": 0,
           "354": 6,
           "355": 7,
           "356": 6,
           "357": 5,
           "358": 6,
           "359": 6,
           "36": 8,
           "360": 0,
           "361": 6,
           "362": 6,
           "363": 5,
           "364": 0,
           "365": 0,
           "366": 7,
           "367": 0,
           "368": 6,
           "369": 6,
           "37": 8,
           "370": 6,
           "371": 2,
           "372": 6,
           "373": 7,
           "374": 3,
           "375": 7,
           "376": 7,
           "377": 3,
           "378": 6,
           "379": 7,
           "38": 7,
           "380": 6,
           "381": 7,
           "382": 7,
           "383": 3,
           "384": 6,
           "385": 3,
           "386": 6,
           "387": 6,
           "388": 1,
           "389": 6,
           "39": 8,
           "390": 6,
           "391": 7,
           "392": 5,
           "393": 6,
           "394": 3,
           "395": 7,
           "396": 7,
           "397": 0,
           "398": 7,
           "399": 1,
           "4": 8,
           "40": 8,
           "400": 0,
           "401": 7,
           "402": 7,
           "403": 7,
           "404": 7,
           "405": 6,
           "406": 8,
           "407": 5,
           "408": 7,
           "409": 7,
           "41": 7,
           "410": 7,
           "411": 5,
           "412": 7,
           "413": 5,
           "414": 7,
           "415": 8,
           "416": 2,
           "417": 8,
           "418": 4,
           "419": 7,
           "42": 7,
           "420": 8,
           "421": 8,
           "422": 8,
           "423": 1,
           "424": 8,
           "425": 8,
           "426": 8,
           "427": 1,
           "428": 8,
           "429": 8,
           "43": 7,
           "430": 8,
           "431": 7,
           "432": 7,
           "433": 0,
           "434": 7,
           "435": 6,
           "436": 7,
           "437": 7,
           "438": 8,
           "439": 10,
           "44": 1,
           "440": 6,
           "441": 7,
           "442": 5,
           "443": 3,
           "444": 7,
           "445": 8,
           "446": 8,
           "447": 8,
           "448": 7,
           "449": 3,
           "45": 1,
           "450": 7,
           "451": 7,
           "452": 7,
           "453": 1,
           "454": 7,
           "455": 6,
           "456": 7,
           "457": 7,
           "458": 0,
           "459": 7,
           "46": 7,
           "460": 8,
           "461": 5,
           "462": 11,
           "463": 7,
           "464": 8,
           "465": 8,
           "466": 8,
           "467": 0,
           "468": 8,
           "469": 0,
           "47": 8,
           "470": 8,
           "471": 8,
           "472": 9,
           "473": 8,
           "474": 8,
           "475": 8,
           "476": 8,
           "477": 8,
           "48": 8,
           "49": 8,
           "5": 8,
           "50": 8,
           "51": 7,
           "52": 7,
           "53": 7,
           "54": 6,
           "55": 8,
           "56": 8,
           "57": 4,
           "58": 7,
           "59": 8,
           "6": 7,
           "60": 8,
           "61": 8,
           "62": 8,
           "63": 7,
           "64": 8,
           "65": 1,
           "66": 0,
           "67": 8,
           "68": 7,
           "69": 8,
           "7": 4,
           "70": 7,
           "71": 7,
           "72": 7,
           "73": 7,
           "74": 7,
           "75": 8,
           "76": 8,
           "77": 8,
           "78": 8,
           "79": 7,
           "8": 1,
           "80": 3,
           "81": 7,
           "82": 7,
           "83": 7,
           "84": 7,
           "85": 7,
           "86": 9,
           "87": 8,
           "88": 1,
           "89": 7,
           "9": 7,
           "90": 7,
           "91": 7,
           "92": 8,
           "93": 8,
           "94": 7,
           "95": 7,
           "96": 0,
           "97": 7,
           "98": 2,
           "99": 8,
           "bdata": "CAAAAAgAAAAJAAAACAAAAAgAAAAIAAAABwAAAAQAAAABAAAABwAAAAcAAAAHAAAABwAAAAgAAAAIAAAAAQAAAAgAAAAIAAAACAAAAAAAAAAIAAAACAAAAAsAAAAIAAAAAAAAAAQAAAAIAAAACAAAAAEAAAAIAAAACAAAAAUAAAAIAAAABwAAAAcAAAAIAAAACAAAAAgAAAAHAAAACAAAAAgAAAAHAAAABwAAAAcAAAABAAAAAQAAAAcAAAAIAAAACAAAAAgAAAAIAAAABwAAAAcAAAAHAAAABgAAAAgAAAAIAAAABAAAAAcAAAAIAAAACAAAAAgAAAAIAAAABwAAAAgAAAABAAAAAAAAAAgAAAAHAAAACAAAAAcAAAAHAAAABwAAAAcAAAAHAAAACAAAAAgAAAAIAAAACAAAAAcAAAADAAAABwAAAAcAAAAHAAAABwAAAAcAAAAJAAAACAAAAAEAAAAHAAAABwAAAAcAAAAIAAAACAAAAAcAAAAHAAAAAAAAAAcAAAACAAAACAAAAAcAAAAIAAAAAAAAAAcAAAAHAAAABAAAAAEAAAAAAAAABwAAAAAAAAAEAAAABwAAAAQAAAACAAAABwAAAAMAAAABAAAAAQAAAAMAAAAHAAAABwAAAAcAAAADAAAABQAAAAYAAAAHAAAABAAAAAEAAAAHAAAABwAAAAMAAAAAAAAABwAAAAcAAAAHAAAAAAAAAAMAAAAHAAAABwAAAAcAAAAIAAAABwAAAAAAAAAAAAAAAQAAAAcAAAAIAAAAAQAAAAIAAAAHAAAAAgAAAAUAAAAAAAAACAAAAAcAAAAIAAAACAAAAAgAAAAIAAAAAAAAAAgAAAAIAAAACAAAAAcAAAAAAAAACAAAAAMAAAACAAAABwAAAAgAAAAFAAAACAAAAAIAAAAGAAAABwAAAAYAAAAHAAAABwAAAAIAAAAFAAAABQAAAAIAAAAHAAAABwAAAAcAAAAHAAAABwAAAAcAAAAHAAAAAAAAAAcAAAAHAAAAAAAAAAcAAAAIAAAACAAAAAgAAAAHAAAABAAAAAcAAAADAAAABQAAAAcAAAAHAAAAAAAAAAcAAAAHAAAABwAAAAAAAAAGAAAABwAAAAEAAAAHAAAABwAAAAcAAAAGAAAABwAAAAYAAAAHAAAAAQAAAAcAAAAHAAAAAgAAAAYAAAAHAAAAAAAAAAcAAAAHAAAABwAAAAcAAAAHAAAABwAAAAEAAAAHAAAAAAAAAAAAAAAHAAAABwAAAAcAAAAHAAAABwAAAAcAAAAHAAAABwAAAAcAAAAIAAAAAQAAAAgAAAAIAAAACAAAAAUAAAAIAAAACAAAAAEAAAAHAAAACAAAAAgAAAAEAAAACAAAAAEAAAAHAAAAAwAAAAgAAAABAAAABwAAAAcAAAAAAAAABwAAAAgAAAAIAAAACAAAAAgAAAAGAAAAAAAAAAQAAAAHAAAAAgAAAAcAAAAHAAAACAAAAAcAAAAHAAAABwAAAAcAAAABAAAAAQAAAAcAAAAIAAAAAgAAAAAAAAAAAAAABwAAAAcAAAAHAAAABwAAAAcAAAABAAAABwAAAAcAAAAGAAAABwAAAAMAAAAHAAAABwAAAAAAAAAHAAAABwAAAAAAAAAAAAAABAAAAAUAAAAHAAAABwAAAAcAAAAHAAAAAQAAAAcAAAAAAAAABwAAAAcAAAAHAAAABwAAAAcAAAAHAAAAAQAAAAcAAAAHAAAABgAAAAQAAAAHAAAABwAAAAcAAAAHAAAABwAAAAcAAAAHAAAACAAAAAAAAAAIAAAACAAAAAgAAAAIAAAACAAAAAgAAAAIAAAACAAAAAYAAAAIAAAAAAAAAAgAAAAAAAAAAAAAAAcAAAAAAAAABgAAAAcAAAAGAAAABQAAAAYAAAAGAAAAAAAAAAYAAAAGAAAABQAAAAAAAAAAAAAABwAAAAAAAAAGAAAABgAAAAYAAAACAAAABgAAAAcAAAADAAAABwAAAAcAAAADAAAABgAAAAcAAAAGAAAABwAAAAcAAAADAAAABgAAAAMAAAAGAAAABgAAAAEAAAAGAAAABgAAAAcAAAAFAAAABgAAAAMAAAAHAAAABwAAAAAAAAAHAAAAAQAAAAAAAAAHAAAABwAAAAcAAAAHAAAABgAAAAgAAAAFAAAABwAAAAcAAAAHAAAABQAAAAcAAAAFAAAABwAAAAgAAAACAAAACAAAAAQAAAAHAAAACAAAAAgAAAAIAAAAAQAAAAgAAAAIAAAACAAAAAEAAAAIAAAACAAAAAgAAAAHAAAABwAAAAAAAAAHAAAABgAAAAcAAAAHAAAACAAAAAoAAAAGAAAABwAAAAUAAAADAAAABwAAAAgAAAAIAAAACAAAAAcAAAADAAAABwAAAAcAAAAHAAAAAQAAAAcAAAAGAAAABwAAAAcAAAAAAAAABwAAAAgAAAAFAAAACwAAAAcAAAAIAAAACAAAAAgAAAAAAAAACAAAAAAAAAAIAAAACAAAAAkAAAAIAAAACAAAAAgAAAAIAAAACAAAAA==",
           "dtype": "i4",
           "shape": "478"
          },
          "bdata": "CAAAAAgAAAAJAAAACAAAAAgAAAAIAAAABwAAAAQAAAABAAAABwAAAAcAAAAHAAAABwAAAAgAAAAIAAAAAQAAAAgAAAAIAAAACAAAAAAAAAAIAAAACAAAAAsAAAAIAAAAAAAAAAQAAAAIAAAACAAAAAEAAAAIAAAACAAAAAUAAAAIAAAABwAAAAcAAAAIAAAACAAAAAgAAAAHAAAACAAAAAgAAAAHAAAABwAAAAcAAAABAAAAAQAAAAcAAAAIAAAACAAAAAgAAAAIAAAABwAAAAcAAAAHAAAABgAAAAgAAAAIAAAABAAAAAcAAAAIAAAACAAAAAgAAAAIAAAABwAAAAgAAAABAAAAAAAAAAgAAAAHAAAACAAAAAcAAAAHAAAABwAAAAcAAAAHAAAACAAAAAgAAAAIAAAACAAAAAcAAAADAAAABwAAAAcAAAAHAAAABwAAAAcAAAAJAAAACAAAAAEAAAAHAAAABwAAAAcAAAAIAAAACAAAAAcAAAAHAAAAAAAAAAcAAAACAAAACAAAAAcAAAAIAAAAAAAAAAcAAAAHAAAABAAAAAEAAAAAAAAABwAAAAAAAAAEAAAABwAAAAQAAAACAAAABwAAAAMAAAABAAAAAQAAAAMAAAAHAAAABwAAAAcAAAADAAAABQAAAAYAAAAHAAAABAAAAAEAAAAHAAAABwAAAAMAAAAAAAAABwAAAAcAAAAHAAAAAAAAAAMAAAAHAAAABwAAAAcAAAAIAAAABwAAAAAAAAAAAAAAAQAAAAcAAAAIAAAAAQAAAAIAAAAHAAAAAgAAAAUAAAAAAAAACAAAAAcAAAAIAAAACAAAAAgAAAAIAAAAAAAAAAgAAAAIAAAACAAAAAcAAAAAAAAACAAAAAMAAAACAAAABwAAAAgAAAAFAAAACAAAAAIAAAAGAAAABwAAAAYAAAAHAAAABwAAAAIAAAAFAAAABQAAAAIAAAAHAAAABwAAAAcAAAAHAAAABwAAAAcAAAAHAAAAAAAAAAcAAAAHAAAAAAAAAAcAAAAIAAAACAAAAAgAAAAHAAAABAAAAAcAAAADAAAABQAAAAcAAAAHAAAAAAAAAAcAAAAHAAAABwAAAAAAAAAGAAAABwAAAAEAAAAHAAAABwAAAAcAAAAGAAAABwAAAAYAAAAHAAAAAQAAAAcAAAAHAAAAAgAAAAYAAAAHAAAAAAAAAAcAAAAHAAAABwAAAAcAAAAHAAAABwAAAAEAAAAHAAAAAAAAAAAAAAAHAAAABwAAAAcAAAAHAAAABwAAAAcAAAAHAAAABwAAAAcAAAAIAAAAAQAAAAgAAAAIAAAACAAAAAUAAAAIAAAACAAAAAEAAAAHAAAACAAAAAgAAAAEAAAACAAAAAEAAAAHAAAAAwAAAAgAAAABAAAABwAAAAcAAAAAAAAABwAAAAgAAAAIAAAACAAAAAgAAAAGAAAAAAAAAAQAAAAHAAAAAgAAAAcAAAAHAAAACAAAAAcAAAAHAAAABwAAAAcAAAABAAAAAQAAAAcAAAAIAAAAAgAAAAAAAAAAAAAABwAAAAcAAAAHAAAABwAAAAcAAAABAAAABwAAAAcAAAAGAAAABwAAAAMAAAAHAAAABwAAAAAAAAAHAAAABwAAAAAAAAAAAAAABAAAAAUAAAAHAAAABwAAAAcAAAAHAAAAAQAAAAcAAAAAAAAABwAAAAcAAAAHAAAABwAAAAcAAAAHAAAAAQAAAAcAAAAHAAAABgAAAAQAAAAHAAAABwAAAAcAAAAHAAAABwAAAAcAAAAHAAAACAAAAAAAAAAIAAAACAAAAAgAAAAIAAAACAAAAAgAAAAIAAAACAAAAAYAAAAIAAAAAAAAAAgAAAAAAAAAAAAAAAcAAAAAAAAABgAAAAcAAAAGAAAABQAAAAYAAAAGAAAAAAAAAAYAAAAGAAAABQAAAAAAAAAAAAAABwAAAAAAAAAGAAAABgAAAAYAAAACAAAABgAAAAcAAAADAAAABwAAAAcAAAADAAAABgAAAAcAAAAGAAAABwAAAAcAAAADAAAABgAAAAMAAAAGAAAABgAAAAEAAAAGAAAABgAAAAcAAAAFAAAABgAAAAMAAAAHAAAABwAAAAAAAAAHAAAAAQAAAAAAAAAHAAAABwAAAAcAAAAHAAAABgAAAAgAAAAFAAAABwAAAAcAAAAHAAAABQAAAAcAAAAFAAAABwAAAAgAAAACAAAACAAAAAQAAAAHAAAACAAAAAgAAAAIAAAAAQAAAAgAAAAIAAAACAAAAAEAAAAIAAAACAAAAAgAAAAHAAAABwAAAAAAAAAHAAAABgAAAAcAAAAHAAAACAAAAAoAAAAGAAAABwAAAAUAAAADAAAABwAAAAgAAAAIAAAACAAAAAcAAAADAAAABwAAAAcAAAAHAAAAAQAAAAcAAAAGAAAABwAAAAcAAAAAAAAABwAAAAgAAAAFAAAACwAAAAcAAAAIAAAACAAAAAgAAAAAAAAACAAAAAAAAAAIAAAACAAAAAkAAAAIAAAACAAAAAgAAAAIAAAACAAAAA==",
          "dtype": "i4"
         },
         "xaxis": "x",
         "yaxis": "y"
        }
       ],
       "layout": {
        "autosize": true,
        "barmode": "relative",
        "legend": {
         "tracegroupgap": 0
        },
        "template": {
         "data": {
          "bar": [
           {
            "error_x": {
             "color": "#2a3f5f"
            },
            "error_y": {
             "color": "#2a3f5f"
            },
            "marker": {
             "line": {
              "color": "#E5ECF6",
              "width": 0.5
             },
             "pattern": {
              "fillmode": "overlay",
              "size": 10,
              "solidity": 0.2
             }
            },
            "type": "bar"
           }
          ],
          "barpolar": [
           {
            "marker": {
             "line": {
              "color": "#E5ECF6",
              "width": 0.5
             },
             "pattern": {
              "fillmode": "overlay",
              "size": 10,
              "solidity": 0.2
             }
            },
            "type": "barpolar"
           }
          ],
          "carpet": [
           {
            "aaxis": {
             "endlinecolor": "#2a3f5f",
             "gridcolor": "white",
             "linecolor": "white",
             "minorgridcolor": "white",
             "startlinecolor": "#2a3f5f"
            },
            "baxis": {
             "endlinecolor": "#2a3f5f",
             "gridcolor": "white",
             "linecolor": "white",
             "minorgridcolor": "white",
             "startlinecolor": "#2a3f5f"
            },
            "type": "carpet"
           }
          ],
          "choropleth": [
           {
            "colorbar": {
             "outlinewidth": 0,
             "ticks": ""
            },
            "type": "choropleth"
           }
          ],
          "contour": [
           {
            "colorbar": {
             "outlinewidth": 0,
             "ticks": ""
            },
            "colorscale": [
             [
              0,
              "#0d0887"
             ],
             [
              0.1111111111111111,
              "#46039f"
             ],
             [
              0.2222222222222222,
              "#7201a8"
             ],
             [
              0.3333333333333333,
              "#9c179e"
             ],
             [
              0.4444444444444444,
              "#bd3786"
             ],
             [
              0.5555555555555556,
              "#d8576b"
             ],
             [
              0.6666666666666666,
              "#ed7953"
             ],
             [
              0.7777777777777778,
              "#fb9f3a"
             ],
             [
              0.8888888888888888,
              "#fdca26"
             ],
             [
              1,
              "#f0f921"
             ]
            ],
            "type": "contour"
           }
          ],
          "contourcarpet": [
           {
            "colorbar": {
             "outlinewidth": 0,
             "ticks": ""
            },
            "type": "contourcarpet"
           }
          ],
          "heatmap": [
           {
            "colorbar": {
             "outlinewidth": 0,
             "ticks": ""
            },
            "colorscale": [
             [
              0,
              "#0d0887"
             ],
             [
              0.1111111111111111,
              "#46039f"
             ],
             [
              0.2222222222222222,
              "#7201a8"
             ],
             [
              0.3333333333333333,
              "#9c179e"
             ],
             [
              0.4444444444444444,
              "#bd3786"
             ],
             [
              0.5555555555555556,
              "#d8576b"
             ],
             [
              0.6666666666666666,
              "#ed7953"
             ],
             [
              0.7777777777777778,
              "#fb9f3a"
             ],
             [
              0.8888888888888888,
              "#fdca26"
             ],
             [
              1,
              "#f0f921"
             ]
            ],
            "type": "heatmap"
           }
          ],
          "histogram": [
           {
            "marker": {
             "pattern": {
              "fillmode": "overlay",
              "size": 10,
              "solidity": 0.2
             }
            },
            "type": "histogram"
           }
          ],
          "histogram2d": [
           {
            "colorbar": {
             "outlinewidth": 0,
             "ticks": ""
            },
            "colorscale": [
             [
              0,
              "#0d0887"
             ],
             [
              0.1111111111111111,
              "#46039f"
             ],
             [
              0.2222222222222222,
              "#7201a8"
             ],
             [
              0.3333333333333333,
              "#9c179e"
             ],
             [
              0.4444444444444444,
              "#bd3786"
             ],
             [
              0.5555555555555556,
              "#d8576b"
             ],
             [
              0.6666666666666666,
              "#ed7953"
             ],
             [
              0.7777777777777778,
              "#fb9f3a"
             ],
             [
              0.8888888888888888,
              "#fdca26"
             ],
             [
              1,
              "#f0f921"
             ]
            ],
            "type": "histogram2d"
           }
          ],
          "histogram2dcontour": [
           {
            "colorbar": {
             "outlinewidth": 0,
             "ticks": ""
            },
            "colorscale": [
             [
              0,
              "#0d0887"
             ],
             [
              0.1111111111111111,
              "#46039f"
             ],
             [
              0.2222222222222222,
              "#7201a8"
             ],
             [
              0.3333333333333333,
              "#9c179e"
             ],
             [
              0.4444444444444444,
              "#bd3786"
             ],
             [
              0.5555555555555556,
              "#d8576b"
             ],
             [
              0.6666666666666666,
              "#ed7953"
             ],
             [
              0.7777777777777778,
              "#fb9f3a"
             ],
             [
              0.8888888888888888,
              "#fdca26"
             ],
             [
              1,
              "#f0f921"
             ]
            ],
            "type": "histogram2dcontour"
           }
          ],
          "mesh3d": [
           {
            "colorbar": {
             "outlinewidth": 0,
             "ticks": ""
            },
            "type": "mesh3d"
           }
          ],
          "parcoords": [
           {
            "line": {
             "colorbar": {
              "outlinewidth": 0,
              "ticks": ""
             }
            },
            "type": "parcoords"
           }
          ],
          "pie": [
           {
            "automargin": true,
            "type": "pie"
           }
          ],
          "scatter": [
           {
            "fillpattern": {
             "fillmode": "overlay",
             "size": 10,
             "solidity": 0.2
            },
            "type": "scatter"
           }
          ],
          "scatter3d": [
           {
            "line": {
             "colorbar": {
              "outlinewidth": 0,
              "ticks": ""
             }
            },
            "marker": {
             "colorbar": {
              "outlinewidth": 0,
              "ticks": ""
             }
            },
            "type": "scatter3d"
           }
          ],
          "scattercarpet": [
           {
            "marker": {
             "colorbar": {
              "outlinewidth": 0,
              "ticks": ""
             }
            },
            "type": "scattercarpet"
           }
          ],
          "scattergeo": [
           {
            "marker": {
             "colorbar": {
              "outlinewidth": 0,
              "ticks": ""
             }
            },
            "type": "scattergeo"
           }
          ],
          "scattergl": [
           {
            "marker": {
             "colorbar": {
              "outlinewidth": 0,
              "ticks": ""
             }
            },
            "type": "scattergl"
           }
          ],
          "scattermap": [
           {
            "marker": {
             "colorbar": {
              "outlinewidth": 0,
              "ticks": ""
             }
            },
            "type": "scattermap"
           }
          ],
          "scattermapbox": [
           {
            "marker": {
             "colorbar": {
              "outlinewidth": 0,
              "ticks": ""
             }
            },
            "type": "scattermapbox"
           }
          ],
          "scatterpolar": [
           {
            "marker": {
             "colorbar": {
              "outlinewidth": 0,
              "ticks": ""
             }
            },
            "type": "scatterpolar"
           }
          ],
          "scatterpolargl": [
           {
            "marker": {
             "colorbar": {
              "outlinewidth": 0,
              "ticks": ""
             }
            },
            "type": "scatterpolargl"
           }
          ],
          "scatterternary": [
           {
            "marker": {
             "colorbar": {
              "outlinewidth": 0,
              "ticks": ""
             }
            },
            "type": "scatterternary"
           }
          ],
          "surface": [
           {
            "colorbar": {
             "outlinewidth": 0,
             "ticks": ""
            },
            "colorscale": [
             [
              0,
              "#0d0887"
             ],
             [
              0.1111111111111111,
              "#46039f"
             ],
             [
              0.2222222222222222,
              "#7201a8"
             ],
             [
              0.3333333333333333,
              "#9c179e"
             ],
             [
              0.4444444444444444,
              "#bd3786"
             ],
             [
              0.5555555555555556,
              "#d8576b"
             ],
             [
              0.6666666666666666,
              "#ed7953"
             ],
             [
              0.7777777777777778,
              "#fb9f3a"
             ],
             [
              0.8888888888888888,
              "#fdca26"
             ],
             [
              1,
              "#f0f921"
             ]
            ],
            "type": "surface"
           }
          ],
          "table": [
           {
            "cells": {
             "fill": {
              "color": "#EBF0F8"
             },
             "line": {
              "color": "white"
             }
            },
            "header": {
             "fill": {
              "color": "#C8D4E3"
             },
             "line": {
              "color": "white"
             }
            },
            "type": "table"
           }
          ]
         },
         "layout": {
          "annotationdefaults": {
           "arrowcolor": "#2a3f5f",
           "arrowhead": 0,
           "arrowwidth": 1
          },
          "autotypenumbers": "strict",
          "coloraxis": {
           "colorbar": {
            "outlinewidth": 0,
            "ticks": ""
           }
          },
          "colorscale": {
           "diverging": [
            [
             0,
             "#8e0152"
            ],
            [
             0.1,
             "#c51b7d"
            ],
            [
             0.2,
             "#de77ae"
            ],
            [
             0.3,
             "#f1b6da"
            ],
            [
             0.4,
             "#fde0ef"
            ],
            [
             0.5,
             "#f7f7f7"
            ],
            [
             0.6,
             "#e6f5d0"
            ],
            [
             0.7,
             "#b8e186"
            ],
            [
             0.8,
             "#7fbc41"
            ],
            [
             0.9,
             "#4d9221"
            ],
            [
             1,
             "#276419"
            ]
           ],
           "sequential": [
            [
             0,
             "#0d0887"
            ],
            [
             0.1111111111111111,
             "#46039f"
            ],
            [
             0.2222222222222222,
             "#7201a8"
            ],
            [
             0.3333333333333333,
             "#9c179e"
            ],
            [
             0.4444444444444444,
             "#bd3786"
            ],
            [
             0.5555555555555556,
             "#d8576b"
            ],
            [
             0.6666666666666666,
             "#ed7953"
            ],
            [
             0.7777777777777778,
             "#fb9f3a"
            ],
            [
             0.8888888888888888,
             "#fdca26"
            ],
            [
             1,
             "#f0f921"
            ]
           ],
           "sequentialminus": [
            [
             0,
             "#0d0887"
            ],
            [
             0.1111111111111111,
             "#46039f"
            ],
            [
             0.2222222222222222,
             "#7201a8"
            ],
            [
             0.3333333333333333,
             "#9c179e"
            ],
            [
             0.4444444444444444,
             "#bd3786"
            ],
            [
             0.5555555555555556,
             "#d8576b"
            ],
            [
             0.6666666666666666,
             "#ed7953"
            ],
            [
             0.7777777777777778,
             "#fb9f3a"
            ],
            [
             0.8888888888888888,
             "#fdca26"
            ],
            [
             1,
             "#f0f921"
            ]
           ]
          },
          "colorway": [
           "#636efa",
           "#EF553B",
           "#00cc96",
           "#ab63fa",
           "#FFA15A",
           "#19d3f3",
           "#FF6692",
           "#B6E880",
           "#FF97FF",
           "#FECB52"
          ],
          "font": {
           "color": "#2a3f5f"
          },
          "geo": {
           "bgcolor": "white",
           "lakecolor": "white",
           "landcolor": "#E5ECF6",
           "showlakes": true,
           "showland": true,
           "subunitcolor": "white"
          },
          "hoverlabel": {
           "align": "left"
          },
          "hovermode": "closest",
          "mapbox": {
           "style": "light"
          },
          "paper_bgcolor": "white",
          "plot_bgcolor": "#E5ECF6",
          "polar": {
           "angularaxis": {
            "gridcolor": "white",
            "linecolor": "white",
            "ticks": ""
           },
           "bgcolor": "#E5ECF6",
           "radialaxis": {
            "gridcolor": "white",
            "linecolor": "white",
            "ticks": ""
           }
          },
          "scene": {
           "xaxis": {
            "backgroundcolor": "#E5ECF6",
            "gridcolor": "white",
            "gridwidth": 2,
            "linecolor": "white",
            "showbackground": true,
            "ticks": "",
            "zerolinecolor": "white"
           },
           "yaxis": {
            "backgroundcolor": "#E5ECF6",
            "gridcolor": "white",
            "gridwidth": 2,
            "linecolor": "white",
            "showbackground": true,
            "ticks": "",
            "zerolinecolor": "white"
           },
           "zaxis": {
            "backgroundcolor": "#E5ECF6",
            "gridcolor": "white",
            "gridwidth": 2,
            "linecolor": "white",
            "showbackground": true,
            "ticks": "",
            "zerolinecolor": "white"
           }
          },
          "shapedefaults": {
           "line": {
            "color": "#2a3f5f"
           }
          },
          "ternary": {
           "aaxis": {
            "gridcolor": "white",
            "linecolor": "white",
            "ticks": ""
           },
           "baxis": {
            "gridcolor": "white",
            "linecolor": "white",
            "ticks": ""
           },
           "bgcolor": "#E5ECF6",
           "caxis": {
            "gridcolor": "white",
            "linecolor": "white",
            "ticks": ""
           }
          },
          "title": {
           "x": 0.05
          },
          "xaxis": {
           "automargin": true,
           "gridcolor": "white",
           "linecolor": "white",
           "ticks": "",
           "title": {
            "standoff": 15
           },
           "zerolinecolor": "white",
           "zerolinewidth": 2
          },
          "yaxis": {
           "automargin": true,
           "gridcolor": "white",
           "linecolor": "white",
           "ticks": "",
           "title": {
            "standoff": 15
           },
           "zerolinecolor": "white",
           "zerolinewidth": 2
          }
         }
        },
        "title": {
         "text": "Arrival time distribution — B"
        },
        "xaxis": {
         "anchor": "y",
         "autorange": true,
         "domain": [
          0,
          1
         ],
         "range": [
          -0.25,
          11.25
         ],
         "title": {
          "text": "arr_hour"
         },
         "type": "linear"
        },
        "yaxis": {
         "anchor": "x",
         "autorange": true,
         "domain": [
          0,
          1
         ],
         "range": [
          0,
          197.89473684210526
         ],
         "title": {
          "text": "count"
         }
        }
       }
      },
      "image/png": "[encoded data removed]"
     },
     "metadata": {},
     "output_type": "display_data"
    },
    {
     "data": {
      "application/vnd.plotly.v1+json": {
       "config": {
        "plotlyServerURL": "https://plot.ly"
       },
       "data": [
        {
         "bingroup": "x",
         "hovertemplate": "dep_hour=%{x}<br>count=%{y}<extra></extra>",
         "legendgroup": "",
         "marker": {
          "color": "#636efa",
          "pattern": {
           "shape": ""
          }
         },
         "name": "",
         "nbinsx": 24,
         "orientation": "v",
         "showlegend": false,
         "type": "histogram",
         "x": {
          "_inputArray": {
           "0": 8,
           "1": 8,
           "10": 18,
           "100": 22,
           "101": 20,
           "102": 11,
           "103": 12,
           "104": 19,
           "105": 22,
           "106": 22,
           "107": 22,
           "108": 23,
           "109": 22,
           "11": 15,
           "110": 16,
           "111": 22,
           "112": 21,
           "113": 0,
           "114": 14,
           "115": 11,
           "116": 23,
           "117": 22,
           "118": 14,
           "119": 23,
           "12": 19,
           "120": 16,
           "121": 14,
           "122": 23,
           "123": 20,
           "124": 11,
           "125": 18,
           "126": 23,
           "127": 21,
           "128": 17,
           "129": 15,
           "13": 8,
           "130": 13,
           "131": 16,
           "132": 22,
           "133": 11,
           "134": 18,
           "135": 19,
           "136": 14,
           "137": 17,
           "138": 21,
           "139": 19,
           "14": 21,
           "140": 19,
           "141": 21,
           "142": 12,
           "143": 16,
           "144": 22,
           "145": 16,
           "146": 22,
           "147": 22,
           "148": 22,
           "149": 23,
           "15": 15,
           "150": 23,
           "151": 19,
           "152": 15,
           "153": 22,
           "154": 18,
           "155": 21,
           "156": 17,
           "157": 20,
           "158": 22,
           "159": 19,
           "16": 13,
           "160": 18,
           "161": 18,
           "162": 22,
           "163": 10,
           "164": 10,
           "165": 22,
           "166": 21,
           "167": 21,
           "168": 21,
           "169": 21,
           "17": 11,
           "170": 22,
           "171": 18,
           "172": 21,
           "173": 23,
           "174": 23,
           "175": 21,
           "176": 17,
           "177": 23,
           "178": 19,
           "179": 18,
           "18": 20,
           "180": 20,
           "181": 23,
           "182": 22,
           "183": 21,
           "184": 23,
           "185": 23,
           "186": 19,
           "187": 22,
           "188": 19,
           "189": 9,
           "19": 19,
           "190": 19,
           "191": 22,
           "192": 17,
           "193": 13,
           "194": 20,
           "195": 20,
           "196": 23,
           "197": 21,
           "198": 19,
           "199": 16,
           "2": 12,
           "20": 8,
           "200": 21,
           "201": 17,
           "202": 22,
           "203": 21,
           "204": 23,
           "205": 18,
           "206": 20,
           "207": 21,
           "208": 18,
           "209": 20,
           "21": 23,
           "210": 16,
           "211": 8,
           "212": 16,
           "213": 21,
           "214": 8,
           "215": 21,
           "216": 13,
           "217": 9,
           "218": 21,
           "219": 20,
           "22": 12,
           "220": 23,
           "221": 23,
           "222": 0,
           "223": 18,
           "224": 19,
           "225": 14,
           "226": 21,
           "227": 22,
           "228": 23,
           "229": 23,
           "23": 22,
           "230": 18,
           "231": 20,
           "232": 18,
           "233": 22,
           "234": 14,
           "235": 13,
           "236": 11,
           "237": 20,
           "238": 21,
           "239": 21,
           "24": 22,
           "240": 23,
           "241": 9,
           "242": 12,
           "243": 23,
           "244": 17,
           "245": 15,
           "246": 22,
           "247": 8,
           "248": 18,
           "249": 14,
           "25": 20,
           "250": 17,
           "251": 19,
           "252": 14,
           "253": 15,
           "254": 23,
           "255": 11,
           "256": 10,
           "257": 19,
           "258": 22,
           "259": 22,
           "26": 22,
           "260": 18,
           "261": 22,
           "262": 22,
           "263": 14,
           "264": 22,
           "265": 19,
           "266": 20,
           "267": 11,
           "268": 20,
           "269": 20,
           "27": 8,
           "270": 18,
           "271": 13,
           "272": 22,
           "273": 23,
           "274": 15,
           "275": 17,
           "276": 20,
           "277": 18,
           "278": 14,
           "279": 23,
           "28": 19,
           "280": 14,
           "281": 22,
           "282": 21,
           "283": 23,
           "284": 22,
           "285": 20,
           "286": 19,
           "287": 19,
           "288": 20,
           "289": 17,
           "29": 22,
           "290": 22,
           "291": 17,
           "292": 23,
           "293": 18,
           "294": 19,
           "295": 22,
           "296": 19,
           "297": 8,
           "298": 22,
           "299": 21,
           "3": 13,
           "30": 17,
           "300": 15,
           "301": 20,
           "302": 21,
           "303": 22,
           "304": 19,
           "305": 22,
           "306": 16,
           "307": 21,
           "308": 20,
           "309": 20,
           "31": 8,
           "310": 20,
           "311": 17,
           "312": 22,
           "313": 20,
           "314": 17,
           "315": 17,
           "316": 16,
           "317": 11,
           "318": 22,
           "319": 15,
           "32": 0,
           "320": 11,
           "321": 9,
           "322": 17,
           "323": 9,
           "324": 16,
           "325": 20,
           "326": 18,
           "327": 15,
           "328": 23,
           "329": 21,
           "33": 9,
           "330": 22,
           "331": 0,
           "332": 21,
           "333": 19,
           "334": 19,
           "335": 22,
           "336": 20,
           "337": 20,
           "338": 23,
           "339": 22,
           "34": 14,
           "340": 23,
           "341": 22,
           "342": 23,
           "343": 22,
           "344": 20,
           "345": 22,
           "346": 11,
           "347": 17,
           "348": 10,
           "349": 23,
           "35": 14,
           "350": 20,
           "351": 22,
           "352": 22,
           "353": 19,
           "354": 23,
           "355": 19,
           "356": 18,
           "357": 23,
           "358": 22,
           "359": 20,
           "36": 21,
           "360": 20,
           "361": 17,
           "362": 15,
           "363": 21,
           "364": 21,
           "365": 17,
           "366": 20,
           "367": 21,
           "368": 9,
           "369": 12,
           "37": 16,
           "370": 23,
           "371": 20,
           "372": 23,
           "373": 8,
           "374": 8,
           "375": 21,
           "376": 11,
           "377": 19,
           "378": 17,
           "379": 21,
           "38": 11,
           "380": 15,
           "381": 21,
           "382": 20,
           "383": 17,
           "384": 8,
           "385": 14,
           "386": 16,
           "387": 23,
           "388": 17,
           "389": 7,
           "39": 8,
           "390": 10,
           "391": 20,
           "392": 7,
           "393": 22,
           "394": 18,
           "395": 8,
           "396": 11,
           "397": 23,
           "398": 11,
           "399": 17,
           "4": 19,
           "40": 22,
           "400": 8,
           "401": 21,
           "402": 21,
           "403": 19,
           "404": 23,
           "405": 10,
           "406": 11,
           "407": 22,
           "408": 20,
           "409": 22,
           "41": 23,
           "410": 20,
           "411": 23,
           "412": 11,
           "413": 15,
           "414": 15,
           "415": 8,
           "416": 8,
           "417": 18,
           "418": 10,
           "419": 15,
           "42": 14,
           "420": 12,
           "421": 22,
           "422": 19,
           "423": 22,
           "424": 11,
           "425": 18,
           "426": 10,
           "427": 16,
           "428": 8,
           "429": 8,
           "43": 22,
           "430": 22,
           "431": 20,
           "432": 23,
           "433": 21,
           "434": 18,
           "435": 11,
           "436": 8,
           "437": 19,
           "438": 14,
           "439": 17,
           "44": 20,
           "440": 17,
           "441": 16,
           "442": 17,
           "443": 8,
           "444": 15,
           "445": 19,
           "446": 18,
           "447": 21,
           "448": 22,
           "449": 16,
           "45": 18,
           "450": 21,
           "451": 8,
           "452": 20,
           "453": 14,
           "454": 16,
           "455": 20,
           "456": 19,
           "457": 21,
           "458": 20,
           "459": 16,
           "46": 19,
           "460": 8,
           "461": 8,
           "462": 21,
           "463": 8,
           "464": 8,
           "465": 23,
           "466": 19,
           "467": 11,
           "468": 8,
           "469": 1,
           "47": 11,
           "470": 8,
           "471": 10,
           "472": 9,
           "473": 11,
           "474": 8,
           "475": 8,
           "476": 8,
           "477": 8,
           "48": 22,
           "49": 8,
           "5": 15,
           "50": 21,
           "51": 21,
           "52": 21,
           "53": 17,
           "54": 18,
           "55": 8,
           "56": 21,
           "57": 21,
           "58": 20,
           "59": 14,
           "6": 14,
           "60": 21,
           "61": 16,
           "62": 8,
           "63": 8,
           "64": 16,
           "65": 7,
           "66": 9,
           "67": 20,
           "68": 16,
           "69": 17,
           "7": 17,
           "70": 15,
           "71": 18,
           "72": 10,
           "73": 14,
           "74": 14,
           "75": 16,
           "76": 14,
           "77": 20,
           "78": 21,
           "79": 7,
           "8": 17,
           "80": 18,
           "81": 23,
           "82": 23,
           "83": 19,
           "84": 20,
           "85": 23,
           "86": 17,
           "87": 23,
           "88": 20,
           "89": 12,
           "9": 20,
           "90": 8,
           "91": 20,
           "92": 22,
           "93": 22,
           "94": 17,
           "95": 16,
           "96": 22,
           "97": 17,
           "98": 22,
           "99": 14,
           "bdata": "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",
           "dtype": "i4",
           "shape": "478"
          },
          "bdata": "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",
          "dtype": "i4"
         },
         "xaxis": "x",
         "yaxis": "y"
        }
       ],
       "layout": {
        "autosize": true,
        "barmode": "relative",
        "legend": {
         "tracegroupgap": 0
        },
        "template": {
         "data": {
          "bar": [
           {
            "error_x": {
             "color": "#2a3f5f"
            },
            "error_y": {
             "color": "#2a3f5f"
            },
            "marker": {
             "line": {
              "color": "#E5ECF6",
              "width": 0.5
             },
             "pattern": {
              "fillmode": "overlay",
              "size": 10,
              "solidity": 0.2
             }
            },
            "type": "bar"
           }
          ],
          "barpolar": [
           {
            "marker": {
             "line": {
              "color": "#E5ECF6",
              "width": 0.5
             },
             "pattern": {
              "fillmode": "overlay",
              "size": 10,
              "solidity": 0.2
             }
            },
            "type": "barpolar"
           }
          ],
          "carpet": [
           {
            "aaxis": {
             "endlinecolor": "#2a3f5f",
             "gridcolor": "white",
             "linecolor": "white",
             "minorgridcolor": "white",
             "startlinecolor": "#2a3f5f"
            },
            "baxis": {
             "endlinecolor": "#2a3f5f",
             "gridcolor": "white",
             "linecolor": "white",
             "minorgridcolor": "white",
             "startlinecolor": "#2a3f5f"
            },
            "type": "carpet"
           }
          ],
          "choropleth": [
           {
            "colorbar": {
             "outlinewidth": 0,
             "ticks": ""
            },
            "type": "choropleth"
           }
          ],
          "contour": [
           {
            "colorbar": {
             "outlinewidth": 0,
             "ticks": ""
            },
            "colorscale": [
             [
              0,
              "#0d0887"
             ],
             [
              0.1111111111111111,
              "#46039f"
             ],
             [
              0.2222222222222222,
              "#7201a8"
             ],
             [
              0.3333333333333333,
              "#9c179e"
             ],
             [
              0.4444444444444444,
              "#bd3786"
             ],
             [
              0.5555555555555556,
              "#d8576b"
             ],
             [
              0.6666666666666666,
              "#ed7953"
             ],
             [
              0.7777777777777778,
              "#fb9f3a"
             ],
             [
              0.8888888888888888,
              "#fdca26"
             ],
             [
              1,
              "#f0f921"
             ]
            ],
            "type": "contour"
           }
          ],
          "contourcarpet": [
           {
            "colorbar": {
             "outlinewidth": 0,
             "ticks": ""
            },
            "type": "contourcarpet"
           }
          ],
          "heatmap": [
           {
            "colorbar": {
             "outlinewidth": 0,
             "ticks": ""
            },
            "colorscale": [
             [
              0,
              "#0d0887"
             ],
             [
              0.1111111111111111,
              "#46039f"
             ],
             [
              0.2222222222222222,
              "#7201a8"
             ],
             [
              0.3333333333333333,
              "#9c179e"
             ],
             [
              0.4444444444444444,
              "#bd3786"
             ],
             [
              0.5555555555555556,
              "#d8576b"
             ],
             [
              0.6666666666666666,
              "#ed7953"
             ],
             [
              0.7777777777777778,
              "#fb9f3a"
             ],
             [
              0.8888888888888888,
              "#fdca26"
             ],
             [
              1,
              "#f0f921"
             ]
            ],
            "type": "heatmap"
           }
          ],
          "histogram": [
           {
            "marker": {
             "pattern": {
              "fillmode": "overlay",
              "size": 10,
              "solidity": 0.2
             }
            },
            "type": "histogram"
           }
          ],
          "histogram2d": [
           {
            "colorbar": {
             "outlinewidth": 0,
             "ticks": ""
            },
            "colorscale": [
             [
              0,
              "#0d0887"
             ],
             [
              0.1111111111111111,
              "#46039f"
             ],
             [
              0.2222222222222222,
              "#7201a8"
             ],
             [
              0.3333333333333333,
              "#9c179e"
             ],
             [
              0.4444444444444444,
              "#bd3786"
             ],
             [
              0.5555555555555556,
              "#d8576b"
             ],
             [
              0.6666666666666666,
              "#ed7953"
             ],
             [
              0.7777777777777778,
              "#fb9f3a"
             ],
             [
              0.8888888888888888,
              "#fdca26"
             ],
             [
              1,
              "#f0f921"
             ]
            ],
            "type": "histogram2d"
           }
          ],
          "histogram2dcontour": [
           {
            "colorbar": {
             "outlinewidth": 0,
             "ticks": ""
            },
            "colorscale": [
             [
              0,
              "#0d0887"
             ],
             [
              0.1111111111111111,
              "#46039f"
             ],
             [
              0.2222222222222222,
              "#7201a8"
             ],
             [
              0.3333333333333333,
              "#9c179e"
             ],
             [
              0.4444444444444444,
              "#bd3786"
             ],
             [
              0.5555555555555556,
              "#d8576b"
             ],
             [
              0.6666666666666666,
              "#ed7953"
             ],
             [
              0.7777777777777778,
              "#fb9f3a"
             ],
             [
              0.8888888888888888,
              "#fdca26"
             ],
             [
              1,
              "#f0f921"
             ]
            ],
            "type": "histogram2dcontour"
           }
          ],
          "mesh3d": [
           {
            "colorbar": {
             "outlinewidth": 0,
             "ticks": ""
            },
            "type": "mesh3d"
           }
          ],
          "parcoords": [
           {
            "line": {
             "colorbar": {
              "outlinewidth": 0,
              "ticks": ""
             }
            },
            "type": "parcoords"
           }
          ],
          "pie": [
           {
            "automargin": true,
            "type": "pie"
           }
          ],
          "scatter": [
           {
            "fillpattern": {
             "fillmode": "overlay",
             "size": 10,
             "solidity": 0.2
            },
            "type": "scatter"
           }
          ],
          "scatter3d": [
           {
            "line": {
             "colorbar": {
              "outlinewidth": 0,
              "ticks": ""
             }
            },
            "marker": {
             "colorbar": {
              "outlinewidth": 0,
              "ticks": ""
             }
            },
            "type": "scatter3d"
           }
          ],
          "scattercarpet": [
           {
            "marker": {
             "colorbar": {
              "outlinewidth": 0,
              "ticks": ""
             }
            },
            "type": "scattercarpet"
           }
          ],
          "scattergeo": [
           {
            "marker": {
             "colorbar": {
              "outlinewidth": 0,
              "ticks": ""
             }
            },
            "type": "scattergeo"
           }
          ],
          "scattergl": [
           {
            "marker": {
             "colorbar": {
              "outlinewidth": 0,
              "ticks": ""
             }
            },
            "type": "scattergl"
           }
          ],
          "scattermap": [
           {
            "marker": {
             "colorbar": {
              "outlinewidth": 0,
              "ticks": ""
             }
            },
            "type": "scattermap"
           }
          ],
          "scattermapbox": [
           {
            "marker": {
             "colorbar": {
              "outlinewidth": 0,
              "ticks": ""
             }
            },
            "type": "scattermapbox"
           }
          ],
          "scatterpolar": [
           {
            "marker": {
             "colorbar": {
              "outlinewidth": 0,
              "ticks": ""
             }
            },
            "type": "scatterpolar"
           }
          ],
          "scatterpolargl": [
           {
            "marker": {
             "colorbar": {
              "outlinewidth": 0,
              "ticks": ""
             }
            },
            "type": "scatterpolargl"
           }
          ],
          "scatterternary": [
           {
            "marker": {
             "colorbar": {
              "outlinewidth": 0,
              "ticks": ""
             }
            },
            "type": "scatterternary"
           }
          ],
          "surface": [
           {
            "colorbar": {
             "outlinewidth": 0,
             "ticks": ""
            },
            "colorscale": [
             [
              0,
              "#0d0887"
             ],
             [
              0.1111111111111111,
              "#46039f"
             ],
             [
              0.2222222222222222,
              "#7201a8"
             ],
             [
              0.3333333333333333,
              "#9c179e"
             ],
             [
              0.4444444444444444,
              "#bd3786"
             ],
             [
              0.5555555555555556,
              "#d8576b"
             ],
             [
              0.6666666666666666,
              "#ed7953"
             ],
             [
              0.7777777777777778,
              "#fb9f3a"
             ],
             [
              0.8888888888888888,
              "#fdca26"
             ],
             [
              1,
              "#f0f921"
             ]
            ],
            "type": "surface"
           }
          ],
          "table": [
           {
            "cells": {
             "fill": {
              "color": "#EBF0F8"
             },
             "line": {
              "color": "white"
             }
            },
            "header": {
             "fill": {
              "color": "#C8D4E3"
             },
             "line": {
              "color": "white"
             }
            },
            "type": "table"
           }
          ]
         },
         "layout": {
          "annotationdefaults": {
           "arrowcolor": "#2a3f5f",
           "arrowhead": 0,
           "arrowwidth": 1
          },
          "autotypenumbers": "strict",
          "coloraxis": {
           "colorbar": {
            "outlinewidth": 0,
            "ticks": ""
           }
          },
          "colorscale": {
           "diverging": [
            [
             0,
             "#8e0152"
            ],
            [
             0.1,
             "#c51b7d"
            ],
            [
             0.2,
             "#de77ae"
            ],
            [
             0.3,
             "#f1b6da"
            ],
            [
             0.4,
             "#fde0ef"
            ],
            [
             0.5,
             "#f7f7f7"
            ],
            [
             0.6,
             "#e6f5d0"
            ],
            [
             0.7,
             "#b8e186"
            ],
            [
             0.8,
             "#7fbc41"
            ],
            [
             0.9,
             "#4d9221"
            ],
            [
             1,
             "#276419"
            ]
           ],
           "sequential": [
            [
             0,
             "#0d0887"
            ],
            [
             0.1111111111111111,
             "#46039f"
            ],
            [
             0.2222222222222222,
             "#7201a8"
            ],
            [
             0.3333333333333333,
             "#9c179e"
            ],
            [
             0.4444444444444444,
             "#bd3786"
            ],
            [
             0.5555555555555556,
             "#d8576b"
            ],
            [
             0.6666666666666666,
             "#ed7953"
            ],
            [
             0.7777777777777778,
             "#fb9f3a"
            ],
            [
             0.8888888888888888,
             "#fdca26"
            ],
            [
             1,
             "#f0f921"
            ]
           ],
           "sequentialminus": [
            [
             0,
             "#0d0887"
            ],
            [
             0.1111111111111111,
             "#46039f"
            ],
            [
             0.2222222222222222,
             "#7201a8"
            ],
            [
             0.3333333333333333,
             "#9c179e"
            ],
            [
             0.4444444444444444,
             "#bd3786"
            ],
            [
             0.5555555555555556,
             "#d8576b"
            ],
            [
             0.6666666666666666,
             "#ed7953"
            ],
            [
             0.7777777777777778,
             "#fb9f3a"
            ],
            [
             0.8888888888888888,
             "#fdca26"
            ],
            [
             1,
             "#f0f921"
            ]
           ]
          },
          "colorway": [
           "#636efa",
           "#EF553B",
           "#00cc96",
           "#ab63fa",
           "#FFA15A",
           "#19d3f3",
           "#FF6692",
           "#B6E880",
           "#FF97FF",
           "#FECB52"
          ],
          "font": {
           "color": "#2a3f5f"
          },
          "geo": {
           "bgcolor": "white",
           "lakecolor": "white",
           "landcolor": "#E5ECF6",
           "showlakes": true,
           "showland": true,
           "subunitcolor": "white"
          },
          "hoverlabel": {
           "align": "left"
          },
          "hovermode": "closest",
          "mapbox": {
           "style": "light"
          },
          "paper_bgcolor": "white",
          "plot_bgcolor": "#E5ECF6",
          "polar": {
           "angularaxis": {
            "gridcolor": "white",
            "linecolor": "white",
            "ticks": ""
           },
           "bgcolor": "#E5ECF6",
           "radialaxis": {
            "gridcolor": "white",
            "linecolor": "white",
            "ticks": ""
           }
          },
          "scene": {
           "xaxis": {
            "backgroundcolor": "#E5ECF6",
            "gridcolor": "white",
            "gridwidth": 2,
            "linecolor": "white",
            "showbackground": true,
            "ticks": "",
            "zerolinecolor": "white"
           },
           "yaxis": {
            "backgroundcolor": "#E5ECF6",
            "gridcolor": "white",
            "gridwidth": 2,
            "linecolor": "white",
            "showbackground": true,
            "ticks": "",
            "zerolinecolor": "white"
           },
           "zaxis": {
            "backgroundcolor": "#E5ECF6",
            "gridcolor": "white",
            "gridwidth": 2,
            "linecolor": "white",
            "showbackground": true,
            "ticks": "",
            "zerolinecolor": "white"
           }
          },
          "shapedefaults": {
           "line": {
            "color": "#2a3f5f"
           }
          },
          "ternary": {
           "aaxis": {
            "gridcolor": "white",
            "linecolor": "white",
            "ticks": ""
           },
           "baxis": {
            "gridcolor": "white",
            "linecolor": "white",
            "ticks": ""
           },
           "bgcolor": "#E5ECF6",
           "caxis": {
            "gridcolor": "white",
            "linecolor": "white",
            "ticks": ""
           }
          },
          "title": {
           "x": 0.05
          },
          "xaxis": {
           "automargin": true,
           "gridcolor": "white",
           "linecolor": "white",
           "ticks": "",
           "title": {
            "standoff": 15
           },
           "zerolinecolor": "white",
           "zerolinewidth": 2
          },
          "yaxis": {
           "automargin": true,
           "gridcolor": "white",
           "linecolor": "white",
           "ticks": "",
           "title": {
            "standoff": 15
           },
           "zerolinecolor": "white",
           "zerolinewidth": 2
          }
         }
        },
        "title": {
         "text": "Departure time distribution — B"
        },
        "xaxis": {
         "anchor": "y",
         "autorange": true,
         "domain": [
          0,
          1
         ],
         "range": [
          -0.5,
          23.5
         ],
         "title": {
          "text": "dep_hour"
         },
         "type": "linear"
        },
        "yaxis": {
         "anchor": "x",
         "autorange": true,
         "domain": [
          0,
          1
         ],
         "range": [
          0,
          69.47368421052632
         ],
         "title": {
          "text": "count"
         }
        }
       }
      },
      "image/png": "[encoded data removed]"
     },
     "metadata": {},
     "output_type": "display_data"
    },
    {
     "data": {
      "application/vnd.plotly.v1+json": {
       "config": {
        "plotlyServerURL": "https://plot.ly"
       },
       "data": [
        {
         "alignmentgroup": "True",
         "box": {
          "visible": true
         },
         "hovertemplate": "start_hour=%{x}<br>gap_min=%{y}<extra></extra>",
         "legendgroup": "",
         "marker": {
          "color": "#636efa"
         },
         "name": "",
         "offsetgroup": "",
         "orientation": "v",
         "points": "all",
         "scalegroup": "True",
         "showlegend": false,
         "type": "violin",
         "x": {
          "_inputArray": {
           "0": 9.783333333333333,
           "1": 8.083333333333334,
           "10": 9.166666666666666,
           "100": 7.083333333333333,
           "1000": 7.166666666666667,
           "1001": 8.083333333333334,
           "1002": 10.883333333333333,
           "1003": 11.083333333333334,
           "1004": 0.16666666666666666,
           "1005": 7.083333333333333,
           "1006": 8.083333333333334,
           "1007": 11.366666666666667,
           "1008": 7.083333333333333,
           "1009": 8.083333333333334,
           "101": 8.083333333333334,
           "1010": 7.083333333333333,
           "1011": 8.083333333333334,
           "1012": 10.05,
           "1013": 11.083333333333334,
           "1014": 15.716666666666667,
           "1015": 17.633333333333333,
           "1016": 7.083333333333333,
           "1017": 8.083333333333334,
           "1018": 14.083333333333334,
           "1019": 15.833333333333334,
           "102": 8.516666666666667,
           "1020": 7.083333333333333,
           "1021": 8.083333333333334,
           "1022": 17.55,
           "1023": 7.083333333333333,
           "1024": 8.083333333333334,
           "1025": 18.6,
           "1026": 22.8,
           "1027": 7.083333333333333,
           "1028": 8.083333333333334,
           "1029": 7.083333333333333,
           "103": 1.95,
           "1030": 8.083333333333334,
           "1031": 11.083333333333334,
           "1032": 7.083333333333333,
           "1033": 8.083333333333334,
           "1034": 10.016666666666667,
           "1035": 15.75,
           "1036": 21.433333333333334,
           "1037": 7.083333333333333,
           "1038": 8.083333333333334,
           "1039": 8.083333333333334,
           "104": 6.883333333333333,
           "1040": 11.483333333333333,
           "1041": 11.683333333333334,
           "1042": 12.683333333333334,
           "1043": 13.8,
           "1044": 1.6166666666666667,
           "1045": 8.083333333333334,
           "1046": 18.75,
           "1047": 20.9,
           "1048": 8.083333333333334,
           "1049": 9.1,
           "105": 7.083333333333333,
           "1050": 10.266666666666667,
           "1051": 11.866666666666667,
           "1052": 17.15,
           "1053": 8.083333333333334,
           "1054": 12.4,
           "1055": 5.316666666666666,
           "1056": 7.083333333333333,
           "1057": 8.85,
           "1058": 14.083333333333334,
           "1059": 8.083333333333334,
           "106": 8.083333333333334,
           "1060": 10.533333333333333,
           "1061": 14.083333333333334,
           "1062": 14.866666666666667,
           "1063": 15.45,
           "1064": 8.083333333333334,
           "1065": 9.816666666666666,
           "1066": 12.983333333333333,
           "1067": 1.75,
           "1068": 7.083333333333333,
           "1069": 8.083333333333334,
           "107": 14.533333333333333,
           "1070": 13.2,
           "1071": 7.083333333333333,
           "1072": 8.083333333333334,
           "1073": 8.2,
           "1074": 10.1,
           "1075": 11.083333333333334,
           "1076": 8.083333333333334,
           "1077": 9.233333333333333,
           "1078": 4.5,
           "1079": 8.083333333333334,
           "108": 20.033333333333335,
           "1080": 8.083333333333334,
           "1081": 11.083333333333334,
           "1082": 14.683333333333334,
           "1083": 15.466666666666667,
           "1084": 15.75,
           "1085": 18.666666666666668,
           "1086": 1.15,
           "1087": 7.083333333333333,
           "1088": 8.083333333333334,
           "1089": 10.516666666666667,
           "109": 1.1333333333333333,
           "1090": 13.316666666666666,
           "1091": 14.083333333333334,
           "1092": 18.05,
           "1093": 20.25,
           "1094": 20.716666666666665,
           "1095": 7.083333333333333,
           "1096": 8.083333333333334,
           "1097": 16.866666666666667,
           "1098": 3.4,
           "1099": 7.283333333333333,
           "11": 9.433333333333334,
           "110": 7.083333333333333,
           "1100": 8.083333333333334,
           "1101": 14.083333333333334,
           "1102": 17.85,
           "1103": 8.083333333333334,
           "1104": 12.866666666666667,
           "1105": 14.2,
           "1106": 19.15,
           "1107": 1.2833333333333332,
           "1108": 7.083333333333333,
           "1109": 8.083333333333334,
           "111": 8.083333333333334,
           "1110": 7.083333333333333,
           "1111": 8.083333333333334,
           "1112": 10.633333333333333,
           "1113": 10.9,
           "1114": 12.8,
           "1115": 13.75,
           "1116": 16.5,
           "1117": 18.433333333333334,
           "1118": 20.666666666666668,
           "1119": 7.083333333333333,
           "112": 13.25,
           "1120": 8.083333333333334,
           "1121": 10.95,
           "1122": 14.566666666666666,
           "1123": 14.933333333333334,
           "1124": 18.216666666666665,
           "1125": 0.8333333333333334,
           "1126": 3.1166666666666667,
           "1127": 5.95,
           "1128": 7.083333333333333,
           "1129": 8.083333333333334,
           "113": 14.183333333333334,
           "1130": 7.083333333333333,
           "1131": 8.083333333333334,
           "1132": 9.05,
           "1133": 8.083333333333334,
           "1134": 14.666666666666666,
           "1135": 17.65,
           "1136": 8.083333333333334,
           "1137": 12.4,
           "1138": 14.766666666666667,
           "1139": 17.583333333333332,
           "114": 15.416666666666666,
           "1140": 8.083333333333334,
           "1141": 10.983333333333333,
           "1142": 12.216666666666667,
           "1143": 15.333333333333334,
           "1144": 8.083333333333334,
           "1145": 11.416666666666666,
           "1146": 12.65,
           "1147": 6.533333333333333,
           "1148": 7.083333333333333,
           "1149": 8.083333333333334,
           "115": 7.083333333333333,
           "1150": 12.216666666666667,
           "1151": 14.083333333333334,
           "1152": 15.4,
           "1153": 16.083333333333332,
           "1154": 16.616666666666667,
           "1155": 22.85,
           "1156": 0.45,
           "1157": 3.033333333333333,
           "1158": 8.083333333333334,
           "1159": 13.083333333333334,
           "116": 8.083333333333334,
           "1160": 4.233333333333333,
           "1161": 8.083333333333334,
           "1162": 10.6,
           "1163": 7.083333333333333,
           "1164": 8.083333333333334,
           "1165": 9.7,
           "1166": 11.083333333333334,
           "1167": 16.533333333333335,
           "1168": 2.283333333333333,
           "1169": 8.083333333333334,
           "117": 10.966666666666667,
           "1170": 11.083333333333334,
           "1171": 11.916666666666666,
           "1172": 15.033333333333333,
           "1173": 7.083333333333333,
           "1174": 8.083333333333334,
           "1175": 16,
           "1176": 7.083333333333333,
           "1177": 8.083333333333334,
           "1178": 10.483333333333333,
           "1179": 12.816666666666666,
           "118": 8.083333333333334,
           "1180": 8.083333333333334,
           "1181": 11.083333333333334,
           "1182": 7.083333333333333,
           "1183": 7.3,
           "1184": 8.083333333333334,
           "1185": 9.75,
           "1186": 7.083333333333333,
           "1187": 8.083333333333334,
           "1188": 14.566666666666666,
           "1189": 18.316666666666666,
           "119": 8.283333333333333,
           "1190": 20.4,
           "1191": 7.083333333333333,
           "1192": 8.083333333333334,
           "1193": 11.516666666666667,
           "1194": 20.2,
           "1195": 7.083333333333333,
           "1196": 7.216666666666667,
           "1197": 8.083333333333334,
           "1198": 12.35,
           "1199": 13.933333333333334,
           "12": 11.7,
           "120": 8.083333333333334,
           "1200": 1.5833333333333335,
           "1201": 7.833333333333333,
           "1202": 8.083333333333334,
           "1203": 10.366666666666667,
           "1204": 16.083333333333332,
           "1205": 20.633333333333333,
           "1206": 1.0833333333333333,
           "1207": 5.083333333333333,
           "1208": 7.083333333333333,
           "1209": 8.083333333333334,
           "121": 11.083333333333334,
           "1210": 9.083333333333334,
           "1211": 14.583333333333334,
           "1212": 7.083333333333333,
           "1213": 8.083333333333334,
           "1214": 13.183333333333334,
           "1215": 8.083333333333334,
           "1216": 11.333333333333334,
           "1217": 15.916666666666666,
           "1218": 2.9333333333333336,
           "1219": 6.733333333333333,
           "122": 16.933333333333334,
           "1220": 7.083333333333333,
           "1221": 8.083333333333334,
           "1222": 11.383333333333333,
           "1223": 14.383333333333333,
           "1224": 14.683333333333334,
           "1225": 18.9,
           "1226": 0.9166666666666666,
           "1227": 7.083333333333333,
           "1228": 8.083333333333334,
           "1229": 15.5,
           "123": 19.083333333333332,
           "1230": 15.916666666666666,
           "1231": 0.6833333333333333,
           "1232": 2.5,
           "1233": 3.1666666666666665,
           "1234": 7.083333333333333,
           "1235": 8.083333333333334,
           "1236": 10.5,
           "1237": 11.033333333333333,
           "1238": 11.3,
           "1239": 12.5,
           "124": 8.083333333333334,
           "1240": 12.7,
           "1241": 13.833333333333334,
           "1242": 14.883333333333333,
           "1243": 15.633333333333333,
           "1244": 16.05,
           "1245": 16.283333333333335,
           "1246": 21.216666666666665,
           "1247": 7.083333333333333,
           "1248": 8.083333333333334,
           "1249": 11.083333333333334,
           "125": 10.566666666666666,
           "1250": 15.116666666666667,
           "1251": 16.083333333333332,
           "1252": 7.083333333333333,
           "1253": 8.083333333333334,
           "1254": 9.083333333333334,
           "1255": 16.516666666666666,
           "1256": 7.083333333333333,
           "1257": 8.083333333333334,
           "1258": 9.083333333333334,
           "1259": 11.083333333333334,
           "126": 10.883333333333333,
           "1260": 12.316666666666666,
           "1261": 7.083333333333333,
           "1262": 8.083333333333334,
           "1263": 9.083333333333334,
           "1264": 7.083333333333333,
           "1265": 8.083333333333334,
           "1266": 9.166666666666666,
           "1267": 13.35,
           "1268": 14.083333333333334,
           "1269": 14.816666666666666,
           "127": 11.083333333333334,
           "1270": 15.866666666666667,
           "1271": 1.4333333333333333,
           "1272": 5.4,
           "1273": 7.083333333333333,
           "1274": 8.083333333333334,
           "1275": 8.666666666666666,
           "1276": 9.083333333333334,
           "1277": 12.083333333333334,
           "1278": 7.083333333333333,
           "1279": 7.083333333333333,
           "128": 12.866666666666667,
           "1280": 8.083333333333334,
           "1281": 9.083333333333334,
           "1282": 14.083333333333334,
           "1283": 20.7,
           "1284": 6.166666666666667,
           "1285": 7.083333333333333,
           "1286": 8.083333333333334,
           "1287": 9.083333333333334,
           "1288": 11.233333333333333,
           "1289": 13.8,
           "129": 14.083333333333334,
           "1290": 15.433333333333334,
           "1291": 7.083333333333333,
           "1292": 8.083333333333334,
           "1293": 14.083333333333334,
           "1294": 3.8666666666666667,
           "1295": 7.083333333333333,
           "1296": 8.083333333333334,
           "1297": 9.083333333333334,
           "1298": 15.516666666666667,
           "1299": 15.833333333333334,
           "13": 11.9,
           "130": 7.083333333333333,
           "1300": 7.083333333333333,
           "1301": 8.083333333333334,
           "1302": 11.083333333333334,
           "1303": 16.383333333333333,
           "1304": 16.75,
           "1305": 18.783333333333335,
           "1306": 7.083333333333333,
           "1307": 8.083333333333334,
           "1308": 10.616666666666667,
           "1309": 13.183333333333334,
           "131": 8.083333333333334,
           "1310": 0.2833333333333333,
           "1311": 7.083333333333333,
           "1312": 9.083333333333334,
           "1313": 16.533333333333335,
           "1314": 17.116666666666667,
           "1315": 7.083333333333333,
           "1316": 8.083333333333334,
           "1317": 9.083333333333334,
           "1318": 9.716666666666667,
           "1319": 10.166666666666666,
           "132": 10.283333333333333,
           "1320": 12.083333333333334,
           "1321": 12.283333333333333,
           "1322": 16.166666666666668,
           "1323": 17.483333333333334,
           "1324": 21.133333333333333,
           "1325": 7.083333333333333,
           "1326": 8.083333333333334,
           "1327": 8.35,
           "1328": 11.316666666666666,
           "1329": 0.11666666666666667,
           "133": 7.083333333333333,
           "1330": 3.55,
           "1331": 7.083333333333333,
           "1332": 8.083333333333334,
           "1333": 9.083333333333334,
           "1334": 0.5666666666666667,
           "1335": 7.083333333333333,
           "1336": 8.083333333333334,
           "1337": 15.05,
           "1338": 4.916666666666667,
           "1339": 7.083333333333333,
           "134": 8.083333333333334,
           "1340": 8.083333333333334,
           "1341": 9.083333333333334,
           "1342": 14.516666666666667,
           "1343": 15.333333333333334,
           "1344": 5.266666666666667,
           "1345": 7.083333333333333,
           "1346": 8.083333333333334,
           "1347": 9.083333333333334,
           "1348": 9.716666666666667,
           "1349": 7.083333333333333,
           "135": 7.083333333333333,
           "1350": 8.083333333333334,
           "1351": 8.183333333333334,
           "1352": 9.083333333333334,
           "1353": 10.316666666666666,
           "1354": 13.483333333333333,
           "1355": 7.083333333333333,
           "1356": 8.083333333333334,
           "1357": 9.083333333333334,
           "1358": 14.266666666666667,
           "1359": 15.816666666666666,
           "136": 8.083333333333334,
           "1360": 17.766666666666666,
           "1361": 18.333333333333332,
           "1362": 20.266666666666666,
           "1363": 20.95,
           "1364": 22.2,
           "1365": 7.083333333333333,
           "1366": 8.083333333333334,
           "1367": 8.65,
           "1368": 9.083333333333334,
           "1369": 9.2,
           "137": 10.816666666666666,
           "1370": 13.05,
           "1371": 15.416666666666666,
           "1372": 7.083333333333333,
           "1373": 8.083333333333334,
           "1374": 9.083333333333334,
           "1375": 1.1,
           "1376": 7.083333333333333,
           "1377": 8.083333333333334,
           "1378": 9.083333333333334,
           "1379": 7.083333333333333,
           "138": 17.166666666666668,
           "1380": 8.083333333333334,
           "1381": 9.083333333333334,
           "1382": 10.35,
           "1383": 15.7,
           "1384": 0.08333333333333333,
           "1385": 7.083333333333333,
           "1386": 8.083333333333334,
           "1387": 7.083333333333333,
           "1388": 8.083333333333334,
           "1389": 8.583333333333334,
           "139": 6.9,
           "1390": 9.083333333333334,
           "1391": 16.15,
           "1392": 16.9,
           "1393": 7.083333333333333,
           "1394": 8.083333333333334,
           "1395": 9.083333333333334,
           "1396": 11.233333333333333,
           "1397": 12.083333333333334,
           "1398": 15.083333333333334,
           "1399": 7.083333333333333,
           "14": 2,
           "140": 8.083333333333334,
           "1400": 9.083333333333334,
           "1401": 7.083333333333333,
           "1402": 8.083333333333334,
           "1403": 7.083333333333333,
           "1404": 8.083333333333334,
           "1405": 9.083333333333334,
           "1406": 15.083333333333334,
           "1407": 7.083333333333333,
           "1408": 8.083333333333334,
           "1409": 1.2166666666666668,
           "141": 17.033333333333335,
           "1410": 7.083333333333333,
           "1411": 8.083333333333334,
           "1412": 9.083333333333334,
           "1413": 7.083333333333333,
           "1414": 8.083333333333334,
           "1415": 9.083333333333334,
           "1416": 7.083333333333333,
           "1417": 8.083333333333334,
           "1418": 9.083333333333334,
           "1419": 14.4,
           "142": 8.083333333333334,
           "1420": 6.633333333333333,
           "1421": 7.083333333333333,
           "1422": 8.083333333333334,
           "1423": 9.083333333333334,
           "1424": 9.883333333333333,
           "1425": 4.116666666666666,
           "1426": 4.566666666666666,
           "1427": 7.083333333333333,
           "1428": 8.083333333333334,
           "1429": 9.083333333333334,
           "143": 12.066666666666666,
           "1430": 11.083333333333334,
           "1431": 14.283333333333333,
           "1432": 15.1,
           "1433": 7.083333333333333,
           "1434": 7.466666666666667,
           "1435": 8.083333333333334,
           "1436": 9.083333333333334,
           "1437": 16.216666666666665,
           "1438": 17.45,
           "1439": 7.083333333333333,
           "144": 12.35,
           "1440": 8.083333333333334,
           "1441": 8.216666666666667,
           "1442": 9.083333333333334,
           "1443": 11.083333333333334,
           "1444": 19.4,
           "1445": 22.433333333333334,
           "1446": 7.083333333333333,
           "1447": 8.083333333333334,
           "1448": 9.083333333333334,
           "1449": 10.416666666666666,
           "145": 12.666666666666666,
           "1450": 11.083333333333334,
           "1451": 11.9,
           "1452": 15.983333333333333,
           "1453": 19.366666666666667,
           "1454": 20.566666666666666,
           "1455": 7.083333333333333,
           "1456": 8.083333333333334,
           "1457": 9.083333333333334,
           "1458": 12.516666666666667,
           "1459": 14,
           "146": 13.266666666666667,
           "1460": 16.05,
           "1461": 7.083333333333333,
           "1462": 8.083333333333334,
           "1463": 9.083333333333334,
           "1464": 11.766666666666667,
           "1465": 7.083333333333333,
           "1466": 8.083333333333334,
           "1467": 9.083333333333334,
           "1468": 15.083333333333334,
           "1469": 18.9,
           "147": 14.966666666666667,
           "1470": 7.083333333333333,
           "1471": 8.083333333333334,
           "1472": 9.083333333333334,
           "1473": 9.783333333333333,
           "1474": 17.483333333333334,
           "1475": 18.483333333333334,
           "1476": 20.766666666666666,
           "1477": 8.083333333333334,
           "1478": 9.083333333333334,
           "1479": 12.25,
           "148": 4.283333333333333,
           "1480": 15.4,
           "1481": 0.8833333333333333,
           "1482": 7.083333333333333,
           "1483": 8.083333333333334,
           "1484": 9.166666666666666,
           "1485": 11.883333333333333,
           "1486": 16.166666666666668,
           "1487": 8.083333333333334,
           "1488": 9.083333333333334,
           "1489": 10.85,
           "149": 8.083333333333334,
           "1490": 11.35,
           "1491": 15.966666666666667,
           "1492": 8.083333333333334,
           "1493": 9.85,
           "1494": 10.983333333333333,
           "1495": 11.083333333333334,
           "1496": 21.766666666666666,
           "1497": 8.083333333333334,
           "1498": 8.95,
           "1499": 9.083333333333334,
           "15": 7.083333333333333,
           "150": 7.083333333333333,
           "1500": 15.316666666666666,
           "1501": 16.083333333333332,
           "1502": 16.816666666666666,
           "1503": 20.216666666666665,
           "1504": 21.816666666666666,
           "1505": 8.083333333333334,
           "1506": 9.083333333333334,
           "1507": 10.416666666666666,
           "1508": 17.266666666666666,
           "1509": 8.083333333333334,
           "151": 8.083333333333334,
           "1510": 9.083333333333334,
           "1511": 10.15,
           "1512": 12.416666666666666,
           "1513": 14.9,
           "1514": 18.9,
           "1515": 8.083333333333334,
           "1516": 9.083333333333334,
           "1517": 10.016666666666667,
           "1518": 11.183333333333334,
           "1519": 12.8,
           "152": 11.683333333333334,
           "1520": 14.833333333333334,
           "1521": 15.216666666666667,
           "1522": 16.933333333333334,
           "1523": 21.85,
           "1524": 8.083333333333334,
           "1525": 12.15,
           "1526": 14.083333333333334,
           "1527": 18.666666666666668,
           "1528": 8.083333333333334,
           "1529": 8.95,
           "153": 14.083333333333334,
           "1530": 9.083333333333334,
           "1531": 11.95,
           "1532": 12.2,
           "1533": 13.983333333333333,
           "1534": 19.333333333333332,
           "1535": 6.85,
           "1536": 8.083333333333334,
           "1537": 8.95,
           "1538": 9.083333333333334,
           "1539": 8.083333333333334,
           "154": 16.7,
           "1540": 9.083333333333334,
           "1541": 16.766666666666666,
           "1542": 0.38333333333333336,
           "1543": 8.083333333333334,
           "1544": 9.083333333333334,
           "1545": 8.083333333333334,
           "1546": 9.083333333333334,
           "1547": 13.866666666666667,
           "1548": 14.083333333333334,
           "1549": 16.083333333333332,
           "155": 8.083333333333334,
           "1550": 20.916666666666668,
           "1551": 0.18333333333333332,
           "1552": 7.083333333333333,
           "1553": 8.083333333333334,
           "1554": 12.5,
           "1555": 20.433333333333334,
           "1556": 0.26666666666666666,
           "1557": 7.083333333333333,
           "1558": 8.083333333333334,
           "1559": 10.833333333333334,
           "156": 12.266666666666667,
           "1560": 7.083333333333333,
           "1561": 8.083333333333334,
           "1562": 13.783333333333333,
           "1563": 21.033333333333335,
           "1564": 0.26666666666666666,
           "1565": 6.083333333333333,
           "1566": 7.083333333333333,
           "1567": 8.083333333333334,
           "1568": 11.783333333333333,
           "1569": 13.35,
           "157": 8.083333333333334,
           "1570": 6.083333333333333,
           "1571": 7.083333333333333,
           "1572": 8.083333333333334,
           "1573": 12.183333333333334,
           "1574": 16.266666666666666,
           "1575": 17.733333333333334,
           "1576": 7.083333333333333,
           "1577": 8.083333333333334,
           "1578": 9.416666666666666,
           "1579": 11.083333333333334,
           "158": 8.083333333333334,
           "1580": 11.233333333333333,
           "1581": 11.9,
           "1582": 12.333333333333334,
           "1583": 12.45,
           "1584": 6.083333333333333,
           "1585": 7.083333333333333,
           "1586": 8.083333333333334,
           "1587": 10.433333333333334,
           "1588": 15.45,
           "1589": 5.983333333333333,
           "159": 14.4,
           "1590": 6.083333333333333,
           "1591": 7.083333333333333,
           "1592": 8.083333333333334,
           "1593": 16.566666666666666,
           "1594": 16.933333333333334,
           "1595": 6.083333333333333,
           "1596": 7.083333333333333,
           "1597": 8.083333333333334,
           "1598": 11.516666666666667,
           "1599": 12.416666666666666,
           "16": 12.816666666666666,
           "160": 7.366666666666666,
           "1600": 13.366666666666667,
           "1601": 15.05,
           "1602": 18.05,
           "1603": 6.083333333333333,
           "1604": 7.083333333333333,
           "1605": 8.083333333333334,
           "1606": 14.083333333333334,
           "1607": 14.366666666666667,
           "1608": 0.16666666666666666,
           "1609": 2.3166666666666664,
           "161": 8.083333333333334,
           "1610": 6.083333333333333,
           "1611": 7.083333333333333,
           "1612": 8.083333333333334,
           "1613": 13.683333333333334,
           "1614": 14.866666666666667,
           "1615": 16.766666666666666,
           "1616": 6.083333333333333,
           "1617": 7.083333333333333,
           "1618": 8.083333333333334,
           "1619": 10.566666666666666,
           "162": 9.4,
           "1620": 6.083333333333333,
           "1621": 7.083333333333333,
           "1622": 8.083333333333334,
           "1623": 9.933333333333334,
           "1624": 10.083333333333334,
           "1625": 11.3,
           "1626": 5.916666666666667,
           "1627": 6.083333333333333,
           "1628": 7.083333333333333,
           "1629": 8.083333333333334,
           "163": 9.65,
           "1630": 9.666666666666666,
           "1631": 14.266666666666667,
           "1632": 16.166666666666668,
           "1633": 16.366666666666667,
           "1634": 19.533333333333335,
           "1635": 0.4166666666666667,
           "1636": 3.1,
           "1637": 5.2,
           "1638": 6.083333333333333,
           "1639": 7.083333333333333,
           "164": 11.083333333333334,
           "1640": 8.083333333333334,
           "1641": 9.4,
           "1642": 10.083333333333334,
           "1643": 12.466666666666667,
           "1644": 13.2,
           "1645": 15.966666666666667,
           "1646": 18.266666666666666,
           "1647": 20.233333333333334,
           "1648": 20.983333333333334,
           "1649": 0.4,
           "165": 1.6,
           "1650": 2.466666666666667,
           "1651": 3.6166666666666667,
           "1652": 4.15,
           "1653": 4.666666666666667,
           "1654": 4.966666666666667,
           "1655": 7.083333333333333,
           "1656": 8.083333333333334,
           "1657": 9.083333333333334,
           "1658": 10.5,
           "1659": 15.266666666666667,
           "166": 0.6333333333333333,
           "1660": 16.95,
           "1661": 7.083333333333333,
           "1662": 8.083333333333334,
           "1663": 11.233333333333333,
           "1664": 11.833333333333334,
           "1665": 12.366666666666667,
           "1666": 13.466666666666667,
           "1667": 17.65,
           "1668": 0.65,
           "1669": 6.083333333333333,
           "167": 8.083333333333334,
           "1670": 7.083333333333333,
           "1671": 8.466666666666667,
           "1672": 10.383333333333333,
           "1673": 13.766666666666667,
           "1674": 17.2,
           "1675": 19.783333333333335,
           "1676": 6.083333333333333,
           "1677": 7.083333333333333,
           "1678": 8.083333333333334,
           "1679": 6.083333333333333,
           "168": 8.083333333333334,
           "1680": 7.083333333333333,
           "1681": 8.083333333333334,
           "1682": 11.083333333333334,
           "1683": 11.616666666666667,
           "1684": 6.083333333333333,
           "1685": 8.083333333333334,
           "1686": 11.166666666666666,
           "1687": 16.216666666666665,
           "1688": 17.3,
           "1689": 19.783333333333335,
           "169": 9.683333333333334,
           "1690": 2.1166666666666667,
           "1691": 6.083333333333333,
           "1692": 7.083333333333333,
           "1693": 8.766666666666667,
           "1694": 13.166666666666666,
           "1695": 6.6,
           "1696": 7.083333333333333,
           "1697": 14.083333333333334,
           "1698": 17.15,
           "1699": 19.35,
           "17": 7.083333333333333,
           "170": 10.666666666666666,
           "1700": 20.883333333333333,
           "1701": 22.75,
           "1702": 7.083333333333333,
           "1703": 3.8,
           "1704": 7.083333333333333,
           "1705": 7.083333333333333,
           "1706": 10.033333333333333,
           "1707": 12.55,
           "1708": 7.083333333333333,
           "1709": 8.083333333333334,
           "171": 19.433333333333334,
           "1710": 9.25,
           "1711": 3.3666666666666667,
           "1712": 6.3,
           "1713": 7.083333333333333,
           "1714": 9.866666666666667,
           "1715": 11.083333333333334,
           "1716": 11.45,
           "1717": 12.883333333333333,
           "1718": 17.833333333333332,
           "1719": 6.083333333333333,
           "172": 7.083333333333333,
           "1720": 7.083333333333333,
           "1721": 8.083333333333334,
           "1722": 11.516666666666667,
           "1723": 7.083333333333333,
           "1724": 10.883333333333333,
           "1725": 11.833333333333334,
           "1726": 6.083333333333333,
           "1727": 7.083333333333333,
           "1728": 8.083333333333334,
           "1729": 7.083333333333333,
           "173": 8.083333333333334,
           "1730": 8.083333333333334,
           "1731": 7.083333333333333,
           "1732": 8.083333333333334,
           "1733": 10.316666666666666,
           "1734": 11.083333333333334,
           "1735": 15.1,
           "1736": 20.15,
           "1737": 3.7,
           "1738": 7.083333333333333,
           "1739": 7.2,
           "174": 8.583333333333334,
           "1740": 8.083333333333334,
           "1741": 12.716666666666667,
           "1742": 6.083333333333333,
           "1743": 7.083333333333333,
           "1744": 8.083333333333334,
           "1745": 3.5833333333333335,
           "1746": 5.65,
           "1747": 6.083333333333333,
           "1748": 7.083333333333333,
           "1749": 7.416666666666667,
           "175": 10.983333333333333,
           "1750": 8.083333333333334,
           "1751": 11.566666666666666,
           "1752": 12.833333333333334,
           "1753": 6.083333333333333,
           "1754": 7.083333333333333,
           "1755": 10.766666666666667,
           "1756": 6.083333333333333,
           "1757": 8.083333333333334,
           "1758": 1.9333333333333333,
           "1759": 5.433333333333334,
           "176": 8.083333333333334,
           "1760": 6.083333333333333,
           "1761": 7.083333333333333,
           "1762": 9.35,
           "1763": 9.616666666666667,
           "1764": 13.083333333333334,
           "1765": 6.083333333333333,
           "1766": 6.083333333333333,
           "1767": 7.083333333333333,
           "1768": 8.083333333333334,
           "1769": 9.016666666666667,
           "177": 11.066666666666666,
           "1770": 14.733333333333333,
           "1771": 15.35,
           "1772": 15.783333333333333,
           "1773": 6.05,
           "1774": 6.15,
           "1775": 7.083333333333333,
           "1776": 8.083333333333334,
           "1777": 11.4,
           "1778": 12.85,
           "1779": 16.916666666666668,
           "178": 13.833333333333334,
           "1780": 3.3666666666666667,
           "1781": 7.083333333333333,
           "1782": 13.616666666666667,
           "1783": 14.466666666666667,
           "1784": 7.083333333333333,
           "1785": 7.083333333333333,
           "1786": 0.2,
           "1787": 7.083333333333333,
           "1788": 11.233333333333333,
           "1789": 14.083333333333334,
           "179": 16.283333333333335,
           "1790": 15.95,
           "1791": 7.083333333333333,
           "1792": 8.083333333333334,
           "1793": 1.9166666666666665,
           "1794": 7.083333333333333,
           "1795": 8.083333333333334,
           "1796": 12.016666666666667,
           "1797": 16.883333333333333,
           "1798": 1.0166666666666666,
           "1799": 8.083333333333334,
           "18": 13.55,
           "180": 7.083333333333333,
           "1800": 7.083333333333333,
           "1801": 8.083333333333334,
           "1802": 7.083333333333333,
           "1803": 8.083333333333334,
           "1804": 18.333333333333332,
           "1805": 20.766666666666666,
           "1806": 7.083333333333333,
           "1807": 8.083333333333334,
           "1808": 10.216666666666667,
           "1809": 14.083333333333334,
           "181": 8.083333333333334,
           "1810": 7.083333333333333,
           "1811": 8.083333333333334,
           "1812": 21.983333333333334,
           "1813": 6.083333333333333,
           "1814": 7.083333333333333,
           "1815": 8.083333333333334,
           "1816": 8.083333333333334,
           "1817": 6.016666666666667,
           "1818": 9.7,
           "1819": 13.083333333333334,
           "182": 7.083333333333333,
           "1820": 14.383333333333333,
           "1821": 7.083333333333333,
           "1822": 7.116666666666666,
           "1823": 8.083333333333334,
           "1824": 9.65,
           "1825": 12.316666666666666,
           "1826": 13.266666666666667,
           "1827": 13.85,
           "1828": 7.083333333333333,
           "1829": 8.083333333333334,
           "183": 8.083333333333334,
           "1830": 5.933333333333334,
           "1831": 8.083333333333334,
           "1832": 9.416666666666666,
           "1833": 10.483333333333333,
           "1834": 11.083333333333334,
           "1835": 14.083333333333334,
           "1836": 16.016666666666666,
           "1837": 20.2,
           "1838": 7.083333333333333,
           "1839": 8.083333333333334,
           "184": 7.083333333333333,
           "1840": 9.116666666666667,
           "1841": 10.066666666666666,
           "1842": 5.333333333333333,
           "1843": 8.083333333333334,
           "1844": 8.783333333333333,
           "1845": 7.083333333333333,
           "1846": 8.083333333333334,
           "1847": 10.333333333333334,
           "1848": 8.083333333333334,
           "1849": 2.2,
           "185": 7.083333333333333,
           "1850": 7.083333333333333,
           "1851": 8.083333333333334,
           "1852": 9.183333333333334,
           "1853": 11.083333333333334,
           "1854": 12.466666666666667,
           "1855": 4.466666666666667,
           "1856": 8.083333333333334,
           "1857": 7.083333333333333,
           "1858": 9.916666666666666,
           "1859": 12.45,
           "186": 8.083333333333334,
           "1860": 8.083333333333334,
           "1861": 9.483333333333333,
           "1862": 11.2,
           "1863": 8.6,
           "1864": 11.333333333333334,
           "1865": 19.966666666666665,
           "1866": 8.083333333333334,
           "1867": 8.716666666666667,
           "1868": 9.016666666666667,
           "1869": 1.1833333333333333,
           "187": 12.45,
           "1870": 9.416666666666666,
           "1871": 13.133333333333333,
           "1872": 21.5,
           "1873": 8.083333333333334,
           "1874": 9.5,
           "1875": 8.083333333333334,
           "1876": 8.866666666666667,
           "1877": 13.783333333333333,
           "1878": 8.083333333333334,
           "1879": 9.216666666666667,
           "188": 7.083333333333333,
           "1880": 1.2666666666666666,
           "1881": 7.533333333333333,
           "1882": 8.083333333333334,
           "1883": 12.5,
           "1884": 16.283333333333335,
           "1885": 16.5,
           "1886": 8.083333333333334,
           "1887": 8.083333333333334,
           "1888": 8.083333333333334,
           "1889": 8.816666666666666,
           "189": 8.083333333333334,
           "1890": 16.316666666666666,
           "1891": 16.666666666666668,
           "1892": 19.1,
           "1893": 7.083333333333333,
           "1894": 8.083333333333334,
           "1895": 9.15,
           "1896": 7.183333333333334,
           "1897": 8.083333333333334,
           "1898": 22.916666666666668,
           "1899": 0.38333333333333336,
           "19": 14.083333333333334,
           "190": 8.083333333333334,
           "1900": 2.25,
           "1901": 5.9,
           "1902": 6.983333333333333,
           "1903": 8.083333333333334,
           "1904": 9.966666666666667,
           "1905": 10.466666666666667,
           "1906": 20.2,
           "1907": 7.083333333333333,
           "1908": 8.083333333333334,
           "1909": 9.016666666666667,
           "191": 8.083333333333334,
           "1910": 12.4,
           "1911": 17.75,
           "1912": 18.116666666666667,
           "1913": 6.566666666666666,
           "1914": 7.083333333333333,
           "1915": 8.083333333333334,
           "1916": 7.083333333333333,
           "1917": 7.083333333333333,
           "1918": 8.083333333333334,
           "1919": 11.1,
           "192": 8.083333333333334,
           "1920": 12.8,
           "1921": 18.333333333333332,
           "1922": 8.083333333333334,
           "1923": 10.433333333333334,
           "1924": 10.783333333333333,
           "1925": 13.533333333333333,
           "1926": 6.583333333333333,
           "1927": 8.083333333333334,
           "1928": 7.083333333333333,
           "1929": 8.083333333333334,
           "193": 11.15,
           "1930": 15.566666666666666,
           "1931": 5.083333333333333,
           "1932": 7.083333333333333,
           "1933": 8.083333333333334,
           "1934": 9.983333333333333,
           "1935": 12.583333333333334,
           "1936": 3.85,
           "1937": 7.083333333333333,
           "1938": 8.083333333333334,
           "1939": 9.516666666666667,
           "194": 8.083333333333334,
           "1940": 8.083333333333334,
           "1941": 15.633333333333333,
           "1942": 8.083333333333334,
           "1943": 10.166666666666666,
           "1944": 11.083333333333334,
           "1945": 13.35,
           "1946": 8.083333333333334,
           "1947": 10.866666666666667,
           "1948": 11.083333333333334,
           "1949": 14.083333333333334,
           "195": 13.75,
           "1950": 7.083333333333333,
           "1951": 8.083333333333334,
           "1952": 3.4166666666666665,
           "1953": 7.083333333333333,
           "1954": 8.083333333333334,
           "1955": 11.066666666666666,
           "1956": 7.083333333333333,
           "1957": 7.333333333333333,
           "1958": 8.083333333333334,
           "1959": 7.083333333333333,
           "196": 3.2333333333333334,
           "1960": 7.083333333333333,
           "1961": 8.083333333333334,
           "1962": 9.716666666666667,
           "1963": 11.5,
           "1964": 14.083333333333334,
           "1965": 15.833333333333334,
           "1966": 1.85,
           "1967": 7.083333333333333,
           "1968": 8.083333333333334,
           "1969": 7.083333333333333,
           "197": 7.083333333333333,
           "1970": 8.083333333333334,
           "1971": 14.05,
           "1972": 6.583333333333333,
           "1973": 7.383333333333334,
           "1974": 8.083333333333334,
           "1975": 7.083333333333333,
           "1976": 8.083333333333334,
           "1977": 15.183333333333334,
           "1978": 7.083333333333333,
           "1979": 8.083333333333334,
           "198": 8.083333333333334,
           "1980": 10.583333333333334,
           "1981": 13.366666666666667,
           "1982": 14.55,
           "1983": 17.2,
           "1984": 1.0666666666666667,
           "1985": 5.333333333333333,
           "1986": 7.083333333333333,
           "1987": 8.083333333333334,
           "1988": 13.35,
           "1989": 14.1,
           "199": 16.666666666666668,
           "1990": 14.266666666666667,
           "1991": 7.083333333333333,
           "1992": 16.083333333333332,
           "1993": 5.483333333333333,
           "1994": 11.833333333333334,
           "1995": 17.666666666666668,
           "1996": 7.1,
           "1997": 8.083333333333334,
           "1998": 17.816666666666666,
           "1999": 8.083333333333334,
           "2": 8.083333333333334,
           "20": 15.05,
           "200": 7.083333333333333,
           "2000": 18.5,
           "2001": 0.6333333333333333,
           "2002": 7.083333333333333,
           "2003": 1.05,
           "2004": 8.083333333333334,
           "2005": 8.083333333333334,
           "201": 8.083333333333334,
           "202": 12.333333333333334,
           "203": 7.083333333333333,
           "204": 7.083333333333333,
           "205": 8.083333333333334,
           "206": 11.083333333333334,
           "207": 17.433333333333334,
           "208": 7.083333333333333,
           "209": 7.083333333333333,
           "21": 17.833333333333332,
           "210": 8.083333333333334,
           "211": 14.766666666666667,
           "212": 9.45,
           "213": 15.666666666666666,
           "214": 8.083333333333334,
           "215": 10.266666666666667,
           "216": 14.616666666666667,
           "217": 18.6,
           "218": 1.5166666666666666,
           "219": 7.083333333333333,
           "22": 7.083333333333333,
           "220": 15.766666666666667,
           "221": 7.083333333333333,
           "222": 8.083333333333334,
           "223": 7.083333333333333,
           "224": 7.083333333333333,
           "225": 8.083333333333334,
           "226": 14.333333333333334,
           "227": 15.633333333333333,
           "228": 8.083333333333334,
           "229": 12.033333333333333,
           "23": 8.083333333333334,
           "230": 9.033333333333333,
           "231": 13.15,
           "232": 17.933333333333334,
           "233": 7.083333333333333,
           "234": 8.083333333333334,
           "235": 14.933333333333334,
           "236": 7.083333333333333,
           "237": 8.083333333333334,
           "238": 13.7,
           "239": 15.583333333333334,
           "24": 7.083333333333333,
           "240": 0.21666666666666667,
           "241": 7.083333333333333,
           "242": 8.083333333333334,
           "243": 10,
           "244": 13.233333333333333,
           "245": 7.083333333333333,
           "246": 8.083333333333334,
           "247": 11.083333333333334,
           "248": 2.8333333333333335,
           "249": 7.083333333333333,
           "25": 8.083333333333334,
           "250": 8.083333333333334,
           "251": 10.133333333333333,
           "252": 10.833333333333334,
           "253": 22.533333333333335,
           "254": 8.083333333333334,
           "255": 9.683333333333334,
           "256": 11.866666666666667,
           "257": 7.083333333333333,
           "258": 8.166666666666666,
           "259": 8.083333333333334,
           "26": 9.283333333333333,
           "260": 9.566666666666666,
           "261": 9.816666666666666,
           "262": 0.5166666666666667,
           "263": 5.616666666666667,
           "264": 7.083333333333333,
           "265": 8.083333333333334,
           "266": 7.083333333333333,
           "267": 8.083333333333334,
           "268": 11.083333333333334,
           "269": 12,
           "27": 7.083333333333333,
           "270": 7.083333333333333,
           "271": 8.083333333333334,
           "272": 11.083333333333334,
           "273": 4.4,
           "274": 7.083333333333333,
           "275": 8.083333333333334,
           "276": 12.216666666666667,
           "277": 16.133333333333333,
           "278": 16.316666666666666,
           "279": 17.25,
           "28": 8.083333333333334,
           "280": 18.366666666666667,
           "281": 1.9333333333333333,
           "282": 7.083333333333333,
           "283": 8.083333333333334,
           "284": 13.083333333333334,
           "285": 14.05,
           "286": 19.083333333333332,
           "287": 21.4,
           "288": 22.15,
           "289": 0.8333333333333334,
           "29": 17.1,
           "290": 7.083333333333333,
           "291": 8.083333333333334,
           "292": 13.083333333333334,
           "293": 13.55,
           "294": 14.45,
           "295": 17.333333333333332,
           "296": 17.9,
           "297": 7.083333333333333,
           "298": 8.083333333333334,
           "299": 10.583333333333334,
           "3": 8.083333333333334,
           "30": 8.083333333333334,
           "300": 12.416666666666666,
           "301": 13.083333333333334,
           "302": 15.516666666666667,
           "303": 21.316666666666666,
           "304": 21.95,
           "305": 0.48333333333333334,
           "306": 4.366666666666666,
           "307": 7.083333333333333,
           "308": 8.083333333333334,
           "309": 9.383333333333333,
           "31": 9.9,
           "310": 9.583333333333334,
           "311": 11.183333333333334,
           "312": 14.5,
           "313": 16.1,
           "314": 16.316666666666666,
           "315": 4.416666666666667,
           "316": 7.083333333333333,
           "317": 8.083333333333334,
           "318": 9.283333333333333,
           "319": 10.616666666666667,
           "32": 18.116666666666667,
           "320": 14.183333333333334,
           "321": 7.083333333333333,
           "322": 8.083333333333334,
           "323": 10.083333333333334,
           "324": 18.833333333333332,
           "325": 22.4,
           "326": 4.516666666666667,
           "327": 6.45,
           "328": 6.9,
           "329": 7.083333333333333,
           "33": 1.1666666666666667,
           "330": 8.083333333333334,
           "331": 12.45,
           "332": 15.333333333333334,
           "333": 16.15,
           "334": 17.766666666666666,
           "335": 20.316666666666666,
           "336": 2.283333333333333,
           "337": 6.083333333333333,
           "338": 7.083333333333333,
           "339": 8.083333333333334,
           "34": 3.9333333333333336,
           "340": 10.083333333333334,
           "341": 10.483333333333333,
           "342": 21.3,
           "343": 7.083333333333333,
           "344": 8.083333333333334,
           "345": 8.6,
           "346": 10.083333333333334,
           "347": 13.233333333333333,
           "348": 4.016666666666667,
           "349": 7.083333333333333,
           "35": 7.083333333333333,
           "350": 8.083333333333334,
           "351": 9.016666666666667,
           "352": 1.8,
           "353": 5.883333333333333,
           "354": 7.083333333333333,
           "355": 8.083333333333334,
           "356": 8.683333333333334,
           "357": 10.033333333333333,
           "358": 15.433333333333334,
           "359": 15.533333333333333,
           "36": 8.083333333333334,
           "360": 15.916666666666666,
           "361": 20.683333333333334,
           "362": 1.7666666666666666,
           "363": 7.083333333333333,
           "364": 21.533333333333335,
           "365": 4.05,
           "366": 7.083333333333333,
           "367": 8.083333333333334,
           "368": 8.933333333333334,
           "369": 13.083333333333334,
           "37": 10.616666666666667,
           "370": 7.083333333333333,
           "371": 8.083333333333334,
           "372": 10.083333333333334,
           "373": 13.883333333333333,
           "374": 14.15,
           "375": 14.65,
           "376": 21.733333333333334,
           "377": 7.083333333333333,
           "378": 8.083333333333334,
           "379": 10.583333333333334,
           "38": 12.716666666666667,
           "380": 13.1,
           "381": 13.2,
           "382": 15.583333333333334,
           "383": 7.083333333333333,
           "384": 8.083333333333334,
           "385": 9.366666666666667,
           "386": 10.45,
           "387": 12.633333333333333,
           "388": 3.3,
           "389": 7.083333333333333,
           "39": 14.266666666666667,
           "390": 8.083333333333334,
           "391": 9.116666666666667,
           "392": 15.733333333333333,
           "393": 15.983333333333333,
           "394": 19.1,
           "395": 5.083333333333333,
           "396": 6.083333333333333,
           "397": 6.4,
           "398": 7.083333333333333,
           "399": 8.083333333333334,
           "4": 14.616666666666667,
           "40": 8.083333333333334,
           "400": 10.566666666666666,
           "401": 6.083333333333333,
           "402": 7.083333333333333,
           "403": 8.6,
           "404": 7.083333333333333,
           "405": 8.083333333333334,
           "406": 9.1,
           "407": 10.066666666666666,
           "408": 10.45,
           "409": 12.5,
           "41": 8.083333333333334,
           "410": 13.9,
           "411": 16.466666666666665,
           "412": 17.016666666666666,
           "413": 18.316666666666666,
           "414": 4.583333333333333,
           "415": 6.95,
           "416": 7.083333333333333,
           "417": 8.083333333333334,
           "418": 13.033333333333333,
           "419": 14,
           "42": 8.083333333333334,
           "420": 1.4,
           "421": 7.083333333333333,
           "422": 8.083333333333334,
           "423": 13.683333333333334,
           "424": 14.083333333333334,
           "425": 7.083333333333333,
           "426": 8.083333333333334,
           "427": 13.9,
           "428": 7.083333333333333,
           "429": 8.083333333333334,
           "43": 0.3333333333333333,
           "430": 3.3666666666666667,
           "431": 7.083333333333333,
           "432": 8.083333333333334,
           "433": 10.516666666666667,
           "434": 11.083333333333334,
           "435": 0.3333333333333333,
           "436": 7.083333333333333,
           "437": 8.083333333333334,
           "438": 15.033333333333333,
           "439": 7.083333333333333,
           "44": 8.083333333333334,
           "440": 8.083333333333334,
           "441": 20.616666666666667,
           "442": 7.083333333333333,
           "443": 8.083333333333334,
           "444": 8.6,
           "445": 10.15,
           "446": 7.083333333333333,
           "447": 8.083333333333334,
           "448": 0.6166666666666667,
           "449": 7.083333333333333,
           "45": 14.9,
           "450": 13.466666666666667,
           "451": 14.016666666666667,
           "452": 14.416666666666666,
           "453": 3.3,
           "454": 7.083333333333333,
           "455": 8.083333333333334,
           "456": 12.083333333333334,
           "457": 13.083333333333334,
           "458": 13.483333333333333,
           "459": 7.083333333333333,
           "46": 15.65,
           "460": 8.083333333333334,
           "461": 10.083333333333334,
           "462": 10.5,
           "463": 11.533333333333333,
           "464": 13.083333333333334,
           "465": 7.083333333333333,
           "466": 7.083333333333333,
           "467": 8.083333333333334,
           "468": 10.083333333333334,
           "469": 10.25,
           "47": 16.95,
           "470": 17.15,
           "471": 18.916666666666668,
           "472": 8.083333333333334,
           "473": 9.083333333333334,
           "474": 9.416666666666666,
           "475": 10.95,
           "476": 12.083333333333334,
           "477": 12.816666666666666,
           "478": 13.033333333333333,
           "479": 13.233333333333333,
           "48": 8.083333333333334,
           "480": 18.816666666666666,
           "481": 7.083333333333333,
           "482": 7.6,
           "483": 8.083333333333334,
           "484": 8.766666666666667,
           "485": 9.083333333333334,
           "486": 11.833333333333334,
           "487": 12.05,
           "488": 16.433333333333334,
           "489": 21.266666666666666,
           "49": 18.75,
           "490": 0.85,
           "491": 7.083333333333333,
           "492": 8.083333333333334,
           "493": 10.05,
           "494": 12.1,
           "495": 0.6166666666666667,
           "496": 7.083333333333333,
           "497": 8.083333333333334,
           "498": 8.433333333333334,
           "499": 9.083333333333334,
           "5": 7.083333333333333,
           "50": 11.083333333333334,
           "500": 9.666666666666666,
           "501": 15.083333333333334,
           "502": 1.8,
           "503": 7.083333333333333,
           "504": 8.083333333333334,
           "505": 9.083333333333334,
           "506": 9.433333333333334,
           "507": 10.083333333333334,
           "508": 11.883333333333333,
           "509": 12.083333333333334,
           "51": 8.083333333333334,
           "510": 16.083333333333332,
           "511": 16.3,
           "512": 17.083333333333332,
           "513": 7.083333333333333,
           "514": 8.083333333333334,
           "515": 9.083333333333334,
           "516": 13.066666666666666,
           "517": 8.083333333333334,
           "518": 12.166666666666666,
           "519": 14.083333333333334,
           "52": 11.083333333333334,
           "520": 14.566666666666666,
           "521": 16.066666666666666,
           "522": 20.783333333333335,
           "523": 1.8,
           "524": 7.083333333333333,
           "525": 8.083333333333334,
           "526": 9.083333333333334,
           "527": 10.533333333333333,
           "528": 11.083333333333334,
           "529": 13.733333333333333,
           "53": 11.366666666666667,
           "530": 16.416666666666668,
           "531": 17.2,
           "532": 20.783333333333335,
           "533": 21.983333333333334,
           "534": 22.2,
           "535": 2.2333333333333334,
           "536": 7.083333333333333,
           "537": 8.083333333333334,
           "538": 9.083333333333334,
           "539": 10.516666666666667,
           "54": 15.85,
           "540": 11.35,
           "541": 16.483333333333334,
           "542": 17.75,
           "543": 18.5,
           "544": 19.233333333333334,
           "545": 7.083333333333333,
           "546": 8.083333333333334,
           "547": 9.083333333333334,
           "548": 14.2,
           "549": 18.25,
           "55": 18.816666666666666,
           "550": 2.9166666666666665,
           "551": 8.083333333333334,
           "552": 9.1,
           "553": 13.75,
           "554": 15.083333333333334,
           "555": 15.45,
           "556": 17.283333333333335,
           "557": 19.45,
           "558": 5.966666666666667,
           "559": 8.083333333333334,
           "56": 0.5333333333333333,
           "560": 9.083333333333334,
           "561": 12.066666666666666,
           "562": 0.08333333333333333,
           "563": 8.083333333333334,
           "564": 8.683333333333334,
           "565": 9.083333333333334,
           "566": 14.35,
           "567": 8.083333333333334,
           "568": 9.083333333333334,
           "569": 10.733333333333333,
           "57": 7.083333333333333,
           "570": 11.766666666666667,
           "571": 15.383333333333333,
           "572": 17.7,
           "573": 7.083333333333333,
           "574": 8.083333333333334,
           "575": 8.75,
           "576": 9.083333333333334,
           "577": 10.833333333333334,
           "578": 17.083333333333332,
           "579": 8.083333333333334,
           "58": 11.233333333333333,
           "580": 9.083333333333334,
           "581": 12.366666666666667,
           "582": 8.083333333333334,
           "583": 9.083333333333334,
           "584": 13.65,
           "585": 8.083333333333334,
           "586": 9.083333333333334,
           "587": 11.083333333333334,
           "588": 12.383333333333333,
           "589": 12.966666666666667,
           "59": 4.916666666666667,
           "590": 13.116666666666667,
           "591": 16.033333333333335,
           "592": 8.083333333333334,
           "593": 9.083333333333334,
           "594": 13.95,
           "595": 15.016666666666667,
           "596": 15.9,
           "597": 16.85,
           "598": 20.75,
           "599": 0.08333333333333333,
           "6": 8.083333333333334,
           "60": 7.083333333333333,
           "600": 6.85,
           "601": 8.083333333333334,
           "602": 9.083333333333334,
           "603": 15.083333333333334,
           "604": 8.083333333333334,
           "605": 9.083333333333334,
           "606": 8.083333333333334,
           "607": 9.083333333333334,
           "608": 12.916666666666666,
           "609": 8.083333333333334,
           "61": 8.083333333333334,
           "610": 9.083333333333334,
           "611": 11.083333333333334,
           "612": 13.366666666666667,
           "613": 14.083333333333334,
           "614": 16.1,
           "615": 18.95,
           "616": 7.083333333333333,
           "617": 9.083333333333334,
           "618": 10.766666666666667,
           "619": 0.95,
           "62": 17.016666666666666,
           "620": 8.083333333333334,
           "621": 9.083333333333334,
           "622": 8.083333333333334,
           "623": 9.083333333333334,
           "624": 10.616666666666667,
           "625": 10.85,
           "626": 13.05,
           "627": 18.416666666666668,
           "628": 3.45,
           "629": 7.083333333333333,
           "63": 8.083333333333334,
           "630": 8.083333333333334,
           "631": 9.083333333333334,
           "632": 10.466666666666667,
           "633": 13.616666666666667,
           "634": 17.083333333333332,
           "635": 17.583333333333332,
           "636": 20.883333333333333,
           "637": 2.9,
           "638": 7.083333333333333,
           "639": 8.083333333333334,
           "64": 9.25,
           "640": 9.083333333333334,
           "641": 21.466666666666665,
           "642": 7.083333333333333,
           "643": 9.083333333333334,
           "644": 15.666666666666666,
           "645": 8.083333333333334,
           "646": 9.083333333333334,
           "647": 12.05,
           "648": 12.766666666666667,
           "649": 5.666666666666667,
           "65": 1.5833333333333335,
           "650": 8.083333333333334,
           "651": 9.083333333333334,
           "652": 11.25,
           "653": 11.633333333333333,
           "654": 13.4,
           "655": 15.216666666666667,
           "656": 19.65,
           "657": 20.766666666666666,
           "658": 8.083333333333334,
           "659": 9.483333333333333,
           "66": 8.083333333333334,
           "660": 11.2,
           "661": 2.65,
           "662": 7.083333333333333,
           "663": 8.083333333333334,
           "664": 9.133333333333333,
           "665": 10.516666666666667,
           "666": 10.716666666666667,
           "667": 13.916666666666666,
           "668": 16.133333333333333,
           "669": 18.966666666666665,
           "67": 11.083333333333334,
           "670": 20.75,
           "671": 6.45,
           "672": 6.983333333333333,
           "673": 7.083333333333333,
           "674": 7.3,
           "675": 8.083333333333334,
           "676": 11.083333333333334,
           "677": 11.833333333333334,
           "678": 13.866666666666667,
           "679": 18.9,
           "68": 14.733333333333333,
           "680": 20.5,
           "681": 21.35,
           "682": 21.583333333333332,
           "683": 7.083333333333333,
           "684": 8.083333333333334,
           "685": 9.083333333333334,
           "686": 9.366666666666667,
           "687": 15.083333333333334,
           "688": 17.1,
           "689": 19.05,
           "69": 16.083333333333332,
           "690": 20.516666666666666,
           "691": 21.566666666666666,
           "692": 6.566666666666666,
           "693": 7.083333333333333,
           "694": 8.083333333333334,
           "695": 9.083333333333334,
           "696": 7.083333333333333,
           "697": 9.083333333333334,
           "698": 13.033333333333333,
           "699": 7.083333333333333,
           "7": 12.4,
           "70": 8.083333333333334,
           "700": 8.083333333333334,
           "701": 9.083333333333334,
           "702": 18.3,
           "703": 21.1,
           "704": 2.8,
           "705": 7.083333333333333,
           "706": 8.083333333333334,
           "707": 9.083333333333334,
           "708": 11.233333333333333,
           "709": 13.516666666666667,
           "71": 11.116666666666667,
           "710": 16.45,
           "711": 18.25,
           "712": 5.083333333333333,
           "713": 7.083333333333333,
           "714": 8.083333333333334,
           "715": 9.083333333333334,
           "716": 12.533333333333333,
           "717": 12.783333333333333,
           "718": 13.166666666666666,
           "719": 13.65,
           "72": 8.083333333333334,
           "720": 6.05,
           "721": 7.083333333333333,
           "722": 8.083333333333334,
           "723": 9.083333333333334,
           "724": 11.283333333333333,
           "725": 2.8833333333333333,
           "726": 7.083333333333333,
           "727": 8.083333333333334,
           "728": 9.083333333333334,
           "729": 10.583333333333334,
           "73": 6,
           "730": 11.483333333333333,
           "731": 12.083333333333334,
           "732": 12.9,
           "733": 16.3,
           "734": 22.683333333333334,
           "735": 7.083333333333333,
           "736": 8.083333333333334,
           "737": 9.083333333333334,
           "738": 12.9,
           "739": 14.083333333333334,
           "74": 8.083333333333334,
           "740": 7.083333333333333,
           "741": 8.083333333333334,
           "742": 13.183333333333334,
           "743": 13.6,
           "744": 18.1,
           "745": 7.083333333333333,
           "746": 8.083333333333334,
           "747": 9.083333333333334,
           "748": 11.083333333333334,
           "749": 19.05,
           "75": 13.783333333333333,
           "750": 7.083333333333333,
           "751": 8.083333333333334,
           "752": 9.083333333333334,
           "753": 18.816666666666666,
           "754": 7.083333333333333,
           "755": 8.083333333333334,
           "756": 11.35,
           "757": 12.55,
           "758": 15.083333333333334,
           "759": 7.083333333333333,
           "76": 7.083333333333333,
           "760": 8.083333333333334,
           "761": 9.083333333333334,
           "762": 11.016666666666667,
           "763": 17.783333333333335,
           "764": 7.083333333333333,
           "765": 8.083333333333334,
           "766": 8.766666666666667,
           "767": 9.083333333333334,
           "768": 0.43333333333333335,
           "769": 0.7,
           "77": 7.433333333333334,
           "770": 7.083333333333333,
           "771": 8.083333333333334,
           "772": 7.083333333333333,
           "773": 8.083333333333334,
           "774": 9.083333333333334,
           "775": 11.083333333333334,
           "776": 15.816666666666666,
           "777": 7.083333333333333,
           "778": 8.083333333333334,
           "779": 10.083333333333334,
           "78": 8.083333333333334,
           "780": 10.9,
           "781": 12.95,
           "782": 13.1,
           "783": 14.383333333333333,
           "784": 19.833333333333332,
           "785": 0.15,
           "786": 7.083333333333333,
           "787": 8.083333333333334,
           "788": 9.083333333333334,
           "789": 7.083333333333333,
           "79": 7.083333333333333,
           "790": 8.083333333333334,
           "791": 10.383333333333333,
           "792": 8.083333333333334,
           "793": 9.083333333333334,
           "794": 8.083333333333334,
           "795": 12.083333333333334,
           "796": 12.316666666666666,
           "797": 18.516666666666666,
           "798": 19.166666666666668,
           "799": 8.083333333333334,
           "8": 4.616666666666667,
           "80": 7.5,
           "800": 9.083333333333334,
           "801": 13.483333333333333,
           "802": 14.8,
           "803": 15.983333333333333,
           "804": 16.133333333333333,
           "805": 17.766666666666666,
           "806": 18.566666666666666,
           "807": 19.566666666666666,
           "808": 21.916666666666668,
           "809": 7.083333333333333,
           "81": 8.083333333333334,
           "810": 11.083333333333334,
           "811": 12.25,
           "812": 15.083333333333334,
           "813": 21.633333333333333,
           "814": 4.183333333333334,
           "815": 4.583333333333333,
           "816": 7.083333333333333,
           "817": 8.083333333333334,
           "818": 11.383333333333333,
           "819": 13.433333333333334,
           "82": 10.316666666666666,
           "820": 14.083333333333334,
           "821": 17.633333333333333,
           "822": 18.133333333333333,
           "823": 7.083333333333333,
           "824": 8.083333333333334,
           "825": 8.8,
           "826": 11.75,
           "827": 14.083333333333334,
           "828": 4.016666666666667,
           "829": 7.083333333333333,
           "83": 12.3,
           "830": 8.083333333333334,
           "831": 10.75,
           "832": 13.1,
           "833": 14.383333333333333,
           "834": 14.766666666666667,
           "835": 20.75,
           "836": 5.616666666666667,
           "837": 7.083333333333333,
           "838": 8.083333333333334,
           "839": 11.083333333333334,
           "84": 8.083333333333334,
           "840": 7.083333333333333,
           "841": 8.083333333333334,
           "842": 8.766666666666667,
           "843": 15.533333333333333,
           "844": 18.6,
           "845": 7.083333333333333,
           "846": 8.083333333333334,
           "847": 0.8,
           "848": 7.083333333333333,
           "849": 8.083333333333334,
           "85": 8.083333333333334,
           "850": 10.733333333333333,
           "851": 11.083333333333334,
           "852": 13.866666666666667,
           "853": 7.083333333333333,
           "854": 8.083333333333334,
           "855": 11.083333333333334,
           "856": 14.85,
           "857": 16.833333333333332,
           "858": 7.083333333333333,
           "859": 8.083333333333334,
           "86": 21,
           "860": 12.4,
           "861": 14.233333333333333,
           "862": 20,
           "863": 7.083333333333333,
           "864": 8.083333333333334,
           "865": 9.016666666666667,
           "866": 11.95,
           "867": 19.983333333333334,
           "868": 0.08333333333333333,
           "869": 2.9,
           "87": 8.083333333333334,
           "870": 7.083333333333333,
           "871": 8.083333333333334,
           "872": 11.966666666666667,
           "873": 16.716666666666665,
           "874": 6.883333333333333,
           "875": 7.083333333333333,
           "876": 8.083333333333334,
           "877": 9.183333333333334,
           "878": 16.5,
           "879": 16.933333333333334,
           "88": 7.083333333333333,
           "880": 17.25,
           "881": 18.933333333333334,
           "882": 7.083333333333333,
           "883": 8.083333333333334,
           "884": 12.183333333333334,
           "885": 13.116666666666667,
           "886": 13.25,
           "887": 14.083333333333334,
           "888": 1.5833333333333335,
           "889": 7.083333333333333,
           "89": 8.083333333333334,
           "890": 7.083333333333333,
           "891": 8.083333333333334,
           "892": 13.633333333333333,
           "893": 7.083333333333333,
           "894": 8.083333333333334,
           "895": 9.616666666666667,
           "896": 14.083333333333334,
           "897": 19.25,
           "898": 7.083333333333333,
           "899": 6.583333333333333,
           "9": 8.083333333333334,
           "90": 8.083333333333334,
           "900": 8.083333333333334,
           "901": 10.466666666666667,
           "902": 11.083333333333334,
           "903": 13.333333333333334,
           "904": 18.483333333333334,
           "905": 7.083333333333333,
           "906": 8.083333333333334,
           "907": 6.583333333333333,
           "908": 8.083333333333334,
           "909": 7.083333333333333,
           "91": 9.516666666666667,
           "910": 8.083333333333334,
           "911": 11.2,
           "912": 11.85,
           "913": 15.116666666666667,
           "914": 16.783333333333335,
           "915": 1.7666666666666666,
           "916": 6.516666666666667,
           "917": 7.083333333333333,
           "918": 8.083333333333334,
           "919": 9.983333333333333,
           "92": 20.15,
           "920": 10.083333333333334,
           "921": 11.416666666666666,
           "922": 14.9,
           "923": 7.083333333333333,
           "924": 8.083333333333334,
           "925": 8.333333333333334,
           "926": 14.083333333333334,
           "927": 15.633333333333333,
           "928": 16.033333333333335,
           "929": 20.266666666666666,
           "93": 7.083333333333333,
           "930": 7.083333333333333,
           "931": 8.083333333333334,
           "932": 12.25,
           "933": 18.416666666666668,
           "934": 20,
           "935": 2.4,
           "936": 5.433333333333334,
           "937": 7.083333333333333,
           "938": 8.083333333333334,
           "939": 11.283333333333333,
           "94": 8.083333333333334,
           "940": 18.083333333333332,
           "941": 6.766666666666667,
           "942": 7.083333333333333,
           "943": 7.566666666666666,
           "944": 8.083333333333334,
           "945": 16.75,
           "946": 17.866666666666667,
           "947": 7.083333333333333,
           "948": 8.083333333333334,
           "949": 10.966666666666667,
           "95": 7.083333333333333,
           "950": 11.266666666666667,
           "951": 0.26666666666666666,
           "952": 7.083333333333333,
           "953": 8.083333333333334,
           "954": 7.083333333333333,
           "955": 8.083333333333334,
           "956": 15.35,
           "957": 7.083333333333333,
           "958": 7.433333333333334,
           "959": 8.083333333333334,
           "96": 11.083333333333334,
           "960": 9.283333333333333,
           "961": 10.666666666666666,
           "962": 11.05,
           "963": 11.366666666666667,
           "964": 12.816666666666666,
           "965": 13.383333333333333,
           "966": 7.083333333333333,
           "967": 7.25,
           "968": 8.083333333333334,
           "969": 10.383333333333333,
           "97": 11.783333333333333,
           "970": 18.166666666666668,
           "971": 23.233333333333334,
           "972": 7.083333333333333,
           "973": 8.083333333333334,
           "974": 11.083333333333334,
           "975": 14.083333333333334,
           "976": 15.066666666666666,
           "977": 16.083333333333332,
           "978": 19.766666666666666,
           "979": 20.966666666666665,
           "98": 13.033333333333333,
           "980": 7.083333333333333,
           "981": 8.083333333333334,
           "982": 11.083333333333334,
           "983": 17.25,
           "984": 7.083333333333333,
           "985": 8.083333333333334,
           "986": 9.166666666666666,
           "987": 10.883333333333333,
           "988": 13.983333333333333,
           "989": 15.783333333333333,
           "99": 13.966666666666667,
           "990": 1.8166666666666667,
           "991": 7.083333333333333,
           "992": 8.083333333333334,
           "993": 10.083333333333334,
           "994": 7.083333333333333,
           "995": 8.083333333333334,
           "996": 13.566666666666666,
           "997": 15.4,
           "998": 0.6333333333333333,
           "999": 5.033333333333333,
           "bdata": "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",
           "dtype": "f8",
           "shape": "2006"
          },
          "bdata": "ERERERGRI0CrqqqqqiogQKuqqqqqKiBAq6qqqqoqIEC8u7u7uzstQFVVVVVVVRxAq6qqqqoqIEDNzMzMzMwoQHh3d3d3dxJAq6qqqqoqIEBVVVVVVVUiQN7d3d3d3SJAZmZmZmZmJ0DNzMzMzMwnQAAAAAAAAABAVVVVVVVVHEAiIiIiIqIpQFVVVVVVVRxAmpmZmZkZK0CrqqqqqiosQJqZmZmZGS5AVVVVVVXVMUBVVVVVVVUcQKuqqqqqKiBAVVVVVVVVHECrqqqqqiogQBERERERkSJAVVVVVVVVHECrqqqqqiogQJqZmZmZGTFAq6qqqqoqIEDNzMzMzMwjQN7d3d3dHTJAq6qqqqqq8j94d3d3d3cPQFVVVVVVVRxAq6qqqqoqIEC8u7u7uzslQO/u7u7ubilAiYiIiIiILECrqqqqqiogQKuqqqqqKiBAq6qqqqoqIEBVVVVVVVXVP6uqqqqqKiBAzczMzMzMLUDNzMzMzEwvQDMzMzMz8zBAq6qqqqoqIEAAAAAAAMAyQKuqqqqqKiZAq6qqqqoqIECrqqqqqiomQLy7u7u7uyZAMzMzMzOzL0AREREREdEyQBEREREREeE/VVVVVVVVHEB3d3d3d3cmQKuqqqqqqhNAVVVVVVVVHECrqqqqqiogQEREREREBDFAq6qqqqoqIEAAAAAAAIAiQFZVVVVVVfk/q6qqqqoqIECrqqqqqiomQHd3d3d3dy1AVVVVVVUVMECrqqqqqiogQLy7u7u7OyZAq6qqqqoqIEAAAAAAAAAYQKuqqqqqKiBAERERERGRK0BVVVVVVVUcQLy7u7u7ux1Aq6qqqqoqIEBVVVVVVVUcQAAAAAAAAB5Aq6qqqqoqIEAiIiIiIqIkQJqZmZmZmShAq6qqqqoqIECrqqqqqiogQAAAAAAAADVAq6qqqqoqIEBVVVVVVVUcQKuqqqqqKiBAq6qqqqoqIECJiIiIiAgjQGZmZmZmJjRAVVVVVVVVHECrqqqqqiogQFVVVVVVVRxAq6qqqqoqJkAREREREZEnQBERERERESpA7+7u7u7uK0BVVVVVVVUcQKuqqqqqKiBAiYiIiIgIIUAzMzMzMzP/P4iIiIiIiBtAVVVVVVVVHECrqqqqqiogQBERERERES1AiYiIiIgINEAiIiIiIiLyP1VVVVVVVRxAq6qqqqoqIEAAAAAAAIAqQN7d3d3dXSxAVVVVVVXVLkBVVVVVVVUcQKuqqqqqKiBA7+7u7u7uJUCrqqqqqiogQBERERERkSBAq6qqqqoqIECrqqqqqiomQO/u7u7u7jBAVVVVVVUVM0CrqqqqqiogQCIiIiIiIiVARERERETEJUCrqqqqqiomQLy7u7u7uylAq6qqqqoqLEBVVVVVVVUcQKuqqqqqKiBAERERERGRJEBVVVVVVVUcQKuqqqqqKiBAVVVVVVVVHECrqqqqqiogQCIiIiIioiVAq6qqqqoqMUCamZmZmZkbQKuqqqqqKiBAiYiIiIgIMUCrqqqqqiogQCIiIiIiIihAMzMzMzOzKEBVVVVVVVUpQImIiIiIiCpA7+7u7u7uLUAiIiIiIiIRQKuqqqqqKiBAVVVVVVVVHECrqqqqqiogQN7d3d3dXSdAq6qqqqoqLEAzMzMzM7MwQKuqqqqqKiBAiYiIiIiIKECrqqqqqiogQKuqqqqqKiBAzczMzMzMLEB3d3d3d3cdQKuqqqqqKiBAzczMzMzMIkDNzMzMzEwjQKuqqqqqKiZAmpmZmZmZ+T9ERERERETkP6uqqqqqKiBAq6qqqqoqIEDe3d3d3V0jQFVVVVVVVSVA7+7u7u5uM0BVVVVVVVUcQKuqqqqqKiBAq6qqqqoqIUB3d3d3d/clQKuqqqqqKiBAIiIiIiIiJkCrqqqqqqorQImIiIiISDBAVVVVVVVVHECrqqqqqiogQFVVVVVVVRxAq6qqqqoqIEBVVVVVVVUcQFVVVVVVVRxAq6qqqqoqIEBmZmZmZuYoQFVVVVVVVRxAq6qqqqoqIECrqqqqqiogQKuqqqqqKiBAq6qqqqoqIEDNzMzMzEwmQKuqqqqqKiBAAAAAAACAK0De3d3d3d0JQFVVVVVVVRxAq6qqqqoqIECrqqqqqqowQFVVVVVVVRxAq6qqqqoqIECrqqqqqqooQFVVVVVVVRxAVVVVVVVVHECrqqqqqiogQKuqqqqqKiZA7+7u7u5uMUBVVVVVVVUcQFVVVVVVVRxAq6qqqqoqIECJiIiIiIgtQGZmZmZm5iJAVVVVVVVVL0CrqqqqqiogQImIiIiIiCRAvLu7u7s7LUCamZmZmZkyQERERERERPg/VVVVVVVVHECJiIiIiIgvQFVVVVVVVRxAq6qqqqoqIEBVVVVVVVUcQFVVVVVVVRxAq6qqqqoqIECrqqqqqqosQERERERERC9Aq6qqqqoqIEAREREREREoQBERERERESJAzczMzMxMKkDv7u7u7u4xQFVVVVVVVRxAq6qqqqoqIEDe3d3d3d0tQFVVVVVVVRxAq6qqqqoqIEBmZmZmZmYrQKuqqqqqKi9AvLu7u7u7yz9VVVVVVVUcQKuqqqqqKiBAAAAAAAAAJEB3d3d3d3cqQFVVVVVVVRxAq6qqqqoqIECrqqqqqiomQKuqqqqqqgZAVVVVVVVVHECrqqqqqiogQERERERERCRAq6qqqqqqJUCJiIiIiIg2QKuqqqqqKiBA3t3d3d1dI0C8u7u7u7snQFVVVVVVVRxAVVVVVVVVIECrqqqqqiogQCIiIiIiIiNAIiIiIiKiI0CJiIiIiIjgP3h3d3d3dxZAVVVVVVVVHECrqqqqqiogQFVVVVVVVRxAq6qqqqoqIECrqqqqqiomQAAAAAAAAChAVVVVVVVVHECrqqqqqiogQKuqqqqqKiZAmpmZmZmZEUBVVVVVVVUcQKuqqqqqKiBA7+7u7u5uKEAiIiIiIiIwQBERERERUTBAAAAAAABAMUDe3d3d3V0yQO/u7u7u7v4/VVVVVVVVHECrqqqqqiogQKuqqqqqKipAmpmZmZkZLEBVVVVVVRUzQGZmZmZmZjVAZmZmZmYmNkCrqqqqqqrqP1VVVVVVVRxAq6qqqqoqIECrqqqqqioqQJqZmZmZGStAZmZmZmbmLEBVVVVVVVUxQGZmZmZm5jFAVVVVVVVVHECrqqqqqiogQKuqqqqqKiVAVVVVVVXVKECrqqqqqioqQImIiIiICC9AERERERFRNUAzMzMzM/M1QO/u7u7u7t4/d3d3d3d3EUBVVVVVVVUcQKuqqqqqKiBARERERETEIkCrqqqqqiojQN7d3d3dXSZAAAAAAAAALUCamZmZmRkwQBERERERUTBAq6qqqqqqEUBVVVVVVVUcQKuqqqqqKiBAERERERGRIkC8u7u7uzslQN7d3d3dXSxAVVVVVVVVHECrqqqqqiogQKuqqqqqKiRAVVVVVVXVMkBmZmZmZmY2QBERERERERJAzczMzMzMGUCamZmZmZkbQFVVVVVVVRxAq6qqqqoqIEBmZmZmZuYoQKuqqqqqqi5AZmZmZmYmMEBERERERMQxQBERERERUTRAREREREREAkBVVVVVVVUYQFVVVVVVVRxAq6qqqqoqIECrqqqqqiokQHd3d3d39yRAzczMzMxMNUBVVVVVVVUcQKuqqqqqKiBAMzMzMzMzIUCrqqqqqiokQHd3d3d3dypAEREREREREEBVVVVVVVUcQKuqqqqqKiBAiYiIiIgIIkDNzMzMzMz8P4iIiIiIiBdAVVVVVVVVHECrqqqqqiogQN7d3d3dXSFAERERERERJEDe3d3d3d0uQBERERERES9AVVVVVVXVL0Dv7u7u7q40QERERERERPw/VVVVVVVVHECJiIiIiIg1QDMzMzMzMxBAVVVVVVVVHECrqqqqqiogQN7d3d3d3SFAq6qqqqoqKkBVVVVVVVUcQKuqqqqqKiBAq6qqqqoqJEBERERERMQrQM3MzMzMTCxAzczMzMxMLUC8u7u7u7s1QFVVVVVVVRxAq6qqqqoqIECrqqqqqiolQDMzMzMzMypAZmZmZmZmKkCrqqqqqiovQFVVVVVVVRxAq6qqqqoqIEC8u7u7u7siQGZmZmZm5iRAREREREREKUBmZmZmZmYKQFVVVVVVVRxAq6qqqqoqIEC8u7u7uzsiQHd3d3d3dy9Ad3d3d3f3L0CamZmZmRkzQFVVVVVVVRRAVVVVVVVVGECamZmZmZkZQFVVVVVVVRxAq6qqqqoqIEAiIiIiIiIlQFVVVVVVVRhAVVVVVVVVHEAzMzMzMzMhQFVVVVVVVRxAq6qqqqoqIEAzMzMzMzMiQCIiIiIiIiRAZmZmZmbmJEAAAAAAAAApQM3MzMzMzCtAd3d3d3d3MEBERERERAQxQBERERERUTJAVVVVVVVVEkDNzMzMzMwbQFVVVVVVVRxAq6qqqqoqIEAREREREREqQAAAAAAAACxAZmZmZmZm9j9VVVVVVVUcQKuqqqqqKiBA3t3d3d1dK0CrqqqqqiosQFVVVVVVVRxAq6qqqqoqIEDNzMzMzMwrQFVVVVVVVRxAq6qqqqoqIEDv7u7u7u4KQFVVVVVVVRxAq6qqqqoqIECJiIiIiAglQKuqqqqqKiZAVVVVVVVV1T9VVVVVVVUcQKuqqqqqKiBAERERERERLkBVVVVVVVUcQKuqqqqqKiBA3t3d3d2dNEBVVVVVVVUcQKuqqqqqKiBAMzMzMzMzIUDNzMzMzEwkQFVVVVVVVRxAq6qqqqoqIEC8u7u7u7vjP1VVVVVVVRxA7+7u7u7uKkCJiIiIiAgsQFVVVVVV1SxAZmZmZmZmCkBVVVVVVVUcQKuqqqqqKiBAq6qqqqoqKECrqqqqqioqQHd3d3d39ypAVVVVVVVVHECrqqqqqiogQKuqqqqqKiRAAAAAAAAAJUAREREREREnQKuqqqqqKipAVVVVVVVVHEBVVVVVVVUcQKuqqqqqKiBAq6qqqqoqJEAAAAAAAIAkQGZmZmZmJjFAq6qqqqrqMkCrqqqqqiogQKuqqqqqKiJAVVVVVVXVIkBmZmZmZuYlQKuqqqqqKihAIiIiIiKiKUAREREREREqQHd3d3d3dypAERERERHRMkBVVVVVVVUcQGZmZmZmZh5Aq6qqqqoqIECJiIiIiIghQKuqqqqqKiJAq6qqqqqqJ0CamZmZmRkoQO/u7u7ubjBARERERERENUAzMzMzMzPrP1VVVVVVVRxAq6qqqqoqIECamZmZmRkkQDMzMzMzMyhAvLu7u7u74z9VVVVVVVUcQKuqqqqqKiBA3t3d3d3dIECrqqqqqioiQFVVVVVVVSNAq6qqqqoqLkDNzMzMzMz8P1VVVVVVVRxAq6qqqqoqIECrqqqqqioiQN7d3d3d3SJAq6qqqqoqJEBERERERMQnQKuqqqqqKihAVVVVVVUVMEDNzMzMzEwwQFVVVVVVFTFAVVVVVVVVHECrqqqqqiogQKuqqqqqKiJAIiIiIiIiKkCrqqqqqiogQFVVVVVVVShAq6qqqqoqLEAiIiIiIiItQBERERERETBAiYiIiIjINEDNzMzMzMz8P1VVVVVVVRxAq6qqqqoqIECrqqqqqioiQBERERERESVAq6qqqqoqJkB3d3d3d3crQKuqqqqqajBAMzMzMzMzMUCJiIiIiMg0QLy7u7u7+zVAMzMzMzMzNkDe3d3d3d0BQFVVVVVVVRxAq6qqqqoqIECrqqqqqioiQImIiIiICCVAMzMzMzOzJkC8u7u7u3swQAAAAAAAwDFAAAAAAACAMkC8u7u7uzszQFVVVVVVVRxAq6qqqqoqIECrqqqqqioiQGZmZmZmZixAAAAAAABAMkBVVVVVVVUHQKuqqqqqKiBAMzMzMzMzIkAAAAAAAIArQKuqqqqqKi5AZmZmZmbmLkCJiIiIiEgxQDMzMzMzczNA3t3d3d3dF0CrqqqqqiogQKuqqqqqKiJAIiIiIiIiKEBVVVVVVVW1P6uqqqqqKiBA3t3d3d1dIUCrqqqqqioiQDMzMzMzsyxAq6qqqqoqIECrqqqqqioiQHd3d3d3dyVAiYiIiIiIJ0BERERERMQuQDMzMzMzszFAVVVVVVVVHECrqqqqqiogQAAAAAAAgCFAq6qqqqoqIkCrqqqqqqolQFVVVVVVFTFAq6qqqqoqIECrqqqqqioiQLy7u7u7uyhAq6qqqqoqIECrqqqqqioiQM3MzMzMTCtAq6qqqqoqIECrqqqqqioiQKuqqqqqKiZARERERETEKEDv7u7u7u4pQLy7u7u7OypAiYiIiIgIMECrqqqqqiogQKuqqqqqKiJAZmZmZmbmK0CJiIiIiAguQM3MzMzMzC9AmpmZmZnZMEAAAAAAAMA0QFVVVVVVVbU/ZmZmZmZmG0CrqqqqqiogQKuqqqqqKiJAq6qqqqoqLkCrqqqqqiogQKuqqqqqKiJAq6qqqqoqIECrqqqqqioiQFVVVVVV1SlAq6qqqqoqIECrqqqqqioiQKuqqqqqKiZAvLu7u7u7KkCrqqqqqiosQJqZmZmZGTBAMzMzMzPzMkBVVVVVVVUcQKuqqqqqKiJAiYiIiIiIJUBmZmZmZmbuP6uqqqqqKiBAq6qqqqoqIkCrqqqqqiogQKuqqqqqKiJAvLu7u7s7JUAzMzMzM7MlQJqZmZmZGSpAq6qqqqpqMkCamZmZmZkLQFVVVVVVVRxAq6qqqqoqIECrqqqqqioiQO/u7u7u7iRAvLu7u7s7K0BVVVVVVRUxQFVVVVVVlTFAIiIiIiLiNEAzMzMzMzMHQFVVVVVVVRxAq6qqqqoqIECrqqqqqioiQHd3d3d3dzVAVVVVVVVVHECrqqqqqioiQFVVVVVVVS9Aq6qqqqoqIECrqqqqqioiQJqZmZmZGShAiYiIiIiIKUCrqqqqqqoWQKuqqqqqKiBAq6qqqqoqIkAAAAAAAIAmQERERERERCdAzczMzMzMKkDv7u7u7m4uQGZmZmZmpjNARERERETENECrqqqqqiogQHd3d3d39yJAZmZmZmZmJkAzMzMzMzMFQFVVVVVVVRxAq6qqqqoqIEBEREREREQiQImIiIiICCVA7+7u7u5uJUBVVVVVVdUrQCIiIiIiIjBAd3d3d3f3MkAAAAAAAMA0QM3MzMzMzBlA7+7u7u7uG0BVVVVVVVUcQDMzMzMzMx1Aq6qqqqoqIECrqqqqqiomQKuqqqqqqidAvLu7u7u7K0BmZmZmZuYyQAAAAAAAgDRAmpmZmZlZNUBVVVVVVZU1QFVVVVVVVRxAq6qqqqoqIECrqqqqqioiQLy7u7u7uyJAq6qqqqoqLkCamZmZmRkxQM3MzMzMDDNARERERESENEAREREREZE1QERERERERBpAVVVVVVVVHECrqqqqqiogQKuqqqqqKiJAVVVVVVVVHECrqqqqqioiQBERERERESpAVVVVVVVVHECrqqqqqiogQKuqqqqqKiJAzczMzMxMMkCamZmZmRk1QGZmZmZmZgZAVVVVVVVVHECrqqqqqiogQKuqqqqqKiJAd3d3d3d3JkCJiIiIiAgrQDMzMzMzczBAAAAAAABAMkBVVVVVVVUUQFVVVVVVVRxAq6qqqqoqIECrqqqqqioiQBERERERESlAERERERGRKUBVVVVVVVUqQM3MzMzMTCtAMzMzMzMzGEBVVVVVVVUcQKuqqqqqKiBAq6qqqqoqIkAREREREZEmQBEREREREQdAVVVVVVVVHECrqqqqqiogQKuqqqqqKiJAq6qqqqoqJUB3d3d3d/cmQKuqqqqqKihAzczMzMzMKUDNzMzMzEwwQO/u7u7urjZAVVVVVVVVHECrqqqqqiogQKuqqqqqKiJAzczMzMzMKUCrqqqqqiosQFVVVVVVVRxAq6qqqqoqIEDe3d3d3V0qQDMzMzMzMytAmpmZmZkZMkBVVVVVVVUcQKuqqqqqKiBAq6qqqqoqIkCrqqqqqiomQM3MzMzMDDNAVVVVVVVVHECrqqqqqiogQKuqqqqqKiJAERERERHRMkBVVVVVVVUcQKuqqqqqKiBAMzMzMzOzJkCamZmZmRkpQKuqqqqqKi5AVVVVVVVVHECrqqqqqiogQKuqqqqqKiJAiYiIiIgIJkCJiIiIiMgxQFVVVVVVVRxAq6qqqqoqIECJiIiIiIghQKuqqqqqKiJAvLu7u7u72z9mZmZmZmbmP1VVVVVVVRxAq6qqqqoqIEBVVVVVVVUcQKuqqqqqKiBAq6qqqqoqIkCrqqqqqiomQCIiIiIioi9AVVVVVVVVHECrqqqqqiogQKuqqqqqKiRAzczMzMzMJUBmZmZmZuYpQDMzMzMzMypARERERETELEBVVVVVVdUzQDMzMzMzM8M/VVVVVVVVHECrqqqqqiogQKuqqqqqKiJAVVVVVVVVHECrqqqqqiogQERERERExCRAq6qqqqoqIECrqqqqqioiQKuqqqqqKiBAq6qqqqoqKEAiIiIiIqIoQEREREREhDJAq6qqqqoqM0CrqqqqqiogQKuqqqqqKiJAd3d3d3f3KkCamZmZmZktQHd3d3d39y9AIiIiIiIiMEBERERERMQxQBERERERkTJAERERERGRM0Crqqqqquo1QFVVVVVVVRxAq6qqqqoqJkAAAAAAAIAoQKuqqqqqKi5AIiIiIiKiNUC8u7u7u7sQQFVVVVVVVRJAVVVVVVVVHECrqqqqqiogQERERERExCZA3t3d3d3dKkCrqqqqqiosQCIiIiIiojFAIiIiIiIiMkBVVVVVVVUcQKuqqqqqKiBAmpmZmZmZIUAAAAAAAIAnQKuqqqqqKixAEREREREREEBVVVVVVVUcQKuqqqqqKiBAAAAAAACAJUAzMzMzMzMqQERERERExCxAiYiIiIiILUAAAAAAAMA0QHh3d3d3dxZAVVVVVVVVHECrqqqqqiogQKuqqqqqKiZAVVVVVVVVHECrqqqqqiogQImIiIiIiCFAERERERERL0CamZmZmZkyQFVVVVVVVRxAq6qqqqoqIECamZmZmZnpP1VVVVVVVRxAq6qqqqoqIEB3d3d3d3clQKuqqqqqKiZAvLu7u7u7K0BVVVVVVVUcQKuqqqqqKiBAq6qqqqoqJkAzMzMzM7MtQFVVVVVV1TBAVVVVVVVVHECrqqqqqiogQM3MzMzMzChAd3d3d3d3LEAAAAAAAAA0QFVVVVVVVRxAq6qqqqoqIECJiIiIiAgiQGZmZmZm5idAvLu7u7v7M0BVVVVVVVW1PzMzMzMzMwdAVVVVVVVVHECrqqqqqiogQO/u7u7u7idAd3d3d3e3MECIiIiIiIgbQFVVVVVVVRxAq6qqqqoqIEDe3d3d3V0iQAAAAAAAgDBA7+7u7u7uMEAAAAAAAEAxQO/u7u7u7jJAVVVVVVVVHECrqqqqqiogQN7d3d3dXShAvLu7u7s7KkAAAAAAAIAqQKuqqqqqKixAVlVVVVVV+T9VVVVVVVUcQFVVVVVVVRxAq6qqqqoqIEBEREREREQrQFVVVVVVVRxAq6qqqqoqIEC8u7u7uzsjQKuqqqqqKixAAAAAAABAM0BVVVVVVVUcQFVVVVVVVRpAq6qqqqoqIEDv7u7u7u4kQKuqqqqqKiZAq6qqqqqqKkC8u7u7u3syQFVVVVVVVRxAq6qqqqoqIEBVVVVVVVUaQKuqqqqqKiBAVVVVVVVVHECrqqqqqiogQGZmZmZmZiZAMzMzMzOzJ0C8u7u7uzsuQImIiIiIyDBARERERERE/D8REREREREaQFVVVVVVVRxAq6qqqqoqIEB3d3d3d/cjQKuqqqqqKiRAVVVVVVXVJkDNzMzMzMwtQFVVVVVVVRxAq6qqqqoqIECrqqqqqqogQKuqqqqqKixAREREREREL0CJiIiIiAgwQERERERERDRAVVVVVVVVHECrqqqqqiogQAAAAAAAgChAq6qqqqpqMkAAAAAAAAA0QDMzMzMzMwNAvLu7u7u7FUBVVVVVVVUcQKuqqqqqKiBAERERERGRJkBVVVVVVRUyQBERERERERtAVVVVVVVVHEBEREREREQeQKuqqqqqKiBAAAAAAADAMEDe3d3d3d0xQFVVVVVVVRxAq6qqqqoqIEDv7u7u7u4lQImIiIiIiCZAERERERER0T9VVVVVVVUcQKuqqqqqKiBAVVVVVVVVHECrqqqqqiogQDMzMzMzsy5AVVVVVVVVHEC8u7u7u7sdQKuqqqqqKiBAERERERGRIkBVVVVVVVUlQJqZmZmZGSZAvLu7u7u7JkAiIiIiIqIpQERERERExCpAVVVVVVVVHEAAAAAAAAAdQKuqqqqqKiBARERERETEJECrqqqqqioyQLy7u7u7OzdAVVVVVVVVHECrqqqqqiogQKuqqqqqKiZAq6qqqqoqLEAiIiIiIiIuQFVVVVVVFTBARERERETEM0B3d3d3d/c0QFVVVVVVVRxAq6qqqqoqIECrqqqqqiomQAAAAAAAQDFAVVVVVVVVHECrqqqqqiogQFVVVVVVVSJARERERETEJUB3d3d3d/crQBERERERkS9AERERERER/T9VVVVVVVUcQKuqqqqqKiBAq6qqqqoqJEBVVVVVVVUcQKuqqqqqKiBAIiIiIiIiK0DNzMzMzMwuQEREREREROQ/IiIiIiIiFECrqqqqqqocQKuqqqqqKiBARERERETEJUCrqqqqqiomQFVVVVVVVcU/VVVVVVVVHECrqqqqqiogQLy7u7u7uyZAVVVVVVVVHECrqqqqqiogQFVVVVVVVRxAq6qqqqoqIECamZmZmRkkQKuqqqqqKiZA7+7u7u5uL0AiIiIiIqIxQFVVVVVVVRxAq6qqqqoqIECrqqqqqiosQKuqqqqqqi9AVVVVVVVVHECrqqqqqiogQM3MzMzMjDFAVVVVVVVVHECrqqqqqiogQJqZmZmZmTJAzczMzMzMNkBVVVVVVVUcQKuqqqqqKiBAVVVVVVVVHECrqqqqqiogQKuqqqqqKiZAVVVVVVVVHECrqqqqqiogQImIiIiICCRAAAAAAACAL0Dv7u7u7m41QFVVVVVVVRxAq6qqqqoqIECrqqqqqiogQHd3d3d39yZA3t3d3d1dJ0De3d3d3V0pQJqZmZmZmStA3t3d3d3d+T+rqqqqqiogQAAAAAAAwDJAZmZmZmbmNECrqqqqqiogQDMzMzMzMyJAiYiIiIiIJEC8u7u7u7snQGZmZmZmJjFAq6qqqqoqIEDNzMzMzMwoQERERERERBVAVVVVVVVVHEAzMzMzM7MhQKuqqqqqKixAq6qqqqoqIEARERERERElQKuqqqqqKixAvLu7u7u7LUBmZmZmZuYuQKuqqqqqKiBAIiIiIiKiI0B3d3d3d/cpQAAAAAAAAPw/VVVVVVVVHECrqqqqqiogQGZmZmZmZipAVVVVVVVVHECrqqqqqiogQGZmZmZmZiBAMzMzMzMzJECrqqqqqiomQKuqqqqqKiBAd3d3d3d3IkAAAAAAAAASQKuqqqqqKiBAq6qqqqoqIECrqqqqqiomQN7d3d3dXS1A7+7u7u7uLkAAAAAAAIAvQKuqqqqqqjJAZmZmZmZm8j9VVVVVVVUcQKuqqqqqKiBAiYiIiIgIJUAiIiIiIqIqQKuqqqqqKixAzczMzMwMMkAAAAAAAEA0QHd3d3d3tzRAVVVVVVVVHECrqqqqqiogQN7d3d3d3TBAMzMzMzMzC0AiIiIiIiIdQKuqqqqqKiBAq6qqqqoqLECamZmZmdkxQKuqqqqqKiBAvLu7u7u7KUBmZmZmZmYsQGZmZmZmJjNAiIiIiIiI9D9VVVVVVVUcQKuqqqqqKiBAVVVVVVVVHECrqqqqqiogQERERERERCVAzczMzMzMJUCamZmZmZkpQAAAAAAAgCtAAAAAAACAMEDv7u7u7m4yQKuqqqqqqjRAVVVVVVVVHECrqqqqqiogQGZmZmZm5iVAIiIiIiIiLUDe3d3d3d0tQHd3d3d3NzJAq6qqqqqq6j/v7u7u7u4IQM3MzMzMzBdAVVVVVVVVHECrqqqqqiogQFVVVVVVVRxAq6qqqqoqIECamZmZmRkiQKuqqqqqKiBAVVVVVVVVLUBmZmZmZqYxQKuqqqqqKiBAzczMzMzMKECJiIiIiIgtQFVVVVVVlTFAq6qqqqoqIEB3d3d3d/clQO/u7u7ubihAq6qqqqqqLkCrqqqqqiogQFVVVVVV1SZAzczMzMxMKUAiIiIiIiIaQFVVVVVVVRxAq6qqqqoqIEDv7u7u7m4oQKuqqqqqKixAzczMzMzMLkBVVVVVVRUwQN7d3d3dnTBAmpmZmZnZNkDNzMzMzMzcP0RERERERAhAq6qqqqoqIECrqqqqqioqQO/u7u7u7hBAq6qqqqoqIEAzMzMzMzMlQFVVVVVVVRxAq6qqqqoqIEBmZmZmZmYjQKuqqqqqKiZAiYiIiIiIMEBEREREREQCQKuqqqqqKiBAq6qqqqoqJkBVVVVVVdUnQBERERERES5AVVVVVVVVHECrqqqqqiogQAAAAAAAADBAVVVVVVVVHECrqqqqqiogQHd3d3d39yRAIiIiIiKiKUCrqqqqqiogQKuqqqqqKiZAVVVVVVVVHEAzMzMzMzMdQKuqqqqqKiBAAAAAAACAI0BVVVVVVVUcQKuqqqqqKiBAIiIiIiIiLUAREREREVEyQGZmZmZmZjRAVVVVVVVVHECrqqqqqiogQImIiIiICCdAMzMzMzMzNEBVVVVVVVUcQN7d3d3d3RxAq6qqqqoqIEAzMzMzM7MoQN7d3d3d3StAVlVVVVVV+T9VVVVVVVUfQKuqqqqqKiBAvLu7u7u7JEBVVVVVVRUwQCIiIiIiojRAVVVVVVVV8T9VVVVVVVUUQFVVVVVVVRxAq6qqqqoqIECrqqqqqioiQKuqqqqqKi1AVVVVVVVVHECrqqqqqiogQN7d3d3dXSpAq6qqqqoqIECrqqqqqqomQFVVVVVV1S9AeHd3d3d3B0Dv7u7u7u4aQFVVVVVVVRxAq6qqqqoqIEBERERERMQmQERERERExCxA3t3d3d1dLUBmZmZmZuYyQFVVVVVVVe0/VVVVVVVVHECrqqqqqiogQAAAAAAAAC9AVVVVVVXVL0De3d3d3d3lPwAAAAAAAARAVVVVVVVVCUBVVVVVVVUcQKuqqqqqKiBAAAAAAAAAJUAREREREREmQJqZmZmZmSZAAAAAAAAAKUBmZmZmZmYpQKuqqqqqqitARERERETELUBEREREREQvQM3MzMzMDDBAiYiIiIhIMEB3d3d3dzc1QFVVVVVVVRxAq6qqqqoqIECrqqqqqiomQLy7u7u7Oy5AVVVVVVUVMEBVVVVVVVUcQKuqqqqqKiBAq6qqqqoqIkBERERERIQwQFVVVVVVVRxAq6qqqqoqIECrqqqqqioiQKuqqqqqKiZAIiIiIiKiKEBVVVVVVVUcQKuqqqqqKiBAq6qqqqoqIkBVVVVVVVUcQKuqqqqqKiBAVVVVVVVVIkAzMzMzM7MqQKuqqqqqKixAIiIiIiKiLUC8u7u7u7svQO/u7u7u7vY/mpmZmZmZFUBVVVVVVVUcQKuqqqqqKiBAVVVVVVVVIUCrqqqqqioiQKuqqqqqKihAVVVVVVVVHEBVVVVVVVUcQKuqqqqqKiBAq6qqqqoqIkCrqqqqqiosQDMzMzMzszRAq6qqqqqqGEBVVVVVVVUcQKuqqqqqKiBAq6qqqqoqIkB3d3d3d3cmQJqZmZmZmStA3t3d3d3dLkBVVVVVVVUcQKuqqqqqKiBAq6qqqqoqLEDv7u7u7u4OQFVVVVVVVRxAq6qqqqoqIECrqqqqqioiQImIiIiICC9Aq6qqqqqqL0BVVVVVVVUcQKuqqqqqKiBAq6qqqqoqJkAiIiIiImIwQAAAAAAAwDBAiYiIiIjIMkBVVVVVVVUcQKuqqqqqKiBAvLu7u7s7JUDe3d3d3V0qQCIiIiIiItI/VVVVVVVVHECrqqqqqioiQImIiIiIiDBA3t3d3d0dMUBVVVVVVVUcQKuqqqqqKiBAq6qqqqoqIkDv7u7u7m4jQFVVVVVVVSRAq6qqqqoqKEAREREREZEoQKuqqqqqKjBAvLu7u7t7MUAiIiIiIiI1QFVVVVVVVRxAq6qqqqoqIEAzMzMzM7MgQCIiIiIioiZA3t3d3d3dvT9mZmZmZmYMQFVVVVVVVRxAq6qqqqoqIECrqqqqqioiQCIiIiIiIuI/VVVVVVVVHECrqqqqqiogQJqZmZmZGS5Aq6qqqqqqE0BVVVVVVVUcQKuqqqqqKiBAq6qqqqoqIkCJiIiIiAgtQKuqqqqqqi5AERERERERFUBVVVVVVVUcQKuqqqqqKiBAq6qqqqoqIkDv7u7u7m4jQFVVVVVVVRxAq6qqqqoqIEDe3d3d3V0gQKuqqqqqKiJAIiIiIiKiJEB3d3d3d/cqQFVVVVVVVRxAq6qqqqoqIECrqqqqqioiQImIiIiIiCxAIiIiIiKiL0BERERERMQxQFVVVVVVVTJARERERERENEAzMzMzM/M0QDMzMzMzMzZAVVVVVVVVHECrqqqqqiogQM3MzMzMTCFAq6qqqqoqIkBmZmZmZmYiQJqZmZmZGSpAVVVVVVXVLkBVVVVVVVUcQKuqqqqqKiBAq6qqqqoqIkCamZmZmZnxP1VVVVVVVRxAq6qqqqoqIECrqqqqqioiQFVVVVVVVRxAq6qqqqoqIECrqqqqqioiQDMzMzMzsyRAZmZmZmZmL0BVVVVVVVW1P1VVVVVVVRxAq6qqqqoqIEBVVVVVVVUcQKuqqqqqKiBAq6qqqqoqIUCrqqqqqioiQGZmZmZmJjBAZmZmZmbmMEBVVVVVVVUcQKuqqqqqKiBAq6qqqqoqIkB3d3d3d3cmQKuqqqqqKihAq6qqqqoqLkBVVVVVVVUcQKuqqqqqKiJAVVVVVVVVHECrqqqqqiogQFVVVVVVVRxAq6qqqqoqIECrqqqqqioiQKuqqqqqKi5AVVVVVVVVHECrqqqqqiogQHh3d3d3d/M/VVVVVVVVHECrqqqqqiogQKuqqqqqKiJAVVVVVVVVHECrqqqqqiogQKuqqqqqKiJAVVVVVVVVHECrqqqqqiogQKuqqqqqKiJAzczMzMzMLECIiIiIiIgaQFVVVVVVVRxAq6qqqqoqIECrqqqqqioiQERERERExCNAd3d3d3d3EEBEREREREQSQFVVVVVVVRxAq6qqqqoqIECrqqqqqioiQKuqqqqqKiZAERERERGRLEAzMzMzMzMuQFVVVVVVVRxA3t3d3d3dHUCrqqqqqiogQKuqqqqqKiJAd3d3d3c3MEAzMzMzM3MxQFVVVVVVVRxAq6qqqqoqIEDv7u7u7m4gQKuqqqqqKiJAq6qqqqoqJkBmZmZmZmYzQO/u7u7ubjZAVVVVVVVVHECrqqqqqiogQKuqqqqqKiJAVVVVVVXVJECrqqqqqiomQM3MzMzMzCdAd3d3d3f3L0De3d3d3V0zQBERERERkTRAVVVVVVVVHECrqqqqqiogQKuqqqqqKiJAiYiIiIgIKUAAAAAAAAAsQM3MzMzMDDBAVVVVVVVVHECrqqqqqiogQKuqqqqqKiJAiYiIiIiIJ0BVVVVVVVUcQKuqqqqqKiBAq6qqqqoqIkCrqqqqqiouQGZmZmZm5jJAVVVVVVVVHECrqqqqqiogQKuqqqqqKiJAERERERGRI0C8u7u7u3sxQLy7u7u7ezJARERERETENECrqqqqqiogQKuqqqqqKiJAAAAAAACAKEDNzMzMzMwuQEREREREROw/VVVVVVVVHECrqqqqqiogQFVVVVVVVSJARERERETEJ0CrqqqqqiowQKuqqqqqKiBAq6qqqqoqIkAzMzMzM7MlQDMzMzMzsyZA7+7u7u7uL0CrqqqqqiogQDMzMzMzsyNAd3d3d3f3JUCrqqqqqiomQERERERExDVAq6qqqqoqIEBmZmZmZuYhQKuqqqqqKiJAIiIiIiKiLkBVVVVVVRUwQBERERER0TBAd3d3d3c3NEAREREREdE1QKuqqqqqKiBAq6qqqqoqIkBVVVVVVdUkQERERERERDFAq6qqqqoqIECrqqqqqioiQM3MzMzMTCRAVVVVVVXVKEDNzMzMzMwtQGZmZmZm5jJAq6qqqqoqIECrqqqqqioiQImIiIiICCRA3t3d3d1dJkCamZmZmZkpQKuqqqqqqi1A7+7u7u5uLkDv7u7u7u4wQJqZmZmZ2TVAq6qqqqoqIEDNzMzMzEwoQKuqqqqqKixAq6qqqqqqMkCrqqqqqiogQGZmZmZm5iFAq6qqqqoqIkBmZmZmZuYnQGZmZmZmZihAd3d3d3f3K0BVVVVVVVUzQGZmZmZmZhtAq6qqqqoqIEBmZmZmZuYhQKuqqqqqKiJAq6qqqqoqIECrqqqqqioiQERERERExDBAiYiIiIiI2D+rqqqqqiogQKuqqqqqKiJAq6qqqqoqIECrqqqqqioiQLy7u7u7uytAq6qqqqoqLEBVVVVVVRUwQKuqqqqq6jRAd3d3d3d3xz9VVVVVVVUcQKuqqqqqKiBAAAAAAAAAKUDv7u7u7m40QBEREREREdE/VVVVVVVVHECrqqqqqiogQKuqqqqqqiVAVVVVVVVVHECrqqqqqiogQBERERERkStAiYiIiIgINUARERERERHRP1VVVVVVVRhAVVVVVVVVHECrqqqqqiogQBERERERkSdAMzMzMzOzKkBVVVVVVVUYQFVVVVVVVRxAq6qqqqoqIEDe3d3d3V0oQERERERERDBAvLu7u7u7MUBVVVVVVVUcQKuqqqqqKiBAVVVVVVXVIkCrqqqqqiomQHd3d3d3dyZAzczMzMzMJ0CrqqqqqqooQGZmZmZm5ihAVVVVVVVVGEBVVVVVVVUcQKuqqqqqKiBA3t3d3d3dJEBmZmZmZuYuQO/u7u7u7hdAVVVVVVVVGEBVVVVVVVUcQKuqqqqqKiBAERERERGRMEDv7u7u7u4wQFVVVVVVVRhAVVVVVVVVHECrqqqqqiogQImIiIiICCdAVVVVVVXVKEC8u7u7u7sqQJqZmZmZGS5AzczMzMwMMkBVVVVVVVUYQFVVVVVVVRxAq6qqqqoqIECrqqqqqiosQLy7u7u7uyxAVVVVVVVVxT+IiIiIiIgCQFVVVVVVVRhAVVVVVVVVHECrqqqqqiogQN7d3d3dXStAvLu7u7u7LUBERERERMQwQFVVVVVVVRhAVVVVVVVVHECrqqqqqiogQCIiIiIiIiVAVVVVVVVVGEBVVVVVVVUcQKuqqqqqKiBA3t3d3d3dI0CrqqqqqiokQJqZmZmZmSZAq6qqqqqqF0BVVVVVVVUYQFVVVVVVVRxAq6qqqqoqIEBVVVVVVVUjQImIiIiIiCxAq6qqqqoqMEDe3d3d3V0wQImIiIiIiDNAq6qqqqqq2j/NzMzMzMwIQM3MzMzMzBRAVVVVVVVVGEBVVVVVVVUcQKuqqqqqKiBAzczMzMzMIkCrqqqqqiokQO/u7u7u7ihAZmZmZmZmKkDv7u7u7u4vQERERERERDJAvLu7u7s7NEC8u7u7u/s0QJqZmZmZmdk/vLu7u7u7A0Dv7u7u7u4MQJqZmZmZmRBAq6qqqqqqEkDe3d3d3d0TQFVVVVVVVRxAq6qqqqoqIECrqqqqqioiQAAAAAAAACVAiYiIiIiILkAzMzMzM/MwQFVVVVVVVRxAq6qqqqoqIEB3d3d3d3cmQKuqqqqqqidAvLu7u7u7KEDv7u7u7u4qQGZmZmZmpjFAzczMzMzM5D9VVVVVVVUYQFVVVVVVVRxA7+7u7u7uIEBERERERMQkQImIiIiIiCtAMzMzMzMzMUCJiIiIiMgzQFVVVVVVVRhAVVVVVVVVHECrqqqqqiogQFVVVVVVVRhAVVVVVVVVHECrqqqqqiogQKuqqqqqKiZAvLu7u7s7J0BVVVVVVVUYQKuqqqqqKiBAVVVVVVVVJkB3d3d3dzcwQM3MzMzMTDFAiYiIiIjIM0Dv7u7u7u4AQFVVVVVVVRhAVVVVVVVVHECJiIiIiIghQFVVVVVVVSpAZmZmZmZmGkBVVVVVVVUcQKuqqqqqKixAZmZmZmYmMUCamZmZmVkzQCIiIiIi4jRAAAAAAADANkBVVVVVVVUcQGZmZmZmZg5AVVVVVVVVHEBVVVVVVVUcQBERERERESRAmpmZmZkZKUBVVVVVVVUcQKuqqqqqKiBAAAAAAACAIkDv7u7u7u4KQDMzMzMzMxlAVVVVVVVVHEC8u7u7u7sjQKuqqqqqKiZAZmZmZmbmJkBERERERMQpQFVVVVVV1TFAVVVVVVVVGEBVVVVVVVUcQKuqqqqqKiBAiYiIiIgIJ0BVVVVVVVUcQERERERExCVAq6qqqqqqJ0BVVVVVVVUYQFVVVVVVVRxAq6qqqqoqIEBVVVVVVVUcQKuqqqqqKiBAVVVVVVVVHECrqqqqqiogQCIiIiIioiRAq6qqqqoqJkAzMzMzMzMuQGZmZmZmJjRAmpmZmZmZDUBVVVVVVVUcQM3MzMzMzBxAq6qqqqoqIEDv7u7u7m4pQFVVVVVVVRhAVVVVVVVVHECrqqqqqiogQKuqqqqqqgxAmpmZmZmZFkBVVVVVVVUYQFVVVVVVVRxAq6qqqqqqHUCrqqqqqiogQCIiIiIiIidAq6qqqqqqKUBVVVVVVVUYQFVVVVVVVRxAiYiIiIiIJUBVVVVVVVUYQKuqqqqqKiBA7+7u7u7u/j+8u7u7u7sVQFVVVVVVVRhAVVVVVVVVHEAzMzMzM7MiQLy7u7u7OyNAq6qqqqoqKkBVVVVVVVUYQFVVVVVVVRhAVVVVVVVVHECrqqqqqiogQImIiIiICCJAd3d3d3d3LUAzMzMzM7MuQBERERERkS9AMzMzMzMzGECamZmZmZkYQFVVVVVVVRxAq6qqqqoqIEDNzMzMzMwmQDMzMzMzsylAq6qqqqrqMEDv7u7u7u4KQFVVVVVVVRxAvLu7u7s7K0Dv7u7u7u4sQFVVVVVVVRxAVVVVVVVVHECamZmZmZnJP1VVVVVVVRxAd3d3d3d3JkCrqqqqqiosQGZmZmZm5i9AVVVVVVVVHECrqqqqqiogQKqqqqqqqv4/VVVVVVVVHECrqqqqqiogQImIiIiICChAIiIiIiLiMEBERERERETwP6uqqqqqKiBAVVVVVVVVHECrqqqqqiogQFVVVVVVVRxAq6qqqqoqIEBVVVVVVVUyQERERERExDRAVVVVVVVVHECrqqqqqiogQO/u7u7ubiRAq6qqqqoqLEBVVVVVVVUcQKuqqqqqKiBAvLu7u7v7NUBVVVVVVVUYQFVVVVVVVRxAq6qqqqoqIECrqqqqqiogQBERERERERhAZmZmZmZmI0CrqqqqqioqQERERERExCxAVVVVVVVVHEB3d3d3d3ccQKuqqqqqKiBAzczMzMxMI0AiIiIiIqIoQImIiIiIiCpAMzMzMzOzK0BVVVVVVVUcQKuqqqqqKiBAvLu7u7u7F0CrqqqqqiogQFVVVVVV1SJAd3d3d3f3JECrqqqqqiomQKuqqqqqKixAREREREQEMEAzMzMzMzM0QFVVVVVVVRxAq6qqqqoqIEC8u7u7uzsiQCIiIiIiIiRAVVVVVVVVFUCrqqqqqiogQBERERERkSFAVVVVVVVVHECrqqqqqiogQKuqqqqqqiRAq6qqqqoqIECamZmZmZkBQFVVVVVVVRxAq6qqqqoqIEDe3d3d3V0iQKuqqqqqKiZA7+7u7u7uKEDe3d3d3d0RQKuqqqqqKiBAVVVVVVVVHEBVVVVVVdUjQGZmZmZm5ihAq6qqqqoqIEB3d3d3d/ciQGZmZmZmZiZAMzMzMzMzIUCrqqqqqqomQHd3d3d39zNAq6qqqqoqIEDv7u7u7m4hQImIiIiICCJA7+7u7u7u8j9VVVVVVdUiQERERERERCpAAAAAAACANUCrqqqqqiogQAAAAAAAACNAq6qqqqoqIEC8u7u7u7shQBERERERkStAq6qqqqoqIEDv7u7u7m4iQERERERERPQ/IiIiIiIiHkCrqqqqqiogQAAAAAAAAClAiYiIiIhIMEAAAAAAAIAwQKuqqqqqKiBAq6qqqqoqIECrqqqqqiogQCIiIiIioiFAERERERFRMECrqqqqqqowQJqZmZmZGTNAVVVVVVVVHECrqqqqqiogQM3MzMzMTCJAvLu7u7u7HECrqqqqqiogQKuqqqqq6jZAiYiIiIiI2D8AAAAAAAACQJqZmZmZmRdA7+7u7u7uG0CrqqqqqiogQO/u7u7u7iNA7+7u7u7uJEAzMzMzMzM0QFVVVVVVVRxAq6qqqqoqIECJiIiIiAgiQM3MzMzMzChAAAAAAADAMUDe3d3d3R0yQERERERERBpAVVVVVVVVHECrqqqqqiogQFVVVVVVVRxAVVVVVVVVHECrqqqqqiogQDMzMzMzMyZAmpmZmZmZKUBVVVVVVVUyQKuqqqqqKiBA3t3d3d3dJEAREREREZElQBEREREREStAVVVVVVVVGkCrqqqqqiogQFVVVVVVVRxAq6qqqqoqIEAiIiIiIiIvQFVVVVVVVRRAVVVVVVVVHECrqqqqqiogQHd3d3d39yNAq6qqqqoqKUDNzMzMzMwOQFVVVVVVVRxAq6qqqqoqIECJiIiIiAgjQKuqqqqqKiBAREREREREL0CrqqqqqiogQFVVVVVVVSRAq6qqqqoqJkAzMzMzM7MqQKuqqqqqKiBAvLu7u7u7JUCrqqqqqiomQKuqqqqqKixAVVVVVVVVHECrqqqqqiogQFVVVVVVVQtAVVVVVVVVHECrqqqqqiogQCIiIiIiIiZAVVVVVVVVHEBVVVVVVVUdQKuqqqqqKiBAVVVVVVVVHEBVVVVVVVUcQKuqqqqqKiBA7+7u7u5uI0AAAAAAAAAnQKuqqqqqKixAq6qqqqqqL0CamZmZmZn9P1VVVVVVVRxAq6qqqqoqIEBVVVVVVVUcQKuqqqqqKiBAmpmZmZkZLEBVVVVVVVUaQImIiIiIiB1Aq6qqqqoqIEBVVVVVVVUcQKuqqqqqKiBA3t3d3d1dLkBVVVVVVVUcQKuqqqqqKiBAq6qqqqoqJUC8u7u7u7sqQJqZmZmZGS1AMzMzMzMzMUARERERERHxP1VVVVVVVRVAVVVVVVVVHECrqqqqqiogQDMzMzMzsypAMzMzMzMzLECJiIiIiIgsQFVVVVVVVRxAVVVVVVUVMEDv7u7u7u4VQKuqqqqqqidAq6qqqqqqMUBmZmZmZmYcQKuqqqqqKiBAERERERHRMUCrqqqqqiogQAAAAAAAgDJARERERERE5D9VVVVVVVUcQM3MzMzMzPA/q6qqqqoqIECrqqqqqiogQA==",
          "dtype": "f8"
         },
         "x0": " ",
         "xaxis": "x",
         "y": {
          "_inputArray": {
           "0": 173,
           "1": 318,
           "10": 11,
           "100": 55,
           "1000": 50,
           "1001": 163,
           "1002": 7,
           "1003": 223,
           "1004": 410,
           "1005": 55,
           "1006": 192,
           "1007": 95,
           "1008": 55,
           "1009": 175,
           "101": 21,
           "1010": 55,
           "1011": 113,
           "1012": 57,
           "1013": 273,
           "1014": 110,
           "1015": 180,
           "1016": 55,
           "1017": 355,
           "1018": 100,
           "1019": 308,
           "102": 853,
           "1020": 55,
           "1021": 563,
           "1022": 232,
           "1023": 55,
           "1024": 626,
           "1025": 247,
           "1026": 59,
           "1027": 55,
           "1028": 76,
           "1029": 55,
           "103": 291,
           "1030": 175,
           "1031": 105,
           "1032": 55,
           "1033": 111,
           "1034": 339,
           "1035": 336,
           "1036": 146,
           "1037": 55,
           "1038": 582,
           "1039": 199,
           "104": 7,
           "1040": 7,
           "1041": 55,
           "1042": 62,
           "1043": 113,
           "1044": 383,
           "1045": 635,
           "1046": 124,
           "1047": 62,
           "1048": 56,
           "1049": 65,
           "105": 55,
           "1050": 91,
           "1051": 312,
           "1052": 95,
           "1053": 254,
           "1054": 96,
           "1055": 101,
           "1056": 101,
           "1057": 309,
           "1058": 181,
           "1059": 142,
           "106": 382,
           "1060": 208,
           "1061": 42,
           "1062": 30,
           "1063": 217,
           "1064": 99,
           "1065": 185,
           "1066": 61,
           "1067": 315,
           "1068": 55,
           "1069": 302,
           "107": 325,
           "1070": 141,
           "1071": 1001,
           "1072": 2,
           "1073": 109,
           "1074": 54,
           "1075": 42,
           "1076": 64,
           "1077": 41,
           "1078": 210,
           "1079": 650,
           "108": 22,
           "1080": 175,
           "1081": 211,
           "1082": 42,
           "1083": 12,
           "1084": 170,
           "1085": 249,
           "1086": 351,
           "1087": 55,
           "1088": 141,
           "1089": 163,
           "109": 352,
           "1090": 41,
           "1091": 233,
           "1092": 127,
           "1093": 23,
           "1094": 89,
           "1095": 55,
           "1096": 522,
           "1097": 89,
           "1098": 228,
           "1099": 43,
           "11": 131,
           "110": 55,
           "1100": 355,
           "1101": 221,
           "1102": 279,
           "1103": 282,
           "1104": 75,
           "1105": 292,
           "1106": 175,
           "1107": 343,
           "1108": 55,
           "1109": 400,
           "111": 305,
           "1110": 55,
           "1111": 148,
           "1112": 11,
           "1113": 109,
           "1114": 52,
           "1115": 160,
           "1116": 111,
           "1117": 129,
           "1118": 82,
           "1119": 55,
           "112": 51,
           "1120": 167,
           "1121": 212,
           "1122": 17,
           "1123": 192,
           "1124": 67,
           "1125": 132,
           "1126": 165,
           "1127": 63,
           "1128": 55,
           "1129": 715,
           "113": 69,
           "1130": 55,
           "1131": 53,
           "1132": 156,
           "1133": 390,
           "1134": 174,
           "1135": 141,
           "1136": 254,
           "1137": 137,
           "1138": 164,
           "1139": 145,
           "114": 156,
           "1140": 169,
           "1141": 69,
           "1142": 182,
           "1143": 162,
           "1144": 195,
           "1145": 69,
           "1146": 34,
           "1147": 28,
           "1148": 55,
           "1149": 243,
           "115": 55,
           "1150": 107,
           "1151": 74,
           "1152": 36,
           "1153": 27,
           "1154": 369,
           "1155": 2,
           "1156": 150,
           "1157": 298,
           "1158": 295,
           "1159": 620,
           "116": 168,
           "1160": 226,
           "1161": 146,
           "1162": 277,
           "1163": 55,
           "1164": 92,
           "1165": 78,
           "1166": 322,
           "1167": 43,
           "1168": 343,
           "1169": 175,
           "117": 493,
           "1170": 45,
           "1171": 182,
           "1172": 316,
           "1173": 55,
           "1174": 470,
           "1175": 152,
           "1176": 55,
           "1177": 139,
           "1178": 135,
           "1179": 114,
           "118": 7,
           "1180": 175,
           "1181": 712,
           "1182": 8,
           "1183": 42,
           "1184": 95,
           "1185": 255,
           "1186": 55,
           "1187": 384,
           "1188": 220,
           "1189": 120,
           "119": 195,
           "1190": 146,
           "1191": 55,
           "1192": 201,
           "1193": 516,
           "1194": 50,
           "1195": 3,
           "1196": 47,
           "1197": 251,
           "1198": 90,
           "1199": 547,
           "12": 7,
           "120": 175,
           "1200": 370,
           "1201": 10,
           "1202": 132,
           "1203": 338,
           "1204": 267,
           "1205": 121,
           "1206": 235,
           "1207": 115,
           "1208": 55,
           "1209": 55,
           "121": 346,
           "1210": 325,
           "1211": 325,
           "1212": 55,
           "1213": 301,
           "1214": 364,
           "1215": 190,
           "1216": 270,
           "1217": 209,
           "1218": 223,
           "1219": 16,
           "122": 124,
           "1220": 55,
           "1221": 193,
           "1222": 175,
           "1223": 11,
           "1224": 248,
           "1225": 109,
           "1226": 365,
           "1227": 52,
           "1228": 440,
           "1229": 20,
           "123": 227,
           "1230": 107,
           "1231": 104,
           "1232": 35,
           "1233": 230,
           "1234": 55,
           "1235": 140,
           "1236": 27,
           "1237": 11,
           "1238": 67,
           "1239": 7,
           "124": 144,
           "1240": 63,
           "1241": 55,
           "1242": 40,
           "1243": 20,
           "1244": 9,
           "1245": 291,
           "1246": 76,
           "1247": 55,
           "1248": 175,
           "1249": 237,
           "125": 14,
           "1250": 53,
           "1251": 96,
           "1252": 55,
           "1253": 55,
           "1254": 441,
           "1255": 410,
           "1256": 55,
           "1257": 54,
           "1258": 115,
           "1259": 69,
           "126": 7,
           "1260": 350,
           "1261": 55,
           "1262": 55,
           "1263": 595,
           "1264": 55,
           "1265": 55,
           "1266": 246,
           "1267": 39,
           "1268": 39,
           "1269": 58,
           "127": 102,
           "1270": 411,
           "1271": 233,
           "1272": 96,
           "1273": 55,
           "1274": 30,
           "1275": 20,
           "1276": 175,
           "1277": 417,
           "1278": 55,
           "1279": 55,
           "128": 68,
           "1280": 55,
           "1281": 295,
           "1282": 392,
           "1283": 110,
           "1284": 50,
           "1285": 55,
           "1286": 55,
           "1287": 124,
           "1288": 149,
           "1289": 93,
           "129": 413,
           "1290": 373,
           "1291": 55,
           "1292": 355,
           "1293": 88,
           "1294": 188,
           "1295": 55,
           "1296": 55,
           "1297": 381,
           "1298": 14,
           "1299": 276,
           "13": 354,
           "130": 55,
           "1300": 55,
           "1301": 175,
           "1302": 313,
           "1303": 17,
           "1304": 117,
           "1305": 177,
           "1306": 55,
           "1307": 147,
           "1308": 149,
           "1309": 545,
           "131": 127,
           "1310": 403,
           "1311": 115,
           "1312": 442,
           "1313": 30,
           "1314": 165,
           "1315": 55,
           "1316": 55,
           "1317": 33,
           "1318": 22,
           "1319": 110,
           "132": 686,
           "1320": 7,
           "1321": 228,
           "1322": 74,
           "1323": 214,
           "1324": 60,
           "1325": 55,
           "1326": 11,
           "1327": 173,
           "1328": 286,
           "1329": 201,
           "133": 55,
           "1330": 207,
           "1331": 55,
           "1332": 55,
           "1333": 731,
           "1334": 386,
           "1335": 55,
           "1336": 413,
           "1337": 326,
           "1338": 125,
           "1339": 55,
           "134": 789,
           "1340": 55,
           "1341": 321,
           "1342": 44,
           "1343": 276,
           "1344": 102,
           "1345": 55,
           "1346": 55,
           "1347": 29,
           "1348": 639,
           "1349": 55,
           "135": 55,
           "1350": 1,
           "1351": 49,
           "1352": 69,
           "1353": 185,
           "1354": 219,
           "1355": 55,
           "1356": 55,
           "1357": 306,
           "1358": 88,
           "1359": 112,
           "136": 159,
           "1360": 29,
           "1361": 111,
           "1362": 36,
           "1363": 70,
           "1364": 36,
           "1365": 55,
           "1366": 29,
           "1367": 21,
           "1368": 2,
           "1369": 226,
           "137": 376,
           "1370": 137,
           "1371": 275,
           "1372": 55,
           "1373": 55,
           "1374": 519,
           "1375": 354,
           "1376": 55,
           "1377": 55,
           "1378": 502,
           "1379": 55,
           "138": 17,
           "1380": 55,
           "1381": 70,
           "1382": 316,
           "1383": 26,
           "1384": 415,
           "1385": 55,
           "1386": 206,
           "1387": 55,
           "1388": 25,
           "1389": 25,
           "139": 66,
           "1390": 419,
           "1391": 40,
           "1392": 311,
           "1393": 55,
           "1394": 55,
           "1395": 124,
           "1396": 46,
           "1397": 175,
           "1398": 15,
           "1399": 115,
           "14": 300,
           "140": 532,
           "1400": 155,
           "1401": 55,
           "1402": 55,
           "1403": 55,
           "1404": 55,
           "1405": 355,
           "1406": 138,
           "1407": 55,
           "1408": 55,
           "1409": 347,
           "141": 75,
           "1410": 55,
           "1411": 55,
           "1412": 455,
           "1413": 55,
           "1414": 55,
           "1415": 705,
           "1416": 55,
           "1417": 55,
           "1418": 314,
           "1419": 212,
           "142": 234,
           "1420": 22,
           "1421": 55,
           "1422": 55,
           "1423": 43,
           "1424": 307,
           "1425": 22,
           "1426": 146,
           "1427": 55,
           "1428": 55,
           "1429": 115,
           "143": 12,
           "1430": 187,
           "1431": 43,
           "1432": 482,
           "1433": 18,
           "1434": 32,
           "1435": 55,
           "1436": 423,
           "1437": 69,
           "1438": 219,
           "1439": 55,
           "144": 14,
           "1440": 3,
           "1441": 47,
           "1442": 115,
           "1443": 494,
           "1444": 177,
           "1445": 23,
           "1446": 55,
           "1447": 55,
           "1448": 75,
           "1449": 35,
           "145": 31,
           "1450": 44,
           "1451": 240,
           "1452": 198,
           "1453": 67,
           "1454": 201,
           "1455": 55,
           "1456": 55,
           "1457": 201,
           "1458": 84,
           "1459": 118,
           "146": 97,
           "1460": 350,
           "1461": 55,
           "1462": 55,
           "1463": 156,
           "1464": 464,
           "1465": 55,
           "1466": 55,
           "1467": 355,
           "1468": 224,
           "1469": 54,
           "147": 384,
           "1470": 55,
           "1471": 55,
           "1472": 37,
           "1473": 457,
           "1474": 55,
           "1475": 132,
           "1476": 122,
           "1477": 55,
           "1478": 185,
           "1479": 184,
           "148": 223,
           "1480": 326,
           "1481": 367,
           "1482": 55,
           "1483": 55,
           "1484": 158,
           "1485": 252,
           "1486": 277,
           "1487": 55,
           "1488": 101,
           "1489": 25,
           "149": 770,
           "1490": 272,
           "1491": 468,
           "1492": 101,
           "1493": 63,
           "1494": 1,
           "1495": 636,
           "1496": 66,
           "1497": 47,
           "1498": 3,
           "1499": 369,
           "15": 339,
           "150": 55,
           "1500": 41,
           "1501": 39,
           "1502": 199,
           "1503": 91,
           "1504": 67,
           "1505": 55,
           "1506": 75,
           "1507": 406,
           "1508": 313,
           "1509": 50,
           "151": 211,
           "1510": 59,
           "1511": 131,
           "1512": 144,
           "1513": 235,
           "1514": 270,
           "1515": 55,
           "1516": 51,
           "1517": 65,
           "1518": 92,
           "1519": 117,
           "152": 139,
           "1520": 18,
           "1521": 98,
           "1522": 290,
           "1523": 61,
           "1524": 239,
           "1525": 111,
           "1526": 270,
           "1527": 109,
           "1528": 47,
           "1529": 3,
           "153": 152,
           "1530": 167,
           "1531": 10,
           "1532": 102,
           "1533": 316,
           "1534": 177,
           "1535": 69,
           "1536": 47,
           "1537": 3,
           "1538": 142,
           "1539": 55,
           "154": 229,
           "1540": 456,
           "1541": 53,
           "1542": 457,
           "1543": 55,
           "1544": 102,
           "1545": 55,
           "1546": 282,
           "1547": 8,
           "1548": 115,
           "1549": 285,
           "155": 246,
           "1550": 120,
           "1551": 409,
           "1552": 55,
           "1553": 260,
           "1554": 471,
           "1555": 26,
           "1556": 404,
           "1557": 55,
           "1558": 160,
           "1559": 722,
           "156": 104,
           "1560": 55,
           "1561": 337,
           "1562": 430,
           "1563": 72,
           "1564": 344,
           "1565": 55,
           "1566": 55,
           "1567": 217,
           "1568": 89,
           "1569": 348,
           "157": 786,
           "1570": 55,
           "1571": 55,
           "1572": 241,
           "1573": 240,
           "1574": 83,
           "1575": 368,
           "1576": 55,
           "1577": 75,
           "1578": 95,
           "1579": 4,
           "158": 374,
           "1580": 35,
           "1581": 21,
           "1582": 2,
           "1583": 409,
           "1584": 55,
           "1585": 55,
           "1586": 136,
           "1587": 296,
           "1588": 173,
           "1589": 1,
           "159": 136,
           "1590": 55,
           "1591": 55,
           "1592": 504,
           "1593": 17,
           "1594": 374,
           "1595": 55,
           "1596": 55,
           "1597": 201,
           "1598": 49,
           "1599": 52,
           "16": 247,
           "160": 38,
           "1600": 96,
           "1601": 175,
           "1602": 252,
           "1603": 55,
           "1604": 55,
           "1605": 355,
           "1606": 12,
           "1607": 378,
           "1608": 124,
           "1609": 221,
           "161": 74,
           "1610": 55,
           "1611": 55,
           "1612": 331,
           "1613": 66,
           "1614": 109,
           "1615": 194,
           "1616": 55,
           "1617": 55,
           "1618": 144,
           "1619": 401,
           "162": 10,
           "1620": 55,
           "1621": 55,
           "1622": 106,
           "1623": 4,
           "1624": 68,
           "1625": 247,
           "1626": 5,
           "1627": 55,
           "1628": 55,
           "1629": 90,
           "163": 81,
           "1630": 271,
           "1631": 109,
           "1632": 7,
           "1633": 185,
           "1634": 109,
           "1635": 156,
           "1636": 121,
           "1637": 48,
           "1638": 55,
           "1639": 55,
           "164": 305,
           "1640": 71,
           "1641": 36,
           "1642": 138,
           "1643": 39,
           "1644": 161,
           "1645": 133,
           "1646": 113,
           "1647": 40,
           "1648": 8,
           "1649": 119,
           "165": 324,
           "1650": 64,
           "1651": 27,
           "1652": 26,
           "1653": 13,
           "1654": 122,
           "1655": 55,
           "1656": 55,
           "1657": 80,
           "1658": 281,
           "1659": 96,
           "166": 442,
           "1660": 32,
           "1661": 55,
           "1662": 184,
           "1663": 31,
           "1664": 27,
           "1665": 61,
           "1666": 246,
           "1667": 140,
           "1668": 321,
           "1669": 55,
           "167": 69,
           "1670": 78,
           "1671": 110,
           "1672": 198,
           "1673": 201,
           "1674": 150,
           "1675": 119,
           "1676": 55,
           "1677": 55,
           "1678": 77,
           "1679": 55,
           "168": 91,
           "1680": 55,
           "1681": 175,
           "1682": 27,
           "1683": 69,
           "1684": 115,
           "1685": 175,
           "1686": 298,
           "1687": 60,
           "1688": 144,
           "1689": 239,
           "169": 54,
           "1690": 233,
           "1691": 55,
           "1692": 96,
           "1693": 259,
           "1694": 450,
           "1695": 24,
           "1696": 415,
           "1697": 179,
           "1698": 127,
           "1699": 87,
           "17": 383,
           "170": 521,
           "1700": 107,
           "1701": 11,
           "1702": 55,
           "1703": 192,
           "1704": 55,
           "1705": 172,
           "1706": 146,
           "1707": 523,
           "1708": 55,
           "1709": 65,
           "171": 83,
           "1710": 109,
           "1711": 171,
           "1712": 42,
           "1713": 162,
           "1714": 68,
           "1715": 17,
           "1716": 81,
           "1717": 292,
           "1718": 113,
           "1719": 55,
           "172": 55,
           "1720": 55,
           "1721": 201,
           "1722": 358,
           "1723": 223,
           "1724": 52,
           "1725": 585,
           "1726": 55,
           "1727": 55,
           "1728": 419,
           "1729": 55,
           "173": 25,
           "1730": 806,
           "1731": 55,
           "1732": 129,
           "1733": 37,
           "1734": 236,
           "1735": 298,
           "1736": 25,
           "1737": 198,
           "1738": 2,
           "1739": 48,
           "174": 139,
           "1740": 273,
           "1741": 277,
           "1742": 55,
           "1743": 55,
           "1744": 18,
           "1745": 119,
           "1746": 21,
           "1747": 55,
           "1748": 15,
           "1749": 35,
           "175": 338,
           "1750": 204,
           "1751": 71,
           "1752": 104,
           "1753": 55,
           "1754": 216,
           "1755": 359,
           "1756": 115,
           "1757": 939,
           "1758": 205,
           "1759": 34,
           "176": 174,
           "1760": 55,
           "1761": 131,
           "1762": 11,
           "1763": 203,
           "1764": 239,
           "1765": 55,
           "1766": 241,
           "1767": 55,
           "1768": 51,
           "1769": 338,
           "177": 161,
           "1770": 32,
           "1771": 21,
           "1772": 296,
           "1773": 57,
           "1774": 51,
           "1775": 55,
           "1776": 194,
           "1777": 82,
           "1778": 239,
           "1779": 349,
           "178": 142,
           "1780": 218,
           "1781": 387,
           "1782": 46,
           "1783": 262,
           "1784": 55,
           "1785": 235,
           "1786": 408,
           "1787": 244,
           "1788": 166,
           "1789": 107,
           "179": 67,
           "1790": 423,
           "1791": 55,
           "1792": 213,
           "1793": 305,
           "1794": 55,
           "1795": 231,
           "1796": 287,
           "1797": 17,
           "1798": 419,
           "1799": 37,
           "18": 27,
           "180": 55,
           "1800": 55,
           "1801": 771,
           "1802": 55,
           "1803": 610,
           "1804": 141,
           "1805": 26,
           "1806": 55,
           "1807": 123,
           "1808": 227,
           "1809": 302,
           "181": 465,
           "1810": 55,
           "1811": 829,
           "1812": 61,
           "1813": 55,
           "1814": 55,
           "1815": 115,
           "1816": 211,
           "1817": 216,
           "1818": 198,
           "1819": 73,
           "182": 55,
           "1820": 504,
           "1821": 793,
           "1822": 53,
           "1823": 89,
           "1824": 155,
           "1825": 52,
           "1826": 30,
           "1827": 499,
           "1828": 55,
           "1829": 754,
           "183": 592,
           "1830": 124,
           "1831": 75,
           "1832": 59,
           "1833": 31,
           "1834": 175,
           "1835": 111,
           "1836": 246,
           "1837": 199,
           "1838": 55,
           "1839": 57,
           "184": 217,
           "1840": 52,
           "1841": 56,
           "1842": 160,
           "1843": 37,
           "1844": 417,
           "1845": 55,
           "1846": 130,
           "1847": 322,
           "1848": 48,
           "1849": 288,
           "185": 55,
           "1850": 55,
           "1851": 61,
           "1852": 109,
           "1853": 78,
           "1854": 344,
           "1855": 212,
           "1856": 140,
           "1857": 165,
           "1858": 147,
           "1859": 179,
           "186": 257,
           "1860": 79,
           "1861": 98,
           "1862": 57,
           "1863": 159,
           "1864": 513,
           "1865": 164,
           "1866": 33,
           "1867": 13,
           "1868": 597,
           "1869": 489,
           "187": 143,
           "1870": 218,
           "1871": 497,
           "1872": 83,
           "1873": 80,
           "1874": 90,
           "1875": 42,
           "1876": 290,
           "1877": 301,
           "1878": 63,
           "1879": 71,
           "188": 55,
           "1880": 371,
           "1881": 28,
           "1882": 260,
           "1883": 222,
           "1884": 8,
           "1885": 1,
           "1886": 41,
           "1887": 47,
           "1888": 39,
           "1889": 442,
           "189": 407,
           "1890": 16,
           "1891": 141,
           "1892": 217,
           "1893": 55,
           "1894": 59,
           "1895": 682,
           "1896": 49,
           "1897": 885,
           "1898": 49,
           "1899": 107,
           "19": 53,
           "190": 521,
           "1900": 214,
           "1901": 60,
           "1902": 61,
           "1903": 108,
           "1904": 25,
           "1905": 577,
           "1906": 63,
           "1907": 55,
           "1908": 51,
           "1909": 198,
           "191": 355,
           "1910": 316,
           "1911": 17,
           "1912": 3,
           "1913": 26,
           "1914": 55,
           "1915": 175,
           "1916": 55,
           "1917": 55,
           "1918": 175,
           "1919": 97,
           "192": 179,
           "1920": 327,
           "1921": 79,
           "1922": 136,
           "1923": 241,
           "1924": 160,
           "1925": 256,
           "1926": 85,
           "1927": 576,
           "1928": 55,
           "1929": 444,
           "193": 573,
           "1930": 61,
           "1931": 115,
           "1932": 55,
           "1933": 109,
           "1934": 151,
           "1935": 312,
           "1936": 249,
           "1937": 55,
           "1938": 81,
           "1939": 366,
           "194": 335,
           "1940": 448,
           "1941": 247,
           "1942": 120,
           "1943": 50,
           "1944": 131,
           "1945": 294,
           "1946": 162,
           "1947": 8,
           "1948": 175,
           "1949": 464,
           "195": 436,
           "1950": 55,
           "1951": 874,
           "1952": 215,
           "1953": 55,
           "1954": 174,
           "1955": 312,
           "1956": 10,
           "1957": 40,
           "1958": 770,
           "1959": 55,
           "196": 226,
           "1960": 55,
           "1961": 93,
           "1962": 102,
           "1963": 150,
           "1964": 100,
           "1965": 284,
           "1966": 309,
           "1967": 55,
           "1968": 355,
           "1969": 55,
           "197": 55,
           "1970": 353,
           "1971": 140,
           "1972": 43,
           "1973": 37,
           "1974": 741,
           "1975": 55,
           "1976": 421,
           "1977": 270,
           "1978": 55,
           "1979": 145,
           "198": 510,
           "1980": 162,
           "1981": 66,
           "1982": 154,
           "1983": 247,
           "1984": 251,
           "1985": 100,
           "1986": 55,
           "1987": 311,
           "1988": 40,
           "1989": 5,
           "199": 95,
           "1990": 354,
           "1991": 535,
           "1992": 2,
           "1993": 151,
           "1994": 345,
           "1995": 248,
           "1996": 54,
           "1997": 579,
           "1998": 355,
           "1999": 620,
           "2": 679,
           "20": 162,
           "200": 55,
           "2000": 69,
           "2001": 382,
           "2002": 280,
           "2003": 13,
           "2004": 150,
           "2005": 175,
           "201": 250,
           "202": 645,
           "203": 1009,
           "204": 55,
           "205": 175,
           "206": 376,
           "207": 142,
           "208": 806,
           "209": 55,
           "21": 157,
           "210": 396,
           "211": 522,
           "212": 368,
           "213": 102,
           "214": 126,
           "215": 256,
           "216": 234,
           "217": 305,
           "218": 329,
           "219": 516,
           "22": 55,
           "220": 254,
           "221": 55,
           "222": 278,
           "223": 55,
           "224": 55,
           "225": 370,
           "226": 73,
           "227": 268,
           "228": 232,
           "229": 603,
           "23": 624,
           "230": 242,
           "231": 282,
           "232": 257,
           "233": 55,
           "234": 406,
           "235": 145,
           "236": 55,
           "237": 332,
           "238": 108,
           "239": 42,
           "24": 55,
           "240": 407,
           "241": 55,
           "242": 110,
           "243": 189,
           "244": 530,
           "245": 55,
           "246": 175,
           "247": 371,
           "248": 250,
           "249": 55,
           "25": 67,
           "250": 118,
           "251": 37,
           "252": 697,
           "253": 16,
           "254": 91,
           "255": 126,
           "256": 178,
           "257": 55,
           "258": 879,
           "259": 84,
           "26": 380,
           "260": 10,
           "261": 620,
           "262": 301,
           "263": 83,
           "264": 55,
           "265": 175,
           "266": 55,
           "267": 175,
           "268": 50,
           "269": 14,
           "27": 55,
           "270": 55,
           "271": 175,
           "272": 483,
           "273": 156,
           "274": 55,
           "275": 243,
           "276": 230,
           "277": 6,
           "278": 51,
           "279": 62,
           "28": 536,
           "280": 233,
           "281": 304,
           "282": 55,
           "283": 295,
           "284": 53,
           "285": 297,
           "286": 134,
           "287": 40,
           "288": 31,
           "289": 370,
           "29": 111,
           "290": 55,
           "291": 295,
           "292": 23,
           "293": 49,
           "294": 168,
           "295": 29,
           "296": 266,
           "297": 55,
           "298": 145,
           "299": 105,
           "3": 387,
           "30": 104,
           "300": 35,
           "301": 141,
           "302": 343,
           "303": 33,
           "304": 96,
           "305": 228,
           "306": 158,
           "307": 55,
           "308": 73,
           "309": 7,
           "31": 488,
           "310": 91,
           "311": 194,
           "312": 91,
           "313": 8,
           "314": 371,
           "315": 155,
           "316": 55,
           "317": 67,
           "318": 75,
           "319": 209,
           "32": 212,
           "320": 146,
           "321": 55,
           "322": 115,
           "323": 520,
           "324": 209,
           "325": 24,
           "326": 111,
           "327": 22,
           "328": 6,
           "329": 55,
           "33": 161,
           "330": 257,
           "331": 168,
           "332": 44,
           "333": 92,
           "334": 148,
           "335": 44,
           "336": 223,
           "337": 55,
           "338": 55,
           "339": 115,
           "34": 184,
           "340": 19,
           "341": 644,
           "342": 157,
           "343": 55,
           "344": 26,
           "345": 84,
           "346": 184,
           "347": 46,
           "348": 179,
           "349": 55,
           "35": 55,
           "350": 51,
           "351": 138,
           "352": 240,
           "353": 67,
           "354": 55,
           "355": 31,
           "356": 76,
           "357": 319,
           "358": 1,
           "359": 18,
           "36": 147,
           "360": 281,
           "361": 176,
           "362": 314,
           "363": 862,
           "364": 70,
           "365": 177,
           "366": 55,
           "367": 46,
           "368": 244,
           "369": 103,
           "37": 121,
           "370": 55,
           "371": 115,
           "372": 221,
           "373": 11,
           "374": 25,
           "375": 420,
           "376": 80,
           "377": 55,
           "378": 145,
           "379": 146,
           "38": 88,
           "380": 1,
           "381": 138,
           "382": 36,
           "383": 55,
           "384": 72,
           "385": 60,
           "386": 126,
           "387": 111,
           "388": 222,
           "389": 55,
           "39": 67,
           "390": 57,
           "391": 392,
           "392": 10,
           "393": 182,
           "394": 238,
           "395": 55,
           "396": 14,
           "397": 36,
           "398": 55,
           "399": 144,
           "4": 35,
           "40": 309,
           "400": 579,
           "401": 55,
           "402": 86,
           "403": 161,
           "404": 55,
           "405": 56,
           "406": 53,
           "407": 18,
           "408": 118,
           "409": 79,
           "41": 223,
           "410": 149,
           "411": 28,
           "412": 73,
           "413": 21,
           "414": 137,
           "415": 3,
           "416": 55,
           "417": 292,
           "418": 53,
           "419": 567,
           "42": 758,
           "420": 336,
           "421": 55,
           "422": 331,
           "423": 19,
           "424": 465,
           "425": 55,
           "426": 344,
           "427": 216,
           "428": 55,
           "429": 452,
           "43": 460,
           "430": 218,
           "431": 55,
           "432": 141,
           "433": 29,
           "434": 169,
           "435": 400,
           "436": 55,
           "437": 412,
           "438": 54,
           "439": 55,
           "44": 404,
           "440": 747,
           "441": 94,
           "442": 55,
           "443": 26,
           "444": 88,
           "445": 51,
           "446": 55,
           "447": 621,
           "448": 383,
           "449": 378,
           "45": 40,
           "450": 28,
           "451": 19,
           "452": 295,
           "453": 222,
           "454": 55,
           "455": 235,
           "456": 55,
           "457": 19,
           "458": 77,
           "459": 55,
           "46": 73,
           "460": 115,
           "461": 20,
           "462": 57,
           "463": 88,
           "464": 263,
           "465": 880,
           "466": 55,
           "467": 115,
           "468": 5,
           "469": 409,
           "47": 164,
           "470": 101,
           "471": 5,
           "472": 55,
           "473": 15,
           "474": 87,
           "475": 63,
           "476": 39,
           "477": 8,
           "478": 7,
           "479": 330,
           "48": 635,
           "480": 24,
           "481": 26,
           "482": 24,
           "483": 36,
           "484": 14,
           "485": 160,
           "486": 8,
           "487": 258,
           "488": 285,
           "489": 32,
           "49": 282,
           "490": 369,
           "491": 55,
           "492": 113,
           "493": 118,
           "494": 5,
           "495": 383,
           "496": 55,
           "497": 16,
           "498": 34,
           "499": 30,
           "5": 55,
           "50": 83,
           "500": 320,
           "501": 109,
           "502": 312,
           "503": 55,
           "504": 55,
           "505": 16,
           "506": 34,
           "507": 103,
           "508": 7,
           "509": 235,
           "51": 175,
           "510": 8,
           "511": 37,
           "512": 349,
           "513": 55,
           "514": 55,
           "515": 234,
           "516": 219,
           "517": 240,
           "518": 110,
           "519": 24,
           "52": 12,
           "520": 85,
           "521": 278,
           "522": 124,
           "523": 312,
           "524": 55,
           "525": 55,
           "526": 82,
           "527": 28,
           "528": 154,
           "529": 156,
           "53": 264,
           "530": 42,
           "531": 210,
           "532": 67,
           "533": 8,
           "534": 23,
           "535": 286,
           "536": 55,
           "537": 55,
           "538": 81,
           "539": 45,
           "54": 173,
           "540": 303,
           "541": 71,
           "542": 40,
           "543": 39,
           "544": 206,
           "545": 55,
           "546": 55,
           "547": 302,
           "548": 238,
           "549": 338,
           "55": 236,
           "550": 305,
           "551": 55,
           "552": 274,
           "553": 75,
           "554": 17,
           "555": 105,
           "556": 125,
           "557": 256,
           "558": 122,
           "559": 55,
           "56": 388,
           "560": 174,
           "561": 415,
           "562": 475,
           "563": 31,
           "564": 19,
           "565": 311,
           "566": 39,
           "567": 55,
           "568": 94,
           "569": 57,
           "57": 244,
           "570": 212,
           "571": 134,
           "572": 263,
           "573": 55,
           "574": 35,
           "575": 15,
           "576": 100,
           "577": 370,
           "578": 107,
           "579": 55,
           "58": 655,
           "580": 192,
           "581": 547,
           "582": 55,
           "583": 269,
           "584": 214,
           "585": 55,
           "586": 115,
           "587": 73,
           "588": 30,
           "589": 4,
           "59": 125,
           "590": 170,
           "591": 238,
           "592": 55,
           "593": 287,
           "594": 59,
           "595": 48,
           "596": 52,
           "597": 229,
           "598": 80,
           "599": 401,
           "6": 254,
           "60": 55,
           "600": 69,
           "601": 55,
           "602": 355,
           "603": 240,
           "604": 55,
           "605": 583,
           "606": 55,
           "607": 225,
           "608": 339,
           "609": 55,
           "61": 531,
           "610": 115,
           "611": 132,
           "612": 38,
           "613": 116,
           "614": 166,
           "615": 183,
           "616": 115,
           "617": 96,
           "618": 4,
           "619": 423,
           "62": 179,
           "620": 55,
           "621": 86,
           "622": 55,
           "623": 87,
           "624": 9,
           "625": 127,
           "626": 317,
           "627": 262,
           "628": 213,
           "629": 55,
           "63": 65,
           "630": 55,
           "631": 78,
           "632": 184,
           "633": 203,
           "634": 25,
           "635": 193,
           "636": 42,
           "637": 246,
           "638": 55,
           "639": 55,
           "64": 794,
           "640": 738,
           "641": 6,
           "642": 115,
           "643": 390,
           "644": 333,
           "645": 55,
           "646": 173,
           "647": 38,
           "648": 538,
           "649": 140,
           "65": 385,
           "650": 55,
           "651": 125,
           "652": 18,
           "653": 101,
           "654": 104,
           "655": 261,
           "656": 62,
           "657": 76,
           "658": 79,
           "659": 98,
           "66": 175,
           "660": 445,
           "661": 261,
           "662": 55,
           "663": 55,
           "664": 75,
           "665": 7,
           "666": 187,
           "667": 128,
           "668": 165,
           "669": 102,
           "67": 214,
           "670": 55,
           "671": 27,
           "672": 1,
           "673": 8,
           "674": 42,
           "675": 175,
           "676": 40,
           "677": 117,
           "678": 297,
           "679": 91,
           "68": 76,
           "680": 46,
           "681": 9,
           "682": 105,
           "683": 55,
           "684": 55,
           "685": 12,
           "686": 338,
           "687": 116,
           "688": 112,
           "689": 83,
           "69": 222,
           "690": 58,
           "691": 93,
           "692": 21,
           "693": 55,
           "694": 55,
           "695": 739,
           "696": 115,
           "697": 232,
           "698": 238,
           "699": 55,
           "7": 95,
           "70": 177,
           "700": 55,
           "701": 548,
           "702": 163,
           "703": 120,
           "704": 252,
           "705": 55,
           "706": 55,
           "707": 124,
           "708": 132,
           "709": 171,
           "71": 653,
           "710": 103,
           "711": 56,
           "712": 115,
           "713": 55,
           "714": 55,
           "715": 202,
           "716": 10,
           "717": 18,
           "718": 24,
           "719": 281,
           "72": 573,
           "720": 57,
           "721": 55,
           "722": 55,
           "723": 127,
           "724": 518,
           "725": 247,
           "726": 55,
           "727": 55,
           "728": 85,
           "729": 49,
           "73": 120,
           "730": 31,
           "731": 44,
           "732": 197,
           "733": 378,
           "734": 37,
           "735": 55,
           "736": 55,
           "737": 224,
           "738": 66,
           "739": 521,
           "74": 337,
           "740": 55,
           "741": 301,
           "742": 20,
           "743": 265,
           "744": 220,
           "745": 55,
           "746": 55,
           "747": 115,
           "748": 473,
           "749": 242,
           "75": 609,
           "750": 55,
           "751": 55,
           "752": 579,
           "753": 299,
           "754": 55,
           "755": 191,
           "756": 67,
           "757": 147,
           "758": 267,
           "759": 55,
           "76": 16,
           "760": 55,
           "761": 111,
           "762": 401,
           "763": 283,
           "764": 55,
           "765": 36,
           "766": 14,
           "767": 647,
           "768": 11,
           "769": 378,
           "77": 34,
           "770": 55,
           "771": 55,
           "772": 55,
           "773": 55,
           "774": 115,
           "775": 279,
           "776": 221,
           "777": 55,
           "778": 115,
           "779": 44,
           "78": 57,
           "780": 117,
           "781": 4,
           "782": 72,
           "783": 322,
           "784": 152,
           "785": 411,
           "786": 55,
           "787": 55,
           "788": 509,
           "789": 55,
           "79": 20,
           "790": 133,
           "791": 181,
           "792": 55,
           "793": 701,
           "794": 235,
           "795": 9,
           "796": 367,
           "797": 34,
           "798": 63,
           "799": 55,
           "8": 203,
           "80": 30,
           "800": 259,
           "801": 74,
           "802": 66,
           "803": 4,
           "804": 93,
           "805": 43,
           "806": 55,
           "807": 136,
           "808": 92,
           "809": 231,
           "81": 129,
           "810": 65,
           "811": 165,
           "812": 388,
           "813": 10,
           "814": 19,
           "815": 144,
           "816": 55,
           "817": 193,
           "818": 118,
           "819": 34,
           "82": 114,
           "820": 208,
           "821": 25,
           "822": 71,
           "823": 55,
           "824": 38,
           "825": 172,
           "826": 135,
           "827": 115,
           "828": 179,
           "829": 55,
           "83": 99,
           "830": 155,
           "831": 136,
           "832": 72,
           "833": 18,
           "834": 354,
           "835": 49,
           "836": 83,
           "837": 55,
           "838": 175,
           "839": 365,
           "84": 355,
           "840": 55,
           "841": 36,
           "842": 401,
           "843": 179,
           "844": 236,
           "845": 55,
           "846": 801,
           "847": 372,
           "848": 55,
           "849": 149,
           "85": 770,
           "850": 16,
           "851": 162,
           "852": 584,
           "853": 55,
           "854": 175,
           "855": 221,
           "856": 114,
           "857": 77,
           "858": 55,
           "859": 254,
           "86": 29,
           "860": 105,
           "861": 341,
           "862": 26,
           "863": 55,
           "864": 51,
           "865": 171,
           "866": 477,
           "867": 110,
           "868": 164,
           "869": 246,
           "87": 474,
           "870": 55,
           "871": 228,
           "872": 280,
           "873": 111,
           "874": 7,
           "875": 55,
           "876": 61,
           "877": 434,
           "878": 21,
           "879": 14,
           "88": 55,
           "880": 95,
           "881": 74,
           "882": 55,
           "883": 241,
           "884": 51,
           "885": 3,
           "886": 45,
           "887": 142,
           "888": 325,
           "889": 55,
           "89": 175,
           "890": 55,
           "891": 328,
           "892": 157,
           "893": 55,
           "894": 87,
           "895": 263,
           "896": 305,
           "897": 115,
           "898": 55,
           "899": 85,
           "9": 60,
           "90": 81,
           "900": 138,
           "901": 32,
           "902": 130,
           "903": 304,
           "904": 203,
           "905": 55,
           "906": 313,
           "907": 85,
           "908": 74,
           "909": 55,
           "91": 633,
           "910": 182,
           "911": 34,
           "912": 191,
           "913": 95,
           "914": 301,
           "915": 280,
           "916": 29,
           "917": 55,
           "918": 109,
           "919": 1,
           "92": 126,
           "920": 75,
           "921": 204,
           "922": 315,
           "923": 55,
           "924": 10,
           "925": 340,
           "926": 88,
           "927": 19,
           "928": 249,
           "929": 161,
           "93": 55,
           "930": 55,
           "931": 245,
           "932": 365,
           "933": 90,
           "934": 184,
           "935": 177,
           "936": 94,
           "937": 55,
           "938": 187,
           "939": 403,
           "94": 918,
           "940": 354,
           "941": 14,
           "942": 24,
           "943": 26,
           "944": 515,
           "945": 62,
           "946": 29,
           "947": 55,
           "948": 168,
           "949": 13,
           "95": 235,
           "950": 477,
           "951": 402,
           "952": 55,
           "953": 387,
           "954": 55,
           "955": 431,
           "956": 334,
           "957": 16,
           "958": 34,
           "959": 67,
           "96": 37,
           "960": 78,
           "961": 18,
           "962": 14,
           "963": 82,
           "964": 29,
           "965": 520,
           "966": 5,
           "967": 45,
           "968": 133,
           "969": 462,
           "97": 67,
           "970": 299,
           "971": 23,
           "972": 55,
           "973": 175,
           "974": 175,
           "975": 54,
           "976": 56,
           "977": 216,
           "978": 67,
           "979": 154,
           "98": 51,
           "980": 55,
           "981": 175,
           "982": 365,
           "983": 57,
           "984": 55,
           "985": 60,
           "986": 98,
           "987": 180,
           "988": 103,
           "989": 258,
           "99": 2,
           "990": 311,
           "991": 55,
           "992": 115,
           "993": 501,
           "994": 55,
           "995": 324,
           "996": 105,
           "997": 438,
           "998": 259,
           "999": 118,
           "bdata": "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",
           "dtype": "f8",
           "shape": "2006"
          },
          "bdata": "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",
          "dtype": "f8"
         },
         "y0": " ",
         "yaxis": "y"
        }
       ],
       "layout": {
        "autosize": true,
        "legend": {
         "tracegroupgap": 0
        },
        "template": {
         "data": {
          "bar": [
           {
            "error_x": {
             "color": "#2a3f5f"
            },
            "error_y": {
             "color": "#2a3f5f"
            },
            "marker": {
             "line": {
              "color": "#E5ECF6",
              "width": 0.5
             },
             "pattern": {
              "fillmode": "overlay",
              "size": 10,
              "solidity": 0.2
             }
            },
            "type": "bar"
           }
          ],
          "barpolar": [
           {
            "marker": {
             "line": {
              "color": "#E5ECF6",
              "width": 0.5
             },
             "pattern": {
              "fillmode": "overlay",
              "size": 10,
              "solidity": 0.2
             }
            },
            "type": "barpolar"
           }
          ],
          "carpet": [
           {
            "aaxis": {
             "endlinecolor": "#2a3f5f",
             "gridcolor": "white",
             "linecolor": "white",
             "minorgridcolor": "white",
             "startlinecolor": "#2a3f5f"
            },
            "baxis": {
             "endlinecolor": "#2a3f5f",
             "gridcolor": "white",
             "linecolor": "white",
             "minorgridcolor": "white",
             "startlinecolor": "#2a3f5f"
            },
            "type": "carpet"
           }
          ],
          "choropleth": [
           {
            "colorbar": {
             "outlinewidth": 0,
             "ticks": ""
            },
            "type": "choropleth"
           }
          ],
          "contour": [
           {
            "colorbar": {
             "outlinewidth": 0,
             "ticks": ""
            },
            "colorscale": [
             [
              0,
              "#0d0887"
             ],
             [
              0.1111111111111111,
              "#46039f"
             ],
             [
              0.2222222222222222,
              "#7201a8"
             ],
             [
              0.3333333333333333,
              "#9c179e"
             ],
             [
              0.4444444444444444,
              "#bd3786"
             ],
             [
              0.5555555555555556,
              "#d8576b"
             ],
             [
              0.6666666666666666,
              "#ed7953"
             ],
             [
              0.7777777777777778,
              "#fb9f3a"
             ],
             [
              0.8888888888888888,
              "#fdca26"
             ],
             [
              1,
              "#f0f921"
             ]
            ],
            "type": "contour"
           }
          ],
          "contourcarpet": [
           {
            "colorbar": {
             "outlinewidth": 0,
             "ticks": ""
            },
            "type": "contourcarpet"
           }
          ],
          "heatmap": [
           {
            "colorbar": {
             "outlinewidth": 0,
             "ticks": ""
            },
            "colorscale": [
             [
              0,
              "#0d0887"
             ],
             [
              0.1111111111111111,
              "#46039f"
             ],
             [
              0.2222222222222222,
              "#7201a8"
             ],
             [
              0.3333333333333333,
              "#9c179e"
             ],
             [
              0.4444444444444444,
              "#bd3786"
             ],
             [
              0.5555555555555556,
              "#d8576b"
             ],
             [
              0.6666666666666666,
              "#ed7953"
             ],
             [
              0.7777777777777778,
              "#fb9f3a"
             ],
             [
              0.8888888888888888,
              "#fdca26"
             ],
             [
              1,
              "#f0f921"
             ]
            ],
            "type": "heatmap"
           }
          ],
          "histogram": [
           {
            "marker": {
             "pattern": {
              "fillmode": "overlay",
              "size": 10,
              "solidity": 0.2
             }
            },
            "type": "histogram"
           }
          ],
          "histogram2d": [
           {
            "colorbar": {
             "outlinewidth": 0,
             "ticks": ""
            },
            "colorscale": [
             [
              0,
              "#0d0887"
             ],
             [
              0.1111111111111111,
              "#46039f"
             ],
             [
              0.2222222222222222,
              "#7201a8"
             ],
             [
              0.3333333333333333,
              "#9c179e"
             ],
             [
              0.4444444444444444,
              "#bd3786"
             ],
             [
              0.5555555555555556,
              "#d8576b"
             ],
             [
              0.6666666666666666,
              "#ed7953"
             ],
             [
              0.7777777777777778,
              "#fb9f3a"
             ],
             [
              0.8888888888888888,
              "#fdca26"
             ],
             [
              1,
              "#f0f921"
             ]
            ],
            "type": "histogram2d"
           }
          ],
          "histogram2dcontour": [
           {
            "colorbar": {
             "outlinewidth": 0,
             "ticks": ""
            },
            "colorscale": [
             [
              0,
              "#0d0887"
             ],
             [
              0.1111111111111111,
              "#46039f"
             ],
             [
              0.2222222222222222,
              "#7201a8"
             ],
             [
              0.3333333333333333,
              "#9c179e"
             ],
             [
              0.4444444444444444,
              "#bd3786"
             ],
             [
              0.5555555555555556,
              "#d8576b"
             ],
             [
              0.6666666666666666,
              "#ed7953"
             ],
             [
              0.7777777777777778,
              "#fb9f3a"
             ],
             [
              0.8888888888888888,
              "#fdca26"
             ],
             [
              1,
              "#f0f921"
             ]
            ],
            "type": "histogram2dcontour"
           }
          ],
          "mesh3d": [
           {
            "colorbar": {
             "outlinewidth": 0,
             "ticks": ""
            },
            "type": "mesh3d"
           }
          ],
          "parcoords": [
           {
            "line": {
             "colorbar": {
              "outlinewidth": 0,
              "ticks": ""
             }
            },
            "type": "parcoords"
           }
          ],
          "pie": [
           {
            "automargin": true,
            "type": "pie"
           }
          ],
          "scatter": [
           {
            "fillpattern": {
             "fillmode": "overlay",
             "size": 10,
             "solidity": 0.2
            },
            "type": "scatter"
           }
          ],
          "scatter3d": [
           {
            "line": {
             "colorbar": {
              "outlinewidth": 0,
              "ticks": ""
             }
            },
            "marker": {
             "colorbar": {
              "outlinewidth": 0,
              "ticks": ""
             }
            },
            "type": "scatter3d"
           }
          ],
          "scattercarpet": [
           {
            "marker": {
             "colorbar": {
              "outlinewidth": 0,
              "ticks": ""
             }
            },
            "type": "scattercarpet"
           }
          ],
          "scattergeo": [
           {
            "marker": {
             "colorbar": {
              "outlinewidth": 0,
              "ticks": ""
             }
            },
            "type": "scattergeo"
           }
          ],
          "scattergl": [
           {
            "marker": {
             "colorbar": {
              "outlinewidth": 0,
              "ticks": ""
             }
            },
            "type": "scattergl"
           }
          ],
          "scattermap": [
           {
            "marker": {
             "colorbar": {
              "outlinewidth": 0,
              "ticks": ""
             }
            },
            "type": "scattermap"
           }
          ],
          "scattermapbox": [
           {
            "marker": {
             "colorbar": {
              "outlinewidth": 0,
              "ticks": ""
             }
            },
            "type": "scattermapbox"
           }
          ],
          "scatterpolar": [
           {
            "marker": {
             "colorbar": {
              "outlinewidth": 0,
              "ticks": ""
             }
            },
            "type": "scatterpolar"
           }
          ],
          "scatterpolargl": [
           {
            "marker": {
             "colorbar": {
              "outlinewidth": 0,
              "ticks": ""
             }
            },
            "type": "scatterpolargl"
           }
          ],
          "scatterternary": [
           {
            "marker": {
             "colorbar": {
              "outlinewidth": 0,
              "ticks": ""
             }
            },
            "type": "scatterternary"
           }
          ],
          "surface": [
           {
            "colorbar": {
             "outlinewidth": 0,
             "ticks": ""
            },
            "colorscale": [
             [
              0,
              "#0d0887"
             ],
             [
              0.1111111111111111,
              "#46039f"
             ],
             [
              0.2222222222222222,
              "#7201a8"
             ],
             [
              0.3333333333333333,
              "#9c179e"
             ],
             [
              0.4444444444444444,
              "#bd3786"
             ],
             [
              0.5555555555555556,
              "#d8576b"
             ],
             [
              0.6666666666666666,
              "#ed7953"
             ],
             [
              0.7777777777777778,
              "#fb9f3a"
             ],
             [
              0.8888888888888888,
              "#fdca26"
             ],
             [
              1,
              "#f0f921"
             ]
            ],
            "type": "surface"
           }
          ],
          "table": [
           {
            "cells": {
             "fill": {
              "color": "#EBF0F8"
             },
             "line": {
              "color": "white"
             }
            },
            "header": {
             "fill": {
              "color": "#C8D4E3"
             },
             "line": {
              "color": "white"
             }
            },
            "type": "table"
           }
          ]
         },
         "layout": {
          "annotationdefaults": {
           "arrowcolor": "#2a3f5f",
           "arrowhead": 0,
           "arrowwidth": 1
          },
          "autotypenumbers": "strict",
          "coloraxis": {
           "colorbar": {
            "outlinewidth": 0,
            "ticks": ""
           }
          },
          "colorscale": {
           "diverging": [
            [
             0,
             "#8e0152"
            ],
            [
             0.1,
             "#c51b7d"
            ],
            [
             0.2,
             "#de77ae"
            ],
            [
             0.3,
             "#f1b6da"
            ],
            [
             0.4,
             "#fde0ef"
            ],
            [
             0.5,
             "#f7f7f7"
            ],
            [
             0.6,
             "#e6f5d0"
            ],
            [
             0.7,
             "#b8e186"
            ],
            [
             0.8,
             "#7fbc41"
            ],
            [
             0.9,
             "#4d9221"
            ],
            [
             1,
             "#276419"
            ]
           ],
           "sequential": [
            [
             0,
             "#0d0887"
            ],
            [
             0.1111111111111111,
             "#46039f"
            ],
            [
             0.2222222222222222,
             "#7201a8"
            ],
            [
             0.3333333333333333,
             "#9c179e"
            ],
            [
             0.4444444444444444,
             "#bd3786"
            ],
            [
             0.5555555555555556,
             "#d8576b"
            ],
            [
             0.6666666666666666,
             "#ed7953"
            ],
            [
             0.7777777777777778,
             "#fb9f3a"
            ],
            [
             0.8888888888888888,
             "#fdca26"
            ],
            [
             1,
             "#f0f921"
            ]
           ],
           "sequentialminus": [
            [
             0,
             "#0d0887"
            ],
            [
             0.1111111111111111,
             "#46039f"
            ],
            [
             0.2222222222222222,
             "#7201a8"
            ],
            [
             0.3333333333333333,
             "#9c179e"
            ],
            [
             0.4444444444444444,
             "#bd3786"
            ],
            [
             0.5555555555555556,
             "#d8576b"
            ],
            [
             0.6666666666666666,
             "#ed7953"
            ],
            [
             0.7777777777777778,
             "#fb9f3a"
            ],
            [
             0.8888888888888888,
             "#fdca26"
            ],
            [
             1,
             "#f0f921"
            ]
           ]
          },
          "colorway": [
           "#636efa",
           "#EF553B",
           "#00cc96",
           "#ab63fa",
           "#FFA15A",
           "#19d3f3",
           "#FF6692",
           "#B6E880",
           "#FF97FF",
           "#FECB52"
          ],
          "font": {
           "color": "#2a3f5f"
          },
          "geo": {
           "bgcolor": "white",
           "lakecolor": "white",
           "landcolor": "#E5ECF6",
           "showlakes": true,
           "showland": true,
           "subunitcolor": "white"
          },
          "hoverlabel": {
           "align": "left"
          },
          "hovermode": "closest",
          "mapbox": {
           "style": "light"
          },
          "paper_bgcolor": "white",
          "plot_bgcolor": "#E5ECF6",
          "polar": {
           "angularaxis": {
            "gridcolor": "white",
            "linecolor": "white",
            "ticks": ""
           },
           "bgcolor": "#E5ECF6",
           "radialaxis": {
            "gridcolor": "white",
            "linecolor": "white",
            "ticks": ""
           }
          },
          "scene": {
           "xaxis": {
            "backgroundcolor": "#E5ECF6",
            "gridcolor": "white",
            "gridwidth": 2,
            "linecolor": "white",
            "showbackground": true,
            "ticks": "",
            "zerolinecolor": "white"
           },
           "yaxis": {
            "backgroundcolor": "#E5ECF6",
            "gridcolor": "white",
            "gridwidth": 2,
            "linecolor": "white",
            "showbackground": true,
            "ticks": "",
            "zerolinecolor": "white"
           },
           "zaxis": {
            "backgroundcolor": "#E5ECF6",
            "gridcolor": "white",
            "gridwidth": 2,
            "linecolor": "white",
            "showbackground": true,
            "ticks": "",
            "zerolinecolor": "white"
           }
          },
          "shapedefaults": {
           "line": {
            "color": "#2a3f5f"
           }
          },
          "ternary": {
           "aaxis": {
            "gridcolor": "white",
            "linecolor": "white",
            "ticks": ""
           },
           "baxis": {
            "gridcolor": "white",
            "linecolor": "white",
            "ticks": ""
           },
           "bgcolor": "#E5ECF6",
           "caxis": {
            "gridcolor": "white",
            "linecolor": "white",
            "ticks": ""
           }
          },
          "title": {
           "x": 0.05
          },
          "xaxis": {
           "automargin": true,
           "gridcolor": "white",
           "linecolor": "white",
           "ticks": "",
           "title": {
            "standoff": 15
           },
           "zerolinecolor": "white",
           "zerolinewidth": 2
          },
          "yaxis": {
           "automargin": true,
           "gridcolor": "white",
           "linecolor": "white",
           "ticks": "",
           "title": {
            "standoff": 15
           },
           "zerolinecolor": "white",
           "zerolinewidth": 2
          }
         }
        },
        "title": {
         "text": "Break length by start hour — B"
        },
        "violinmode": "group",
        "xaxis": {
         "anchor": "y",
         "autorange": true,
         "domain": [
          0,
          1
         ],
         "range": [
          0.002225130890052815,
          23.241666666666667
         ],
         "title": {
          "text": "start_hour"
         },
         "type": "linear"
        },
        "yaxis": {
         "anchor": "x",
         "autorange": true,
         "domain": [
          0,
          1
         ],
         "range": [
          -976.5219171674277,
          1827.280758384183
         ],
         "title": {
          "text": "gap_min"
         },
         "type": "linear"
        }
       }
      },
      "image/png": "[encoded data removed]"
     },
     "metadata": {},
     "output_type": "display_data"
    },
    {
     "name": "stdout",
     "output_type": "stream",
     "text": [
      "Busiest day → 2014-08-27 (n=17)\n"
     ]
    },
    {
     "data": {
      "application/vnd.plotly.v1+json": {
       "config": {
        "plotlyServerURL": "https://plot.ly"
       },
       "data": [
        {
         "base": [
          "2014-08-27T00:36:00.000000000",
          "2014-08-27T02:25:00.000000000",
          "2014-08-27T03:05:00.000000000",
          "2014-08-27T07:00:00.000000000",
          "2014-08-27T08:00:00.000000000",
          "2014-08-27T10:25:00.000000000",
          "2014-08-27T10:57:00.000000000",
          "2014-08-27T11:13:00.000000000",
          "2014-08-27T12:25:00.000000000",
          "2014-08-27T12:37:00.000000000",
          "2014-08-27T13:45:00.000000000",
          "2014-08-27T14:45:00.000000000",
          "2014-08-27T15:33:00.000000000",
          "2014-08-27T15:58:00.000000000",
          "2014-08-27T16:12:00.000000000",
          "2014-08-27T21:08:00.000000000",
          "2014-08-27T22:29:00.000000000"
         ],
         "hovertemplate": "Overlap?=False<br>start=%{base}<br>end=%{x}<br>resource=%{y}<extra></extra>",
         "legendgroup": "False",
         "marker": {
          "color": "#636efa",
          "pattern": {
           "shape": ""
          }
         },
         "name": "False",
         "orientation": "h",
         "showlegend": true,
         "textposition": "auto",
         "type": "bar",
         "x": {
          "_inputArray": {
           "0": 300000,
           "1": 300000,
           "10": 300000,
           "11": 480000,
           "12": 300000,
           "13": 300000,
           "14": 300000,
           "15": 300000,
           "16": 300000,
           "2": 300000,
           "3": 300000,
           "4": 300000,
           "5": 300000,
           "6": 300000,
           "7": 300000,
           "8": 300000,
           "9": 300000,
           "bdata": "4JMEAOCTBADgkwQA4JMEAOCTBADgkwQA4JMEAOCTBADgkwQA4JMEAOCTBAAAUwcA4JMEAOCTBADgkwQA4JMEAOCTBAA=",
           "dtype": "i4",
           "shape": "17"
          },
          "bdata": "4JMEAOCTBADgkwQA4JMEAOCTBADgkwQA4JMEAOCTBADgkwQA4JMEAOCTBAAAUwcA4JMEAOCTBADgkwQA4JMEAOCTBAA=",
          "dtype": "i4"
         },
         "xaxis": "x",
         "y": [
          "B",
          "B",
          "B",
          "B",
          "B",
          "B",
          "B",
          "B",
          "B",
          "B",
          "B",
          "B",
          "B",
          "B",
          "B",
          "B",
          "B"
         ],
         "yaxis": "y"
        }
       ],
       "layout": {
        "autosize": true,
        "barmode": "overlay",
        "legend": {
         "title": {
          "text": "Overlap?"
         },
         "tracegroupgap": 0
        },
        "template": {
         "data": {
          "bar": [
           {
            "error_x": {
             "color": "#2a3f5f"
            },
            "error_y": {
             "color": "#2a3f5f"
            },
            "marker": {
             "line": {
              "color": "#E5ECF6",
              "width": 0.5
             },
             "pattern": {
              "fillmode": "overlay",
              "size": 10,
              "solidity": 0.2
             }
            },
            "type": "bar"
           }
          ],
          "barpolar": [
           {
            "marker": {
             "line": {
              "color": "#E5ECF6",
              "width": 0.5
             },
             "pattern": {
              "fillmode": "overlay",
              "size": 10,
              "solidity": 0.2
             }
            },
            "type": "barpolar"
           }
          ],
          "carpet": [
           {
            "aaxis": {
             "endlinecolor": "#2a3f5f",
             "gridcolor": "white",
             "linecolor": "white",
             "minorgridcolor": "white",
             "startlinecolor": "#2a3f5f"
            },
            "baxis": {
             "endlinecolor": "#2a3f5f",
             "gridcolor": "white",
             "linecolor": "white",
             "minorgridcolor": "white",
             "startlinecolor": "#2a3f5f"
            },
            "type": "carpet"
           }
          ],
          "choropleth": [
           {
            "colorbar": {
             "outlinewidth": 0,
             "ticks": ""
            },
            "type": "choropleth"
           }
          ],
          "contour": [
           {
            "colorbar": {
             "outlinewidth": 0,
             "ticks": ""
            },
            "colorscale": [
             [
              0,
              "#0d0887"
             ],
             [
              0.1111111111111111,
              "#46039f"
             ],
             [
              0.2222222222222222,
              "#7201a8"
             ],
             [
              0.3333333333333333,
              "#9c179e"
             ],
             [
              0.4444444444444444,
              "#bd3786"
             ],
             [
              0.5555555555555556,
              "#d8576b"
             ],
             [
              0.6666666666666666,
              "#ed7953"
             ],
             [
              0.7777777777777778,
              "#fb9f3a"
             ],
             [
              0.8888888888888888,
              "#fdca26"
             ],
             [
              1,
              "#f0f921"
             ]
            ],
            "type": "contour"
           }
          ],
          "contourcarpet": [
           {
            "colorbar": {
             "outlinewidth": 0,
             "ticks": ""
            },
            "type": "contourcarpet"
           }
          ],
          "heatmap": [
           {
            "colorbar": {
             "outlinewidth": 0,
             "ticks": ""
            },
            "colorscale": [
             [
              0,
              "#0d0887"
             ],
             [
              0.1111111111111111,
              "#46039f"
             ],
             [
              0.2222222222222222,
              "#7201a8"
             ],
             [
              0.3333333333333333,
              "#9c179e"
             ],
             [
              0.4444444444444444,
              "#bd3786"
             ],
             [
              0.5555555555555556,
              "#d8576b"
             ],
             [
              0.6666666666666666,
              "#ed7953"
             ],
             [
              0.7777777777777778,
              "#fb9f3a"
             ],
             [
              0.8888888888888888,
              "#fdca26"
             ],
             [
              1,
              "#f0f921"
             ]
            ],
            "type": "heatmap"
           }
          ],
          "histogram": [
           {
            "marker": {
             "pattern": {
              "fillmode": "overlay",
              "size": 10,
              "solidity": 0.2
             }
            },
            "type": "histogram"
           }
          ],
          "histogram2d": [
           {
            "colorbar": {
             "outlinewidth": 0,
             "ticks": ""
            },
            "colorscale": [
             [
              0,
              "#0d0887"
             ],
             [
              0.1111111111111111,
              "#46039f"
             ],
             [
              0.2222222222222222,
              "#7201a8"
             ],
             [
              0.3333333333333333,
              "#9c179e"
             ],
             [
              0.4444444444444444,
              "#bd3786"
             ],
             [
              0.5555555555555556,
              "#d8576b"
             ],
             [
              0.6666666666666666,
              "#ed7953"
             ],
             [
              0.7777777777777778,
              "#fb9f3a"
             ],
             [
              0.8888888888888888,
              "#fdca26"
             ],
             [
              1,
              "#f0f921"
             ]
            ],
            "type": "histogram2d"
           }
          ],
          "histogram2dcontour": [
           {
            "colorbar": {
             "outlinewidth": 0,
             "ticks": ""
            },
            "colorscale": [
             [
              0,
              "#0d0887"
             ],
             [
              0.1111111111111111,
              "#46039f"
             ],
             [
              0.2222222222222222,
              "#7201a8"
             ],
             [
              0.3333333333333333,
              "#9c179e"
             ],
             [
              0.4444444444444444,
              "#bd3786"
             ],
             [
              0.5555555555555556,
              "#d8576b"
             ],
             [
              0.6666666666666666,
              "#ed7953"
             ],
             [
              0.7777777777777778,
              "#fb9f3a"
             ],
             [
              0.8888888888888888,
              "#fdca26"
             ],
             [
              1,
              "#f0f921"
             ]
            ],
            "type": "histogram2dcontour"
           }
          ],
          "mesh3d": [
           {
            "colorbar": {
             "outlinewidth": 0,
             "ticks": ""
            },
            "type": "mesh3d"
           }
          ],
          "parcoords": [
           {
            "line": {
             "colorbar": {
              "outlinewidth": 0,
              "ticks": ""
             }
            },
            "type": "parcoords"
           }
          ],
          "pie": [
           {
            "automargin": true,
            "type": "pie"
           }
          ],
          "scatter": [
           {
            "fillpattern": {
             "fillmode": "overlay",
             "size": 10,
             "solidity": 0.2
            },
            "type": "scatter"
           }
          ],
          "scatter3d": [
           {
            "line": {
             "colorbar": {
              "outlinewidth": 0,
              "ticks": ""
             }
            },
            "marker": {
             "colorbar": {
              "outlinewidth": 0,
              "ticks": ""
             }
            },
            "type": "scatter3d"
           }
          ],
          "scattercarpet": [
           {
            "marker": {
             "colorbar": {
              "outlinewidth": 0,
              "ticks": ""
             }
            },
            "type": "scattercarpet"
           }
          ],
          "scattergeo": [
           {
            "marker": {
             "colorbar": {
              "outlinewidth": 0,
              "ticks": ""
             }
            },
            "type": "scattergeo"
           }
          ],
          "scattergl": [
           {
            "marker": {
             "colorbar": {
              "outlinewidth": 0,
              "ticks": ""
             }
            },
            "type": "scattergl"
           }
          ],
          "scattermap": [
           {
            "marker": {
             "colorbar": {
              "outlinewidth": 0,
              "ticks": ""
             }
            },
            "type": "scattermap"
           }
          ],
          "scattermapbox": [
           {
            "marker": {
             "colorbar": {
              "outlinewidth": 0,
              "ticks": ""
             }
            },
            "type": "scattermapbox"
           }
          ],
          "scatterpolar": [
           {
            "marker": {
             "colorbar": {
              "outlinewidth": 0,
              "ticks": ""
             }
            },
            "type": "scatterpolar"
           }
          ],
          "scatterpolargl": [
           {
            "marker": {
             "colorbar": {
              "outlinewidth": 0,
              "ticks": ""
             }
            },
            "type": "scatterpolargl"
           }
          ],
          "scatterternary": [
           {
            "marker": {
             "colorbar": {
              "outlinewidth": 0,
              "ticks": ""
             }
            },
            "type": "scatterternary"
           }
          ],
          "surface": [
           {
            "colorbar": {
             "outlinewidth": 0,
             "ticks": ""
            },
            "colorscale": [
             [
              0,
              "#0d0887"
             ],
             [
              0.1111111111111111,
              "#46039f"
             ],
             [
              0.2222222222222222,
              "#7201a8"
             ],
             [
              0.3333333333333333,
              "#9c179e"
             ],
             [
              0.4444444444444444,
              "#bd3786"
             ],
             [
              0.5555555555555556,
              "#d8576b"
             ],
             [
              0.6666666666666666,
              "#ed7953"
             ],
             [
              0.7777777777777778,
              "#fb9f3a"
             ],
             [
              0.8888888888888888,
              "#fdca26"
             ],
             [
              1,
              "#f0f921"
             ]
            ],
            "type": "surface"
           }
          ],
          "table": [
           {
            "cells": {
             "fill": {
              "color": "#EBF0F8"
             },
             "line": {
              "color": "white"
             }
            },
            "header": {
             "fill": {
              "color": "#C8D4E3"
             },
             "line": {
              "color": "white"
             }
            },
            "type": "table"
           }
          ]
         },
         "layout": {
          "annotationdefaults": {
           "arrowcolor": "#2a3f5f",
           "arrowhead": 0,
           "arrowwidth": 1
          },
          "autotypenumbers": "strict",
          "coloraxis": {
           "colorbar": {
            "outlinewidth": 0,
            "ticks": ""
           }
          },
          "colorscale": {
           "diverging": [
            [
             0,
             "#8e0152"
            ],
            [
             0.1,
             "#c51b7d"
            ],
            [
             0.2,
             "#de77ae"
            ],
            [
             0.3,
             "#f1b6da"
            ],
            [
             0.4,
             "#fde0ef"
            ],
            [
             0.5,
             "#f7f7f7"
            ],
            [
             0.6,
             "#e6f5d0"
            ],
            [
             0.7,
             "#b8e186"
            ],
            [
             0.8,
             "#7fbc41"
            ],
            [
             0.9,
             "#4d9221"
            ],
            [
             1,
             "#276419"
            ]
           ],
           "sequential": [
            [
             0,
             "#0d0887"
            ],
            [
             0.1111111111111111,
             "#46039f"
            ],
            [
             0.2222222222222222,
             "#7201a8"
            ],
            [
             0.3333333333333333,
             "#9c179e"
            ],
            [
             0.4444444444444444,
             "#bd3786"
            ],
            [
             0.5555555555555556,
             "#d8576b"
            ],
            [
             0.6666666666666666,
             "#ed7953"
            ],
            [
             0.7777777777777778,
             "#fb9f3a"
            ],
            [
             0.8888888888888888,
             "#fdca26"
            ],
            [
             1,
             "#f0f921"
            ]
           ],
           "sequentialminus": [
            [
             0,
             "#0d0887"
            ],
            [
             0.1111111111111111,
             "#46039f"
            ],
            [
             0.2222222222222222,
             "#7201a8"
            ],
            [
             0.3333333333333333,
             "#9c179e"
            ],
            [
             0.4444444444444444,
             "#bd3786"
            ],
            [
             0.5555555555555556,
             "#d8576b"
            ],
            [
             0.6666666666666666,
             "#ed7953"
            ],
            [
             0.7777777777777778,
             "#fb9f3a"
            ],
            [
             0.8888888888888888,
             "#fdca26"
            ],
            [
             1,
             "#f0f921"
            ]
           ]
          },
          "colorway": [
           "#636efa",
           "#EF553B",
           "#00cc96",
           "#ab63fa",
           "#FFA15A",
           "#19d3f3",
           "#FF6692",
           "#B6E880",
           "#FF97FF",
           "#FECB52"
          ],
          "font": {
           "color": "#2a3f5f"
          },
          "geo": {
           "bgcolor": "white",
           "lakecolor": "white",
           "landcolor": "#E5ECF6",
           "showlakes": true,
           "showland": true,
           "subunitcolor": "white"
          },
          "hoverlabel": {
           "align": "left"
          },
          "hovermode": "closest",
          "mapbox": {
           "style": "light"
          },
          "paper_bgcolor": "white",
          "plot_bgcolor": "#E5ECF6",
          "polar": {
           "angularaxis": {
            "gridcolor": "white",
            "linecolor": "white",
            "ticks": ""
           },
           "bgcolor": "#E5ECF6",
           "radialaxis": {
            "gridcolor": "white",
            "linecolor": "white",
            "ticks": ""
           }
          },
          "scene": {
           "xaxis": {
            "backgroundcolor": "#E5ECF6",
            "gridcolor": "white",
            "gridwidth": 2,
            "linecolor": "white",
            "showbackground": true,
            "ticks": "",
            "zerolinecolor": "white"
           },
           "yaxis": {
            "backgroundcolor": "#E5ECF6",
            "gridcolor": "white",
            "gridwidth": 2,
            "linecolor": "white",
            "showbackground": true,
            "ticks": "",
            "zerolinecolor": "white"
           },
           "zaxis": {
            "backgroundcolor": "#E5ECF6",
            "gridcolor": "white",
            "gridwidth": 2,
            "linecolor": "white",
            "showbackground": true,
            "ticks": "",
            "zerolinecolor": "white"
           }
          },
          "shapedefaults": {
           "line": {
            "color": "#2a3f5f"
           }
          },
          "ternary": {
           "aaxis": {
            "gridcolor": "white",
            "linecolor": "white",
            "ticks": ""
           },
           "baxis": {
            "gridcolor": "white",
            "linecolor": "white",
            "ticks": ""
           },
           "bgcolor": "#E5ECF6",
           "caxis": {
            "gridcolor": "white",
            "linecolor": "white",
            "ticks": ""
           }
          },
          "title": {
           "x": 0.05
          },
          "xaxis": {
           "automargin": true,
           "gridcolor": "white",
           "linecolor": "white",
           "ticks": "",
           "title": {
            "standoff": 15
           },
           "zerolinecolor": "white",
           "zerolinewidth": 2
          },
          "yaxis": {
           "automargin": true,
           "gridcolor": "white",
           "linecolor": "white",
           "ticks": "",
           "title": {
            "standoff": 15
           },
           "zerolinecolor": "white",
           "zerolinewidth": 2
          }
         }
        },
        "title": {
         "text": "Tasks on 2014-08-27 — B"
        },
        "xaxis": {
         "anchor": "y",
         "autorange": true,
         "domain": [
          0,
          1
         ],
         "range": [
          "2014-08-26 23:22:46.6667",
          "2014-08-27 23:47:13.3333"
         ],
         "type": "date"
        },
        "yaxis": {
         "anchor": "x",
         "autorange": true,
         "domain": [
          0,
          1
         ],
         "range": [
          0.5,
          -0.5
         ],
         "title": {
          "text": "resource"
         },
         "type": "category"
        }
       }
      },
      "image/png": "[encoded data removed]"
     },
     "metadata": {},
     "output_type": "display_data"
    },
    {
     "name": "stderr",
     "output_type": "stream",
     "text": [
      "/var/folders/7j/l7x_10w97357mn1mpd0yhlqc0000gn/T/ipykernel_8226/3241515016.py:43: DeprecationWarning:\n",
      "\n",
      "\n",
      "Support for Kaleido versions less than 1.0.0 is deprecated and will be removed after September 2025.\n",
      "Please upgrade Kaleido to version 1.0.0 or greater (`pip install 'kaleido>=1.0.0'` or `pip install 'plotly[kaleido]'`).\n",
      "\n",
      "\n"
     ]
    }
   ],
   "source": [
    "#  Profile a selected resource end-to-end\n",
    "\n",
    "RESOURCE = summary.iloc[0][\"resource\"] if len(summary) else None\n",
    "print(\"Profiling resource →\", RESOURCE)\n",
    "\n",
    "if RESOURCE is None:\n",
    "    print(\"No resources found.\")\n",
    "else:\n",
    "    wk = weekly[weekly[\"resource\"] == RESOURCE]\n",
    "    fig = px.line(wk, x=\"hour\", y=\"availability_share\",\n",
    "                  title=f\"Weekly availability share — {RESOURCE}\")\n",
    "    fig.update_yaxes(tickformat=\".0%\"); fig.show()\n",
    "\n",
    "    d = daily[daily[\"resource\"] == RESOURCE].copy()\n",
    "    d[\"arr_hour\"] = pd.to_datetime(d[\"first_start\"]).dt.hour\n",
    "    d[\"dep_hour\"] = pd.to_datetime(d[\"last_end\"]).dt.hour\n",
    "    px.histogram(d, x=\"arr_hour\", nbins=24, title=f\"Arrival time distribution — {RESOURCE}\").show()\n",
    "    px.histogram(d, x=\"dep_hour\", nbins=24, title=f\"Departure time distribution — {RESOURCE}\").show()\n",
    "\n",
    "    b = breaks[breaks[\"resource\"] == RESOURCE].copy()\n",
    "    if not b.empty:\n",
    "        b[\"start_hour\"] = pd.to_datetime(b[\"gap_start\"]).dt.hour + pd.to_datetime(b[\"gap_start\"]).dt.minute/60\n",
    "        px.violin(b, x=\"start_hour\", y=\"gap_min\", box=True, points=\"all\",\n",
    "                  title=f\"Break length by start hour — {RESOURCE}\").show()\n",
    "    else:\n",
    "        print(\"No intra-day breaks detected for this resource.\")\n",
    "\n",
    "    # busiest day timeline\n",
    "    p = periods[periods[\"resource\"] == RESOURCE].copy()\n",
    "    if not p.empty:\n",
    "        p[\"start\"] = pd.to_datetime(p[\"start\"]); p[\"end\"] = pd.to_datetime(p[\"end\"])\n",
    "        if \"is_overlap\" not in p.columns:\n",
    "            p[\"is_overlap\"] = False\n",
    "        busiest_day = p[\"start\"].dt.date.value_counts().idxmax()\n",
    "        one = p[p[\"start\"].dt.date == busiest_day].copy()\n",
    "        print(f\"Busiest day → {busiest_day} (n={len(one)})\")\n",
    "        px.timeline(one, x_start=\"start\", x_end=\"end\", y=\"resource\",\n",
    "                    color=\"is_overlap\",\n",
    "                    title=f\"Tasks on {busiest_day} — {RESOURCE}\",\n",
    "                    labels={\"is_overlap\":\"Overlap?\"}\n",
    "                   ).update_yaxes(autorange=\"reversed\").show()\n",
    "        out_fn = SURVEY / f\"q1_resX_busiest_day.png\"\n",
    "        fig.write_image(out_fn, scale=2)\n"
   ]
  },
  {
   "cell_type": "code",
   "execution_count": 27,
   "id": "035d274f-74d3-4e63-99b9-8a928a53314a",
   "metadata": {},
   "outputs": [
    {
     "data": {
      "application/vnd.plotly.v1+json": {
       "config": {
        "plotlyServerURL": "https://plot.ly"
       },
       "data": [
        {
         "hovertemplate": "resource=A (n=416d)<br>hour=%{x}<br>availability_share=%{y}<extra></extra>",
         "legendgroup": "A (n=416d)",
         "line": {
          "color": "#636efa",
          "dash": "solid"
         },
         "marker": {
          "symbol": "circle"
         },
         "mode": "lines",
         "name": "A (n=416d)",
         "orientation": "v",
         "showlegend": true,
         "type": "scatter",
         "x": {
          "_inputArray": {
           "0": 0,
           "1": 1,
           "10": 10,
           "11": 11,
           "12": 12,
           "13": 13,
           "14": 14,
           "15": 15,
           "16": 16,
           "17": 17,
           "18": 18,
           "19": 19,
           "2": 2,
           "20": 20,
           "21": 21,
           "22": 22,
           "23": 23,
           "3": 3,
           "4": 4,
           "5": 5,
           "6": 6,
           "7": 7,
           "8": 8,
           "9": 9,
           "bdata": "AAECAwQFBgcICQoLDA0ODxAREhMUFRYX",
           "dtype": "i1",
           "shape": "24"
          },
          "bdata": "AAECAwQFBgcICQoLDA0ODxAREhMUFRYX",
          "dtype": "i1"
         },
         "xaxis": "x",
         "y": {
          "_inputArray": {
           "0": 0.17548076923076922,
           "1": 0.12259615384615384,
           "10": 0.19471153846153846,
           "11": 0.21875,
           "12": 0.22115384615384615,
           "13": 0.20432692307692307,
           "14": 0.2091346153846154,
           "15": 0.2644230769230769,
           "16": 0.2668269230769231,
           "17": 0.27403846153846156,
           "18": 0.2668269230769231,
           "19": 0.23798076923076922,
           "2": 0.08653846153846154,
           "20": 0.29086538461538464,
           "21": 0.25961538461538464,
           "22": 0.22115384615384615,
           "23": 0.22355769230769232,
           "3": 0.08413461538461539,
           "4": 0.06009615384615385,
           "5": 0.057692307692307696,
           "6": 0.06009615384615385,
           "7": 0.04567307692307692,
           "8": 0.11057692307692307,
           "9": 0.15625,
           "bdata": "Yid2Yid2xj8ndmIndmK/P3ZiJ3ZiJ7Y/ntiJndiJtT9P7MRO7MSuP57YiZ3Yia0/T+zETuzErj8ndmIndmKnP+zETuzETrw/AAAAAAAAxD/FTuzETuzIPwAAAAAAAMw/7MRO7MROzD92Yid2YifKP0/sxE7sxMo/xU7sxE7s0D87sRM7sRPRP57YiZ3YidE/O7ETO7ET0T9iJ3ZiJ3bOP9mJndiJndI/2Ymd2Imd0D/sxE7sxE7MP9mJndiJncw/",
           "dtype": "f8",
           "shape": "24"
          },
          "bdata": "Yid2Yid2xj8ndmIndmK/P3ZiJ3ZiJ7Y/ntiJndiJtT9P7MRO7MSuP57YiZ3Yia0/T+zETuzErj8ndmIndmKnP+zETuzETrw/AAAAAAAAxD/FTuzETuzIPwAAAAAAAMw/7MRO7MROzD92Yid2YifKP0/sxE7sxMo/xU7sxE7s0D87sRM7sRPRP57YiZ3YidE/O7ETO7ET0T9iJ3ZiJ3bOP9mJndiJndI/2Ymd2Imd0D/sxE7sxE7MP9mJndiJncw/",
          "dtype": "f8"
         },
         "yaxis": "y"
        },
        {
         "hovertemplate": "resource=B (n=478d)<br>hour=%{x}<br>availability_share=%{y}<extra></extra>",
         "legendgroup": "B (n=478d)",
         "line": {
          "color": "#EF553B",
          "dash": "solid"
         },
         "marker": {
          "symbol": "circle"
         },
         "mode": "lines",
         "name": "B (n=478d)",
         "orientation": "v",
         "showlegend": true,
         "type": "scatter",
         "x": {
          "_inputArray": {
           "0": 0,
           "1": 1,
           "10": 10,
           "11": 11,
           "12": 12,
           "13": 13,
           "14": 14,
           "15": 15,
           "16": 16,
           "17": 17,
           "18": 18,
           "19": 19,
           "2": 2,
           "20": 20,
           "21": 21,
           "22": 22,
           "23": 23,
           "3": 3,
           "4": 4,
           "5": 5,
           "6": 6,
           "7": 7,
           "8": 8,
           "9": 9,
           "bdata": "AAECAwQFBgcICQoLDA0ODxAREhMUFRYX",
           "dtype": "i1",
           "shape": "24"
          },
          "bdata": "AAECAwQFBgcICQoLDA0ODxAREhMUFRYX",
          "dtype": "i1"
         },
         "xaxis": "x",
         "y": {
          "_inputArray": {
           "0": 0.09623430962343096,
           "1": 0.06903765690376569,
           "10": 0.2196652719665272,
           "11": 0.2824267782426778,
           "12": 0.19246861924686193,
           "13": 0.200836820083682,
           "14": 0.22594142259414227,
           "15": 0.200836820083682,
           "16": 0.17573221757322174,
           "17": 0.17573221757322174,
           "18": 0.1694560669456067,
           "19": 0.1401673640167364,
           "2": 0.0397489539748954,
           "20": 0.18410041841004185,
           "21": 0.1401673640167364,
           "22": 0.15481171548117154,
           "23": 0.10460251046025104,
           "3": 0.0502092050209205,
           "4": 0.0397489539748954,
           "5": 0.060669456066945605,
           "6": 0.12343096234309624,
           "7": 0.6694560669456067,
           "8": 0.9058577405857741,
           "9": 0.3514644351464435,
           "bdata": "SvWVzM+iuD+1GZiuc6yxPz2pvpL5WaQ/TcgLWwW1qT89qb6S+VmkP13nWCMREK8/39CT6iuZvz9AfDQhL2zlP4eeVF/J/Ow/Q0+qr2R+1j8U45Tb/R3MP9ZIBMRHE9I/SvWVzM+iyD9NyAtbBbXJP1dBbQam68w/TcgLWwW1yT9DT6qvZH7GP0NPqq9kfsY/AfHRhLywxT92jjUSAfHBP0ciID6akMc/do41EgHxwT+7v4PL3tDDP1Cbgek6x7o/",
           "dtype": "f8",
           "shape": "24"
          },
          "bdata": "SvWVzM+iuD+1GZiuc6yxPz2pvpL5WaQ/TcgLWwW1qT89qb6S+VmkP13nWCMREK8/39CT6iuZvz9AfDQhL2zlP4eeVF/J/Ow/Q0+qr2R+1j8U45Tb/R3MP9ZIBMRHE9I/SvWVzM+iyD9NyAtbBbXJP1dBbQam68w/TcgLWwW1yT9DT6qvZH7GP0NPqq9kfsY/AfHRhLywxT92jjUSAfHBP0ciID6akMc/do41EgHxwT+7v4PL3tDDP1Cbgek6x7o/",
          "dtype": "f8"
         },
         "yaxis": "y"
        },
        {
         "hovertemplate": "resource=C (n=419d)<br>hour=%{x}<br>availability_share=%{y}<extra></extra>",
         "legendgroup": "C (n=419d)",
         "line": {
          "color": "#00cc96",
          "dash": "solid"
         },
         "marker": {
          "symbol": "circle"
         },
         "mode": "lines",
         "name": "C (n=419d)",
         "orientation": "v",
         "showlegend": true,
         "type": "scatter",
         "x": {
          "_inputArray": {
           "0": 0,
           "1": 1,
           "10": 10,
           "11": 11,
           "12": 12,
           "13": 13,
           "14": 14,
           "15": 15,
           "16": 16,
           "17": 17,
           "18": 18,
           "19": 19,
           "2": 2,
           "20": 20,
           "21": 21,
           "22": 22,
           "23": 23,
           "3": 3,
           "4": 4,
           "5": 5,
           "6": 6,
           "7": 7,
           "8": 8,
           "9": 9,
           "bdata": "AAECAwQFBgcICQoLDA0ODxAREhMUFRYX",
           "dtype": "i1",
           "shape": "24"
          },
          "bdata": "AAECAwQFBgcICQoLDA0ODxAREhMUFRYX",
          "dtype": "i1"
         },
         "xaxis": "x",
         "y": {
          "_inputArray": {
           "0": 0.06205250596658711,
           "1": 0.045346062052505964,
           "10": 0.17422434367541767,
           "11": 0.16467780429594273,
           "12": 0.1575178997613365,
           "13": 0.13842482100238662,
           "14": 0.13842482100238662,
           "15": 0.1766109785202864,
           "16": 0.1766109785202864,
           "17": 0.162291169451074,
           "18": 0.16467780429594273,
           "19": 0.12649164677804295,
           "2": 0.031026252983293555,
           "20": 0.15274463007159905,
           "21": 0.11694510739856802,
           "22": 0.10978520286396182,
           "23": 0.09785202863961814,
           "3": 0.050119331742243436,
           "4": 0.014319809069212411,
           "5": 0.026252983293556086,
           "6": 0.031026252983293555,
           "7": 0.026252983293556086,
           "8": 0.09069212410501193,
           "9": 0.11217183770883055,
           "bdata": "5s2Fl1jFrz8oKglbmTenP+bNhZdYxZ8/Out1tT2pqT/VDBk9tFONP8NLrOIP4po/5s2Fl1jFnz/DS6ziD+KaPygqCVuZN7c/kNx9Jku3vD/CYSC5+0zGPzkB6ospFMU/0jgB6ospxD/Ad5SP57fBP8B3lI/nt8E/5PltRDCbxj/k+W1EMJvGPxdpnAD1xcQ/OQHqiykUxT8VfxDX4DDAP44IZtMijcM/GT20Ux3wvT9MrOIP4hq8P/a62p7UDLk/",
           "dtype": "f8",
           "shape": "24"
          },
          "bdata": "5s2Fl1jFrz8oKglbmTenP+bNhZdYxZ8/Out1tT2pqT/VDBk9tFONP8NLrOIP4po/5s2Fl1jFnz/DS6ziD+KaPygqCVuZN7c/kNx9Jku3vD/CYSC5+0zGPzkB6ospFMU/0jgB6ospxD/Ad5SP57fBP8B3lI/nt8E/5PltRDCbxj/k+W1EMJvGPxdpnAD1xcQ/OQHqiykUxT8VfxDX4DDAP44IZtMijcM/GT20Ux3wvT9MrOIP4hq8P/a62p7UDLk/",
          "dtype": "f8"
         },
         "yaxis": "y"
        }
       ],
       "layout": {
        "autosize": true,
        "legend": {
         "title": {
          "text": "resource"
         },
         "tracegroupgap": 0
        },
        "template": {
         "data": {
          "bar": [
           {
            "error_x": {
             "color": "#2a3f5f"
            },
            "error_y": {
             "color": "#2a3f5f"
            },
            "marker": {
             "line": {
              "color": "#E5ECF6",
              "width": 0.5
             },
             "pattern": {
              "fillmode": "overlay",
              "size": 10,
              "solidity": 0.2
             }
            },
            "type": "bar"
           }
          ],
          "barpolar": [
           {
            "marker": {
             "line": {
              "color": "#E5ECF6",
              "width": 0.5
             },
             "pattern": {
              "fillmode": "overlay",
              "size": 10,
              "solidity": 0.2
             }
            },
            "type": "barpolar"
           }
          ],
          "carpet": [
           {
            "aaxis": {
             "endlinecolor": "#2a3f5f",
             "gridcolor": "white",
             "linecolor": "white",
             "minorgridcolor": "white",
             "startlinecolor": "#2a3f5f"
            },
            "baxis": {
             "endlinecolor": "#2a3f5f",
             "gridcolor": "white",
             "linecolor": "white",
             "minorgridcolor": "white",
             "startlinecolor": "#2a3f5f"
            },
            "type": "carpet"
           }
          ],
          "choropleth": [
           {
            "colorbar": {
             "outlinewidth": 0,
             "ticks": ""
            },
            "type": "choropleth"
           }
          ],
          "contour": [
           {
            "colorbar": {
             "outlinewidth": 0,
             "ticks": ""
            },
            "colorscale": [
             [
              0,
              "#0d0887"
             ],
             [
              0.1111111111111111,
              "#46039f"
             ],
             [
              0.2222222222222222,
              "#7201a8"
             ],
             [
              0.3333333333333333,
              "#9c179e"
             ],
             [
              0.4444444444444444,
              "#bd3786"
             ],
             [
              0.5555555555555556,
              "#d8576b"
             ],
             [
              0.6666666666666666,
              "#ed7953"
             ],
             [
              0.7777777777777778,
              "#fb9f3a"
             ],
             [
              0.8888888888888888,
              "#fdca26"
             ],
             [
              1,
              "#f0f921"
             ]
            ],
            "type": "contour"
           }
          ],
          "contourcarpet": [
           {
            "colorbar": {
             "outlinewidth": 0,
             "ticks": ""
            },
            "type": "contourcarpet"
           }
          ],
          "heatmap": [
           {
            "colorbar": {
             "outlinewidth": 0,
             "ticks": ""
            },
            "colorscale": [
             [
              0,
              "#0d0887"
             ],
             [
              0.1111111111111111,
              "#46039f"
             ],
             [
              0.2222222222222222,
              "#7201a8"
             ],
             [
              0.3333333333333333,
              "#9c179e"
             ],
             [
              0.4444444444444444,
              "#bd3786"
             ],
             [
              0.5555555555555556,
              "#d8576b"
             ],
             [
              0.6666666666666666,
              "#ed7953"
             ],
             [
              0.7777777777777778,
              "#fb9f3a"
             ],
             [
              0.8888888888888888,
              "#fdca26"
             ],
             [
              1,
              "#f0f921"
             ]
            ],
            "type": "heatmap"
           }
          ],
          "histogram": [
           {
            "marker": {
             "pattern": {
              "fillmode": "overlay",
              "size": 10,
              "solidity": 0.2
             }
            },
            "type": "histogram"
           }
          ],
          "histogram2d": [
           {
            "colorbar": {
             "outlinewidth": 0,
             "ticks": ""
            },
            "colorscale": [
             [
              0,
              "#0d0887"
             ],
             [
              0.1111111111111111,
              "#46039f"
             ],
             [
              0.2222222222222222,
              "#7201a8"
             ],
             [
              0.3333333333333333,
              "#9c179e"
             ],
             [
              0.4444444444444444,
              "#bd3786"
             ],
             [
              0.5555555555555556,
              "#d8576b"
             ],
             [
              0.6666666666666666,
              "#ed7953"
             ],
             [
              0.7777777777777778,
              "#fb9f3a"
             ],
             [
              0.8888888888888888,
              "#fdca26"
             ],
             [
              1,
              "#f0f921"
             ]
            ],
            "type": "histogram2d"
           }
          ],
          "histogram2dcontour": [
           {
            "colorbar": {
             "outlinewidth": 0,
             "ticks": ""
            },
            "colorscale": [
             [
              0,
              "#0d0887"
             ],
             [
              0.1111111111111111,
              "#46039f"
             ],
             [
              0.2222222222222222,
              "#7201a8"
             ],
             [
              0.3333333333333333,
              "#9c179e"
             ],
             [
              0.4444444444444444,
              "#bd3786"
             ],
             [
              0.5555555555555556,
              "#d8576b"
             ],
             [
              0.6666666666666666,
              "#ed7953"
             ],
             [
              0.7777777777777778,
              "#fb9f3a"
             ],
             [
              0.8888888888888888,
              "#fdca26"
             ],
             [
              1,
              "#f0f921"
             ]
            ],
            "type": "histogram2dcontour"
           }
          ],
          "mesh3d": [
           {
            "colorbar": {
             "outlinewidth": 0,
             "ticks": ""
            },
            "type": "mesh3d"
           }
          ],
          "parcoords": [
           {
            "line": {
             "colorbar": {
              "outlinewidth": 0,
              "ticks": ""
             }
            },
            "type": "parcoords"
           }
          ],
          "pie": [
           {
            "automargin": true,
            "type": "pie"
           }
          ],
          "scatter": [
           {
            "fillpattern": {
             "fillmode": "overlay",
             "size": 10,
             "solidity": 0.2
            },
            "type": "scatter"
           }
          ],
          "scatter3d": [
           {
            "line": {
             "colorbar": {
              "outlinewidth": 0,
              "ticks": ""
             }
            },
            "marker": {
             "colorbar": {
              "outlinewidth": 0,
              "ticks": ""
             }
            },
            "type": "scatter3d"
           }
          ],
          "scattercarpet": [
           {
            "marker": {
             "colorbar": {
              "outlinewidth": 0,
              "ticks": ""
             }
            },
            "type": "scattercarpet"
           }
          ],
          "scattergeo": [
           {
            "marker": {
             "colorbar": {
              "outlinewidth": 0,
              "ticks": ""
             }
            },
            "type": "scattergeo"
           }
          ],
          "scattergl": [
           {
            "marker": {
             "colorbar": {
              "outlinewidth": 0,
              "ticks": ""
             }
            },
            "type": "scattergl"
           }
          ],
          "scattermap": [
           {
            "marker": {
             "colorbar": {
              "outlinewidth": 0,
              "ticks": ""
             }
            },
            "type": "scattermap"
           }
          ],
          "scattermapbox": [
           {
            "marker": {
             "colorbar": {
              "outlinewidth": 0,
              "ticks": ""
             }
            },
            "type": "scattermapbox"
           }
          ],
          "scatterpolar": [
           {
            "marker": {
             "colorbar": {
              "outlinewidth": 0,
              "ticks": ""
             }
            },
            "type": "scatterpolar"
           }
          ],
          "scatterpolargl": [
           {
            "marker": {
             "colorbar": {
              "outlinewidth": 0,
              "ticks": ""
             }
            },
            "type": "scatterpolargl"
           }
          ],
          "scatterternary": [
           {
            "marker": {
             "colorbar": {
              "outlinewidth": 0,
              "ticks": ""
             }
            },
            "type": "scatterternary"
           }
          ],
          "surface": [
           {
            "colorbar": {
             "outlinewidth": 0,
             "ticks": ""
            },
            "colorscale": [
             [
              0,
              "#0d0887"
             ],
             [
              0.1111111111111111,
              "#46039f"
             ],
             [
              0.2222222222222222,
              "#7201a8"
             ],
             [
              0.3333333333333333,
              "#9c179e"
             ],
             [
              0.4444444444444444,
              "#bd3786"
             ],
             [
              0.5555555555555556,
              "#d8576b"
             ],
             [
              0.6666666666666666,
              "#ed7953"
             ],
             [
              0.7777777777777778,
              "#fb9f3a"
             ],
             [
              0.8888888888888888,
              "#fdca26"
             ],
             [
              1,
              "#f0f921"
             ]
            ],
            "type": "surface"
           }
          ],
          "table": [
           {
            "cells": {
             "fill": {
              "color": "#EBF0F8"
             },
             "line": {
              "color": "white"
             }
            },
            "header": {
             "fill": {
              "color": "#C8D4E3"
             },
             "line": {
              "color": "white"
             }
            },
            "type": "table"
           }
          ]
         },
         "layout": {
          "annotationdefaults": {
           "arrowcolor": "#2a3f5f",
           "arrowhead": 0,
           "arrowwidth": 1
          },
          "autotypenumbers": "strict",
          "coloraxis": {
           "colorbar": {
            "outlinewidth": 0,
            "ticks": ""
           }
          },
          "colorscale": {
           "diverging": [
            [
             0,
             "#8e0152"
            ],
            [
             0.1,
             "#c51b7d"
            ],
            [
             0.2,
             "#de77ae"
            ],
            [
             0.3,
             "#f1b6da"
            ],
            [
             0.4,
             "#fde0ef"
            ],
            [
             0.5,
             "#f7f7f7"
            ],
            [
             0.6,
             "#e6f5d0"
            ],
            [
             0.7,
             "#b8e186"
            ],
            [
             0.8,
             "#7fbc41"
            ],
            [
             0.9,
             "#4d9221"
            ],
            [
             1,
             "#276419"
            ]
           ],
           "sequential": [
            [
             0,
             "#0d0887"
            ],
            [
             0.1111111111111111,
             "#46039f"
            ],
            [
             0.2222222222222222,
             "#7201a8"
            ],
            [
             0.3333333333333333,
             "#9c179e"
            ],
            [
             0.4444444444444444,
             "#bd3786"
            ],
            [
             0.5555555555555556,
             "#d8576b"
            ],
            [
             0.6666666666666666,
             "#ed7953"
            ],
            [
             0.7777777777777778,
             "#fb9f3a"
            ],
            [
             0.8888888888888888,
             "#fdca26"
            ],
            [
             1,
             "#f0f921"
            ]
           ],
           "sequentialminus": [
            [
             0,
             "#0d0887"
            ],
            [
             0.1111111111111111,
             "#46039f"
            ],
            [
             0.2222222222222222,
             "#7201a8"
            ],
            [
             0.3333333333333333,
             "#9c179e"
            ],
            [
             0.4444444444444444,
             "#bd3786"
            ],
            [
             0.5555555555555556,
             "#d8576b"
            ],
            [
             0.6666666666666666,
             "#ed7953"
            ],
            [
             0.7777777777777778,
             "#fb9f3a"
            ],
            [
             0.8888888888888888,
             "#fdca26"
            ],
            [
             1,
             "#f0f921"
            ]
           ]
          },
          "colorway": [
           "#636efa",
           "#EF553B",
           "#00cc96",
           "#ab63fa",
           "#FFA15A",
           "#19d3f3",
           "#FF6692",
           "#B6E880",
           "#FF97FF",
           "#FECB52"
          ],
          "font": {
           "color": "#2a3f5f"
          },
          "geo": {
           "bgcolor": "white",
           "lakecolor": "white",
           "landcolor": "#E5ECF6",
           "showlakes": true,
           "showland": true,
           "subunitcolor": "white"
          },
          "hoverlabel": {
           "align": "left"
          },
          "hovermode": "closest",
          "mapbox": {
           "style": "light"
          },
          "paper_bgcolor": "white",
          "plot_bgcolor": "#E5ECF6",
          "polar": {
           "angularaxis": {
            "gridcolor": "white",
            "linecolor": "white",
            "ticks": ""
           },
           "bgcolor": "#E5ECF6",
           "radialaxis": {
            "gridcolor": "white",
            "linecolor": "white",
            "ticks": ""
           }
          },
          "scene": {
           "xaxis": {
            "backgroundcolor": "#E5ECF6",
            "gridcolor": "white",
            "gridwidth": 2,
            "linecolor": "white",
            "showbackground": true,
            "ticks": "",
            "zerolinecolor": "white"
           },
           "yaxis": {
            "backgroundcolor": "#E5ECF6",
            "gridcolor": "white",
            "gridwidth": 2,
            "linecolor": "white",
            "showbackground": true,
            "ticks": "",
            "zerolinecolor": "white"
           },
           "zaxis": {
            "backgroundcolor": "#E5ECF6",
            "gridcolor": "white",
            "gridwidth": 2,
            "linecolor": "white",
            "showbackground": true,
            "ticks": "",
            "zerolinecolor": "white"
           }
          },
          "shapedefaults": {
           "line": {
            "color": "#2a3f5f"
           }
          },
          "ternary": {
           "aaxis": {
            "gridcolor": "white",
            "linecolor": "white",
            "ticks": ""
           },
           "baxis": {
            "gridcolor": "white",
            "linecolor": "white",
            "ticks": ""
           },
           "bgcolor": "#E5ECF6",
           "caxis": {
            "gridcolor": "white",
            "linecolor": "white",
            "ticks": ""
           }
          },
          "title": {
           "x": 0.05
          },
          "xaxis": {
           "automargin": true,
           "gridcolor": "white",
           "linecolor": "white",
           "ticks": "",
           "title": {
            "standoff": 15
           },
           "zerolinecolor": "white",
           "zerolinewidth": 2
          },
          "yaxis": {
           "automargin": true,
           "gridcolor": "white",
           "linecolor": "white",
           "ticks": "",
           "title": {
            "standoff": 15
           },
           "zerolinecolor": "white",
           "zerolinewidth": 2
          }
         }
        },
        "title": {
         "text": "Weekly availability profile — top resources"
        },
        "xaxis": {
         "anchor": "y",
         "autorange": true,
         "domain": [
          0,
          1
         ],
         "range": [
          0,
          23
         ],
         "title": {
          "text": "hour"
         },
         "type": "linear"
        },
        "yaxis": {
         "anchor": "x",
         "autorange": true,
         "domain": [
          0,
          1
         ],
         "range": [
          -0.03521007601504102,
          0.9553876256700274
         ],
         "tickformat": ".0%",
         "title": {
          "text": "availability_share"
         },
         "type": "linear"
        }
       }
      },
      "image/png": "[encoded data removed]"
     },
     "metadata": {},
     "output_type": "display_data"
    }
   ],
   "source": [
    "#Compare top 3 weekly availability\n",
    "\n",
    "if len(summary) >= 3 and not weekly.empty:\n",
    "    top3 = summary.nlargest(3, \"days_active\")[\"resource\"].tolist()\n",
    "    days = daily.groupby(\"resource\")[\"day\"].nunique()\n",
    "    name_map = {r: f\"{r} (n={int(days[r])}d)\" for r in top3}\n",
    "    plot_df = weekly[weekly[\"resource\"].isin(top3)].copy()\n",
    "    plot_df[\"resource\"] = plot_df[\"resource\"].map(name_map)\n",
    "    fig = px.line(plot_df, x=\"hour\", y=\"availability_share\", color=\"resource\",\n",
    "                  title=\"Weekly availability profile — top resources\")\n",
    "    fig.update_yaxes(tickformat=\".0%\"); fig.show()\n"
   ]
  },
  {
   "cell_type": "code",
   "execution_count": null,
   "id": "f22df2f0-b545-47d5-95ab-71efd38e639c",
   "metadata": {},
   "outputs": [],
   "source": []
  }
 ],
 "metadata": {
  "kernelspec": {
   "display_name": "Python [conda env:base] *",
   "language": "python",
   "name": "conda-base-py"
  },
  "language_info": {
   "codemirror_mode": {
    "name": "ipython",
    "version": 3
   },
   "file_extension": ".py",
   "mimetype": "text/x-python",
   "name": "python",
   "nbconvert_exporter": "python",
   "pygments_lexer": "ipython3",
   "version": "3.12.7"
  }
 },
 "nbformat": 4,
 "nbformat_minor": 5
}
